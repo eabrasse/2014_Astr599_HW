{
 "metadata": {
  "name": "",
  "signature": "sha256:4e43a4c3a89813063f2273e994c7b97a0446d80ee0af8991bf2457a616704ed9"
 },
 "nbformat": 3,
 "nbformat_minor": 0,
 "worksheets": [
  {
   "cells": [
    {
     "cell_type": "code",
     "collapsed": false,
     "input": [
      "from astroML.datasets import fetch_rrlyrae_combined\n",
      "from sklearn.cross_validation import train_test_split"
     ],
     "language": "python",
     "metadata": {},
     "outputs": []
    },
    {
     "cell_type": "code",
     "collapsed": false,
     "input": [
      "X, y = fetch_rrlyrae_combined()\n",
      "\n",
      "# For now, we'll only fit the first two colors\n",
      "X_train, X_test, y_train, y_test = train_test_split(X, y)"
     ],
     "language": "python",
     "metadata": {},
     "outputs": []
    },
    {
     "cell_type": "code",
     "collapsed": false,
     "input": [
      "%matplotlib inline\n",
      "import numpy as np\n",
      "import matplotlib.pyplot as plt\n",
      "\n",
      "N_plot = 5000\n",
      "plt.scatter(X[-N_plot:, 0], X[-N_plot:, 1], c=y[-N_plot:],\n",
      "            edgecolors='none')\n",
      "plt.xlabel('u-g color')\n",
      "plt.ylabel('g-r color')"
     ],
     "language": "python",
     "metadata": {},
     "outputs": []
    },
    {
     "cell_type": "code",
     "collapsed": false,
     "input": [
      "from sklearn.neighbors import KNeighborsClassifier\n",
      "clf = KNeighborsClassifier(n_neighbors=5)\n",
      "clf.fit(X_train, y_train)\n",
      "y_pred = clf.predict(X_test)"
     ],
     "language": "python",
     "metadata": {},
     "outputs": []
    },
    {
     "cell_type": "code",
     "collapsed": false,
     "input": [
      "print(np.sum(y_pred == y_test))\n",
      "print(np.sum(y_pred != y_test))"
     ],
     "language": "python",
     "metadata": {},
     "outputs": []
    },
    {
     "cell_type": "code",
     "collapsed": false,
     "input": [
      "from sklearn.metrics import classification_report\n",
      "print(classification_report(y_test, y_pred,\n",
      "                            target_names=['MS star', 'RR Lyrae']))"
     ],
     "language": "python",
     "metadata": {},
     "outputs": []
    },
    {
     "cell_type": "heading",
     "level": 2,
     "metadata": {},
     "source": [
      "Exercise 1"
     ]
    },
    {
     "cell_type": "code",
     "collapsed": false,
     "input": [
      "# sklearn.lda.LDA\n",
      "from sklearn.lda import LDA\n",
      "model = LDA()\n",
      "model.fit(X_train, y_train)\n",
      "y_pred = model.predict(X_test)\n",
      "print(np.sum(y_pred == y_test))\n",
      "print(np.sum(y_pred != y_test))\n",
      "print(classification_report(y_test, y_pred,\n",
      "                            target_names=['MS star', 'RR Lyrae']))"
     ],
     "language": "python",
     "metadata": {},
     "outputs": []
    },
    {
     "cell_type": "code",
     "collapsed": false,
     "input": [
      "# sklearn.svm.SVC\n",
      "from sklearn.svm import SVC\n",
      "model = SVC()\n",
      "model.fit(X_train, y_train)\n",
      "y_pred = model.predict(X_test)\n",
      "print(np.sum(y_pred == y_test))\n",
      "print(np.sum(y_pred != y_test))\n",
      "print(classification_report(y_test, y_pred,\n",
      "                            target_names=['MS star', 'RR Lyrae']))"
     ],
     "language": "python",
     "metadata": {},
     "outputs": []
    },
    {
     "cell_type": "code",
     "collapsed": false,
     "input": [
      "# sklearn.svm.SVC with kernel='rbf'\n",
      "model = SVC(kernel='rbf')\n",
      "model.fit(X_train, y_train)\n",
      "y_pred = model.predict(X_test)\n",
      "print(np.sum(y_pred == y_test))\n",
      "print(np.sum(y_pred != y_test))\n",
      "print(classification_report(y_test, y_pred,\n",
      "                            target_names=['MS star', 'RR Lyrae']))"
     ],
     "language": "python",
     "metadata": {},
     "outputs": []
    },
    {
     "cell_type": "code",
     "collapsed": false,
     "input": [
      "# sklearn.ensemble.RandomForestClassifier\n",
      "from sklearn.ensemble import RandomForestClassifier\n",
      "model = RandomForestClassifier()\n",
      "model.fit(X_train, y_train)\n",
      "y_pred = model.predict(X_test)\n",
      "print(np.sum(y_pred == y_test))\n",
      "print(np.sum(y_pred != y_test))\n",
      "print(classification_report(y_test, y_pred,\n",
      "                            target_names=['MS star', 'RR Lyrae']))"
     ],
     "language": "python",
     "metadata": {},
     "outputs": []
    },
    {
     "cell_type": "code",
     "collapsed": false,
     "input": [
      "# We can see that sklearn.ensemble.RandomForestClassifier gives a slightly higher precision for RR lyrae, \n",
      "# but other than that these fit methods are no better than the K-neighbors method"
     ],
     "language": "python",
     "metadata": {},
     "outputs": []
    },
    {
     "cell_type": "heading",
     "level": 2,
     "metadata": {},
     "source": [
      "Exercise 2"
     ]
    },
    {
     "cell_type": "code",
     "collapsed": false,
     "input": [
      "from astroML.datasets import fetch_sdss_specgals\n",
      "data = fetch_sdss_specgals()"
     ],
     "language": "python",
     "metadata": {},
     "outputs": [],
     "prompt_number": 1
    },
    {
     "cell_type": "code",
     "collapsed": false,
     "input": [
      "%matplotlib inline\n",
      "import numpy as np\n",
      "import matplotlib.pyplot as plt\n",
      "from sklearn.cross_validation import train_test_split\n",
      "\n",
      "# put magnitudes in a matrix\n",
      "X = np.vstack([data['modelMag_%s' % f] for f in 'ugriz']).T\n",
      "y = data['z']\n",
      "\n",
      "# Split into training and testing data\n",
      "X_train, X_test, y_train, y_test = train_test_split(X, y)"
     ],
     "language": "python",
     "metadata": {},
     "outputs": [],
     "prompt_number": 2
    },
    {
     "cell_type": "code",
     "collapsed": false,
     "input": [
      "# sklearn.linear_model.LinearRegression\n",
      "from sklearn.linear_model import LinearRegression\n",
      "est = LinearRegression()\n",
      "est.fit(X_train, y_train)\n",
      "y_pred = est.predict(X_test)\n",
      "\n",
      "plt.plot(y_test, y_pred, ',k')\n",
      "plt.plot([0, 1], [0, 1], ':k')\n",
      "plt.xlim(0, 0.6)\n",
      "plt.ylim(0, 0.6)\n",
      "\n",
      "rms = np.sqrt(np.mean((y_test - y_pred) ** 2))\n",
      "print(rms)"
     ],
     "language": "python",
     "metadata": {},
     "outputs": [
      {
       "output_type": "stream",
       "stream": "stdout",
       "text": [
        "0.0324284371921\n"
       ]
      },
      {
       "metadata": {},
       "output_type": "display_data",
       "png": "[encoded data removed]",
       "text": [
        "<matplotlib.figure.Figure at 0x54ce5b0>"
       ]
      }
     ],
     "prompt_number": 3
    },
    {
     "cell_type": "code",
     "collapsed": false,
     "input": [
      "# sklearn.neighbors.KNeighborsRegressor\n",
      "from sklearn.neighbors import KNeighborsRegressor\n",
      "est = KNeighborsRegressor()\n",
      "est.fit(X_train, y_train)\n",
      "y_pred = est.predict(X_test)\n",
      "\n",
      "plt.plot(y_test, y_pred, ',k')\n",
      "plt.plot([0, 1], [0, 1], ':k')\n",
      "plt.xlim(0, 0.6)\n",
      "plt.ylim(0, 0.6)\n",
      "\n",
      "rms = np.sqrt(np.mean((y_test - y_pred) ** 2))\n",
      "print(rms)"
     ],
     "language": "python",
     "metadata": {},
     "outputs": [
      {
       "output_type": "stream",
       "stream": "stdout",
       "text": [
        "0.0231923\n"
       ]
      },
      {
       "metadata": {},
       "output_type": "display_data",
       "png": "[encoded data removed]",
       "text": [
        "<matplotlib.figure.Figure at 0xba5c770>"
       ]
      }
     ],
     "prompt_number": 4
    },
    {
     "cell_type": "code",
     "collapsed": false,
     "input": [
      "# sklearn.ensemble.RandomForestRegressor\n",
      "from sklearn.ensemble import RandomForestRegressor\n",
      "est = RandomForestRegressor()\n",
      "est.fit(X_train, y_train)\n",
      "y_pred = est.predict(X_test)\n",
      "\n",
      "plt.plot(y_test, y_pred, ',k')\n",
      "plt.plot([0, 1], [0, 1], ':k')\n",
      "plt.xlim(0, 0.6)\n",
      "plt.ylim(0, 0.6)\n",
      "\n",
      "rms = np.sqrt(np.mean((y_test - y_pred) ** 2))\n",
      "print(rms)"
     ],
     "language": "python",
     "metadata": {},
     "outputs": [
      {
       "output_type": "stream",
       "stream": "stdout",
       "text": [
        "0.0227379216609\n"
       ]
      },
      {
       "metadata": {},
       "output_type": "display_data",
       "png": "[encoded data removed]",
       "text": [
        "<matplotlib.figure.Figure at 0xbe11fb0>"
       ]
      }
     ],
     "prompt_number": 5
    },
    {
     "cell_type": "code",
     "collapsed": false,
     "input": [
      "# We can see that both sklearn.neighbors.KNeighborsRegressor and sklearn.ensemble.RandomForestRegressor have a better fit \n",
      "# than sklearn.linear_model.LinearRegression. The best RMS from these models is 0.0227 modeled by sklearn.ensemble.RandomForestRegressor."
     ],
     "language": "python",
     "metadata": {},
     "outputs": [],
     "prompt_number": 6
    },
    {
     "cell_type": "code",
     "collapsed": false,
     "input": [],
     "language": "python",
     "metadata": {},
     "outputs": []
    }
   ],
   "metadata": {}
  }
 ]
}