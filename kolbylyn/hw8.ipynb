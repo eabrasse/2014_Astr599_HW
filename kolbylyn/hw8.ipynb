{
 "metadata": {
  "name": "",
  "signature": "sha256:25ba8ed40a646ae351d80568552188113bd78f268b757331357e7e3d2df5c40d"
 },
 "nbformat": 3,
 "nbformat_minor": 0,
 "worksheets": [
  {
   "cells": [
    {
     "cell_type": "markdown",
     "metadata": {},
     "source": [
      "## Homework 7 - Debugging\n",
      "### Kolby Weisenburger"
     ]
    },
    {
     "cell_type": "markdown",
     "metadata": {},
     "source": [
      "Below is a buggy script taken from the Debugging lecture notebook. "
     ]
    },
    {
     "cell_type": "code",
     "collapsed": false,
     "input": [
      "from itertools import product\n",
      "\n",
      "import numpy as np\n",
      "from scipy import optimize\n",
      "\n",
      "FUNCTIONS = (np.tan,  # Dilating map\n",
      "             np.tanh, # Contracting map\n",
      "             lambda x: x**3 + 1e-4*x, # Almost null gradient at the root\n",
      "             lambda x: x+np.sin(2*x), # Non monotonous function\n",
      "             lambda x: 1.1*x+np.sin(4*x), # Function with several local maxima\n",
      "            )\n",
      "\n",
      "OPTIMIZERS = (optimize.brenth, optimize.brentq,\n",
      "              optimize.ridder, optimize.bisect)\n",
      "\n",
      "\n",
      "def apply_optimizer(optimizer, func, a, b):\n",
      "    \"\"\" Return the number of function calls given an root-finding optimizer, \n",
      "        a function and upper and lower bounds.\n",
      "    \"\"\"\n",
      "    return optimizer(func, a, b, full_output=True)[1].function_calls,\n",
      "\n",
      "\n",
      "def bench_optimizer(optimizer, param_grid):\n",
      "    \"\"\" Find roots for all the functions, and upper and lower bounds\n",
      "        given and return the total number of function calls.\n",
      "    \"\"\"\n",
      "    return sum(apply_optimizer(optimizer, func, a, b)\n",
      "               for func, a, b in param_grid)\n",
      "\n",
      "\n",
      "def compare_optimizers(optimizers):\n",
      "    \"\"\" Compare all the optimizers given on a grid of a few different\n",
      "        functions all admitting a signle root in zero and a upper and\n",
      "        lower bounds.\n",
      "    \"\"\"\n",
      "    random_a = -1.3 + np.random.random(size=100)\n",
      "    random_b =   .3 + np.random.random(size=100)\n",
      "    param_grid = product(FUNCTIONS, random_a, random_b)\n",
      "    print(\"Benching 1D root-finder optimizers from scipy.optimize:\")\n",
      "    for optimizer in OPTIMIZERS:\n",
      "        ncalls = bench_optimizer(optimizer, param_grid)\n",
      "        print('{name}: {ncalls} total function calls'.format(\n",
      "                  name=optimizer.__name__, ncalls=ncalls))"
     ],
     "language": "python",
     "metadata": {},
     "outputs": [],
     "prompt_number": 1
    },
    {
     "cell_type": "markdown",
     "metadata": {},
     "source": [
      "Now we can try to run the main function and see where it breaks:"
     ]
    },
    {
     "cell_type": "code",
     "collapsed": false,
     "input": [
      "if __name__ == '__main__':\n",
      "    compare_optimizers(OPTIMIZERS)"
     ],
     "language": "python",
     "metadata": {},
     "outputs": [
      {
       "output_type": "stream",
       "stream": "stdout",
       "text": [
        "Benching 1D root-finder optimizers from scipy.optimize:\n"
       ]
      },
      {
       "ename": "TypeError",
       "evalue": "unsupported operand type(s) for +: 'int' and 'tuple'",
       "output_type": "pyerr",
       "traceback": [
        "\u001b[0;31m---------------------------------------------------------------------------\u001b[0m\n\u001b[0;31mTypeError\u001b[0m                                 Traceback (most recent call last)",
        "\u001b[0;32m<ipython-input-2-6f169692455f>\u001b[0m in \u001b[0;36m<module>\u001b[0;34m()\u001b[0m\n\u001b[1;32m      1\u001b[0m \u001b[0;32mif\u001b[0m \u001b[0m__name__\u001b[0m \u001b[0;34m==\u001b[0m \u001b[0;34m'__main__'\u001b[0m\u001b[0;34m:\u001b[0m\u001b[0;34m\u001b[0m\u001b[0m\n\u001b[0;32m----> 2\u001b[0;31m     \u001b[0mcompare_optimizers\u001b[0m\u001b[0;34m(\u001b[0m\u001b[0mOPTIMIZERS\u001b[0m\u001b[0;34m)\u001b[0m\u001b[0;34m\u001b[0m\u001b[0m\n\u001b[0m",
        "\u001b[0;32m<ipython-input-1-116c99ab6977>\u001b[0m in \u001b[0;36mcompare_optimizers\u001b[0;34m(optimizers)\u001b[0m\n\u001b[1;32m     40\u001b[0m     \u001b[0;32mprint\u001b[0m\u001b[0;34m(\u001b[0m\u001b[0;34m\"Benching 1D root-finder optimizers from scipy.optimize:\"\u001b[0m\u001b[0;34m)\u001b[0m\u001b[0;34m\u001b[0m\u001b[0m\n\u001b[1;32m     41\u001b[0m     \u001b[0;32mfor\u001b[0m \u001b[0moptimizer\u001b[0m \u001b[0;32min\u001b[0m \u001b[0mOPTIMIZERS\u001b[0m\u001b[0;34m:\u001b[0m\u001b[0;34m\u001b[0m\u001b[0m\n\u001b[0;32m---> 42\u001b[0;31m         \u001b[0mncalls\u001b[0m \u001b[0;34m=\u001b[0m \u001b[0mbench_optimizer\u001b[0m\u001b[0;34m(\u001b[0m\u001b[0moptimizer\u001b[0m\u001b[0;34m,\u001b[0m \u001b[0mparam_grid\u001b[0m\u001b[0;34m)\u001b[0m\u001b[0;34m\u001b[0m\u001b[0m\n\u001b[0m\u001b[1;32m     43\u001b[0m         print('{name}: {ncalls} total function calls'.format(\n\u001b[1;32m     44\u001b[0m                   name=optimizer.__name__, ncalls=ncalls))\n",
        "\u001b[0;32m<ipython-input-1-116c99ab6977>\u001b[0m in \u001b[0;36mbench_optimizer\u001b[0;34m(optimizer, param_grid)\u001b[0m\n\u001b[1;32m     27\u001b[0m     \"\"\"\n\u001b[1;32m     28\u001b[0m     return sum(apply_optimizer(optimizer, func, a, b)\n\u001b[0;32m---> 29\u001b[0;31m                for func, a, b in param_grid)\n\u001b[0m\u001b[1;32m     30\u001b[0m \u001b[0;34m\u001b[0m\u001b[0m\n\u001b[1;32m     31\u001b[0m \u001b[0;34m\u001b[0m\u001b[0m\n",
        "\u001b[0;31mTypeError\u001b[0m: unsupported operand type(s) for +: 'int' and 'tuple'"
       ]
      }
     ],
     "prompt_number": 2
    },
    {
     "cell_type": "markdown",
     "metadata": {},
     "source": [
      "### %debug tool\n",
      "\n",
      "It seems the apply_optimizer function isn't working... we can use the magic debug tool to figure out where the problem is. If the error was \"unsupported operand type(s)\" then the debugger can tell us which line is causing the most trouble."
     ]
    },
    {
     "cell_type": "code",
     "collapsed": false,
     "input": [
      "%debug"
     ],
     "language": "python",
     "metadata": {},
     "outputs": [
      {
       "output_type": "stream",
       "stream": "stderr",
       "text": [
        "ERROR: No traceback has been produced, nothing to debug.\n"
       ]
      }
     ],
     "prompt_number": 3
    },
    {
     "cell_type": "markdown",
     "metadata": {},
     "source": [
      "\n",
      "...I didn't actually find the %debug tool very helpful because I am unsure of how to use the ipdb> command line. But I see in the return sum() line, there is an extra comma at the end. This is probably trying to return an array of some sort so if we remove the comma we will then have the single number that sum() wants. Now if we try the code again below:"
     ]
    },
    {
     "cell_type": "code",
     "collapsed": true,
     "input": [
      "from itertools import product\n",
      "\n",
      "import numpy as np\n",
      "from scipy import optimize\n",
      "\n",
      "FUNCTIONS = (np.tan,  # Dilating map\n",
      "             np.tanh, # Contracting map\n",
      "             lambda x: x**3 + 1e-4*x, # Almost null gradient at the root\n",
      "             lambda x: x+np.sin(2*x), # Non monotonous function\n",
      "             lambda x: 1.1*x+np.sin(4*x), # Function with several local maxima\n",
      "            )\n",
      "\n",
      "OPTIMIZERS = (optimize.brenth, optimize.brentq,\n",
      "              optimize.ridder, optimize.bisect)\n",
      "\n",
      "\n",
      "def apply_optimizer(optimizer, func, a, b):\n",
      "    \"\"\" Return the number of function calls given an root-finding optimizer, \n",
      "        a function and upper and lower bounds.\n",
      "    \"\"\"\n",
      "    return optimizer(func, a, b, full_output=True)[1].function_calls\n",
      "\n",
      "\n",
      "def bench_optimizer(optimizer, param_grid):\n",
      "    \"\"\" Find roots for all the functions, and upper and lower bounds\n",
      "        given and return the total number of function calls.\n",
      "    \"\"\"\n",
      "    return sum(apply_optimizer(optimizer, func, a, b)\n",
      "               for func, a, b in param_grid)\n",
      "\n",
      "\n",
      "def compare_optimizers(optimizers):\n",
      "    \"\"\" Compare all the optimizers given on a grid of a few different\n",
      "        functions all admitting a signle root in zero and a upper and\n",
      "        lower bounds.\n",
      "    \"\"\"\n",
      "    random_a = -1.3 + np.random.random(size=100)\n",
      "    random_b =   .3 + np.random.random(size=100)\n",
      "    param_grid = product(FUNCTIONS, random_a, random_b)\n",
      "    print(\"Benching 1D root-finder optimizers from scipy.optimize:\")\n",
      "    for optimizer in OPTIMIZERS:\n",
      "        ncalls = bench_optimizer(optimizer, param_grid)\n",
      "        print('{name}: {ncalls} total function calls'.format(\n",
      "                  name=optimizer.__name__, ncalls=ncalls))"
     ],
     "language": "python",
     "metadata": {},
     "outputs": [],
     "prompt_number": 14
    },
    {
     "cell_type": "code",
     "collapsed": false,
     "input": [
      "if __name__ == '__main__':\n",
      "    compare_optimizers(OPTIMIZERS)"
     ],
     "language": "python",
     "metadata": {},
     "outputs": [
      {
       "output_type": "stream",
       "stream": "stdout",
       "text": [
        "Benching 1D root-finder optimizers from scipy.optimize:\n",
        "brenth: 605356 total function calls"
       ]
      },
      {
       "output_type": "stream",
       "stream": "stdout",
       "text": [
        "\n",
        "brentq: 0 total function calls\n",
        "ridder: 0 total function calls\n",
        "bisect: 0 total function calls\n"
       ]
      }
     ],
     "prompt_number": 15
    },
    {
     "cell_type": "markdown",
     "metadata": {},
     "source": [
      "### New error\n",
      "\n",
      "But this is not the output we are looking for. We would like to see:\n",
      "\n",
      "Benching 1D root-finder optimizers from scipy.optimize:\n",
      "\n",
      "brenth:   604678 total function calls\n",
      "\n",
      "brentq:   594454 total function calls\n",
      "\n",
      "ridder:   778394 total function calls\n",
      "\n",
      "bisect:  2148380 total function calls"
     ]
    },
    {
     "cell_type": "markdown",
     "metadata": {},
     "source": [
      "\n",
      "Now we see that brentq, ridder and biset are never being called, but we did remove the runtime error! This bug will be harder to find because we need to look through the code and decide where we are missing the function calls. I usually start at the last \"working\" piece of the code, which in this case, is probably somewhere around the 'brenth' function calls in the for loop."
     ]
    },
    {
     "cell_type": "markdown",
     "metadata": {},
     "source": [
      "### First attempt at solution\n",
      "\n",
      "The first thing I tried to do was to remove the brenth optimizer from the array and see if then the brentq function is called..."
     ]
    },
    {
     "cell_type": "code",
     "collapsed": false,
     "input": [
      "OPTIMIZERS = (optimize.brentq,\n",
      "              optimize.ridder, optimize.bisect)"
     ],
     "language": "python",
     "metadata": {},
     "outputs": [],
     "prompt_number": 9
    },
    {
     "cell_type": "code",
     "collapsed": false,
     "input": [
      "if __name__ == '__main__':\n",
      "    compare_optimizers(OPTIMIZERS)"
     ],
     "language": "python",
     "metadata": {},
     "outputs": [
      {
       "output_type": "stream",
       "stream": "stdout",
       "text": [
        "Benching 1D root-finder optimizers from scipy.optimize:\n",
        "brentq: 590698 total function calls"
       ]
      },
      {
       "output_type": "stream",
       "stream": "stdout",
       "text": [
        "\n",
        "ridder: 0 total function calls\n",
        "bisect: 0 total function calls\n"
       ]
      }
     ],
     "prompt_number": 10
    },
    {
     "cell_type": "markdown",
     "metadata": {},
     "source": [
      "Yes! So the problem is with the for loop. Let's reset the OPTIMIZERS array again and look back at the compare_optimizers function."
     ]
    },
    {
     "cell_type": "code",
     "collapsed": false,
     "input": [
      "OPTIMIZERS = (optimize.brenth, optimize.brentq,\n",
      "              optimize.ridder, optimize.bisect)"
     ],
     "language": "python",
     "metadata": {},
     "outputs": [],
     "prompt_number": 11
    },
    {
     "cell_type": "code",
     "collapsed": false,
     "input": [
      "def compare_optimizers(optimizers):\n",
      "    \"\"\" Compare all the optimizers given on a grid of a few different\n",
      "        functions all admitting a signle root in zero and a upper and\n",
      "        lower bounds.\n",
      "    \"\"\"\n",
      "    random_a = -1.3 + np.random.random(size=100)\n",
      "    random_b =   .3 + np.random.random(size=100)\n",
      "    param_grid = product(FUNCTIONS, random_a, random_b)\n",
      "    print(\"Benching 1D root-finder optimizers from scipy.optimize:\")\n",
      "    for optimizer in OPTIMIZERS:\n",
      "        ncalls = bench_optimizer(optimizer, param_grid)\n",
      "        print('{name}: {ncalls} total function calls'.format(\n",
      "                  name=optimizer.__name__, ncalls=ncalls))"
     ],
     "language": "python",
     "metadata": {},
     "outputs": [],
     "prompt_number": 16
    },
    {
     "cell_type": "markdown",
     "metadata": {},
     "source": [
      "Ncalls parameter looks good--it's called within the for loop. But the param_grid is outside of the loop and so it's getting empty by the time we go to use another optimizer. Perhaps if we put it inside of the for loop then it will generate a new parameter grid for every run..."
     ]
    },
    {
     "cell_type": "code",
     "collapsed": false,
     "input": [
      "def compare_optimizers(optimizers):\n",
      "    \"\"\" Compare all the optimizers given on a grid of a few different\n",
      "        functions all admitting a signle root in zero and a upper and\n",
      "        lower bounds.\n",
      "    \"\"\"\n",
      "    random_a = -1.3 + np.random.random(size=100)\n",
      "    random_b =   .3 + np.random.random(size=100)\n",
      "    print(\"Benching 1D root-finder optimizers from scipy.optimize:\")\n",
      "    for optimizer in OPTIMIZERS:\n",
      "        param_grid = product(FUNCTIONS, random_a, random_b)\n",
      "        ncalls = bench_optimizer(optimizer, param_grid)\n",
      "        print('{name}: {ncalls} total function calls'.format(\n",
      "                  name=optimizer.__name__, ncalls=ncalls))"
     ],
     "language": "python",
     "metadata": {},
     "outputs": [],
     "prompt_number": 17
    },
    {
     "cell_type": "code",
     "collapsed": false,
     "input": [
      "if __name__ == '__main__':\n",
      "    compare_optimizers(OPTIMIZERS)"
     ],
     "language": "python",
     "metadata": {},
     "outputs": [
      {
       "output_type": "stream",
       "stream": "stdout",
       "text": [
        "Benching 1D root-finder optimizers from scipy.optimize:\n",
        "brenth: 601634 total function calls"
       ]
      },
      {
       "output_type": "stream",
       "stream": "stdout",
       "text": [
        "\n",
        "brentq: 591074 total function calls"
       ]
      },
      {
       "output_type": "stream",
       "stream": "stdout",
       "text": [
        "\n",
        "ridder: 771748 total function calls"
       ]
      },
      {
       "output_type": "stream",
       "stream": "stdout",
       "text": [
        "\n",
        "bisect: 2146860 total function calls"
       ]
      },
      {
       "output_type": "stream",
       "stream": "stdout",
       "text": [
        "\n"
       ]
      }
     ],
     "prompt_number": 18
    },
    {
     "cell_type": "markdown",
     "metadata": {},
     "source": [
      "Yes!!! This works and it is very close to the output provided in the homework assignment."
     ]
    },
    {
     "cell_type": "markdown",
     "metadata": {},
     "source": [
      "### Summary\n",
      "\n",
      "To debug this code, I employed the magic %debug program and stepped through the functions myself. I ran into trouble using the pdb tool and so that was a dead end for me. Using %debug only pointed me to the function (sum) that was causing the initial problem and from there I just looked at the code to find the errant comma. After I solved this error, I realized the for loop in compare_optimizers had a problem. Again, I tested this by changing the input optimizer array and then included the paramater grid within the for loop so that each optimizer had the grid to use."
     ]
    }
   ],
   "metadata": {}
  }
 ]
}