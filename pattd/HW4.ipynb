{
 "metadata": {
  "name": "",
  "signature": "sha256:a16b280247b5328d4c1b0b795f487150a075a99e3d11ff48fb0ff736e65e6316"
 },
 "nbformat": 3,
 "nbformat_minor": 0,
 "worksheets": [
  {
   "cells": [
    {
     "cell_type": "heading",
     "level": 3,
     "metadata": {},
     "source": [
      "Use the codebook to find the column which corresponds to the question \"Did ____ have a fever?\""
     ]
    },
    {
     "cell_type": "code",
     "collapsed": false,
     "input": [
      "import numpy as np\n",
      "import pandas as pd"
     ],
     "language": "python",
     "metadata": {},
     "outputs": [],
     "prompt_number": 1
    },
    {
     "cell_type": "code",
     "collapsed": false,
     "input": [
      "pd.__version__"
     ],
     "language": "python",
     "metadata": {},
     "outputs": [
      {
       "metadata": {},
       "output_type": "pyout",
       "prompt_number": 2,
       "text": [
        "'0.15.0'"
       ]
      }
     ],
     "prompt_number": 2
    },
    {
     "cell_type": "code",
     "collapsed": false,
     "input": [
      "url = 'http://ghdx.healthdata.org/sites/default/files/'\\\n",
      "      'record-attached-files/IHME_PHMRC_VA_DATA_ADULT_Y2013M09D11_0.csv'"
     ],
     "language": "python",
     "metadata": {},
     "outputs": [],
     "prompt_number": 3
    },
    {
     "cell_type": "code",
     "collapsed": false,
     "input": [
      "df = pd.read_csv(url, low_memory=False)"
     ],
     "language": "python",
     "metadata": {},
     "outputs": [],
     "prompt_number": 4
    },
    {
     "cell_type": "code",
     "collapsed": false,
     "input": [
      "df.loc[1:5,]"
     ],
     "language": "python",
     "metadata": {},
     "outputs": [
      {
       "html": [
        "<div style=\"max-height:1000px;max-width:1500px;overflow:auto;\">\n",
        "<table border=\"1\" class=\"dataframe\">\n",
        "  <thead>\n",
        "    <tr style=\"text-align: right;\">\n",
        "      <th></th>\n",
        "      <th>site</th>\n",
        "      <th>module</th>\n",
        "      <th>gs_code34</th>\n",
        "      <th>gs_text34</th>\n",
        "      <th>va34</th>\n",
        "      <th>gs_code46</th>\n",
        "      <th>gs_text46</th>\n",
        "      <th>va46</th>\n",
        "      <th>gs_code55</th>\n",
        "      <th>gs_text55</th>\n",
        "      <th>...</th>\n",
        "      <th>word_woman</th>\n",
        "      <th>word_womb</th>\n",
        "      <th>word_worri</th>\n",
        "      <th>word_wors</th>\n",
        "      <th>word_worsen</th>\n",
        "      <th>word_worst</th>\n",
        "      <th>word_wound</th>\n",
        "      <th>word_xray</th>\n",
        "      <th>word_yellow</th>\n",
        "      <th>newid</th>\n",
        "    </tr>\n",
        "  </thead>\n",
        "  <tbody>\n",
        "    <tr>\n",
        "      <th>1</th>\n",
        "      <td>     AP</td>\n",
        "      <td> Adult</td>\n",
        "      <td> G40</td>\n",
        "      <td>                    Epilepsy</td>\n",
        "      <td> 12</td>\n",
        "      <td> G40</td>\n",
        "      <td>                    Epilepsy</td>\n",
        "      <td> 16</td>\n",
        "      <td> G40</td>\n",
        "      <td>                    Epilepsy</td>\n",
        "      <td>...</td>\n",
        "      <td> 0</td>\n",
        "      <td> 0</td>\n",
        "      <td> 0</td>\n",
        "      <td> 0</td>\n",
        "      <td> 0</td>\n",
        "      <td> 0</td>\n",
        "      <td> 0</td>\n",
        "      <td> 0</td>\n",
        "      <td> 0</td>\n",
        "      <td> 2</td>\n",
        "    </tr>\n",
        "    <tr>\n",
        "      <th>2</th>\n",
        "      <td>     AP</td>\n",
        "      <td> Adult</td>\n",
        "      <td> J12</td>\n",
        "      <td>                   Pneumonia</td>\n",
        "      <td> 26</td>\n",
        "      <td> J12</td>\n",
        "      <td>                   Pneumonia</td>\n",
        "      <td> 37</td>\n",
        "      <td> J12</td>\n",
        "      <td>                   Pneumonia</td>\n",
        "      <td>...</td>\n",
        "      <td> 0</td>\n",
        "      <td> 0</td>\n",
        "      <td> 0</td>\n",
        "      <td> 0</td>\n",
        "      <td> 0</td>\n",
        "      <td> 0</td>\n",
        "      <td> 0</td>\n",
        "      <td> 0</td>\n",
        "      <td> 0</td>\n",
        "      <td> 3</td>\n",
        "    </tr>\n",
        "    <tr>\n",
        "      <th>3</th>\n",
        "      <td> Mexico</td>\n",
        "      <td> Adult</td>\n",
        "      <td> J33</td>\n",
        "      <td>                        COPD</td>\n",
        "      <td>  8</td>\n",
        "      <td> J33</td>\n",
        "      <td>                        COPD</td>\n",
        "      <td> 10</td>\n",
        "      <td> J33</td>\n",
        "      <td>                        COPD</td>\n",
        "      <td>...</td>\n",
        "      <td> 0</td>\n",
        "      <td> 0</td>\n",
        "      <td> 0</td>\n",
        "      <td> 0</td>\n",
        "      <td> 0</td>\n",
        "      <td> 0</td>\n",
        "      <td> 0</td>\n",
        "      <td> 0</td>\n",
        "      <td> 0</td>\n",
        "      <td> 4</td>\n",
        "    </tr>\n",
        "    <tr>\n",
        "      <th>4</th>\n",
        "      <td>     UP</td>\n",
        "      <td> Adult</td>\n",
        "      <td> I21</td>\n",
        "      <td> Acute Myocardial Infarction</td>\n",
        "      <td> 17</td>\n",
        "      <td> I21</td>\n",
        "      <td> Acute Myocardial Infarction</td>\n",
        "      <td> 23</td>\n",
        "      <td> I21</td>\n",
        "      <td> Acute Myocardial Infarction</td>\n",
        "      <td>...</td>\n",
        "      <td> 0</td>\n",
        "      <td> 0</td>\n",
        "      <td> 0</td>\n",
        "      <td> 0</td>\n",
        "      <td> 0</td>\n",
        "      <td> 0</td>\n",
        "      <td> 0</td>\n",
        "      <td> 0</td>\n",
        "      <td> 0</td>\n",
        "      <td> 5</td>\n",
        "    </tr>\n",
        "    <tr>\n",
        "      <th>5</th>\n",
        "      <td>     UP</td>\n",
        "      <td> Adult</td>\n",
        "      <td> X09</td>\n",
        "      <td>                       Fires</td>\n",
        "      <td> 15</td>\n",
        "      <td> X09</td>\n",
        "      <td>                       Fires</td>\n",
        "      <td> 19</td>\n",
        "      <td> X09</td>\n",
        "      <td>                       Fires</td>\n",
        "      <td>...</td>\n",
        "      <td> 0</td>\n",
        "      <td> 0</td>\n",
        "      <td> 0</td>\n",
        "      <td> 0</td>\n",
        "      <td> 0</td>\n",
        "      <td> 0</td>\n",
        "      <td> 0</td>\n",
        "      <td> 0</td>\n",
        "      <td> 0</td>\n",
        "      <td> 6</td>\n",
        "    </tr>\n",
        "  </tbody>\n",
        "</table>\n",
        "<p>5 rows \u00d7 946 columns</p>\n",
        "</div>"
       ],
       "metadata": {},
       "output_type": "pyout",
       "prompt_number": 6,
       "text": [
        "     site module gs_code34                    gs_text34  va34 gs_code46  \\\n",
        "1      AP  Adult       G40                     Epilepsy    12       G40   \n",
        "2      AP  Adult       J12                    Pneumonia    26       J12   \n",
        "3  Mexico  Adult       J33                         COPD     8       J33   \n",
        "4      UP  Adult       I21  Acute Myocardial Infarction    17       I21   \n",
        "5      UP  Adult       X09                        Fires    15       X09   \n",
        "\n",
        "                     gs_text46  va46 gs_code55                    gs_text55  \\\n",
        "1                     Epilepsy    16       G40                     Epilepsy   \n",
        "2                    Pneumonia    37       J12                    Pneumonia   \n",
        "3                         COPD    10       J33                         COPD   \n",
        "4  Acute Myocardial Infarction    23       I21  Acute Myocardial Infarction   \n",
        "5                        Fires    19       X09                        Fires   \n",
        "\n",
        "   ...   word_woman word_womb word_worri word_wors word_worsen word_worst  \\\n",
        "1  ...            0         0          0         0           0          0   \n",
        "2  ...            0         0          0         0           0          0   \n",
        "3  ...            0         0          0         0           0          0   \n",
        "4  ...            0         0          0         0           0          0   \n",
        "5  ...            0         0          0         0           0          0   \n",
        "\n",
        "  word_wound word_xray word_yellow newid  \n",
        "1          0         0           0     2  \n",
        "2          0         0           0     3  \n",
        "3          0         0           0     4  \n",
        "4          0         0           0     5  \n",
        "5          0         0           0     6  \n",
        "\n",
        "[5 rows x 946 columns]"
       ]
      }
     ],
     "prompt_number": 6
    },
    {
     "cell_type": "code",
     "collapsed": false,
     "input": [
      "# also load codebook (excel doc)\n",
      "url = 'http://ghdx.healthdata.org/sites/default/files/'\\\n",
      "      'record-attached-files/IHME_PHMRC_VA_DATA_CODEBOOK_Y2013M09D11_0.xlsx'\n",
      "cb = pd.read_excel(url)"
     ],
     "language": "python",
     "metadata": {},
     "outputs": [],
     "prompt_number": 7
    },
    {
     "cell_type": "code",
     "collapsed": false,
     "input": [
      "cb.head()"
     ],
     "language": "python",
     "metadata": {},
     "outputs": [
      {
       "html": [
        "<div style=\"max-height:1000px;max-width:1500px;overflow:auto;\">\n",
        "<table border=\"1\" class=\"dataframe\">\n",
        "  <thead>\n",
        "    <tr style=\"text-align: right;\">\n",
        "      <th></th>\n",
        "      <th>variable</th>\n",
        "      <th>question</th>\n",
        "      <th>module</th>\n",
        "      <th>health_care_experience</th>\n",
        "      <th>coding</th>\n",
        "    </tr>\n",
        "  </thead>\n",
        "  <tbody>\n",
        "    <tr>\n",
        "      <th>0</th>\n",
        "      <td>         site</td>\n",
        "      <td>                                Site</td>\n",
        "      <td> General</td>\n",
        "      <td> 0</td>\n",
        "      <td> NaN</td>\n",
        "    </tr>\n",
        "    <tr>\n",
        "      <th>1</th>\n",
        "      <td>        newid</td>\n",
        "      <td>                            Study ID</td>\n",
        "      <td> General</td>\n",
        "      <td> 0</td>\n",
        "      <td> NaN</td>\n",
        "    </tr>\n",
        "    <tr>\n",
        "      <th>2</th>\n",
        "      <td> gs_diagnosis</td>\n",
        "      <td>        Gold Standard Diagnosis Code</td>\n",
        "      <td> General</td>\n",
        "      <td> 0</td>\n",
        "      <td> NaN</td>\n",
        "    </tr>\n",
        "    <tr>\n",
        "      <th>3</th>\n",
        "      <td> gs_comorbid1</td>\n",
        "      <td> Gold Standard Comorbid Conditions 1</td>\n",
        "      <td> General</td>\n",
        "      <td> 0</td>\n",
        "      <td> NaN</td>\n",
        "    </tr>\n",
        "    <tr>\n",
        "      <th>4</th>\n",
        "      <td> gs_comorbid2</td>\n",
        "      <td> Gold Standard Comorbid Conditions 2</td>\n",
        "      <td> General</td>\n",
        "      <td> 0</td>\n",
        "      <td> NaN</td>\n",
        "    </tr>\n",
        "  </tbody>\n",
        "</table>\n",
        "</div>"
       ],
       "metadata": {},
       "output_type": "pyout",
       "prompt_number": 8,
       "text": [
        "       variable                             question   module  \\\n",
        "0          site                                 Site  General   \n",
        "1         newid                             Study ID  General   \n",
        "2  gs_diagnosis         Gold Standard Diagnosis Code  General   \n",
        "3  gs_comorbid1  Gold Standard Comorbid Conditions 1  General   \n",
        "4  gs_comorbid2  Gold Standard Comorbid Conditions 2  General   \n",
        "\n",
        "   health_care_experience coding  \n",
        "0                       0    NaN  \n",
        "1                       0    NaN  \n",
        "2                       0    NaN  \n",
        "3                       0    NaN  \n",
        "4                       0    NaN  "
       ]
      }
     ],
     "prompt_number": 8
    },
    {
     "cell_type": "code",
     "collapsed": false,
     "input": [
      "cb[cb.question.str.contains('have a fever')]"
     ],
     "language": "python",
     "metadata": {},
     "outputs": [
      {
       "html": [
        "<div style=\"max-height:1000px;max-width:1500px;overflow:auto;\">\n",
        "<table border=\"1\" class=\"dataframe\">\n",
        "  <thead>\n",
        "    <tr style=\"text-align: right;\">\n",
        "      <th></th>\n",
        "      <th>variable</th>\n",
        "      <th>question</th>\n",
        "      <th>module</th>\n",
        "      <th>health_care_experience</th>\n",
        "      <th>coding</th>\n",
        "    </tr>\n",
        "  </thead>\n",
        "  <tbody>\n",
        "    <tr>\n",
        "      <th>79  </th>\n",
        "      <td> a2_02</td>\n",
        "      <td>                          Did [name] have a fever?</td>\n",
        "      <td> Adult</td>\n",
        "      <td> 0</td>\n",
        "      <td> 0 \"No\" 1 \"Yes\" 8 \"Refused to Answer\" 9 \"Don't ...</td>\n",
        "    </tr>\n",
        "    <tr>\n",
        "      <th>1107</th>\n",
        "      <td> c4_01</td>\n",
        "      <td> During the illness that led to death, did [nam...</td>\n",
        "      <td> Child</td>\n",
        "      <td> 0</td>\n",
        "      <td> 0 \"No\" 1 \"Yes\" 8 \"Refused to Answer\" 9 \"Don't ...</td>\n",
        "    </tr>\n",
        "  </tbody>\n",
        "</table>\n",
        "</div>"
       ],
       "metadata": {},
       "output_type": "pyout",
       "prompt_number": 9,
       "text": [
        "     variable                                           question module  \\\n",
        "79      a2_02                           Did [name] have a fever?  Adult   \n",
        "1107    c4_01  During the illness that led to death, did [nam...  Child   \n",
        "\n",
        "      health_care_experience  \\\n",
        "79                         0   \n",
        "1107                       0   \n",
        "\n",
        "                                                 coding  \n",
        "79    0 \"No\" 1 \"Yes\" 8 \"Refused to Answer\" 9 \"Don't ...  \n",
        "1107  0 \"No\" 1 \"Yes\" 8 \"Refused to Answer\" 9 \"Don't ...  "
       ]
      }
     ],
     "prompt_number": 9
    },
    {
     "cell_type": "code",
     "collapsed": false,
     "input": [
      "cb[cb.question.str.match('Did .* have a fever?')]"
     ],
     "language": "python",
     "metadata": {},
     "outputs": [
      {
       "html": [
        "<div style=\"max-height:1000px;max-width:1500px;overflow:auto;\">\n",
        "<table border=\"1\" class=\"dataframe\">\n",
        "  <thead>\n",
        "    <tr style=\"text-align: right;\">\n",
        "      <th></th>\n",
        "      <th>variable</th>\n",
        "      <th>question</th>\n",
        "      <th>module</th>\n",
        "      <th>health_care_experience</th>\n",
        "      <th>coding</th>\n",
        "    </tr>\n",
        "  </thead>\n",
        "  <tbody>\n",
        "    <tr>\n",
        "      <th>79</th>\n",
        "      <td> a2_02</td>\n",
        "      <td> Did [name] have a fever?</td>\n",
        "      <td> Adult</td>\n",
        "      <td> 0</td>\n",
        "      <td> 0 \"No\" 1 \"Yes\" 8 \"Refused to Answer\" 9 \"Don't ...</td>\n",
        "    </tr>\n",
        "  </tbody>\n",
        "</table>\n",
        "</div>"
       ],
       "metadata": {},
       "output_type": "pyout",
       "prompt_number": 10,
       "text": [
        "   variable                  question module  health_care_experience  \\\n",
        "79    a2_02  Did [name] have a fever?  Adult                       0   \n",
        "\n",
        "                                               coding  \n",
        "79  0 \"No\" 1 \"Yes\" 8 \"Refused to Answer\" 9 \"Don't ...  "
       ]
      }
     ],
     "prompt_number": 10
    },
    {
     "cell_type": "code",
     "collapsed": false,
     "input": [
      "# get column name\n",
      "var = cb.loc[79,'variable']"
     ],
     "language": "python",
     "metadata": {},
     "outputs": [],
     "prompt_number": 11
    },
    {
     "cell_type": "code",
     "collapsed": false,
     "input": [
      "var"
     ],
     "language": "python",
     "metadata": {},
     "outputs": [
      {
       "metadata": {},
       "output_type": "pyout",
       "prompt_number": 12,
       "text": [
        "u'a2_02'"
       ]
      }
     ],
     "prompt_number": 12
    },
    {
     "cell_type": "heading",
     "level": 3,
     "metadata": {},
     "source": [
      "Find the cause with the highest endorsement rate for the symptom \"fever\" among Adult deaths"
     ]
    },
    {
     "cell_type": "code",
     "collapsed": false,
     "input": [
      "# create a new column with 0/1 values instead of Yes/No/Don't Know/Refused to Answer\n",
      "df['fever'] = df[var] == 'Yes'"
     ],
     "language": "python",
     "metadata": {},
     "outputs": [],
     "prompt_number": 13
    },
    {
     "cell_type": "code",
     "collapsed": false,
     "input": [
      "dfa = df[df.module == \"Adult\"]"
     ],
     "language": "python",
     "metadata": {},
     "outputs": [],
     "prompt_number": 14
    },
    {
     "cell_type": "code",
     "collapsed": false,
     "input": [
      "erate = dfa.groupby('gs_text34').fever.sum().order(ascending=False)\n",
      "erate"
     ],
     "language": "python",
     "metadata": {},
     "outputs": [
      {
       "metadata": {},
       "output_type": "pyout",
       "prompt_number": 15,
       "text": [
        "gs_text34\n",
        "AIDS                               399\n",
        "Pneumonia                          378\n",
        "Other Non-communicable Diseases    333\n",
        "Stroke                             282\n",
        "Renal Failure                      240\n",
        "Diabetes                           223\n",
        "Other Infectious Diseases          195\n",
        "TB                                 195\n",
        "Other Cardiovascular Diseases      185\n",
        "Cirrhosis                          171\n",
        "Maternal                           141\n",
        "Diarrhea/Dysentery                 126\n",
        "Acute Myocardial Infarction        116\n",
        "Leukemia/Lymphomas                 108\n",
        "Breast Cancer                      108\n",
        "Malaria                             86\n",
        "COPD                                84\n",
        "Cervical Cancer                     64\n",
        "Road Traffic                        54\n",
        "Falls                               53\n",
        "Lung Cancer                         49\n",
        "Colorectal Cancer                   47\n",
        "Homicide                            34\n",
        "Epilepsy                            31\n",
        "Fires                               28\n",
        "Stomach Cancer                      26\n",
        "Asthma                              21\n",
        "Prostate Cancer                     19\n",
        "Poisonings                          19\n",
        "Esophageal Cancer                   17\n",
        "Suicide                             13\n",
        "Other Injuries                       9\n",
        "Bite of Venomous Animal              4\n",
        "Drowning                             3\n",
        "Name: fever, dtype: float64"
       ]
      }
     ],
     "prompt_number": 15
    },
    {
     "cell_type": "code",
     "collapsed": false,
     "input": [
      "print('Highest endorsement rate for the symptom \"fever\" among Adult deaths: '+erate.idxmax())"
     ],
     "language": "python",
     "metadata": {},
     "outputs": [
      {
       "output_type": "stream",
       "stream": "stdout",
       "text": [
        "Highest endorsement rate for the symptom \"fever\" among Adult deaths: AIDS\n"
       ]
      }
     ],
     "prompt_number": 16
    },
    {
     "cell_type": "heading",
     "level": 3,
     "metadata": {},
     "source": [
      "Display the cause-specific endorsement rates visually"
     ]
    },
    {
     "cell_type": "code",
     "collapsed": false,
     "input": [
      "%matplotlib inline\n",
      "import matplotlib.pyplot as plt\n",
      "plt.xlabel('Endorsement Rate (%)')\n",
      "erate.order().plot(kind='barh', figsize=(12,12))"
     ],
     "language": "python",
     "metadata": {},
     "outputs": [
      {
       "metadata": {},
       "output_type": "pyout",
       "prompt_number": 17,
       "text": [
        "<matplotlib.axes._subplots.AxesSubplot at 0x10a717310>"
       ]
      },
      {
       "metadata": {},
       "output_type": "display_data",
       "png": "[encoded data removed]",
       "text": [
        "<matplotlib.figure.Figure at 0x108d6fa10>"
       ]
      }
     ],
     "prompt_number": 17
    },
    {
     "cell_type": "raw",
     "metadata": {},
     "source": []
    },
    {
     "cell_type": "heading",
     "level": 3,
     "metadata": {},
     "source": [
      "Find the question that asks if the deceased had AIDS"
     ]
    },
    {
     "cell_type": "code",
     "collapsed": false,
     "input": [
      "cb[cb.question.str.contains('AIDS')]"
     ],
     "language": "python",
     "metadata": {},
     "outputs": [
      {
       "html": [
        "<div style=\"max-height:1000px;max-width:1500px;overflow:auto;\">\n",
        "<table border=\"1\" class=\"dataframe\">\n",
        "  <thead>\n",
        "    <tr style=\"text-align: right;\">\n",
        "      <th></th>\n",
        "      <th>variable</th>\n",
        "      <th>question</th>\n",
        "      <th>module</th>\n",
        "      <th>health_care_experience</th>\n",
        "      <th>coding</th>\n",
        "    </tr>\n",
        "  </thead>\n",
        "  <tbody>\n",
        "    <tr>\n",
        "      <th>76  </th>\n",
        "      <td> a1_01_14</td>\n",
        "      <td>                           Did Decedent Have AIDS?</td>\n",
        "      <td> Adult</td>\n",
        "      <td> 1</td>\n",
        "      <td> 0 \"No\" 1 \"Yes\" 8 \"Refused to Answer\" 9 \"Don't ...</td>\n",
        "    </tr>\n",
        "    <tr>\n",
        "      <th>1215</th>\n",
        "      <td>    c5_19</td>\n",
        "      <td> Has the deceased's (biological) mother ever be...</td>\n",
        "      <td> Child</td>\n",
        "      <td> 0</td>\n",
        "      <td> 0 \"No\" 1 \"Yes\" 8 \"Refused to Answer\" 9 \"Don't ...</td>\n",
        "    </tr>\n",
        "  </tbody>\n",
        "</table>\n",
        "</div>"
       ],
       "metadata": {},
       "output_type": "pyout",
       "prompt_number": 18,
       "text": [
        "      variable                                           question module  \\\n",
        "76    a1_01_14                            Did Decedent Have AIDS?  Adult   \n",
        "1215     c5_19  Has the deceased's (biological) mother ever be...  Child   \n",
        "\n",
        "      health_care_experience  \\\n",
        "76                         1   \n",
        "1215                       0   \n",
        "\n",
        "                                                 coding  \n",
        "76    0 \"No\" 1 \"Yes\" 8 \"Refused to Answer\" 9 \"Don't ...  \n",
        "1215  0 \"No\" 1 \"Yes\" 8 \"Refused to Answer\" 9 \"Don't ...  "
       ]
      }
     ],
     "prompt_number": 18
    },
    {
     "cell_type": "code",
     "collapsed": false,
     "input": [
      "# get column name\n",
      "var2 = cb.loc[76,'variable']"
     ],
     "language": "python",
     "metadata": {},
     "outputs": [],
     "prompt_number": 19
    },
    {
     "cell_type": "heading",
     "level": 3,
     "metadata": {},
     "source": [
      "Make a 2x2 table showing the number of adult deceased with and without this question endorsed for decedents with underlying cause AIDS and not AIDS"
     ]
    },
    {
     "cell_type": "code",
     "collapsed": false,
     "input": [
      "dfa['AIDS_endorse'] = dfa[var2] == 'Yes'"
     ],
     "language": "python",
     "metadata": {},
     "outputs": [],
     "prompt_number": 20
    },
    {
     "cell_type": "code",
     "collapsed": false,
     "input": [
      "dfa['AIDS_cod']= dfa['gs_text34'] == 'AIDS'"
     ],
     "language": "python",
     "metadata": {},
     "outputs": [],
     "prompt_number": 21
    },
    {
     "cell_type": "code",
     "collapsed": false,
     "input": [
      "dfa.groupby(['AIDS_endorse','AIDS_cod']).size().unstack()"
     ],
     "language": "python",
     "metadata": {},
     "outputs": [
      {
       "html": [
        "<div style=\"max-height:1000px;max-width:1500px;overflow:auto;\">\n",
        "<table border=\"1\" class=\"dataframe\">\n",
        "  <thead>\n",
        "    <tr style=\"text-align: right;\">\n",
        "      <th>AIDS_cod</th>\n",
        "      <th>False</th>\n",
        "      <th>True</th>\n",
        "    </tr>\n",
        "    <tr>\n",
        "      <th>AIDS_endorse</th>\n",
        "      <th></th>\n",
        "      <th></th>\n",
        "    </tr>\n",
        "  </thead>\n",
        "  <tbody>\n",
        "    <tr>\n",
        "      <th>False</th>\n",
        "      <td> 7204</td>\n",
        "      <td> 194</td>\n",
        "    </tr>\n",
        "    <tr>\n",
        "      <th>True </th>\n",
        "      <td>  135</td>\n",
        "      <td> 308</td>\n",
        "    </tr>\n",
        "  </tbody>\n",
        "</table>\n",
        "</div>"
       ],
       "metadata": {},
       "output_type": "pyout",
       "prompt_number": 22,
       "text": [
        "AIDS_cod      False  True \n",
        "AIDS_endorse              \n",
        "False          7204    194\n",
        "True            135    308"
       ]
      }
     ],
     "prompt_number": 22
    },
    {
     "cell_type": "heading",
     "level": 3,
     "metadata": {},
     "source": [
      "Compare this 2x2 table across study sites"
     ]
    },
    {
     "cell_type": "code",
     "collapsed": false,
     "input": [
      "dfa['count'] = np.ones(dfa['newid'].count())\n",
      "piv = pd.pivot_table(dfa,values='count',\n",
      "                     index=['site','AIDS_endorse'], columns=['AIDS_cod'],aggfunc=np.sum)\n",
      "piv[np.isnan(piv)] = 0\n",
      "piv"
     ],
     "language": "python",
     "metadata": {},
     "outputs": [
      {
       "html": [
        "<div style=\"max-height:1000px;max-width:1500px;overflow:auto;\">\n",
        "<table border=\"1\" class=\"dataframe\">\n",
        "  <thead>\n",
        "    <tr style=\"text-align: right;\">\n",
        "      <th></th>\n",
        "      <th>AIDS_cod</th>\n",
        "      <th>False</th>\n",
        "      <th>True</th>\n",
        "    </tr>\n",
        "    <tr>\n",
        "      <th>site</th>\n",
        "      <th>AIDS_endorse</th>\n",
        "      <th></th>\n",
        "      <th></th>\n",
        "    </tr>\n",
        "  </thead>\n",
        "  <tbody>\n",
        "    <tr>\n",
        "      <th rowspan=\"2\" valign=\"top\">AP</th>\n",
        "      <th>False</th>\n",
        "      <td> 1404</td>\n",
        "      <td>  75</td>\n",
        "    </tr>\n",
        "    <tr>\n",
        "      <th>True </th>\n",
        "      <td>   14</td>\n",
        "      <td>  61</td>\n",
        "    </tr>\n",
        "    <tr>\n",
        "      <th>Bohol</th>\n",
        "      <th>False</th>\n",
        "      <td> 1259</td>\n",
        "      <td>   0</td>\n",
        "    </tr>\n",
        "    <tr>\n",
        "      <th rowspan=\"2\" valign=\"top\">Dar</th>\n",
        "      <th>False</th>\n",
        "      <td> 1414</td>\n",
        "      <td>  88</td>\n",
        "    </tr>\n",
        "    <tr>\n",
        "      <th>True </th>\n",
        "      <td>  109</td>\n",
        "      <td> 115</td>\n",
        "    </tr>\n",
        "    <tr>\n",
        "      <th rowspan=\"2\" valign=\"top\">Mexico</th>\n",
        "      <th>False</th>\n",
        "      <td> 1460</td>\n",
        "      <td>  29</td>\n",
        "    </tr>\n",
        "    <tr>\n",
        "      <th>True </th>\n",
        "      <td>    6</td>\n",
        "      <td>  91</td>\n",
        "    </tr>\n",
        "    <tr>\n",
        "      <th rowspan=\"2\" valign=\"top\">Pemba</th>\n",
        "      <th>False</th>\n",
        "      <td>  294</td>\n",
        "      <td>   0</td>\n",
        "    </tr>\n",
        "    <tr>\n",
        "      <th>True </th>\n",
        "      <td>    3</td>\n",
        "      <td>   0</td>\n",
        "    </tr>\n",
        "    <tr>\n",
        "      <th rowspan=\"2\" valign=\"top\">UP</th>\n",
        "      <th>False</th>\n",
        "      <td> 1373</td>\n",
        "      <td>   2</td>\n",
        "    </tr>\n",
        "    <tr>\n",
        "      <th>True </th>\n",
        "      <td>    3</td>\n",
        "      <td>  41</td>\n",
        "    </tr>\n",
        "  </tbody>\n",
        "</table>\n",
        "</div>"
       ],
       "metadata": {},
       "output_type": "pyout",
       "prompt_number": 23,
       "text": [
        "AIDS_cod             False  True \n",
        "site   AIDS_endorse              \n",
        "AP     False          1404     75\n",
        "       True             14     61\n",
        "Bohol  False          1259      0\n",
        "Dar    False          1414     88\n",
        "       True            109    115\n",
        "Mexico False          1460     29\n",
        "       True              6     91\n",
        "Pemba  False           294      0\n",
        "       True              3      0\n",
        "UP     False          1373      2\n",
        "       True              3     41"
       ]
      }
     ],
     "prompt_number": 23
    },
    {
     "cell_type": "heading",
     "level": 3,
     "metadata": {},
     "source": [
      "Now do a series of 2x2 tables comparing the percent of deaths truely due to AIDS for which \"Had AIDS\" question was endorsed"
     ]
    },
    {
     "cell_type": "code",
     "collapsed": false,
     "input": [
      "print('Number of AIDS as COD & not-COD of death for AIDS endorsed cases')\n",
      "piv2 = pd.pivot_table(dfa,values='AIDS_endorse',\n",
      "                     index=['site'], columns=['AIDS_cod'],aggfunc=sum)\n",
      "piv2[np.isnan(piv2)] = 0\n",
      "piv2"
     ],
     "language": "python",
     "metadata": {},
     "outputs": [
      {
       "output_type": "stream",
       "stream": "stdout",
       "text": [
        "Number of AIDS as COD & not-COD of death for AIDS endorsed cases\n"
       ]
      },
      {
       "html": [
        "<div style=\"max-height:1000px;max-width:1500px;overflow:auto;\">\n",
        "<table border=\"1\" class=\"dataframe\">\n",
        "  <thead>\n",
        "    <tr style=\"text-align: right;\">\n",
        "      <th>AIDS_cod</th>\n",
        "      <th>False</th>\n",
        "      <th>True</th>\n",
        "    </tr>\n",
        "    <tr>\n",
        "      <th>site</th>\n",
        "      <th></th>\n",
        "      <th></th>\n",
        "    </tr>\n",
        "  </thead>\n",
        "  <tbody>\n",
        "    <tr>\n",
        "      <th>AP</th>\n",
        "      <td>  14</td>\n",
        "      <td>  61</td>\n",
        "    </tr>\n",
        "    <tr>\n",
        "      <th>Bohol</th>\n",
        "      <td>   0</td>\n",
        "      <td>   0</td>\n",
        "    </tr>\n",
        "    <tr>\n",
        "      <th>Dar</th>\n",
        "      <td> 109</td>\n",
        "      <td> 115</td>\n",
        "    </tr>\n",
        "    <tr>\n",
        "      <th>Mexico</th>\n",
        "      <td>   6</td>\n",
        "      <td>  91</td>\n",
        "    </tr>\n",
        "    <tr>\n",
        "      <th>Pemba</th>\n",
        "      <td>   3</td>\n",
        "      <td>   0</td>\n",
        "    </tr>\n",
        "    <tr>\n",
        "      <th>UP</th>\n",
        "      <td>   3</td>\n",
        "      <td>  41</td>\n",
        "    </tr>\n",
        "  </tbody>\n",
        "</table>\n",
        "</div>"
       ],
       "metadata": {},
       "output_type": "pyout",
       "prompt_number": 28,
       "text": [
        "AIDS_cod  False  True \n",
        "site                  \n",
        "AP           14     61\n",
        "Bohol         0      0\n",
        "Dar         109    115\n",
        "Mexico        6     91\n",
        "Pemba         3      0\n",
        "UP            3     41"
       ]
      }
     ],
     "prompt_number": 28
    },
    {
     "cell_type": "code",
     "collapsed": false,
     "input": [
      "sumrow = piv2.apply(sum,axis=1)\n",
      "sumrow = sumrow.tolist()\n",
      "final = piv2[1]*100/sumrow\n",
      "print('Percentage of AIDS as COD for AIDS endorsed cases for each site')\n",
      "final"
     ],
     "language": "python",
     "metadata": {},
     "outputs": [
      {
       "output_type": "stream",
       "stream": "stdout",
       "text": [
        "Percentage of AIDS as COD for AIDS endorsed cases for each site\n"
       ]
      },
      {
       "metadata": {},
       "output_type": "pyout",
       "prompt_number": 29,
       "text": [
        "site\n",
        "AP        81.333333\n",
        "Bohol           NaN\n",
        "Dar       51.339286\n",
        "Mexico    93.814433\n",
        "Pemba      0.000000\n",
        "UP        93.181818\n",
        "Name: True, dtype: float64"
       ]
      }
     ],
     "prompt_number": 29
    },
    {
     "cell_type": "code",
     "collapsed": false,
     "input": [],
     "language": "python",
     "metadata": {},
     "outputs": []
    }
   ],
   "metadata": {}
  }
 ]
}