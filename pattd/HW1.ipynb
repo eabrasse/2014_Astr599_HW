{
 "metadata": {
  "name": "",
  "signature": "sha256:7a29b03173367964fdb23f9462493465ad999685b899c3b8b6773f22ae4af72f"
 },
 "nbformat": 3,
 "nbformat_minor": 0,
 "worksheets": [
  {
   "cells": [
    {
     "cell_type": "heading",
     "level": 1,
     "metadata": {},
     "source": [
      "Part 1: Loading and exploring the data"
     ]
    },
    {
     "cell_type": "markdown",
     "metadata": {},
     "source": [
      "1. Use np.genfromtxt to load the data from the file. This is like loadtxt, but can handle missing data.\n",
      "2. answer these questions:\n",
      "    How many values are missing in this data?\n",
      "    How many complete rows are there? i.e. how many objects have no missing values?\n",
      "3. Create a new array containing only the rows with no missing values.\n",
      "4. Compute the maximum, minimum, mean, and standard deviation of the values in each column."
     ]
    },
    {
     "cell_type": "code",
     "collapsed": false,
     "input": [
      "import numpy as np"
     ],
     "language": "python",
     "metadata": {},
     "outputs": [],
     "prompt_number": 2
    },
    {
     "cell_type": "code",
     "collapsed": false,
     "input": [
      "# import data\n",
      "ast = np.genfromtxt(\"asteroids5000.csv\",delimiter=\",\")"
     ],
     "language": "python",
     "metadata": {},
     "outputs": [],
     "prompt_number": 4
    },
    {
     "cell_type": "code",
     "collapsed": false,
     "input": [
      "# explore\n",
      "print(ast.dtype)\n",
      "print(ast.size)\n",
      "print(ast.shape)"
     ],
     "language": "python",
     "metadata": {},
     "outputs": [
      {
       "output_type": "stream",
       "stream": "stdout",
       "text": [
        "float64\n",
        "35000\n",
        "(5000, 7)\n"
       ]
      }
     ],
     "prompt_number": 68
    },
    {
     "cell_type": "code",
     "collapsed": false,
     "input": [
      "# count all missing values\n",
      "np.isnan(ast).sum()"
     ],
     "language": "python",
     "metadata": {},
     "outputs": [
      {
       "metadata": {},
       "output_type": "pyout",
       "prompt_number": 40,
       "text": [
        "11241"
       ]
      }
     ],
     "prompt_number": 40
    },
    {
     "cell_type": "code",
     "collapsed": false,
     "input": [
      "# print number of missing values\n",
      "print(\"How many values are missing in this data? :\"+str((np.isnan(ast)).sum()))"
     ],
     "language": "python",
     "metadata": {},
     "outputs": [
      {
       "output_type": "stream",
       "stream": "stdout",
       "text": [
        "How many values are missing in this data? :11241\n"
       ]
      }
     ],
     "prompt_number": 17
    },
    {
     "cell_type": "code",
     "collapsed": false,
     "input": [
      "# create new array containing only rows with no missing values\n",
      "newast = ast[~np.isnan(ast).any(axis=1)]"
     ],
     "language": "python",
     "metadata": {},
     "outputs": [],
     "prompt_number": 34
    },
    {
     "cell_type": "code",
     "collapsed": false,
     "input": [
      "newast.shape"
     ],
     "language": "python",
     "metadata": {},
     "outputs": [
      {
       "metadata": {},
       "output_type": "pyout",
       "prompt_number": 35,
       "text": [
        "(767, 7)"
       ]
      }
     ],
     "prompt_number": 35
    },
    {
     "cell_type": "code",
     "collapsed": false,
     "input": [
      "# print number of complete rows\n",
      "print(\"How many complete rows are there? :\" + str(newast.shape[0]))"
     ],
     "language": "python",
     "metadata": {},
     "outputs": [
      {
       "output_type": "stream",
       "stream": "stdout",
       "text": [
        "How many complete rows are there? :767\n"
       ]
      }
     ],
     "prompt_number": 38
    },
    {
     "cell_type": "code",
     "collapsed": false,
     "input": [
      "# compute max in each column\n",
      "print(\"Max of each column :\")\n",
      "newast.max(axis=0)"
     ],
     "language": "python",
     "metadata": {},
     "outputs": [
      {
       "output_type": "stream",
       "stream": "stdout",
       "text": [
        "Max of each column :\n"
       ]
      },
      {
       "metadata": {},
       "output_type": "pyout",
       "prompt_number": 52,
       "text": [
        "array([  4.28702303e+00,   3.71650568e-01,   3.48362566e+01,\n",
        "         1.29700000e+01,   9.52400000e+02,   1.07700000e+00,\n",
        "         6.55000000e-01])"
       ]
      }
     ],
     "prompt_number": 52
    },
    {
     "cell_type": "code",
     "collapsed": false,
     "input": [
      "# compute min in each column\n",
      "print(\"Min of each column :\")\n",
      "newast.min(axis=0)"
     ],
     "language": "python",
     "metadata": {},
     "outputs": [
      {
       "output_type": "stream",
       "stream": "stdout",
       "text": [
        "Min of each column :\n"
       ]
      },
      {
       "metadata": {},
       "output_type": "pyout",
       "prompt_number": 53,
       "text": [
        "array([  1.86623082e+00,   2.70779650e-03,   2.64247752e-01,\n",
        "         3.20000000e+00,   7.23000000e+00,   5.80000000e-01,\n",
        "         1.20000000e-01])"
       ]
      }
     ],
     "prompt_number": 53
    },
    {
     "cell_type": "code",
     "collapsed": false,
     "input": [
      "# compute mean in each column\n",
      "print(\"Mean of each column :\")\n",
      "newast.mean(axis=0)"
     ],
     "language": "python",
     "metadata": {},
     "outputs": [
      {
       "output_type": "stream",
       "stream": "stdout",
       "text": [
        "Mean of each column :\n"
       ]
      },
      {
       "metadata": {},
       "output_type": "pyout",
       "prompt_number": 54,
       "text": [
        "array([  2.84852694,   0.13989068,   9.74426393,   9.26473272,\n",
        "        78.08349413,   0.75930769,   0.35792047])"
       ]
      }
     ],
     "prompt_number": 54
    },
    {
     "cell_type": "code",
     "collapsed": false,
     "input": [
      "# compute standard deviation in each column\n",
      "print(\"StdDev of each column :\")\n",
      "newast.std(axis=0)"
     ],
     "language": "python",
     "metadata": {},
     "outputs": [
      {
       "output_type": "stream",
       "stream": "stdout",
       "text": [
        "StdDev of each column :\n"
       ]
      },
      {
       "metadata": {},
       "output_type": "pyout",
       "prompt_number": 55,
       "text": [
        "array([  0.38068924,   0.07057209,   6.25581047,   1.4261952 ,\n",
        "        65.20426683,   0.08407915,   0.08912981])"
       ]
      }
     ],
     "prompt_number": 55
    },
    {
     "cell_type": "heading",
     "level": 1,
     "metadata": {},
     "source": [
      "Part 2: Plotting the data"
     ]
    },
    {
     "cell_type": "code",
     "collapsed": false,
     "input": [
      "%matplotlib inline\n",
      "import matplotlib.pyplot as plt\n",
      "import numpy as np"
     ],
     "language": "python",
     "metadata": {},
     "outputs": [],
     "prompt_number": 1
    },
    {
     "cell_type": "code",
     "collapsed": false,
     "input": [
      "# import data and create data set with no missing values\n",
      "ast = np.genfromtxt(\"asteroids5000.csv\",delimiter=\",\")\n",
      "newast = ast[~np.isnan(ast).any(axis=1)]"
     ],
     "language": "python",
     "metadata": {},
     "outputs": [],
     "prompt_number": 21
    },
    {
     "cell_type": "code",
     "collapsed": false,
     "input": [
      "!head -1 asteroids5000.csv"
     ],
     "language": "python",
     "metadata": {},
     "outputs": [
      {
       "output_type": "stream",
       "stream": "stdout",
       "text": [
        "#a,e,i,H,diameter,BV,UB\r\n"
       ]
      }
     ],
     "prompt_number": 5
    },
    {
     "cell_type": "code",
     "collapsed": false,
     "input": [
      "# scatter plot for only rows with no missing values\n",
      "plt.scatter(newast[:,0],np.sin((2*np.pi/360)*newast[:,2]));\n",
      "plt.ylabel(\"Sine of inclination\");\n",
      "plt.xlabel(\"Semi-major axis\");"
     ],
     "language": "python",
     "metadata": {},
     "outputs": [
      {
       "metadata": {},
       "output_type": "display_data",
       "png": "[encoded data removed]",
       "text": [
        "<matplotlib.figure.Figure at 0x106b7b7d0>"
       ]
      }
     ],
     "prompt_number": 65
    },
    {
     "cell_type": "code",
     "collapsed": false,
     "input": [
      "# plot color-magnitude diagram\n",
      "plt.scatter(newast[:,3],newast[:,5]);\n",
      "plt.ylabel(\"BV\");\n",
      "plt.xlabel(\"H\");\n",
      "plt.title(\"Color-Magnitude Diagram\");\n",
      "meanbv = np.zeros(newast.shape[0])+np.mean(newast[:,5]) # line that divides 2 families\n",
      "plt.plot(newast[:,3],meanbv);"
     ],
     "language": "python",
     "metadata": {},
     "outputs": [
      {
       "metadata": {},
       "output_type": "display_data",
       "png": "[encoded data removed]",
       "text": [
        "<matplotlib.figure.Figure at 0x106e0fcd0>"
       ]
      }
     ],
     "prompt_number": 64
    },
    {
     "cell_type": "code",
     "collapsed": false,
     "input": [
      "# get index for first family\n",
      "ind1 = newast[:,5]>np.mean(newast[:,5])\n",
      "# get index for second family\n",
      "ind2 = newast[:,5]<=np.mean(newast[:,5])"
     ],
     "language": "python",
     "metadata": {},
     "outputs": [],
     "prompt_number": 60
    },
    {
     "cell_type": "code",
     "collapsed": false,
     "input": [
      "# plot two families in different color\n",
      "plt.scatter(newast[np.where(ind1),3],newast[np.where(ind1),5],color='g');\n",
      "plt.scatter(newast[np.where(ind2),3],newast[np.where(ind2),5],color='r');\n",
      "plt.ylabel(\"BV\");\n",
      "plt.xlabel(\"H\");\n",
      "meanbv = np.zeros(newast.shape[0])+np.mean(newast[:,5]) # line that divides 2 families\n",
      "plt.plot(newast[:,3],meanbv);"
     ],
     "language": "python",
     "metadata": {},
     "outputs": [
      {
       "metadata": {},
       "output_type": "display_data",
       "png": "[encoded data removed]",
       "text": [
        "<matplotlib.figure.Figure at 0x106cd69d0>"
       ]
      }
     ],
     "prompt_number": 62
    },
    {
     "cell_type": "code",
     "collapsed": false,
     "input": [],
     "language": "python",
     "metadata": {},
     "outputs": []
    }
   ],
   "metadata": {}
  }
 ]
}