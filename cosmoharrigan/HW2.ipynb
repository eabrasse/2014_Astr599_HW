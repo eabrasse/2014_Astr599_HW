{
 "metadata": {
  "name": "",
  "signature": "sha256:90d389cb96f394d936a13cadc11c3501f81e2016d7d1b3b4d9f3c6b7ccf38379"
 },
 "nbformat": 3,
 "nbformat_minor": 0,
 "worksheets": [
  {
   "cells": [
    {
     "cell_type": "heading",
     "level": 1,
     "metadata": {},
     "source": [
      "Homework 2: Numerical Integration"
     ]
    },
    {
     "cell_type": "code",
     "collapsed": false,
     "input": [
      "# Load NumPy and true division\n",
      "import numpy as np\n",
      "from __future__ import division"
     ],
     "language": "python",
     "metadata": {},
     "outputs": [],
     "prompt_number": 10
    },
    {
     "cell_type": "markdown",
     "metadata": {},
     "source": [
      "Create a function **func** for the function $f(x)=sin(x)$."
     ]
    },
    {
     "cell_type": "code",
     "collapsed": false,
     "input": [
      "def func(x):\n",
      "    \"\"\"Returns the sine of x\n",
      "    \n",
      "    Parameters\n",
      "    ----------\n",
      "    x : float (radians)\n",
      "    \"\"\"\n",
      "    return np.sin(x)"
     ],
     "language": "python",
     "metadata": {},
     "outputs": [],
     "prompt_number": 11
    },
    {
     "cell_type": "markdown",
     "metadata": {},
     "source": [
      "A template of the parent class integrator is provided. This class will have all the common functionality to integrate a function f in the interval [a,b]. However, the method of integration is not yet provided, nor is the integration function."
     ]
    },
    {
     "cell_type": "markdown",
     "metadata": {},
     "source": [
      "Add an additional function called <b> integrate(self,func) </b> inside the class Integrator, which calculates the integral from the weigths $w_i$: <b>self.weights</b> at different points x_i:<b>self.points</b>. Note this should be arrays. The integral is calculated as\n",
      "\n",
      "$$\n",
      "\\int_a^b f(x) dx = \\sum_{i=0}^{n-1} w_i f(x_i)\n",
      "$$"
     ]
    },
    {
     "cell_type": "code",
     "collapsed": false,
     "input": [
      "class Integrator:\n",
      "    def __init__(self, a, b, n):\n",
      "        \"\"\"Computes an approximation of the definite integral of a function\n",
      "        \n",
      "        Parameters\n",
      "        ----------\n",
      "        a : left side of interval\n",
      "        b : right side of interval\n",
      "        n : number of points used for approximation\n",
      "        \"\"\"\n",
      "        self.a, self.b, self.n = a, b, n\n",
      "        self.points, self.weights = self.method()\n",
      "        \n",
      "    def integrate(self, func):\n",
      "        return np.sum(np.multiply(func(self.points), self.weights))\n",
      "        '''\n",
      "        sum = 0\n",
      "        for point, weight in zip(self.points, self.weights):\n",
      "            sum += point * weight\n",
      "        return sum\n",
      "        '''\n",
      "        \n",
      "    def method(self):\n",
      "        raise NotImplementedError('no rule in class %s' %self.__class__.__name__)"
     ],
     "language": "python",
     "metadata": {},
     "outputs": [],
     "prompt_number": 12
    },
    {
     "cell_type": "markdown",
     "metadata": {},
     "source": [
      "Create a child class of Integrator called <b> Trapezoidal</b>, where you define a function called <b>method(self)</b>.\n",
      "This function should return two arrays: <b> x </b> and <b> w </b> corresponding to the points and their current weights. This should be the values correponding to the trapezoidal rule for integration. If you are not familiar with it, you can look for it online"
     ]
    },
    {
     "cell_type": "code",
     "collapsed": false,
     "input": [
      "class Trapezoidal(Integrator):\n",
      "    \"\"\"Performs numerical integration using the \n",
      "    trapezoidal approximation method\n",
      "    \"\"\"\n",
      "    def __init(self, *args):\n",
      "        super.__init__(*args)\n",
      "    def method(self):\n",
      "        x = np.linspace(self.a, self.b, num=self.n)\n",
      "        w = np.empty(self.n)\n",
      "        w.fill((self.b - self.a) / (self.n - 1))\n",
      "        return x, w        "
     ],
     "language": "python",
     "metadata": {},
     "outputs": [],
     "prompt_number": 13
    },
    {
     "cell_type": "markdown",
     "metadata": {},
     "source": [
      "Create a child class of Integrator called <b> Midpoint</b>. It should do the same as <b> Trapezoidal</b> but employing the midpoint method for numerical integration."
     ]
    },
    {
     "cell_type": "code",
     "collapsed": false,
     "input": [
      "class Midpoint(Integrator):\n",
      "    \"\"\"Performs numerical integration using the midpoint\n",
      "    approximation method\n",
      "    \"\"\"\n",
      "    def __init(self, *args):\n",
      "        super.__init__(*args)\n",
      "    def method(self):\n",
      "        step_size = (self.b - self.a) / (self.n - 1)\n",
      "        \n",
      "        # The x-coordinates to be evaluated should be\n",
      "        # located at the midpoint of each sample\n",
      "        x = np.linspace(self.a + 0.5 * step_size, \n",
      "                        self.b + 0.5 * step_size, \n",
      "                        num=self.n)\n",
      "        w = np.empty(self.n)\n",
      "        w.fill((self.b - self.a) / (self.n - 1))\n",
      "        return x, w    "
     ],
     "language": "python",
     "metadata": {},
     "outputs": [],
     "prompt_number": 14
    },
    {
     "cell_type": "markdown",
     "metadata": {},
     "source": [
      "Create a separate function of x that plots\n",
      "$\n",
      "\\int_0^x sin(x) dx = 1 - cos(x),\n",
      "$\n",
      "using any of the two methods you developed."
     ]
    },
    {
     "cell_type": "code",
     "collapsed": false,
     "input": [
      "%matplotlib inline\n",
      "import matplotlib.pyplot as plt\n",
      "\n",
      "def plot_integral(x):\n",
      "    \"\"\"Plots the function $\\int_0^x sin(x) dx = 1 - cos(x)$,\n",
      "    using the trapezoidal and midpoint methods for numerical\n",
      "    integration.\n",
      "    \n",
      "    Parameters\n",
      "    ----------\n",
      "    x : right side of interval\n",
      "    \"\"\"\n",
      "    trap = Trapezoidal(0, x, 100)\n",
      "    mid = Midpoint(0, x, 100)\n",
      "    x_trap, w_trap = trap.method()\n",
      "    x_mid, w_mid = mid.method()\n",
      "    \n",
      "    plt.plot(x_trap, func(x_trap))\n",
      "    plt.plot(x_mid, func(x_mid))\n",
      "    plt.title(\"Integral approximations\\n\"\n",
      "              \"Trapezoidal: {0:.4f}\\n\"\n",
      "              \"Midpoint: {1:.4f}\\n\"\n",
      "              \"(Correct value is 1.000)\"\n",
      "              .format(trap.integrate(func),\n",
      "                      mid.integrate(func)))"
     ],
     "language": "python",
     "metadata": {},
     "outputs": [],
     "prompt_number": 15
    },
    {
     "cell_type": "markdown",
     "metadata": {},
     "source": [
      "#### Trapezoidal and midpoint approximations of the definite integral $\\int_0^x sin(x) dx = 1 - cos(x)$ over the interval $[0, \\frac{3}{2}\\pi]$"
     ]
    },
    {
     "cell_type": "code",
     "collapsed": false,
     "input": [
      "plot_integral(np.pi * 1.5)"
     ],
     "language": "python",
     "metadata": {},
     "outputs": [
      {
       "metadata": {},
       "output_type": "display_data",
       "png": "[encoded data removed]",
       "text": [
        "<matplotlib.figure.Figure at 0x108138bd0>"
       ]
      }
     ],
     "prompt_number": 16
    }
   ],
   "metadata": {}
  }
 ]
}