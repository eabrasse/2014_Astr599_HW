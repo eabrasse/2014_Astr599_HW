{
 "metadata": {
  "name": "",
  "signature": "sha256:86955e5081e02d08e0ac2cac5ba50935f66bde3fccf46b4e084bbfc7ded330f4"
 },
 "nbformat": 3,
 "nbformat_minor": 0,
 "worksheets": [
  {
   "cells": [
    {
     "cell_type": "heading",
     "level": 1,
     "metadata": {},
     "source": [
      "\n",
      "Use the codebook to find the column which corresponds to the question \"Did __ have a fever?\""
     ]
    },
    {
     "cell_type": "code",
     "collapsed": false,
     "input": [
      "# in here:\n",
      "import pandas as pd\n",
      "pd.__version__\n"
     ],
     "language": "python",
     "metadata": {},
     "outputs": [
      {
       "metadata": {},
       "output_type": "pyout",
       "prompt_number": 1,
       "text": [
        "'0.15.0'"
       ]
      }
     ],
     "prompt_number": 1
    },
    {
     "cell_type": "code",
     "collapsed": false,
     "input": [
      "url = 'http://ghdx.healthdata.org/sites/default/files/'\\\n",
      "      'record-attached-files/IHME_PHMRC_VA_DATA_CODEBOOK_Y2013M09D11_0.xlsx'\n",
      "cb = pd.read_excel(url)"
     ],
     "language": "python",
     "metadata": {},
     "outputs": [],
     "prompt_number": 2
    },
    {
     "cell_type": "code",
     "collapsed": false,
     "input": [
      "url = 'http://ghdx.healthdata.org/sites/default/files/'\\\n",
      "      'record-attached-files/IHME_PHMRC_VA_DATA_ADULT_Y2013M09D11_0.csv'\n",
      "df = pd.read_csv(url)"
     ],
     "language": "python",
     "metadata": {},
     "outputs": [
      {
       "output_type": "stream",
       "stream": "stderr",
       "text": [
        "/Users/jtzhang/anaconda/lib/python2.7/site-packages/pandas/io/parsers.py:1150: DtypeWarning: Columns (18,29,38,41,60,96) have mixed types. Specify dtype option on import or set low_memory=False.\n",
        "  data = self._reader.read(nrows)\n"
       ]
      }
     ],
     "prompt_number": 14
    },
    {
     "cell_type": "code",
     "collapsed": false,
     "input": [
      "cb.head()"
     ],
     "language": "python",
     "metadata": {},
     "outputs": [
      {
       "html": [
        "<div style=\"max-height:1000px;max-width:1500px;overflow:auto;\">\n",
        "<table border=\"1\" class=\"dataframe\">\n",
        "  <thead>\n",
        "    <tr style=\"text-align: right;\">\n",
        "      <th></th>\n",
        "      <th>variable</th>\n",
        "      <th>question</th>\n",
        "      <th>module</th>\n",
        "      <th>health_care_experience</th>\n",
        "      <th>coding</th>\n",
        "    </tr>\n",
        "  </thead>\n",
        "  <tbody>\n",
        "    <tr>\n",
        "      <th>0</th>\n",
        "      <td>         site</td>\n",
        "      <td>                                Site</td>\n",
        "      <td> General</td>\n",
        "      <td> 0</td>\n",
        "      <td> NaN</td>\n",
        "    </tr>\n",
        "    <tr>\n",
        "      <th>1</th>\n",
        "      <td>        newid</td>\n",
        "      <td>                            Study ID</td>\n",
        "      <td> General</td>\n",
        "      <td> 0</td>\n",
        "      <td> NaN</td>\n",
        "    </tr>\n",
        "    <tr>\n",
        "      <th>2</th>\n",
        "      <td> gs_diagnosis</td>\n",
        "      <td>        Gold Standard Diagnosis Code</td>\n",
        "      <td> General</td>\n",
        "      <td> 0</td>\n",
        "      <td> NaN</td>\n",
        "    </tr>\n",
        "    <tr>\n",
        "      <th>3</th>\n",
        "      <td> gs_comorbid1</td>\n",
        "      <td> Gold Standard Comorbid Conditions 1</td>\n",
        "      <td> General</td>\n",
        "      <td> 0</td>\n",
        "      <td> NaN</td>\n",
        "    </tr>\n",
        "    <tr>\n",
        "      <th>4</th>\n",
        "      <td> gs_comorbid2</td>\n",
        "      <td> Gold Standard Comorbid Conditions 2</td>\n",
        "      <td> General</td>\n",
        "      <td> 0</td>\n",
        "      <td> NaN</td>\n",
        "    </tr>\n",
        "  </tbody>\n",
        "</table>\n",
        "</div>"
       ],
       "metadata": {},
       "output_type": "pyout",
       "prompt_number": 16,
       "text": [
        "       variable                             question   module  \\\n",
        "0          site                                 Site  General   \n",
        "1         newid                             Study ID  General   \n",
        "2  gs_diagnosis         Gold Standard Diagnosis Code  General   \n",
        "3  gs_comorbid1  Gold Standard Comorbid Conditions 1  General   \n",
        "4  gs_comorbid2  Gold Standard Comorbid Conditions 2  General   \n",
        "\n",
        "   health_care_experience coding  \n",
        "0                       0    NaN  \n",
        "1                       0    NaN  \n",
        "2                       0    NaN  \n",
        "3                       0    NaN  \n",
        "4                       0    NaN  "
       ]
      }
     ],
     "prompt_number": 16
    },
    {
     "cell_type": "code",
     "collapsed": false,
     "input": [
      "# hint: look here\n",
      "print cb[cb.question.str.contains(\"have a fever\")]"
     ],
     "language": "python",
     "metadata": {},
     "outputs": [
      {
       "output_type": "stream",
       "stream": "stdout",
       "text": [
        "     variable                                           question module  \\\n",
        "79      a2_02                           Did [name] have a fever?  Adult   \n",
        "1107    c4_01  During the illness that led to death, did [nam...  Child   \n",
        "\n",
        "      health_care_experience  \\\n",
        "79                         0   \n",
        "1107                       0   \n",
        "\n",
        "                                                 coding  \n",
        "79    0 \"No\" 1 \"Yes\" 8 \"Refused to Answer\" 9 \"Don't ...  \n",
        "1107  0 \"No\" 1 \"Yes\" 8 \"Refused to Answer\" 9 \"Don't ...  \n"
       ]
      }
     ],
     "prompt_number": 105
    },
    {
     "cell_type": "code",
     "collapsed": false,
     "input": [
      "var = 'a2_02' # for adult\n",
      "print var"
     ],
     "language": "python",
     "metadata": {},
     "outputs": [
      {
       "output_type": "stream",
       "stream": "stdout",
       "text": [
        "a2_02\n"
       ]
      }
     ],
     "prompt_number": 106
    },
    {
     "cell_type": "markdown",
     "metadata": {},
     "source": [
      "The \"endorsement rate\" for a sign or symptom of disease is the fraction of verbal autopsy interviews where the respondent answered \"Yes\" to the question about that sign/symptom."
     ]
    },
    {
     "cell_type": "heading",
     "level": 1,
     "metadata": {},
     "source": [
      "Find the cause with the highest endorsement rate for the symptom \"fever\" among Adult deaths"
     ]
    },
    {
     "cell_type": "code",
     "collapsed": false,
     "input": [
      "# create a new column with 0/1 values instead of Yes/No/Don't Know/Refused to Answer\n",
      "a = (df[var] == 'Yes')\n",
      "df['have a fever'] = a\n",
      "print df['have a fever']"
     ],
     "language": "python",
     "metadata": {},
     "outputs": [
      {
       "output_type": "stream",
       "stream": "stdout",
       "text": [
        "0      True\n",
        "1      True\n",
        "2      True\n",
        "3     False\n",
        "4     False\n",
        "5     False\n",
        "6     False\n",
        "7      True\n",
        "8     False\n",
        "9     False\n",
        "10     True\n",
        "11    False\n",
        "12    False\n",
        "13     True\n",
        "14    False\n",
        "...\n",
        "7826    False\n",
        "7827     True\n",
        "7828     True\n",
        "7829    False\n",
        "7830    False\n",
        "7831     True\n",
        "7832     True\n",
        "7833     True\n",
        "7834    False\n",
        "7835    False\n",
        "7836     True\n",
        "7837    False\n",
        "7838    False\n",
        "7839    False\n",
        "7840    False\n",
        "Name: have a fever, Length: 7841, dtype: bool\n"
       ]
      }
     ],
     "prompt_number": 107
    },
    {
     "cell_type": "code",
     "collapsed": false,
     "input": [
      "# use groupby like we did in class\\n\",\n",
      "(df.groupby('gs_text34').fever.mean()).order().tail(1)"
     ],
     "language": "python",
     "metadata": {},
     "outputs": [
      {
       "metadata": {},
       "output_type": "pyout",
       "prompt_number": 43,
       "text": [
        "gs_text34\n",
        "Malaria      0.86\n",
        "Name: fever, dtype: float64"
       ]
      }
     ],
     "prompt_number": 43
    },
    {
     "cell_type": "heading",
     "level": 1,
     "metadata": {},
     "source": [
      "Display the cause-specific endorsement rates visually"
     ]
    },
    {
     "cell_type": "code",
     "collapsed": false,
     "input": [
      "import matplotlib.pyplot as plt\n",
      "%matplotlib inline\n",
      "# do some plotting like we did in class\n",
      "(100 * df.groupby('gs_text34').fever.mean()).order().plot(kind='barh', figsize=(12,8))"
     ],
     "language": "python",
     "metadata": {},
     "outputs": [
      {
       "metadata": {},
       "output_type": "pyout",
       "prompt_number": 108,
       "text": [
        "<matplotlib.axes._subplots.AxesSubplot at 0x112d0f410>"
       ]
      },
      {
       "metadata": {},
       "output_type": "display_data",
       "png": "[encoded data removed]",
       "text": [
        "<matplotlib.figure.Figure at 0x112a57090>"
       ]
      }
     ],
     "prompt_number": 108
    },
    {
     "cell_type": "heading",
     "level": 1,
     "metadata": {},
     "source": [
      "Find the question that asks if the deceased had AIDS"
     ]
    },
    {
     "cell_type": "code",
     "collapsed": false,
     "input": [
      "cb[cb.question.str.contains(\"AIDS\")]"
     ],
     "language": "python",
     "metadata": {},
     "outputs": [
      {
       "html": [
        "<div style=\"max-height:1000px;max-width:1500px;overflow:auto;\">\n",
        "<table border=\"1\" class=\"dataframe\">\n",
        "  <thead>\n",
        "    <tr style=\"text-align: right;\">\n",
        "      <th></th>\n",
        "      <th>variable</th>\n",
        "      <th>question</th>\n",
        "      <th>module</th>\n",
        "      <th>health_care_experience</th>\n",
        "      <th>coding</th>\n",
        "    </tr>\n",
        "  </thead>\n",
        "  <tbody>\n",
        "    <tr>\n",
        "      <th>76  </th>\n",
        "      <td> a1_01_14</td>\n",
        "      <td>                           Did Decedent Have AIDS?</td>\n",
        "      <td> Adult</td>\n",
        "      <td> 1</td>\n",
        "      <td> 0 \"No\" 1 \"Yes\" 8 \"Refused to Answer\" 9 \"Don't ...</td>\n",
        "    </tr>\n",
        "    <tr>\n",
        "      <th>1215</th>\n",
        "      <td>    c5_19</td>\n",
        "      <td> Has the deceased's (biological) mother ever be...</td>\n",
        "      <td> Child</td>\n",
        "      <td> 0</td>\n",
        "      <td> 0 \"No\" 1 \"Yes\" 8 \"Refused to Answer\" 9 \"Don't ...</td>\n",
        "    </tr>\n",
        "  </tbody>\n",
        "</table>\n",
        "</div>"
       ],
       "metadata": {},
       "output_type": "pyout",
       "prompt_number": 109,
       "text": [
        "      variable                                           question module  \\\n",
        "76    a1_01_14                            Did Decedent Have AIDS?  Adult   \n",
        "1215     c5_19  Has the deceased's (biological) mother ever be...  Child   \n",
        "\n",
        "      health_care_experience  \\\n",
        "76                         1   \n",
        "1215                       0   \n",
        "\n",
        "                                                 coding  \n",
        "76    0 \"No\" 1 \"Yes\" 8 \"Refused to Answer\" 9 \"Don't ...  \n",
        "1215  0 \"No\" 1 \"Yes\" 8 \"Refused to Answer\" 9 \"Don't ...  "
       ]
      }
     ],
     "prompt_number": 109
    },
    {
     "cell_type": "heading",
     "level": 1,
     "metadata": {},
     "source": [
      "Make a 2x2 table showing the number of adult deceased with and without this question endorsed for decedents with underlying cause AIDS and not AIDS"
     ]
    },
    {
     "cell_type": "code",
     "collapsed": false,
     "input": [
      "# could be good to start by making some numeric columns like above\n",
      "df['endorsed'] = (df['a1_01_14'] == 'Yes')\n",
      "print df['endorsed']"
     ],
     "language": "python",
     "metadata": {},
     "outputs": [
      {
       "output_type": "stream",
       "stream": "stdout",
       "text": [
        "0     False\n",
        "1     False\n",
        "2     False\n",
        "3     False\n",
        "4     False\n",
        "5     False\n",
        "6     False\n",
        "7     False\n",
        "8     False\n",
        "9     False\n",
        "10    False\n",
        "11    False\n",
        "12    False\n",
        "13    False\n",
        "14    False\n",
        "...\n",
        "7826    False\n",
        "7827    False\n",
        "7828    False\n",
        "7829    False\n",
        "7830    False\n",
        "7831    False\n",
        "7832    False\n",
        "7833     True\n",
        "7834    False\n",
        "7835    False\n",
        "7836    False\n",
        "7837    False\n",
        "7838    False\n",
        "7839    False\n",
        "7840    False\n",
        "Name: endorsed, Length: 7841, dtype: bool\n"
       ]
      }
     ],
     "prompt_number": 110
    },
    {
     "cell_type": "code",
     "collapsed": false,
     "input": [
      "df['caused'] = (df['gs_text34'] == 'AIDS')\n",
      "print df['caused']"
     ],
     "language": "python",
     "metadata": {},
     "outputs": [
      {
       "output_type": "stream",
       "stream": "stdout",
       "text": [
        "0     False\n",
        "1     False\n",
        "2     False\n",
        "3     False\n",
        "4     False\n",
        "5     False\n",
        "6     False\n",
        "7      True\n",
        "8     False\n",
        "9     False\n",
        "10    False\n",
        "11    False\n",
        "12    False\n",
        "13    False\n",
        "14    False\n",
        "...\n",
        "7826    False\n",
        "7827    False\n",
        "7828    False\n",
        "7829    False\n",
        "7830    False\n",
        "7831    False\n",
        "7832    False\n",
        "7833     True\n",
        "7834    False\n",
        "7835    False\n",
        "7836    False\n",
        "7837    False\n",
        "7838    False\n",
        "7839    False\n",
        "7840    False\n",
        "Name: caused, Length: 7841, dtype: bool\n"
       ]
      }
     ],
     "prompt_number": 111
    },
    {
     "cell_type": "code",
     "collapsed": false,
     "input": [
      "df.groupby(['endorsed', 'caused']).size().unstack()"
     ],
     "language": "python",
     "metadata": {},
     "outputs": [
      {
       "html": [
        "<div style=\"max-height:1000px;max-width:1500px;overflow:auto;\">\n",
        "<table border=\"1\" class=\"dataframe\">\n",
        "  <thead>\n",
        "    <tr style=\"text-align: right;\">\n",
        "      <th>caused</th>\n",
        "      <th>False</th>\n",
        "      <th>True</th>\n",
        "    </tr>\n",
        "    <tr>\n",
        "      <th>endorsed</th>\n",
        "      <th></th>\n",
        "      <th></th>\n",
        "    </tr>\n",
        "  </thead>\n",
        "  <tbody>\n",
        "    <tr>\n",
        "      <th>False</th>\n",
        "      <td> 7204</td>\n",
        "      <td> 194</td>\n",
        "    </tr>\n",
        "    <tr>\n",
        "      <th>True </th>\n",
        "      <td>  135</td>\n",
        "      <td> 308</td>\n",
        "    </tr>\n",
        "  </tbody>\n",
        "</table>\n",
        "</div>"
       ],
       "metadata": {},
       "output_type": "pyout",
       "prompt_number": 112,
       "text": [
        "caused    False  True \n",
        "endorsed              \n",
        "False      7204    194\n",
        "True        135    308"
       ]
      }
     ],
     "prompt_number": 112
    },
    {
     "cell_type": "heading",
     "level": 1,
     "metadata": {},
     "source": [
      "Compare this 2x2 table across study sites"
     ]
    },
    {
     "cell_type": "code",
     "collapsed": false,
     "input": [
      "# note: there are lots of ways to do this\n",
      "# try to find one that is so simple, you will understand it next time you look\n"
     ],
     "language": "python",
     "metadata": {},
     "outputs": [],
     "prompt_number": 113
    },
    {
     "cell_type": "code",
     "collapsed": false,
     "input": [
      "import numpy as np\n",
      "for site in np.unique(df.site):\n",
      "    spot = df[df.site == site]\n",
      "    sample = spot.groupby(['endorsed', 'caused']).size().unstack()\n",
      "    print site\n",
      "    print sample\n",
      "    print('\\n')"
     ],
     "language": "python",
     "metadata": {},
     "outputs": [
      {
       "output_type": "stream",
       "stream": "stdout",
       "text": [
        "AP\n",
        "caused    False  True \n",
        "endorsed              \n",
        "False      1404     75\n",
        "True         14     61\n",
        "\n",
        "\n",
        "Bohol\n",
        "caused    False\n",
        "endorsed       \n",
        "False      1259\n",
        "\n",
        "\n",
        "Dar\n",
        "caused    False  True \n",
        "endorsed              \n",
        "False      1414     88\n",
        "True        109    115\n",
        "\n",
        "\n",
        "Mexico\n",
        "caused    False  True \n",
        "endorsed              \n",
        "False      1460     29\n",
        "True          6     91\n",
        "\n",
        "\n",
        "Pemba"
       ]
      },
      {
       "output_type": "stream",
       "stream": "stdout",
       "text": [
        "\n",
        "caused    False\n",
        "endorsed       \n",
        "False       294\n",
        "True          3\n",
        "\n",
        "\n",
        "UP\n",
        "caused    False  True \n",
        "endorsed              \n",
        "False      1373      2\n",
        "True          3     41\n",
        "\n",
        "\n"
       ]
      }
     ],
     "prompt_number": 114
    },
    {
     "cell_type": "heading",
     "level": 1,
     "metadata": {},
     "source": [
      "Now do a series of 2x2 tables comparing the percent of deaths truely due to AIDS for which \"Had AIDS\" question was endorsed"
     ]
    },
    {
     "cell_type": "code",
     "collapsed": false,
     "input": [
      "# some interesting differences. if you want to know why, you might be a social scientist..."
     ],
     "language": "python",
     "metadata": {},
     "outputs": [],
     "prompt_number": 115
    },
    {
     "cell_type": "code",
     "collapsed": false,
     "input": [
      "for site in np.unique(df.site):\n",
      "    spot = df[df.site==site]\n",
      "    sample = pd.DataFrame({'endorsed': [(~spot.caused & ~spot.endorsed).sum()/float((~spot.caused).sum()),(spot.caused & ~spot.endorsed).sum()/float((spot.caused).sum())],\n",
      "    'caused'   : [(~spot.caused &  spot.endorsed).sum()/float((~spot.caused).sum()),(spot.caused &  spot.endorsed).sum()/float((spot.caused).sum())]})\n",
      "    print site, sample\n",
      "    if spot.caused.any(): \n",
      "        print 'In {}, {:4.1f}% of the died AIDS were reported to have AIDS.\\n'.format(site,(spot.caused & spot.endorsed).sum()/float(spot.caused.sum())*100),\n",
      "    else:                \n",
      "        print 'In {}, no died AIDS.'.format(site)    \n",
      "    print('\\n')"
     ],
     "language": "python",
     "metadata": {},
     "outputs": [
      {
       "output_type": "stream",
       "stream": "stdout",
       "text": [
        "AP      caused  endorsed\n",
        "0  0.009873  0.990127\n",
        "1  0.448529  0.551471\n",
        "In AP, 44.9% of the died AIDS were reported to have AIDS.\n",
        "\n",
        "\n",
        "Bohol    caused  endorsed\n",
        "0       0         1\n",
        "1     NaN       NaN\n",
        "In Bohol, no died AIDS.\n",
        "\n",
        "\n",
        "Dar      caused  endorsed\n",
        "0  0.071569  0.928431\n",
        "1  0.566502  0.433498\n",
        "In Dar, 56.7% of the died AIDS were reported to have AIDS.\n",
        "\n",
        "\n",
        "Mexico      caused  endorsed\n",
        "0  0.004093  0.995907\n",
        "1  0.758333  0.241667"
       ]
      },
      {
       "output_type": "stream",
       "stream": "stdout",
       "text": [
        "\n",
        "In Mexico, 75.8% of the died AIDS were reported to have AIDS.\n",
        "\n",
        "\n",
        "Pemba      caused  endorsed\n",
        "0  0.010101  0.989899\n",
        "1       NaN       NaN\n",
        "In Pemba, no died AIDS.\n",
        "\n",
        "\n",
        "UP      caused  endorsed\n",
        "0  0.002180  0.997820\n",
        "1  0.953488  0.046512\n",
        "In UP, 95.3% of the died AIDS were reported to have AIDS.\n",
        "\n",
        "\n"
       ]
      }
     ],
     "prompt_number": 122
    },
    {
     "cell_type": "code",
     "collapsed": false,
     "input": [
      "\n",
      "    "
     ],
     "language": "python",
     "metadata": {},
     "outputs": [],
     "prompt_number": 121
    },
    {
     "cell_type": "code",
     "collapsed": false,
     "input": [],
     "language": "python",
     "metadata": {},
     "outputs": [],
     "prompt_number": 117
    },
    {
     "cell_type": "code",
     "collapsed": false,
     "input": [],
     "language": "python",
     "metadata": {},
     "outputs": []
    }
   ],
   "metadata": {}
  }
 ]
}