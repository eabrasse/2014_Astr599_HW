{
 "metadata": {
  "name": "",
  "signature": "sha256:da370a79601ebb53a426669f09cd115e2eb3eaf4b095fb8f7030886698f97e67"
 },
 "nbformat": 3,
 "nbformat_minor": 0,
 "worksheets": [
  {
   "cells": [
    {
     "cell_type": "markdown",
     "metadata": {},
     "source": [
      "ASSIGNMENT2: AN INTEGRATOR PARENT:\n",
      "\n",
      "1 Create a function func for the function f(x)=sin(x).\n",
      "\n",
      "2 A template of the parent class integrator is provided. This class will have all the common functionality to integrate a function f in the interval [a,b]. However, the method of integration is not yet provided nor the integration function. Read carefully the template, note the method of integration is not defined"
     ]
    },
    {
     "cell_type": "code",
     "collapsed": false,
     "input": [
      "%matplotlib inline\n",
      "import matplotlib.pyplot as plt\n",
      "import numpy as np\n",
      "\n",
      "def func(x):\n",
      "    return np.sin(x)"
     ],
     "language": "python",
     "metadata": {},
     "outputs": [],
     "prompt_number": 1
    },
    {
     "cell_type": "code",
     "collapsed": false,
     "input": [
      "class Integrator(object):\n",
      "    def __init__(self, a, b, n):\n",
      "        self.a, self.b, self.n = a, b, n\n",
      "        self.points, self.weights = self.method()\n",
      "    \n",
      "    def method(self):\n",
      "        raise NotImplementedError('no rule in class %s' %self.__class__.__name__)\n",
      "        \n",
      "    def integrate(self, func):\n",
      "        integral = np.dot(self.weights, func(self.points))\n",
      "        return integral\n",
      "     "
     ],
     "language": "python",
     "metadata": {},
     "outputs": [],
     "prompt_number": 2
    },
    {
     "cell_type": "markdown",
     "metadata": {},
     "source": [
      "3 Add an additional function called <b> integrate(self,func) </b> inside the class Integrator, which calculates the integral from the weigths $w_i$: <b>self.weights</b> at different points x_i:<b>self.points</b>. Note this should be arrays. The integral is calculated as\n",
      "\n",
      "$$\n",
      "\\int_a^b f(x) dx = \\sum_{i=0}^{n-1} w_i f(x_i)\n",
      "$$\n",
      "\n",
      "4 Create a child class of Integrator called <b> Trapezoidal</b>, where you define a function called <b>method(self)</b>.\n",
      "This function should return two arrays: <b> x </b> and <b> w </b> corresponding to the points and their current weights.This should be the values correponding to the trapezoidal rule for integration. If you are not familiar with it, you can look for it online\n",
      "\n",
      "5 Create a child class of Integrator called <b> Midpoint</b>. It should do the same as <b> Trapezoidal</b> but employing the midpoint method for numerical integration.\n",
      "\n",
      "6 Create a separate function of x that plots\n",
      "$\n",
      "\\int_0^x sin(x) dx = 1 - cos(x),\n",
      "$\n",
      "using any of the two methods you developed."
     ]
    },
    {
     "cell_type": "code",
     "collapsed": false,
     "input": [
      "class Trapezoidal(Integrator):\n",
      "    \n",
      "    def __init__(self,*args):\n",
      "        super(Trapezoidal, self).__init__(*args)\n",
      "        \n",
      "    def method(self):\n",
      "        points = np.linspace(self.a,self.b,self.n)\n",
      "        interval = (self.b - self.a)/self.n\n",
      "        tmp = np.ones(self.n) * 2\n",
      "        tmp[0] = 0.5 * tmp[0]\n",
      "        tmp[-1] = 0.5 * tmp[-1]\n",
      "        weights = tmp * interval/2\n",
      "        return points, weights"
     ],
     "language": "python",
     "metadata": {},
     "outputs": [],
     "prompt_number": 3
    },
    {
     "cell_type": "code",
     "collapsed": false,
     "input": [
      "tmp = Trapezoidal(0,2*np.pi,1000000).integrate(func)\n",
      "tmp"
     ],
     "language": "python",
     "metadata": {},
     "outputs": [
      {
       "metadata": {},
       "output_type": "pyout",
       "prompt_number": 4,
       "text": [
        "-2.9834078780519952e-16"
       ]
      }
     ],
     "prompt_number": 4
    },
    {
     "cell_type": "code",
     "collapsed": false,
     "input": [
      "class Midpoint(Integrator):\n",
      "    \n",
      "    def __init__(self,*args):\n",
      "        super(Midpoint, self).__init__(*args)\n",
      "        \n",
      "    def method(self):\n",
      "        tmp = np.linspace(self.a,self.b,self.n * 2 - 1)\n",
      "        points = tmp[1::2]\n",
      "        interval = (self.b - self.a)/self.n\n",
      "        weights = np.ones(self.n - 1) * interval\n",
      "        return points, weights"
     ],
     "language": "python",
     "metadata": {},
     "outputs": [],
     "prompt_number": 5
    },
    {
     "cell_type": "code",
     "collapsed": false,
     "input": [
      "tmp = Midpoint(0,2*np.pi,1000000).integrate(func)\n",
      "tmp"
     ],
     "language": "python",
     "metadata": {},
     "outputs": [
      {
       "metadata": {},
       "output_type": "pyout",
       "prompt_number": 6,
       "text": [
        "-1.1664549175043823e-16"
       ]
      }
     ],
     "prompt_number": 6
    },
    {
     "cell_type": "code",
     "collapsed": false,
     "input": [
      "def intPlot(x, flag):\n",
      "    x = np.linspace(0, x, 10000)\n",
      "    fig = plt.figure()\n",
      "\n",
      "    # flag = 0 for Trapezoidal, else for Midpoint\n",
      "    if flag == 0:\n",
      "         intFunc1 = map(lambda x: Trapezoidal(0,x,10000).integrate(func),x)\n",
      "    else:\n",
      "         intFunc1 = map(lambda x: Midpoint(0,x,10000).integrate(func),x)\n",
      "    \n",
      "    intFunc2 = 1 - np.cos(x)\n",
      "\n",
      "    ax1 = fig.add_subplot(2, 1, 1)\n",
      "    ax1.plot(x,intFunc1)\n",
      "\n",
      "    ax2 = fig.add_subplot(2, 1, 2)\n",
      "    ax2.plot(x,intFunc2)"
     ],
     "language": "python",
     "metadata": {},
     "outputs": [],
     "prompt_number": 20
    },
    {
     "cell_type": "code",
     "collapsed": false,
     "input": [
      "intPlot(np.pi,0)"
     ],
     "language": "python",
     "metadata": {},
     "outputs": [
      {
       "metadata": {},
       "output_type": "display_data",
       "png": "[encoded data removed]",
       "text": [
        "<matplotlib.figure.Figure at 0x10a407150>"
       ]
      }
     ],
     "prompt_number": 21
    }
   ],
   "metadata": {}
  }
 ]
}