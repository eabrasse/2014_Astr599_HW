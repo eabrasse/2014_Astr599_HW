{
 "metadata": {
  "name": "",
  "signature": "sha256:a51e66edaab8a05b03791bb333327d83f36e16768c749bfb91f312747a5c2a35"
 },
 "nbformat": 3,
 "nbformat_minor": 0,
 "worksheets": [
  {
   "cells": [
    {
     "cell_type": "markdown",
     "metadata": {},
     "source": [
      "## Benjamin Bloss\n",
      "###     Homework #2"
     ]
    },
    {
     "cell_type": "markdown",
     "metadata": {},
     "source": [
      "# 6. ASSIGNMENT: AN INTEGRATOR PARENT\n",
      "1 Create a function <b> func </b> for the function $f(x) = sin(x)$.\n",
      "\n",
      "2 A template of the parent class integrator is provided. This class will have all the common functionality to integrate a function <b> f </b> in the interval <b>[a,b]</b>. However, the method of integration is not yet providednor the integration function. Read carefully the template, note the method of integration is not defined:"
     ]
    },
    {
     "cell_type": "code",
     "collapsed": false,
     "input": [
      "class Integrator:\n",
      "    def __init__(self, a, b, n):\n",
      "        self.a, self.b, self.n = a, b, n\n",
      "        self.points, self.weights = self.method()\n",
      "        \n",
      "    def method(self):\n",
      "        raise NotImplementedError('no rule in class %s' %self.__class__.__name__)"
     ],
     "language": "python",
     "metadata": {},
     "outputs": [],
     "prompt_number": 1
    },
    {
     "cell_type": "markdown",
     "metadata": {},
     "source": [
      " 3 Add an additional function called <b> integrate(self,func) </b> inside the class Integrator, which calculates the integral from the weigths $w_i$: <b>self.weights</b> at different points x_i:<b>self.points</b>. Note this should be arrays. The integral is calculated as\n",
      "\n",
      "$$\n",
      "\\int_a^b f(x) dx = \\sum_{i=0}^{n-1} w_i f(x_i)\n",
      "$$\n",
      "\n",
      "4 Create a child class of Integrator called <b> Trapezoidal</b>, where you define a function called <b>method(self)</b>.\n",
      "This function should return two arrays: <b> x </b> and <b> w </b> corresponding to the points and their current weights.This should be the values correponding to the trapezoidal rule for integration. If you are not familiar with it, you can look for it online\n",
      "\n",
      "5 Create a child class of Integrator called <b> Midpoint</b>. It should do the same as <b> Trapezoidal</b> but employing the midpoint method for numerical integration.\n",
      "\n",
      "6 Create a separate function of x that plots\n",
      "$\n",
      "\\int_0^x sin(x) dx = 1 - cos(x),\n",
      "$\n",
      "using any of the two methods you developed."
     ]
    },
    {
     "cell_type": "markdown",
     "metadata": {},
     "source": [
      "## 1 \n",
      "Create a function <b> func </b> for the function $f(x) = sin(x)$."
     ]
    },
    {
     "cell_type": "code",
     "collapsed": false,
     "input": [
      "import numpy as np\n",
      "from matplotlib import pyplot as plt\n",
      "import matplotlib\n",
      "%matplotlib inline"
     ],
     "language": "python",
     "metadata": {},
     "outputs": [],
     "prompt_number": 2
    },
    {
     "cell_type": "code",
     "collapsed": false,
     "input": [
      "def func(x):\n",
      "    return np.sin(x)"
     ],
     "language": "python",
     "metadata": {},
     "outputs": [],
     "prompt_number": 3
    },
    {
     "cell_type": "markdown",
     "metadata": {},
     "source": [
      "##2 \n",
      "A template of the parent class integrator is provided. This class will have all the common functionality to integrate a function <b> f </b> in the interval <b>[a,b]</b>. However, the method of integration is not yet provided nor the integration function. Read carefully the template, note the method of integration is not defined:"
     ]
    },
    {
     "cell_type": "code",
     "collapsed": false,
     "input": [
      "class Integrator(object):\n",
      "    def __init__(self, a, b, n):\n",
      "        self.a, self.b, self.n = a, b, n\n",
      "        self.points, self.weights = self.method()\n",
      "        return np.sum\n",
      "    def integrate(self,func):\n",
      "        return(np.sum(self.weights*func(self.points)))\n",
      "        pass\n",
      "        \n",
      "    def method(self):\n",
      "        raise NotImplementedError('no rule in class %s' %self.__class__.__name__)"
     ],
     "language": "python",
     "metadata": {},
     "outputs": [],
     "prompt_number": 4
    },
    {
     "cell_type": "markdown",
     "metadata": {},
     "source": [
      "4 Create a child class of Integrator called <b> Trapezoidal</b>, where you define a function called <b>method(self)</b>.\n",
      "This function should return two arrays: <b> x </b> and <b> w </b> corresponding to the points and their current weights.This should be the values correponding to the trapezoidal rule for integration. If you are not familiar with it, you can look for it online"
     ]
    },
    {
     "cell_type": "code",
     "collapsed": false,
     "input": [
      "class Trapezoidal(Integrator):\n",
      "    def __init__(self,*args):\n",
      "        super(Trapezoidal, self).__init__(*args)\n",
      "    \n",
      "    def method(self):\n",
      "        x=np.linspace(self.a,self.b,self.n)\n",
      "        w=(self.b-self.a)/self.n*np.ones_like(x)\n",
      "        w[0]=0.5*w[0]\n",
      "        w[-1]=0.5*w[-1]\n",
      "        return(x,w)"
     ],
     "language": "python",
     "metadata": {},
     "outputs": [],
     "prompt_number": 5
    },
    {
     "cell_type": "markdown",
     "metadata": {},
     "source": [
      "5 Create a child class of Integrator called <b> Midpoint</b>. It should do the same as <b> Trapezoidal</b> but employing the midpoint method for numerical integration."
     ]
    },
    {
     "cell_type": "code",
     "collapsed": false,
     "input": [
      "a=Trapezoidal(0,1*np.pi,1e7)\n",
      "#Should be about 2\n",
      "a.integrate(func)"
     ],
     "language": "python",
     "metadata": {},
     "outputs": [
      {
       "metadata": {},
       "output_type": "pyout",
       "prompt_number": 6,
       "text": [
        "1.9999997999998931"
       ]
      }
     ],
     "prompt_number": 6
    },
    {
     "cell_type": "code",
     "collapsed": false,
     "input": [
      "class Midpoint(Integrator):\n",
      "    def __init__(self,*args):\n",
      "        super(Midpoint, self).__init__(*args)\n",
      "    \n",
      "    def method(self):\n",
      "        end_pts=np.linspace(self.a,self.b,self.n)\n",
      "        x=end_pts+((self.b-self.a)/(2*self.n))\n",
      "        w=(self.b-self.a)/self.n*np.ones_like(x)\n",
      "        return(x,w)"
     ],
     "language": "python",
     "metadata": {},
     "outputs": [],
     "prompt_number": 7
    },
    {
     "cell_type": "code",
     "collapsed": false,
     "input": [
      "a=Midpoint(0,1*np.pi,1e7)\n",
      "#Should also be about 2\n",
      "a.integrate(func)"
     ],
     "language": "python",
     "metadata": {},
     "outputs": [
      {
       "metadata": {},
       "output_type": "pyout",
       "prompt_number": 8,
       "text": [
        "1.9999997999998436"
       ]
      }
     ],
     "prompt_number": 8
    },
    {
     "cell_type": "markdown",
     "metadata": {},
     "source": [
      "6 Create a separate function of x that plots\n",
      "$\n",
      "\\int_0^x sin(x) dx = 1 - cos(x),\n",
      "$\n",
      "using any of the two methods you developed."
     ]
    },
    {
     "cell_type": "code",
     "collapsed": false,
     "input": [
      "def demo_plot(lim_a=0,lim_b=2*np.pi,n=1e4):\n",
      "    x=np.linspace(lim_a,lim_b,n)\n",
      "    fig = plt.figure()\n",
      "\n",
      "    ax1 = fig.add_subplot(2, 1, 1)\n",
      "    ax1.set_autoscaley_on(False)\n",
      "    ax1.set_ylim([np.min(1-np.cos(x))-0.5,np.max(1-np.cos(x))+0.5])\n",
      "    ax1.set_autoscalex_on(False)\n",
      "    ax1.set_xlim([lim_a,lim_b])\n",
      "    ax1.plot(x, (1-np.cos(x)))\n",
      "    ax1.set_title(r'$1-\\cos ( x )$')\n",
      "\n",
      "    ax2 = fig.add_subplot(2, 1, 2)\n",
      "    y=map(lambda x: Midpoint(lim_a,x,n).integrate(func),x)\n",
      "    ax2.set_autoscaley_on(False)\n",
      "    ax2.set_ylim([np.min(y)-0.5,np.max(y)+0.5])\n",
      "    ax2.set_autoscalex_on(False)\n",
      "    ax2.set_xlim([lim_a,lim_b])\n",
      "    ax2.plot(x, y)\n",
      "    ax2.set_xlabel(r'$\\int_0^x\\, \\sin ( x ) dx$');\n",
      "\n",
      "demo_plot()"
     ],
     "language": "python",
     "metadata": {},
     "outputs": [
      {
       "metadata": {},
       "output_type": "display_data",
       "png": "[encoded data removed]",
       "text": [
        "<matplotlib.figure.Figure at 0xd3d4af0>"
       ]
      }
     ],
     "prompt_number": 19
    },
    {
     "cell_type": "code",
     "collapsed": false,
     "input": [
      "demo_plot(-1*np.pi,np.pi,1e3)"
     ],
     "language": "python",
     "metadata": {},
     "outputs": [
      {
       "metadata": {},
       "output_type": "display_data",
       "png": "[encoded data removed]",
       "text": [
        "<matplotlib.figure.Figure at 0xcfb21b0>"
       ]
      }
     ],
     "prompt_number": 20
    },
    {
     "cell_type": "markdown",
     "metadata": {},
     "source": [
      "### End HW"
     ]
    }
   ],
   "metadata": {}
  }
 ]
}