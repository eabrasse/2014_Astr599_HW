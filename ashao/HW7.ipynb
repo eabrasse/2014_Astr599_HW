{
 "metadata": {
  "name": "",
  "signature": "sha256:1bfb2f67ecd9a9cb31fab1a99d8f032603a931fec7011b88e780cea9a903e9db"
 },
 "nbformat": 3,
 "nbformat_minor": 0,
 "worksheets": [
  {
   "cells": [
    {
     "cell_type": "heading",
     "level": 1,
     "metadata": {},
     "source": [
      "Exercise 1"
     ]
    },
    {
     "cell_type": "code",
     "collapsed": false,
     "input": [
      "from astroML.datasets import fetch_rrlyrae_combined\n",
      "from sklearn.cross_validation import train_test_split\n",
      "\n",
      "X, y = fetch_rrlyrae_combined()\n",
      "\n",
      "# For now, we'll only fit the first two colors\n",
      "X_train, X_test, y_train, y_test = train_test_split(X, y)"
     ],
     "language": "python",
     "metadata": {},
     "outputs": [],
     "prompt_number": 7
    },
    {
     "cell_type": "code",
     "collapsed": false,
     "input": [
      "from sklearn.neighbors import KNeighborsClassifier\n",
      "clf = KNeighborsClassifier(n_neighbors=5)\n",
      "clf.fit(X_train, y_train)\n",
      "y_pred = clf.predict(X_test)\n",
      "from sklearn.metrics import classification_report\n",
      "print(classification_report(y_test, y_pred,\n",
      "                            target_names=['MS star', 'RR Lyrae']))\n"
     ],
     "language": "python",
     "metadata": {},
     "outputs": [
      {
       "output_type": "stream",
       "stream": "stdout",
       "text": [
        "             precision    recall  f1-score   support\n",
        "\n",
        "    MS star       1.00      1.00      1.00     23159\n",
        "   RR Lyrae       0.68      0.57      0.62       127\n",
        "\n",
        "avg / total       1.00      1.00      1.00     23286\n",
        "\n"
       ]
      }
     ],
     "prompt_number": 8
    },
    {
     "cell_type": "code",
     "collapsed": false,
     "input": [
      "# function wrapper to simplify evaluation of methods\n",
      "def evaluate_method(X_train, y_train, method,**kwargs):\n",
      "    clf = method(**kwargs)\n",
      "    clf.fit(X_train,y_train)\n",
      "    y_pred = clf.predict(X_test)\n",
      "    print(classification_report(y_test, y_pred,\n",
      "                            target_names=['MS star', 'RR Lyrae']))\n",
      "    return"
     ],
     "language": "python",
     "metadata": {},
     "outputs": [],
     "prompt_number": 30
    },
    {
     "cell_type": "heading",
     "level": 1,
     "metadata": {},
     "source": [
      "Gaussian Naive Bayesian Method"
     ]
    },
    {
     "cell_type": "code",
     "collapsed": false,
     "input": [
      "# Using Gaussian Naive Bayesian Method \n",
      "from sklearn.naive_bayes import GaussianNB\n",
      "evaluate_method(X_train, y_train, GaussianNB)"
     ],
     "language": "python",
     "metadata": {},
     "outputs": [
      {
       "output_type": "stream",
       "stream": "stdout",
       "text": [
        "             precision    recall  f1-score   support\n",
        "\n",
        "    MS star       1.00      0.98      0.99     23159\n",
        "   RR Lyrae       0.19      0.92      0.32       127\n",
        "\n",
        "avg / total       1.00      0.98      0.99     23286\n",
        "\n"
       ]
      }
     ],
     "prompt_number": 23
    },
    {
     "cell_type": "heading",
     "level": 1,
     "metadata": {},
     "source": [
      "Linear Discriminant Analaysis"
     ]
    },
    {
     "cell_type": "code",
     "collapsed": false,
     "input": [
      "from sklearn.lda import LDA\n",
      "evaluate_method(X_train,y_train,LDA)"
     ],
     "language": "python",
     "metadata": {},
     "outputs": [
      {
       "output_type": "stream",
       "stream": "stdout",
       "text": [
        "             precision    recall  f1-score   support\n",
        "\n",
        "    MS star       1.00      0.98      0.99     23159\n",
        "   RR Lyrae       0.18      0.74      0.29       127\n",
        "\n",
        "avg / total       0.99      0.98      0.99     23286\n",
        "\n"
       ]
      }
     ],
     "prompt_number": 14
    },
    {
     "cell_type": "heading",
     "level": 2,
     "metadata": {},
     "source": [
      "C-Support Vector Classification\n",
      "\n",
      "(Default kernel is 'rbf')"
     ]
    },
    {
     "cell_type": "code",
     "collapsed": false,
     "input": [],
     "language": "python",
     "metadata": {},
     "outputs": []
    },
    {
     "cell_type": "code",
     "collapsed": false,
     "input": [
      "from sklearn.svm import SVC\n",
      "evaluate_method(X_train,y_train,SVC)"
     ],
     "language": "python",
     "metadata": {},
     "outputs": [
      {
       "output_type": "stream",
       "stream": "stdout",
       "text": [
        "             precision    recall  f1-score   support\n",
        "\n",
        "    MS star       0.99      1.00      1.00     23159\n",
        "   RR Lyrae       0.00      0.00      0.00       127\n",
        "\n",
        "avg / total       0.99      0.99      0.99     23286\n",
        "\n"
       ]
      },
      {
       "output_type": "stream",
       "stream": "stderr",
       "text": [
        "/ltraid3/ashao/anaconda/lib/python2.7/site-packages/sklearn/metrics/metrics.py:1771: UndefinedMetricWarning: Precision and F-score are ill-defined and being set to 0.0 in labels with no predicted samples.\n",
        "  'precision', 'predicted', average, warn_for)\n"
       ]
      }
     ],
     "prompt_number": 17
    },
    {
     "cell_type": "heading",
     "level": 2,
     "metadata": {},
     "source": [
      "Random Forest Classifier"
     ]
    },
    {
     "cell_type": "code",
     "collapsed": false,
     "input": [
      "from sklearn.ensemble import RandomForestClassifier\n",
      "evaluate_method(X_train,y_train,RandomForestClassifier,n_jobs=2)"
     ],
     "language": "python",
     "metadata": {},
     "outputs": [
      {
       "output_type": "stream",
       "stream": "stdout",
       "text": [
        "             precision    recall  f1-score   support\n",
        "\n",
        "    MS star       1.00      1.00      1.00     23159\n",
        "   RR Lyrae       0.74      0.51      0.60       127\n",
        "\n",
        "avg / total       1.00      1.00      1.00     23286\n",
        "\n"
       ]
      }
     ],
     "prompt_number": 35
    },
    {
     "cell_type": "heading",
     "level": 2,
     "metadata": {},
     "source": [
      "Results"
     ]
    },
    {
     "cell_type": "markdown",
     "metadata": {},
     "source": [
      "The Random Forest Classifier consistently does a better job of classifying 'RR Lyrae' better than any other method"
     ]
    },
    {
     "cell_type": "heading",
     "level": 1,
     "metadata": {},
     "source": [
      "Exercise 2"
     ]
    },
    {
     "cell_type": "code",
     "collapsed": false,
     "input": [
      "%matplotlib inline\n",
      "import numpy as np\n",
      "import matplotlib.pyplot as plt\n",
      "from astroML.datasets import fetch_sdss_specgals\n",
      "data = fetch_sdss_specgals()\n",
      "\n",
      "# put magnitudes in a matrix\n",
      "X = np.vstack([data['modelMag_%s' % f] for f in 'ugriz']).T\n",
      "y = data['z']\n",
      "\n",
      "# Split into training and testing data\n",
      "X_train, X_test, y_train, y_test = train_test_split(X, y)\n",
      "from sklearn.linear_model import LinearRegression\n",
      "est = LinearRegression()\n",
      "est.fit(X_train, y_train)\n",
      "y_pred = est.predict(X_test)\n",
      "plt.plot(y_test, y_pred, ',k')\n",
      "plt.plot([0, 1], [0, 1], ':k')\n",
      "plt.xlim(0, 0.6)\n",
      "plt.ylim(0, 0.6)\n",
      "rms = np.sqrt(np.mean((y_test - y_pred) ** 2))\n",
      "print(rms)"
     ],
     "language": "python",
     "metadata": {},
     "outputs": [
      {
       "output_type": "stream",
       "stream": "stdout",
       "text": [
        "0.0322283878812\n"
       ]
      },
      {
       "metadata": {},
       "output_type": "display_data",
       "png": "[encoded data removed]",
       "text": [
        "<matplotlib.figure.Figure at 0x2aaae612a950>"
       ]
      }
     ],
     "prompt_number": 38
    },
    {
     "cell_type": "code",
     "collapsed": false,
     "input": [
      "def calc_regress_rms(X_train,X_test,y_train,y_test,method,**kwargs):\n",
      "    est = method(**kwargs)\n",
      "    est.fit(X_train,y_train)\n",
      "    y_pred = est.predict(X_test)\n",
      "    plt.plot(y_test, y_pred, ',k')\n",
      "    plt.plot([0, 1], [0, 1], ':k')\n",
      "    plt.xlim(0, 0.6)\n",
      "    plt.ylim(0, 0.6)\n",
      "    rms = np.sqrt(np.mean((y_test - y_pred) ** 2))\n",
      "    print(rms)"
     ],
     "language": "python",
     "metadata": {},
     "outputs": [],
     "prompt_number": 39
    },
    {
     "cell_type": "code",
     "collapsed": false,
     "input": [
      "from sklearn.neighbors import KNeighborsRegressor\n",
      "calc_regress_rms(X_train,X_test,y_train,y_test,KNeighborsRegressor)"
     ],
     "language": "python",
     "metadata": {},
     "outputs": [
      {
       "output_type": "stream",
       "stream": "stdout",
       "text": [
        "0.0233373\n"
       ]
      },
      {
       "metadata": {},
       "output_type": "display_data",
       "png": "[encoded data removed]",
       "text": [
        "<matplotlib.figure.Figure at 0x2aaae57ed910>"
       ]
      }
     ],
     "prompt_number": 42
    },
    {
     "cell_type": "code",
     "collapsed": false,
     "input": [
      "from sklearn.svm import SVR\n",
      "calc_regress_rms(X_train,X_test,y_train,y_test,SVR)"
     ],
     "language": "python",
     "metadata": {},
     "outputs": [
      {
       "output_type": "stream",
       "stream": "stdout",
       "text": [
        "0.0418353141949\n"
       ]
      },
      {
       "metadata": {},
       "output_type": "display_data",
       "png": "[encoded data removed]",
       "text": [
        "<matplotlib.figure.Figure at 0x2aaae583b310>"
       ]
      }
     ],
     "prompt_number": 43
    },
    {
     "cell_type": "code",
     "collapsed": false,
     "input": [
      "from sklearn.ensemble import RandomForestRegressor\n",
      "calc_regress_rms(X_train,X_test,y_train,y_test,RandomForestRegressor)"
     ],
     "language": "python",
     "metadata": {},
     "outputs": [
      {
       "output_type": "stream",
       "stream": "stdout",
       "text": [
        "0.0228898094524\n"
       ]
      },
      {
       "metadata": {},
       "output_type": "display_data",
       "png": "[encoded data removed]",
       "text": [
        "<matplotlib.figure.Figure at 0x2aaaabb39750>"
       ]
      }
     ],
     "prompt_number": 45
    },
    {
     "cell_type": "code",
     "collapsed": false,
     "input": [
      "from sklearn.ensemble import GradientBoostingRegressor\n",
      "calc_regress_rms(X_train,X_test,y_train,y_test,GradientBoostingRegressor)"
     ],
     "language": "python",
     "metadata": {},
     "outputs": [
      {
       "output_type": "stream",
       "stream": "stdout",
       "text": [
        "0.0284820623362\n"
       ]
      },
      {
       "metadata": {},
       "output_type": "display_data",
       "png": "[encoded data removed]",
       "text": [
        "<matplotlib.figure.Figure at 0x2aab0b51f1d0>"
       ]
      }
     ],
     "prompt_number": 46
    },
    {
     "cell_type": "heading",
     "level": 5,
     "metadata": {},
     "source": [
      "As in Exercise 1, the random forest regressor provides the best results out of the box with an RMS of 0.023"
     ]
    }
   ],
   "metadata": {}
  }
 ]
}