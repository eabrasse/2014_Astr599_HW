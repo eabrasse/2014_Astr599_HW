{
 "metadata": {
  "name": "",
  "signature": "sha256:00e463b295c6efe19ac1bfacbe3d688eb3a7ddebba2de69851cca20fc4c23b2f"
 },
 "nbformat": 3,
 "nbformat_minor": 0,
 "worksheets": [
  {
   "cells": [
    {
     "cell_type": "code",
     "collapsed": false,
     "input": [
      "# Uncomment and run this to install astroML\n",
      "!pip install astroML\n",
      "!pip install astroML_addons"
     ],
     "language": "python",
     "metadata": {},
     "outputs": [
      {
       "output_type": "stream",
       "stream": "stdout",
       "text": [
        "Downloading/unpacking astroML\r\n"
       ]
      },
      {
       "output_type": "stream",
       "stream": "stdout",
       "text": [
        "  Downloading astroML-0.2.tar.gz (239kB): \r",
        "  Downloading astroML-0.2.tar.gz (239kB):   1%  4.1kB\r",
        "  Downloading astroML-0.2.tar.gz (239kB):   3%  8.2kB\r",
        "  Downloading astroML-0.2.tar.gz (239kB):   5%  12kB \r",
        "  Downloading astroML-0.2.tar.gz (239kB):   6%  16kB\r",
        "  Downloading astroML-0.2.tar.gz (239kB):   8%  20kB\r",
        "  Downloading astroML-0.2.tar.gz (239kB):  10%  24kB\r",
        "  Downloading astroML-0.2.tar.gz (239kB):  11%  28kB\r",
        "  Downloading astroML-0.2.tar.gz (239kB):  13%  32kB\r",
        "  Downloading astroML-0.2.tar.gz (239kB):  15%  36kB\r",
        "  Downloading astroML-0.2.tar.gz (239kB):  17%  40kB\r",
        "  Downloading astroML-0.2.tar.gz (239kB):  18%  45kB\r",
        "  Downloading astroML-0.2.tar.gz (239kB):  20%  49kB\r",
        "  Downloading astroML-0.2.tar.gz (239kB):  22%  53kB\r",
        "  Downloading astroML-0.2.tar.gz (239kB):  23%  57kB\r",
        "  Downloading astroML-0.2.tar.gz (239kB):  25%  61kB\r",
        "  Downloading astroML-0.2.tar.gz (239kB):  27%  65kB"
       ]
      },
      {
       "output_type": "stream",
       "stream": "stdout",
       "text": [
        "\r",
        "  Downloading astroML-0.2.tar.gz (239kB):  29%  69kB\r",
        "  Downloading astroML-0.2.tar.gz (239kB):  30%  73kB\r",
        "  Downloading astroML-0.2.tar.gz (239kB):  32%  77kB\r",
        "  Downloading astroML-0.2.tar.gz (239kB):  34%  81kB\r",
        "  Downloading astroML-0.2.tar.gz (239kB):  35%  86kB\r",
        "  Downloading astroML-0.2.tar.gz (239kB):  37%  90kB\r",
        "  Downloading astroML-0.2.tar.gz (239kB):  39%  94kB\r",
        "  Downloading astroML-0.2.tar.gz (239kB):  41%  98kB\r",
        "  Downloading astroML-0.2.tar.gz (239kB):  42%  102kB\r",
        "  Downloading astroML-0.2.tar.gz (239kB):  44%  106kB\r",
        "  Downloading astroML-0.2.tar.gz (239kB):  46%  110kB\r",
        "  Downloading astroML-0.2.tar.gz (239kB):  47%  114kB\r",
        "  Downloading astroML-0.2.tar.gz (239kB):  49%  118kB\r",
        "  Downloading astroML-0.2.tar.gz (239kB):  51%  122kB\r",
        "  Downloading astroML-0.2.tar.gz (239kB):  53%  126kB\r",
        "  Downloading astroML-0.2.tar.gz (239kB):  54%  131kB\r",
        "  Downloading astroML-0.2.tar.gz (239kB):  56%  135kB\r",
        "  Downloading astroML-0.2.tar.gz (239kB):  58%  139kB\r",
        "  Downloading astroML-0.2.tar.gz (239kB):  59%  143kB\r",
        "  Downloading astroML-0.2.tar.gz (239kB):  61%  147kB\r",
        "  Downloading astroML-0.2.tar.gz (239kB):  63%  151kB\r",
        "  Downloading astroML-0.2.tar.gz (239kB):  65%  155kB\r",
        "  Downloading astroML-0.2.tar.gz (239kB):  66%  159kB\r",
        "  Downloading astroML-0.2.tar.gz (239kB):  68%  163kB\r",
        "  Downloading astroML-0.2.tar.gz (239kB):  70%  167kB\r",
        "  Downloading astroML-0.2.tar.gz (239kB):  71%  172kB\r",
        "  Downloading astroML-0.2.tar.gz (239kB):  73%  176kB\r",
        "  Downloading astroML-0.2.tar.gz (239kB):  75%  180kB\r",
        "  Downloading astroML-0.2.tar.gz (239kB):  77%  184kB\r",
        "  Downloading astroML-0.2.tar.gz (239kB):  78%  188kB\r",
        "  Downloading astroML-0.2.tar.gz (239kB):  80%  192kB\r",
        "  Downloading astroML-0.2.tar.gz (239kB):  82%  196kB\r",
        "  Downloading astroML-0.2.tar.gz (239kB):  83%  200kB\r",
        "  Downloading astroML-0.2.tar.gz (239kB):  85%  204kB\r",
        "  Downloading astroML-0.2.tar.gz (239kB):  87%  208kB\r",
        "  Downloading astroML-0.2.tar.gz (239kB):  89%  212kB\r",
        "  Downloading astroML-0.2.tar.gz (239kB):  90%  217kB\r",
        "  Downloading astroML-0.2.tar.gz (239kB):  92%  221kB\r",
        "  Downloading astroML-0.2.tar.gz (239kB):  94%  225kB\r",
        "  Downloading astroML-0.2.tar.gz (239kB):  95%  229kB\r",
        "  Downloading astroML-0.2.tar.gz (239kB):  97%  233kB\r",
        "  Downloading astroML-0.2.tar.gz (239kB):  99%  237kB\r",
        "  Downloading astroML-0.2.tar.gz (239kB): 100%  239kB\r",
        "  Downloading astroML-0.2.tar.gz (239kB):            \r",
        "  Downloading astroML-0.2.tar.gz (239kB): 239kB downloaded\r\n"
       ]
      },
      {
       "output_type": "stream",
       "stream": "stdout",
       "text": [
        "  Running setup.py egg_info for package astroML\r\n"
       ]
      },
      {
       "output_type": "stream",
       "stream": "stdout",
       "text": [
        "    \r\n"
       ]
      },
      {
       "output_type": "stream",
       "stream": "stdout",
       "text": [
        "Installing collected packages: astroML\r\n",
        "  Running setup.py install for astroML\r\n"
       ]
      },
      {
       "output_type": "stream",
       "stream": "stdout",
       "text": [
        "    \r\n"
       ]
      },
      {
       "output_type": "stream",
       "stream": "stdout",
       "text": [
        "Successfully installed astroML\r\n",
        "Cleaning up...\r\n"
       ]
      },
      {
       "output_type": "stream",
       "stream": "stdout",
       "text": [
        "Downloading/unpacking astroML-addons\r\n"
       ]
      },
      {
       "output_type": "stream",
       "stream": "stdout",
       "text": [
        "  Downloading astroML_addons-0.2.1.tar.gz (48kB): \r",
        "  Downloading astroML_addons-0.2.1.tar.gz (48kB):   8%  4.1kB\r",
        "  Downloading astroML_addons-0.2.1.tar.gz (48kB):  16%  8.2kB\r",
        "  Downloading astroML_addons-0.2.1.tar.gz (48kB):  25%  12kB \r",
        "  Downloading astroML_addons-0.2.1.tar.gz (48kB):  33%  16kB\r",
        "  Downloading astroML_addons-0.2.1.tar.gz (48kB):  42%  20kB\r",
        "  Downloading astroML_addons-0.2.1.tar.gz (48kB):  50%  24kB\r",
        "  Downloading astroML_addons-0.2.1.tar.gz (48kB):  59%  28kB\r",
        "  Downloading astroML_addons-0.2.1.tar.gz (48kB):  67%  32kB\r",
        "  Downloading astroML_addons-0.2.1.tar.gz (48kB):  76%  36kB\r",
        "  Downloading astroML_addons-0.2.1.tar.gz (48kB):  84%  40kB\r",
        "  Downloading astroML_addons-0.2.1.tar.gz (48kB):  93%  45kB"
       ]
      },
      {
       "output_type": "stream",
       "stream": "stdout",
       "text": [
        "\r",
        "  Downloading astroML_addons-0.2.1.tar.gz (48kB): 100%  48kB\r",
        "  Downloading astroML_addons-0.2.1.tar.gz (48kB):           \r",
        "  Downloading astroML_addons-0.2.1.tar.gz (48kB): 48kB downloaded\r\n",
        "  Running setup.py egg_info for package astroML-addons\r\n"
       ]
      },
      {
       "output_type": "stream",
       "stream": "stdout",
       "text": [
        "    build_src\r\n",
        "    building extension \"astroML_addons.periodogram\" sources\r\n",
        "    build_src: building npy-pkg config files\r\n",
        "    \r\n"
       ]
      },
      {
       "output_type": "stream",
       "stream": "stdout",
       "text": [
        "Installing collected packages: astroML-addons\r\n",
        "  Running setup.py install for astroML-addons\r\n"
       ]
      },
      {
       "output_type": "stream",
       "stream": "stdout",
       "text": [
        "    unifing config_cc, config, build_clib, build_ext, build commands --compiler options\r\n",
        "    unifing config_fc, config, build_clib, build_ext, build commands --fcompiler options\r\n",
        "    build_src\r\n",
        "    building extension \"astroML_addons.periodogram\" sources\r\n",
        "    build_src: building npy-pkg config files\r\n",
        "    customize UnixCCompiler\r\n"
       ]
      },
      {
       "output_type": "stream",
       "stream": "stdout",
       "text": [
        "    customize UnixCCompiler using build_ext\r\n",
        "    building 'astroML_addons.periodogram' extension\r\n",
        "    compiling C sources\r\n",
        "    C compiler: /usr/bin/clang -fno-strict-aliasing -I//anaconda/include -arch x86_64 -DNDEBUG -g -fwrapv -O3 -Wall -Wstrict-prototypes\r\n",
        "    \r\n",
        "    compile options: '-I//anaconda/lib/python2.7/site-packages/numpy/core/include -I//anaconda/lib/python2.7/site-packages/numpy/core/include -I//anaconda/include/python2.7 -c'\r\n",
        "    clang: astroML_addons/periodogram.c\r\n"
       ]
      },
      {
       "output_type": "stream",
       "stream": "stdout",
       "text": [
        "    In file included from astroML_addons/periodogram.c:4:\r\n",
        "    //anaconda/include/python2.7/Python.h:33:10: fatal error: 'stdio.h' file not found\r\n",
        "    #include <stdio.h>\r\n",
        "             ^\r\n"
       ]
      },
      {
       "output_type": "stream",
       "stream": "stdout",
       "text": [
        "    1 error generated.\r\n",
        "    In file included from astroML_addons/periodogram.c:4:\r\n",
        "    //anaconda/include/python2.7/Python.h:33:10: fatal error: 'stdio.h' file not found\r\n",
        "    #include <stdio.h>\r\n",
        "             ^\r\n",
        "    1 error generated.\r\n",
        "    error: Command \"/usr/bin/clang -fno-strict-aliasing -I//anaconda/include -arch x86_64 -DNDEBUG -g -fwrapv -O3 -Wall -Wstrict-prototypes -I//anaconda/lib/python2.7/site-packages/numpy/core/include -I//anaconda/lib/python2.7/site-packages/numpy/core/include -I//anaconda/include/python2.7 -c astroML_addons/periodogram.c -o build/temp.macosx-10.5-x86_64-2.7/astroML_addons/periodogram.o\" failed with exit status 1\r\n"
       ]
      },
      {
       "output_type": "stream",
       "stream": "stdout",
       "text": [
        "    Complete output from command //anaconda/bin/python -c \"import setuptools;__file__='/private/var/folders/7d/yygg4t2x6x55s2hd07hf0s6m0000gn/T/pip-build-gwen/astroML-addons/setup.py';exec(compile(open(__file__).read().replace('\\r\\n', '\\n'), __file__, 'exec'))\" install --record /var/folders/7d/yygg4t2x6x55s2hd07hf0s6m0000gn/T/pip-Pv6NGw-record/install-record.txt --single-version-externally-managed:\r\n",
        "    running install\r\n",
        "\r\n",
        "running build\r\n",
        "\r\n",
        "running config_cc\r\n",
        "\r\n",
        "unifing config_cc, config, build_clib, build_ext, build commands --compiler options\r\n",
        "\r\n",
        "running config_fc\r\n",
        "\r\n",
        "unifing config_fc, config, build_clib, build_ext, build commands --fcompiler options\r\n",
        "\r\n",
        "running build_src\r\n",
        "\r\n",
        "build_src\r\n",
        "\r\n",
        "building extension \"astroML_addons.periodogram\" sources\r\n",
        "\r\n",
        "build_src: building npy-pkg config files\r\n",
        "\r\n",
        "running build_py\r\n",
        "\r\n",
        "creating build\r\n",
        "\r\n",
        "creating build/lib.macosx-10.5-x86_64-2.7\r\n",
        "\r\n",
        "creating build/lib.macosx-10.5-x86_64-2.7/astroML_addons\r\n",
        "\r\n",
        "copying astroML_addons/__init__.py -> build/lib.macosx-10.5-x86_64-2.7/astroML_addons\r\n",
        "\r\n",
        "copying astroML_addons/setup.py -> build/lib.macosx-10.5-x86_64-2.7/astroML_addons\r\n",
        "\r\n",
        "running build_ext\r\n",
        "\r\n",
        "customize UnixCCompiler\r\n",
        "\r\n",
        "customize UnixCCompiler using build_ext\r\n",
        "\r\n",
        "building 'astroML_addons.periodogram' extension\r\n",
        "\r\n",
        "compiling C sources\r\n",
        "\r\n",
        "C compiler: /usr/bin/clang -fno-strict-aliasing -I//anaconda/include -arch x86_64 -DNDEBUG -g -fwrapv -O3 -Wall -Wstrict-prototypes\r\n",
        "\r\n",
        "\r\n",
        "\r\n",
        "creating build/temp.macosx-10.5-x86_64-2.7\r\n",
        "\r\n",
        "creating build/temp.macosx-10.5-x86_64-2.7/astroML_addons\r\n",
        "\r\n",
        "compile options: '-I//anaconda/lib/python2.7/site-packages/numpy/core/include -I//anaconda/lib/python2.7/site-packages/numpy/core/include -I//anaconda/include/python2.7 -c'\r\n",
        "\r\n",
        "clang: astroML_addons/periodogram.c\r\n",
        "\r\n",
        "In file included from astroML_addons/periodogram.c:4:\r\n",
        "\r\n",
        "//anaconda/include/python2.7/Python.h:33:10: fatal error: 'stdio.h' file not found\r\n",
        "\r\n",
        "#include <stdio.h>\r\n",
        "\r\n",
        "         ^\r\n",
        "\r\n",
        "1 error generated.\r\n",
        "\r\n",
        "In file included from astroML_addons/periodogram.c:4:\r\n",
        "\r\n",
        "//anaconda/include/python2.7/Python.h:33:10: fatal error: 'stdio.h' file not found\r\n",
        "\r\n",
        "#include <stdio.h>\r\n",
        "\r\n",
        "         ^\r\n",
        "\r\n",
        "1 error generated.\r\n",
        "\r\n",
        "error: Command \"/usr/bin/clang -fno-strict-aliasing -I//anaconda/include -arch x86_64 -DNDEBUG -g -fwrapv -O3 -Wall -Wstrict-prototypes -I//anaconda/lib/python2.7/site-packages/numpy/core/include -I//anaconda/lib/python2.7/site-packages/numpy/core/include -I//anaconda/include/python2.7 -c astroML_addons/periodogram.c -o build/temp.macosx-10.5-x86_64-2.7/astroML_addons/periodogram.o\" failed with exit status 1\r\n",
        "\r\n",
        "----------------------------------------\r\n",
        "Command //anaconda/bin/python -c \"import setuptools;__file__='/private/var/folders/7d/yygg4t2x6x55s2hd07hf0s6m0000gn/T/pip-build-gwen/astroML-addons/setup.py';exec(compile(open(__file__).read().replace('\\r\\n', '\\n'), __file__, 'exec'))\" install --record /var/folders/7d/yygg4t2x6x55s2hd07hf0s6m0000gn/T/pip-Pv6NGw-record/install-record.txt --single-version-externally-managed failed with error code 1 in /private/var/folders/7d/yygg4t2x6x55s2hd07hf0s6m0000gn/T/pip-build-gwen/astroML-addons\r\n"
       ]
      },
      {
       "output_type": "stream",
       "stream": "stdout",
       "text": [
        "Storing complete log in /Users/gwen/.pip/pip.log\r\n"
       ]
      }
     ],
     "prompt_number": 1
    },
    {
     "cell_type": "code",
     "collapsed": false,
     "input": [
      "%matplotlib inline\n",
      "import astroML.datasets\n",
      "import numpy as np\n",
      "import matplotlib.pyplot as plt"
     ],
     "language": "python",
     "metadata": {},
     "outputs": [],
     "prompt_number": 2
    },
    {
     "cell_type": "code",
     "collapsed": false,
     "input": [
      "lcs = astroML.datasets.fetch_LINEAR_sample()"
     ],
     "language": "python",
     "metadata": {},
     "outputs": [
      {
       "output_type": "stream",
       "stream": "stdout",
       "text": [
        "Downloading http://www.astro.washington.edu/users/ivezic/linear/allDataFinal/allLINEARfinal_targets.dat\n",
        "[=                                      ]  25.0kb / 1001.2kb   \r"
       ]
      },
      {
       "output_type": "stream",
       "stream": "stdout",
       "text": [
        "[==                                     ]  50.1kb / 1001.2kb   \r"
       ]
      },
      {
       "output_type": "stream",
       "stream": "stdout",
       "text": [
        "[===                                    ]  75.1kb / 1001.2kb   \r"
       ]
      },
      {
       "output_type": "stream",
       "stream": "stdout",
       "text": [
        "[====                                   ]  100.1kb / 1001.2kb   \r"
       ]
      },
      {
       "output_type": "stream",
       "stream": "stdout",
       "text": [
        "[=====                                  ]  125.2kb / 1001.2kb   \r"
       ]
      },
      {
       "output_type": "stream",
       "stream": "stdout",
       "text": [
        "[======                                 ]  150.2kb / 1001.2kb   \r"
       ]
      },
      {
       "output_type": "stream",
       "stream": "stdout",
       "text": [
        "[=======                                ]  175.2kb / 1001.2kb   \r"
       ]
      },
      {
       "output_type": "stream",
       "stream": "stdout",
       "text": [
        "[========                               ]  200.2kb / 1001.2kb   \r"
       ]
      },
      {
       "output_type": "stream",
       "stream": "stdout",
       "text": [
        "[=========                              ]  225.3kb / 1001.2kb   \r"
       ]
      },
      {
       "output_type": "stream",
       "stream": "stdout",
       "text": [
        "[==========                             ]  250.3kb / 1001.2kb   \r"
       ]
      },
      {
       "output_type": "stream",
       "stream": "stdout",
       "text": [
        "[===========                            ]  275.3kb / 1001.2kb   \r"
       ]
      },
      {
       "output_type": "stream",
       "stream": "stdout",
       "text": [
        "[============                           ]  300.4kb / 1001.2kb   \r"
       ]
      },
      {
       "output_type": "stream",
       "stream": "stdout",
       "text": [
        "[=============                          ]  325.4kb / 1001.2kb   \r"
       ]
      },
      {
       "output_type": "stream",
       "stream": "stdout",
       "text": [
        "[==============                         ]  350.4kb / 1001.2kb   \r"
       ]
      },
      {
       "output_type": "stream",
       "stream": "stdout",
       "text": [
        "[===============                        ]  375.5kb / 1001.2kb   \r"
       ]
      },
      {
       "output_type": "stream",
       "stream": "stdout",
       "text": [
        "[================                       ]  400.5kb / 1001.2kb   \r"
       ]
      },
      {
       "output_type": "stream",
       "stream": "stdout",
       "text": [
        "[=================                      ]  425.5kb / 1001.2kb   \r"
       ]
      },
      {
       "output_type": "stream",
       "stream": "stdout",
       "text": [
        "[==================                     ]  450.5kb / 1001.2kb   \r"
       ]
      },
      {
       "output_type": "stream",
       "stream": "stdout",
       "text": [
        "[===================                    ]  475.6kb / 1001.2kb   \r"
       ]
      },
      {
       "output_type": "stream",
       "stream": "stdout",
       "text": [
        "[====================                   ]  500.6kb / 1001.2kb   \r"
       ]
      },
      {
       "output_type": "stream",
       "stream": "stdout",
       "text": [
        "[=====================                  ]  525.6kb / 1001.2kb   \r"
       ]
      },
      {
       "output_type": "stream",
       "stream": "stdout",
       "text": [
        "[======================                 ]  550.7kb / 1001.2kb   \r"
       ]
      },
      {
       "output_type": "stream",
       "stream": "stdout",
       "text": [
        "[=======================                ]  575.7kb / 1001.2kb   \r"
       ]
      },
      {
       "output_type": "stream",
       "stream": "stdout",
       "text": [
        "[========================               ]  600.7kb / 1001.2kb   \r"
       ]
      },
      {
       "output_type": "stream",
       "stream": "stdout",
       "text": [
        "[=========================              ]  625.8kb / 1001.2kb   \r"
       ]
      },
      {
       "output_type": "stream",
       "stream": "stdout",
       "text": [
        "[==========================             ]  650.8kb / 1001.2kb   \r"
       ]
      },
      {
       "output_type": "stream",
       "stream": "stdout",
       "text": [
        "[===========================            ]  675.8kb / 1001.2kb   \r"
       ]
      },
      {
       "output_type": "stream",
       "stream": "stdout",
       "text": [
        "[============================           ]  700.8kb / 1001.2kb   \r"
       ]
      },
      {
       "output_type": "stream",
       "stream": "stdout",
       "text": [
        "[=============================          ]  725.9kb / 1001.2kb   \r"
       ]
      },
      {
       "output_type": "stream",
       "stream": "stdout",
       "text": [
        "[==============================         ]  750.9kb / 1001.2kb   \r"
       ]
      },
      {
       "output_type": "stream",
       "stream": "stdout",
       "text": [
        "[===============================        ]  775.9kb / 1001.2kb   \r"
       ]
      },
      {
       "output_type": "stream",
       "stream": "stdout",
       "text": [
        "[================================       ]  801.0kb / 1001.2kb   \r"
       ]
      },
      {
       "output_type": "stream",
       "stream": "stdout",
       "text": [
        "[=================================      ]  826.0kb / 1001.2kb   \r"
       ]
      },
      {
       "output_type": "stream",
       "stream": "stdout",
       "text": [
        "[==================================     ]  851.0kb / 1001.2kb   \r"
       ]
      },
      {
       "output_type": "stream",
       "stream": "stdout",
       "text": [
        "[===================================    ]  876.1kb / 1001.2kb   \r"
       ]
      },
      {
       "output_type": "stream",
       "stream": "stdout",
       "text": [
        "[====================================   ]  901.1kb / 1001.2kb   \r"
       ]
      },
      {
       "output_type": "stream",
       "stream": "stdout",
       "text": [
        "[=====================================  ]  926.1kb / 1001.2kb   \r"
       ]
      },
      {
       "output_type": "stream",
       "stream": "stdout",
       "text": [
        "[====================================== ]  951.2kb / 1001.2kb   \r"
       ]
      },
      {
       "output_type": "stream",
       "stream": "stdout",
       "text": [
        "[=======================================]  976.2kb / 1001.2kb   \r"
       ]
      },
      {
       "output_type": "stream",
       "stream": "stdout",
       "text": [
        "[========================================]  1001.2kb / 1001.2kb   \r"
       ]
      },
      {
       "output_type": "stream",
       "stream": "stdout",
       "text": [
        "[=========================================]  1001.2kb / 1001.2kb   \r"
       ]
      },
      {
       "output_type": "stream",
       "stream": "stdout",
       "text": [
        "\n",
        "Downloading http://www.astro.washington.edu/users/ivezic/linear/allDataFinal/allLINEARfinal_dat.tar.gz\n",
        "[=                                      ]  410.9kb / 16.05Mb   \r"
       ]
      },
      {
       "output_type": "stream",
       "stream": "stdout",
       "text": [
        "[==                                     ]  821.9kb / 16.05Mb   \r"
       ]
      },
      {
       "output_type": "stream",
       "stream": "stdout",
       "text": [
        "[===                                    ]  1.20Mb / 16.05Mb   \r"
       ]
      },
      {
       "output_type": "stream",
       "stream": "stdout",
       "text": [
        "[====                                   ]  1.61Mb / 16.05Mb   \r"
       ]
      },
      {
       "output_type": "stream",
       "stream": "stdout",
       "text": [
        "[=====                                  ]  2.01Mb / 16.05Mb   \r"
       ]
      },
      {
       "output_type": "stream",
       "stream": "stdout",
       "text": [
        "[======                                 ]  2.41Mb / 16.05Mb   \r"
       ]
      },
      {
       "output_type": "stream",
       "stream": "stdout",
       "text": [
        "[=======                                ]  2.81Mb / 16.05Mb   \r"
       ]
      },
      {
       "output_type": "stream",
       "stream": "stdout",
       "text": [
        "[========                               ]  3.21Mb / 16.05Mb   \r"
       ]
      },
      {
       "output_type": "stream",
       "stream": "stdout",
       "text": [
        "[=========                              ]  3.61Mb / 16.05Mb   \r"
       ]
      },
      {
       "output_type": "stream",
       "stream": "stdout",
       "text": [
        "[==========                             ]  4.01Mb / 16.05Mb   \r"
       ]
      },
      {
       "output_type": "stream",
       "stream": "stdout",
       "text": [
        "[===========                            ]  4.41Mb / 16.05Mb   \r"
       ]
      },
      {
       "output_type": "stream",
       "stream": "stdout",
       "text": [
        "[============                           ]  4.82Mb / 16.05Mb   \r"
       ]
      },
      {
       "output_type": "stream",
       "stream": "stdout",
       "text": [
        "[=============                          ]  5.22Mb / 16.05Mb   \r"
       ]
      },
      {
       "output_type": "stream",
       "stream": "stdout",
       "text": [
        "[==============                         ]  5.62Mb / 16.05Mb   \r"
       ]
      },
      {
       "output_type": "stream",
       "stream": "stdout",
       "text": [
        "[===============                        ]  6.02Mb / 16.05Mb   \r"
       ]
      },
      {
       "output_type": "stream",
       "stream": "stdout",
       "text": [
        "[================                       ]  6.42Mb / 16.05Mb   \r"
       ]
      },
      {
       "output_type": "stream",
       "stream": "stdout",
       "text": [
        "[=================                      ]  6.82Mb / 16.05Mb   \r"
       ]
      },
      {
       "output_type": "stream",
       "stream": "stdout",
       "text": [
        "[==================                     ]  7.22Mb / 16.05Mb   \r"
       ]
      },
      {
       "output_type": "stream",
       "stream": "stdout",
       "text": [
        "[===================                    ]  7.62Mb / 16.05Mb   \r"
       ]
      },
      {
       "output_type": "stream",
       "stream": "stdout",
       "text": [
        "[====================                   ]  8.03Mb / 16.05Mb   \r"
       ]
      },
      {
       "output_type": "stream",
       "stream": "stdout",
       "text": [
        "[=====================                  ]  8.43Mb / 16.05Mb   \r"
       ]
      },
      {
       "output_type": "stream",
       "stream": "stdout",
       "text": [
        "[======================                 ]  8.83Mb / 16.05Mb   \r"
       ]
      },
      {
       "output_type": "stream",
       "stream": "stdout",
       "text": [
        "[=======================                ]  9.23Mb / 16.05Mb   \r"
       ]
      },
      {
       "output_type": "stream",
       "stream": "stdout",
       "text": [
        "[========================               ]  9.63Mb / 16.05Mb   \r"
       ]
      },
      {
       "output_type": "stream",
       "stream": "stdout",
       "text": [
        "[=========================              ]  10.03Mb / 16.05Mb   \r"
       ]
      },
      {
       "output_type": "stream",
       "stream": "stdout",
       "text": [
        "[==========================             ]  10.43Mb / 16.05Mb   \r"
       ]
      },
      {
       "output_type": "stream",
       "stream": "stdout",
       "text": [
        "[===========================            ]  10.84Mb / 16.05Mb   \r"
       ]
      },
      {
       "output_type": "stream",
       "stream": "stdout",
       "text": [
        "[============================           ]  11.24Mb / 16.05Mb   \r"
       ]
      },
      {
       "output_type": "stream",
       "stream": "stdout",
       "text": [
        "[=============================          ]  11.64Mb / 16.05Mb   \r"
       ]
      },
      {
       "output_type": "stream",
       "stream": "stdout",
       "text": [
        "[==============================         ]  12.04Mb / 16.05Mb   \r"
       ]
      },
      {
       "output_type": "stream",
       "stream": "stdout",
       "text": [
        "[===============================        ]  12.44Mb / 16.05Mb   \r"
       ]
      },
      {
       "output_type": "stream",
       "stream": "stdout",
       "text": [
        "[================================       ]  12.84Mb / 16.05Mb   \r"
       ]
      },
      {
       "output_type": "stream",
       "stream": "stdout",
       "text": [
        "[=================================      ]  13.24Mb / 16.05Mb   \r"
       ]
      },
      {
       "output_type": "stream",
       "stream": "stdout",
       "text": [
        "[==================================     ]  13.64Mb / 16.05Mb   \r"
       ]
      },
      {
       "output_type": "stream",
       "stream": "stdout",
       "text": [
        "[===================================    ]  14.05Mb / 16.05Mb   \r"
       ]
      },
      {
       "output_type": "stream",
       "stream": "stdout",
       "text": [
        "[====================================   ]  14.45Mb / 16.05Mb   \r"
       ]
      },
      {
       "output_type": "stream",
       "stream": "stdout",
       "text": [
        "[=====================================  ]  14.85Mb / 16.05Mb   \r"
       ]
      },
      {
       "output_type": "stream",
       "stream": "stdout",
       "text": [
        "[====================================== ]  15.25Mb / 16.05Mb   \r"
       ]
      },
      {
       "output_type": "stream",
       "stream": "stdout",
       "text": [
        "[=======================================]  15.65Mb / 16.05Mb   \r"
       ]
      },
      {
       "output_type": "stream",
       "stream": "stdout",
       "text": [
        "[========================================]  16.05Mb / 16.05Mb   \r"
       ]
      },
      {
       "output_type": "stream",
       "stream": "stdout",
       "text": [
        "[=========================================]  16.05Mb / 16.05Mb   \r"
       ]
      },
      {
       "output_type": "stream",
       "stream": "stdout",
       "text": [
        "\n"
       ]
      }
     ],
     "prompt_number": 3
    },
    {
     "cell_type": "code",
     "collapsed": false,
     "input": [
      "print lcs"
     ],
     "language": "python",
     "metadata": {},
     "outputs": [
      {
       "output_type": "stream",
       "stream": "stdout",
       "text": [
        "<astroML.datasets.LINEAR_sample.LINEARdata object at 0x1066b1f50>\n"
       ]
      }
     ],
     "prompt_number": 4
    },
    {
     "cell_type": "code",
     "collapsed": false,
     "input": [
      "time, flux, dflux = lcs[12402647].T"
     ],
     "language": "python",
     "metadata": {},
     "outputs": [],
     "prompt_number": 10
    },
    {
     "cell_type": "markdown",
     "metadata": {},
     "source": [
      "randomly chosen new star ID "
     ]
    },
    {
     "cell_type": "code",
     "collapsed": false,
     "input": [
      "plt.errorbar(time, flux, yerr=dflux, fmt=\"ro\")\n",
      "plt.gca().invert_yaxis()\n",
      "plt.xlabel(\"Mean Julian Day\")\n",
      "plt.ylabel(\"Mag\")\n",
      "plt.show()"
     ],
     "language": "python",
     "metadata": {},
     "outputs": [
      {
       "metadata": {},
       "output_type": "display_data",
       "png": "[encoded data removed]",
       "text": [
        "<matplotlib.figure.Figure at 0x107008a50>"
       ]
      }
     ],
     "prompt_number": 11
    },
    {
     "cell_type": "code",
     "collapsed": false,
     "input": [
      "from astroML.time_series import lomb_scargle\n",
      "periods = np.logspace(-1, 0, 10000, base=10)\n",
      "periodogram = lomb_scargle(time, flux, dflux, omega=2 * np.pi / periods, generalized=True)"
     ],
     "language": "python",
     "metadata": {},
     "outputs": [
      {
       "output_type": "stream",
       "stream": "stderr",
       "text": [
        "//anaconda/lib/python2.7/site-packages/astroML/time_series/periodogram.py:8: UserWarning: Using slow version of lomb_scargle. Install astroML_addons to use an optimized version\n",
        "  warnings.warn(\"Using slow version of lomb_scargle. Install astroML_addons \"\n"
       ]
      }
     ],
     "prompt_number": 12
    },
    {
     "cell_type": "code",
     "collapsed": false,
     "input": [
      "plt.plot(periods, periodogram)\n",
      "plt.semilogx()\n",
      "plt.xlabel(\"Period (days)\")\n",
      "plt.ylabel(\"Power\")\n",
      "plt.show()"
     ],
     "language": "python",
     "metadata": {},
     "outputs": [
      {
       "metadata": {},
       "output_type": "display_data",
       "png": "[encoded data removed]",
       "text": [
        "<matplotlib.figure.Figure at 0x106fd8390>"
       ]
      }
     ],
     "prompt_number": 13
    },
    {
     "cell_type": "code",
     "collapsed": false,
     "input": [
      "idx = np.argmax(periodogram)\n",
      "\n",
      "print periods[idx], periodogram[idx]"
     ],
     "language": "python",
     "metadata": {},
     "outputs": [
      {
       "output_type": "stream",
       "stream": "stdout",
       "text": [
        "0.654005737215 0.614395476736\n"
       ]
      }
     ],
     "prompt_number": 14
    },
    {
     "cell_type": "code",
     "collapsed": false,
     "input": [
      "period = periods[idx]\n",
      "phase = time / period - time // period \n",
      "print min(phase), max(phase)"
     ],
     "language": "python",
     "metadata": {},
     "outputs": [
      {
       "output_type": "stream",
       "stream": "stdout",
       "text": [
        "0.00822641451668 0.990656232272\n"
       ]
      }
     ],
     "prompt_number": 15
    },
    {
     "cell_type": "code",
     "collapsed": false,
     "input": [
      "plt.errorbar(phase, flux, yerr=dflux, fmt=\"ro\")\n",
      "plt.gca().invert_yaxis()\n",
      "plt.xlabel(\"Phase\")\n",
      "plt.ylabel(\"Mag\")\n",
      "plt.show()"
     ],
     "language": "python",
     "metadata": {},
     "outputs": [
      {
       "metadata": {},
       "output_type": "display_data",
       "png": "[encoded data removed]",
       "text": [
        "<matplotlib.figure.Figure at 0x106c9f2d0>"
       ]
      }
     ],
     "prompt_number": 16
    },
    {
     "cell_type": "code",
     "collapsed": false,
     "input": [
      "class Fourier(object):\n",
      "    def __init__(self, phase, flux, dflux, nterms):\n",
      "        self.phase = phase\n",
      "        self.flux = flux\n",
      "        self.dflux = dflux\n",
      "        self.nterms = nterms\n",
      "        assert(self.nterms > 0)\n",
      "        \n",
      "    def evaluate(self, phase, terms):\n",
      "        assert(len(terms) == 2 * self.nterms - 1)\n",
      "        model = terms[0] * np.ones(len(phase))\n",
      "        for i in range(self.nterms-1):\n",
      "            model += terms[2*i + 1] * np.cos(2 * np.pi * (i+1) * phase + terms[2*i + 2])\n",
      "        return model\n",
      "    \n",
      "    def chi2(self, args):\n",
      "        model = self.evaluate(self.phase, args)\n",
      "        chi   = (model - self.flux) / self.dflux\n",
      "        return np.sum(chi**2)\n"
     ],
     "language": "python",
     "metadata": {},
     "outputs": [],
     "prompt_number": 17
    },
    {
     "cell_type": "code",
     "collapsed": false,
     "input": [
      "fourier = Fourier(phase, flux, dflux, 2)\n",
      "guess   = [] # this needs to be the number of paramters you want to fit for, here the mean brightness, the amplitude, and minimum\n",
      "guess.append(np.mean(fourier.flux))\n",
      "guess.append(np.std(fourier.flux))"
     ],
     "language": "python",
     "metadata": {},
     "outputs": [],
     "prompt_number": 18
    },
    {
     "cell_type": "code",
     "collapsed": false,
     "input": [
      "print(np.argmax(fourier.flux))"
     ],
     "language": "python",
     "metadata": {},
     "outputs": [
      {
       "output_type": "stream",
       "stream": "stdout",
       "text": [
        "38\n"
       ]
      }
     ],
     "prompt_number": 19
    },
    {
     "cell_type": "code",
     "collapsed": false,
     "input": [
      "print(fourier.flux[np.argmax(fourier.flux)])"
     ],
     "language": "python",
     "metadata": {},
     "outputs": [
      {
       "output_type": "stream",
       "stream": "stdout",
       "text": [
        "17.734\n"
       ]
      }
     ],
     "prompt_number": 20
    },
    {
     "cell_type": "code",
     "collapsed": false,
     "input": [
      "print(fourier.phase[np.argmax(fourier.flux)])"
     ],
     "language": "python",
     "metadata": {},
     "outputs": [
      {
       "output_type": "stream",
       "stream": "stdout",
       "text": [
        "0.733726617458\n"
       ]
      }
     ],
     "prompt_number": 21
    },
    {
     "cell_type": "code",
     "collapsed": false,
     "input": [
      "guess.append(2 * np.pi * (1 - fourier.phase[np.argmax(fourier.flux)]))"
     ],
     "language": "python",
     "metadata": {},
     "outputs": [],
     "prompt_number": 22
    },
    {
     "cell_type": "code",
     "collapsed": false,
     "input": [
      "print guess"
     ],
     "language": "python",
     "metadata": {},
     "outputs": [
      {
       "output_type": "stream",
       "stream": "stdout",
       "text": [
        "[16.522473404255319, 0.18443102364883135, 1.6730450048798982]\n"
       ]
      }
     ],
     "prompt_number": 23
    },
    {
     "cell_type": "code",
     "collapsed": false,
     "input": [
      "from scipy import optimize"
     ],
     "language": "python",
     "metadata": {},
     "outputs": [],
     "prompt_number": 25
    },
    {
     "cell_type": "code",
     "collapsed": false,
     "input": [
      "optimize.fmin(fourier.chi2, x0=[guess], disp=0, full_output=1)"
     ],
     "language": "python",
     "metadata": {},
     "outputs": [
      {
       "metadata": {},
       "output_type": "pyout",
       "prompt_number": 26,
       "text": [
        "(array([ 16.5000017 ,   0.17920914,   2.88180573]),\n",
        " 448.74351303136433,\n",
        " 75,\n",
        " 136,\n",
        " 0)"
       ]
      }
     ],
     "prompt_number": 26
    },
    {
     "cell_type": "code",
     "collapsed": false,
     "input": [
      "result = optimize.fmin(fourier.chi2, x0=[guess], disp=0, full_output=1)\n",
      "best_fit = result[0]\n",
      "print(best_fit)"
     ],
     "language": "python",
     "metadata": {},
     "outputs": [
      {
       "output_type": "stream",
       "stream": "stdout",
       "text": [
        "[ 16.5000017    0.17920914   2.88180573]\n"
       ]
      }
     ],
     "prompt_number": 27
    },
    {
     "cell_type": "code",
     "collapsed": false,
     "input": [
      "mphase = np.arange(0, 1, 0.01)\n",
      "model = fourier.evaluate(mphase, [10, 0.1, np.pi])"
     ],
     "language": "python",
     "metadata": {},
     "outputs": [],
     "prompt_number": 29
    },
    {
     "cell_type": "code",
     "collapsed": false,
     "input": [
      "plt.errorbar(fourier.phase, fourier.flux, yerr=fourier.dflux, fmt=\"ro\")\n",
      "plt.plot(mphase, fourier.evaluate(mphase, guess), \"b--\", label=\"Initial guess\")\n",
      "plt.plot(mphase, fourier.evaluate(mphase, best_fit), \"g-\", label=\"Best fit\")\n",
      "plt.gca().invert_yaxis()\n",
      "plt.xlabel(\"Phase\")\n",
      "plt.ylabel(\"Mag\")\n",
      "plt.legend()\n",
      "plt.show()"
     ],
     "language": "python",
     "metadata": {},
     "outputs": [
      {
       "metadata": {},
       "output_type": "display_data",
       "png": "[encoded data removed]",
       "text": [
        "<matplotlib.figure.Figure at 0x106e56050>"
       ]
      }
     ],
     "prompt_number": 30
    },
    {
     "cell_type": "code",
     "collapsed": false,
     "input": [
      "class Fourier2(Fourier):\n",
      "    def __init__(self, phase, flux, dflux, nterms):\n",
      "        Fourier.__init__(self, phase, flux, dflux, nterms)\n",
      "                \n",
      "    def makeGuess(self):\n",
      "        guess = []\n",
      "        guess.append(np.mean(self.flux))\n",
      "        if self.nterms > 1:\n",
      "            guess.append(np.std(self.flux))\n",
      "            guess.append(2 * np.pi * (1 - self.phase[np.argsort(self.flux)[-1]]))\n",
      "            for i in range(2, self.nterms):\n",
      "                guess.append(0.0)\n",
      "                guess.append(2 * np.pi * (1 - self.phase[np.argsort(self.flux)[-1]]))\n",
      "        return guess"
     ],
     "language": "python",
     "metadata": {},
     "outputs": [],
     "prompt_number": 32
    },
    {
     "cell_type": "code",
     "collapsed": false,
     "input": [
      "nterms = np.arange(1, 10)\n",
      "chi2   = []\n",
      "for nterm in nterms:\n",
      "    fourier = Fourier2(phase, flux, dflux, nterm)\n",
      "    guess = fourier.makeGuess()\n",
      "    print(guess)\n",
      "    chi2.append(optimize.fmin_bfgs(fourier.chi2, x0=[guess], disp=0, full_output=1)[1])\n",
      "chi2 = np.array(chi2)\n",
      "plt.plot(nterms, chi2)\n",
      "plt.xlabel(\"N Terms\")\n",
      "plt.ylabel(\"Chi2\")\n",
      "plt.show()"
     ],
     "language": "python",
     "metadata": {},
     "outputs": [
      {
       "output_type": "stream",
       "stream": "stdout",
       "text": [
        "[16.522473404255319]\n",
        "[16.522473404255319, 0.18443102364883135, 1.6730450048798982]"
       ]
      },
      {
       "output_type": "stream",
       "stream": "stdout",
       "text": [
        "\n",
        "[16.522473404255319, 0.18443102364883135, 1.6730450048798982, 0.0, 1.6730450048798982]"
       ]
      },
      {
       "output_type": "stream",
       "stream": "stdout",
       "text": [
        "\n",
        "[16.522473404255319, 0.18443102364883135, 1.6730450048798982, 0.0, 1.6730450048798982, 0.0, 1.6730450048798982]"
       ]
      },
      {
       "output_type": "stream",
       "stream": "stdout",
       "text": [
        "\n",
        "[16.522473404255319, 0.18443102364883135, 1.6730450048798982, 0.0, 1.6730450048798982, 0.0, 1.6730450048798982, 0.0, 1.6730450048798982]"
       ]
      },
      {
       "output_type": "stream",
       "stream": "stdout",
       "text": [
        "\n",
        "[16.522473404255319, 0.18443102364883135, 1.6730450048798982, 0.0, 1.6730450048798982, 0.0, 1.6730450048798982, 0.0, 1.6730450048798982, 0.0, 1.6730450048798982]"
       ]
      },
      {
       "output_type": "stream",
       "stream": "stdout",
       "text": [
        "\n",
        "[16.522473404255319, 0.18443102364883135, 1.6730450048798982, 0.0, 1.6730450048798982, 0.0, 1.6730450048798982, 0.0, 1.6730450048798982, 0.0, 1.6730450048798982, 0.0, 1.6730450048798982]"
       ]
      },
      {
       "output_type": "stream",
       "stream": "stdout",
       "text": [
        "\n",
        "[16.522473404255319, 0.18443102364883135, 1.6730450048798982, 0.0, 1.6730450048798982, 0.0, 1.6730450048798982, 0.0, 1.6730450048798982, 0.0, 1.6730450048798982, 0.0, 1.6730450048798982, 0.0, 1.6730450048798982]"
       ]
      },
      {
       "output_type": "stream",
       "stream": "stdout",
       "text": [
        "\n",
        "[16.522473404255319, 0.18443102364883135, 1.6730450048798982, 0.0, 1.6730450048798982, 0.0, 1.6730450048798982, 0.0, 1.6730450048798982, 0.0, 1.6730450048798982, 0.0, 1.6730450048798982, 0.0, 1.6730450048798982, 0.0, 1.6730450048798982]"
       ]
      },
      {
       "output_type": "stream",
       "stream": "stdout",
       "text": [
        "\n"
       ]
      },
      {
       "output_type": "stream",
       "stream": "stderr",
       "text": [
        "//anaconda/lib/python2.7/site-packages/scipy/optimize/optimize.py:816: RuntimeWarning: divide by zero encountered in double_scalars\n",
        "  rhok = 1.0 / (numpy.dot(yk, sk))\n"
       ]
      },
      {
       "metadata": {},
       "output_type": "display_data",
       "png": "[encoded data removed]",
       "text": [
        "<matplotlib.figure.Figure at 0x106c93310>"
       ]
      }
     ],
     "prompt_number": 33
    },
    {
     "cell_type": "code",
     "collapsed": false,
     "input": [
      "nterms     = np.arange(1, 10)\n",
      "chi2       = []\n",
      "BICpenalty = []\n",
      "AICpenalty = []\n",
      "for nterm in nterms:\n",
      "    fourier = Fourier2(phase, flux, dflux, nterm)\n",
      "    guess   = fourier.makeGuess()\n",
      "    BICpenalty.append(len(guess) * np.log(len(fourier.phase)))\n",
      "    AICpenalty.append(len(guess) * 2.0)\n",
      "    chi2.append(optimize.fmin_bfgs(fourier.chi2, x0=[guess], disp=0, full_output=1)[1])\n",
      "chi2 = np.array(chi2)\n",
      "BICpenalty = np.array(BICpenalty)\n",
      "AICpenalty = np.array(AICpenalty)"
     ],
     "language": "python",
     "metadata": {},
     "outputs": [],
     "prompt_number": 34
    },
    {
     "cell_type": "code",
     "collapsed": false,
     "input": [
      "plt.plot(nterms, chi2, label=\"chi2\")\n",
      "plt.plot(nterms, chi2 + BICpenalty, label=\"BIC\")\n",
      "plt.plot(nterms, chi2 + AICpenalty, label=\"AIC\")\n",
      "plt.xlabel(\"N Terms\")\n",
      "plt.ylabel(\"Chi2\")\n",
      "#plt.semilogy()\n",
      "plt.legend()\n",
      "plt.show()"
     ],
     "language": "python",
     "metadata": {},
     "outputs": [
      {
       "metadata": {},
       "output_type": "display_data",
       "png": "[encoded data removed]",
       "text": [
        "<matplotlib.figure.Figure at 0x1067a84d0>"
       ]
      }
     ],
     "prompt_number": 36
    },
    {
     "cell_type": "code",
     "collapsed": false,
     "input": [
      "print nterms[4], nterms[6]"
     ],
     "language": "python",
     "metadata": {},
     "outputs": [
      {
       "output_type": "stream",
       "stream": "stdout",
       "text": [
        "5 7\n"
       ]
      }
     ],
     "prompt_number": 37
    },
    {
     "cell_type": "markdown",
     "metadata": {},
     "source": [
      "so the BIC and AIC suggest a 5 and 7 order polynomial respectively, although I have to say a first order looks pretty good."
     ]
    },
    {
     "cell_type": "code",
     "collapsed": false,
     "input": [],
     "language": "python",
     "metadata": {},
     "outputs": []
    }
   ],
   "metadata": {}
  }
 ]
}