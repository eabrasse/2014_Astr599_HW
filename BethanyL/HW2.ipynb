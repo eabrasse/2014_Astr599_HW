{
 "metadata": {
  "name": "",
  "signature": "sha256:1539c1c85744db58e936f9ef4a77bbda5a18a0fde0844c560a7694513a3067f9"
 },
 "nbformat": 3,
 "nbformat_minor": 0,
 "worksheets": [
  {
   "cells": [
    {
     "cell_type": "code",
     "collapsed": false,
     "input": [
      "import numpy as np\n",
      "import matplotlib.pyplot as plt"
     ],
     "language": "python",
     "metadata": {},
     "outputs": [],
     "prompt_number": 2
    },
    {
     "cell_type": "markdown",
     "metadata": {},
     "source": [
      "Create a function func for the function f(x)=sin(x)."
     ]
    },
    {
     "cell_type": "code",
     "collapsed": false,
     "input": [
      "def func(x):\n",
      "    return np.sin(x)"
     ],
     "language": "python",
     "metadata": {},
     "outputs": [],
     "prompt_number": 3
    },
    {
     "cell_type": "markdown",
     "metadata": {},
     "source": [
      "template of the parent class integrator is provided"
     ]
    },
    {
     "cell_type": "markdown",
     "metadata": {},
     "source": [
      " Add an additional function called integrate(self,func) inside the class Integrator"
     ]
    },
    {
     "cell_type": "code",
     "collapsed": false,
     "input": [
      "class Integrator(object):\n",
      "    def __init__(self, a, b, n):\n",
      "        self.a, self.b, self.n = a, b, n\n",
      "        self.points, self.weights = self.method()\n",
      "        \n",
      "    def method(self):\n",
      "        raise NotImplementedError('no rule in class %s' %self.__class__.__name__)\n",
      "        \n",
      "    def integrate(self, func):\n",
      "        fvals = func(self.points)\n",
      "        return np.dot(fvals,self.weights)"
     ],
     "language": "python",
     "metadata": {},
     "outputs": [],
     "prompt_number": 4
    },
    {
     "cell_type": "markdown",
     "metadata": {},
     "source": [
      "Create a child class of Integrator called Trapezoidal, where you define a function called method(self). This function should return two arrays: x and w corresponding to the points and their current weights.This should be the values correponding to the trapezoidal rule for integration. If you are not familiar with it, you can look for it online"
     ]
    },
    {
     "cell_type": "code",
     "collapsed": false,
     "input": [
      "class Trapezoidal(Integrator):\n",
      "    def __init__(self, a, b, n):\n",
      "        super(Trapezoidal, self).__init__(a,b,n)\n",
      "        \n",
      "    def method(self):\n",
      "        pts = np.linspace(self.a, self.b, self.n)\n",
      "        trapvec = 2*np.ones(self.n)\n",
      "        trapvec[0] = 1\n",
      "        trapvec[self.n-1] = 1\n",
      "        wts = (self.b-self.a)/(2*self.n) * trapvec\n",
      "        return pts, wts        "
     ],
     "language": "python",
     "metadata": {},
     "outputs": [],
     "prompt_number": 5
    },
    {
     "cell_type": "markdown",
     "metadata": {},
     "source": [
      "Create a child class of Integrator called Midpoint. It should do the same as Trapezoidal but employing the midpoint method for numerical integration. If you are not familiar with it, you can look for it online."
     ]
    },
    {
     "cell_type": "code",
     "collapsed": false,
     "input": [
      "class Midpoint(Integrator):\n",
      "    def __init__(self, a, b, n):\n",
      "        super(Midpoint, self).__init__(a,b,n)\n",
      "        \n",
      "    def method(self):\n",
      "        pts = np.linspace(self.a, self.b, self.n)\n",
      "        wts = (self.b-self.a)/self.n * np.ones(self.n)\n",
      "        return pts, wts        "
     ],
     "language": "python",
     "metadata": {},
     "outputs": [],
     "prompt_number": 6
    },
    {
     "cell_type": "markdown",
     "metadata": {},
     "source": [
      "Create a separate function of x that plots \u222b_0^x sin(x)dx=1\u2212cos(x), using the two methods you developed and plot them. Try to use the interact command to show how the plots with the two methods change as you vary the number of points used: n."
     ]
    },
    {
     "cell_type": "code",
     "collapsed": false,
     "input": [
      "%matplotlib inline\n",
      "def ComparePlots(n):\n",
      "    numxvals = 100\n",
      "    xvals = np.linspace(0,4*np.pi,numxvals)\n",
      "    yvalsT = np.zeros(numxvals)\n",
      "    yvalsM = np.zeros(numxvals)\n",
      "    for i in range(numxvals):\n",
      "        x = xvals[i]\n",
      "        t = Trapezoidal(0,x,n)\n",
      "        m = Midpoint(0,x,n)\n",
      "        yvalsT[i] = t.integrate(func)\n",
      "        yvalsM[i] = m.integrate(func)\n",
      "    plt.plot(xvals, yvalsT, label='trapezoidal')\n",
      "    plt.plot(xvals, yvalsM, label='midpoint')\n",
      "    plt.title('Compare Methods')\n",
      "    plt.xlabel('b')\n",
      "    plt.ylabel('integral')\n",
      "    plt.grid()\n",
      "    plt.legend();\n",
      "    \n",
      "    "
     ],
     "language": "python",
     "metadata": {},
     "outputs": [],
     "prompt_number": 11
    },
    {
     "cell_type": "code",
     "collapsed": false,
     "input": [
      "ComparePlots(20)"
     ],
     "language": "python",
     "metadata": {},
     "outputs": [
      {
       "metadata": {},
       "output_type": "display_data",
       "png": "[encoded data removed]",
       "text": [
        "<matplotlib.figure.Figure at 0xa3ccc50>"
       ]
      }
     ],
     "prompt_number": 14
    },
    {
     "cell_type": "code",
     "collapsed": false,
     "input": [],
     "language": "python",
     "metadata": {},
     "outputs": []
    },
    {
     "cell_type": "code",
     "collapsed": false,
     "input": [],
     "language": "python",
     "metadata": {},
     "outputs": []
    }
   ],
   "metadata": {}
  }
 ]
}