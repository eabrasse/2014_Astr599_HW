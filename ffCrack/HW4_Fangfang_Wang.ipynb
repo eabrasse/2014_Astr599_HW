{
 "metadata": {
  "name": "",
  "signature": "sha256:60bec2ef687b0a19752148067a50fb0e1374735a47884ca404abe540129268fb"
 },
 "nbformat": 3,
 "nbformat_minor": 0,
 "worksheets": [
  {
   "cells": [
    {
     "cell_type": "code",
     "collapsed": false,
     "input": [
      "###HW4 Fangfang Wang\n",
      "###UID: 1224541"
     ],
     "language": "python",
     "metadata": {},
     "outputs": []
    },
    {
     "cell_type": "code",
     "collapsed": false,
     "input": [
      "import pandas as pd\n",
      "import numpy as np\n",
      "%matplotlib inline"
     ],
     "language": "python",
     "metadata": {},
     "outputs": [],
     "prompt_number": 1
    },
    {
     "cell_type": "code",
     "collapsed": false,
     "input": [
      "###Read data\n",
      "url1 = 'http://ghdx.healthdata.org/sites/default/files/'\\\n",
      "      'record-attached-files/IHME_PHMRC_VA_DATA_ADULT_Y2013M09D11_0.csv'\n",
      "df = pd.read_csv(url1, low_memory=False)\n",
      "df.head(5)"
     ],
     "language": "python",
     "metadata": {},
     "outputs": [
      {
       "html": [
        "<div style=\"max-height:1000px;max-width:1500px;overflow:auto;\">\n",
        "<table border=\"1\" class=\"dataframe\">\n",
        "  <thead>\n",
        "    <tr style=\"text-align: right;\">\n",
        "      <th></th>\n",
        "      <th>site</th>\n",
        "      <th>module</th>\n",
        "      <th>gs_code34</th>\n",
        "      <th>gs_text34</th>\n",
        "      <th>va34</th>\n",
        "      <th>gs_code46</th>\n",
        "      <th>gs_text46</th>\n",
        "      <th>va46</th>\n",
        "      <th>gs_code55</th>\n",
        "      <th>gs_text55</th>\n",
        "      <th>...</th>\n",
        "      <th>word_woman</th>\n",
        "      <th>word_womb</th>\n",
        "      <th>word_worri</th>\n",
        "      <th>word_wors</th>\n",
        "      <th>word_worsen</th>\n",
        "      <th>word_worst</th>\n",
        "      <th>word_wound</th>\n",
        "      <th>word_xray</th>\n",
        "      <th>word_yellow</th>\n",
        "      <th>newid</th>\n",
        "    </tr>\n",
        "  </thead>\n",
        "  <tbody>\n",
        "    <tr>\n",
        "      <th>0</th>\n",
        "      <td> Mexico</td>\n",
        "      <td> Adult</td>\n",
        "      <td> K71</td>\n",
        "      <td>                   Cirrhosis</td>\n",
        "      <td>  6</td>\n",
        "      <td> K71</td>\n",
        "      <td>                   Cirrhosis</td>\n",
        "      <td>  8</td>\n",
        "      <td> K71</td>\n",
        "      <td>                   Cirrhosis</td>\n",
        "      <td>...</td>\n",
        "      <td> 0</td>\n",
        "      <td> 0</td>\n",
        "      <td> 0</td>\n",
        "      <td> 0</td>\n",
        "      <td> 0</td>\n",
        "      <td> 0</td>\n",
        "      <td> 0</td>\n",
        "      <td> 0</td>\n",
        "      <td> 0</td>\n",
        "      <td> 1</td>\n",
        "    </tr>\n",
        "    <tr>\n",
        "      <th>1</th>\n",
        "      <td>     AP</td>\n",
        "      <td> Adult</td>\n",
        "      <td> G40</td>\n",
        "      <td>                    Epilepsy</td>\n",
        "      <td> 12</td>\n",
        "      <td> G40</td>\n",
        "      <td>                    Epilepsy</td>\n",
        "      <td> 16</td>\n",
        "      <td> G40</td>\n",
        "      <td>                    Epilepsy</td>\n",
        "      <td>...</td>\n",
        "      <td> 0</td>\n",
        "      <td> 0</td>\n",
        "      <td> 0</td>\n",
        "      <td> 0</td>\n",
        "      <td> 0</td>\n",
        "      <td> 0</td>\n",
        "      <td> 0</td>\n",
        "      <td> 0</td>\n",
        "      <td> 0</td>\n",
        "      <td> 2</td>\n",
        "    </tr>\n",
        "    <tr>\n",
        "      <th>2</th>\n",
        "      <td>     AP</td>\n",
        "      <td> Adult</td>\n",
        "      <td> J12</td>\n",
        "      <td>                   Pneumonia</td>\n",
        "      <td> 26</td>\n",
        "      <td> J12</td>\n",
        "      <td>                   Pneumonia</td>\n",
        "      <td> 37</td>\n",
        "      <td> J12</td>\n",
        "      <td>                   Pneumonia</td>\n",
        "      <td>...</td>\n",
        "      <td> 0</td>\n",
        "      <td> 0</td>\n",
        "      <td> 0</td>\n",
        "      <td> 0</td>\n",
        "      <td> 0</td>\n",
        "      <td> 0</td>\n",
        "      <td> 0</td>\n",
        "      <td> 0</td>\n",
        "      <td> 0</td>\n",
        "      <td> 3</td>\n",
        "    </tr>\n",
        "    <tr>\n",
        "      <th>3</th>\n",
        "      <td> Mexico</td>\n",
        "      <td> Adult</td>\n",
        "      <td> J33</td>\n",
        "      <td>                        COPD</td>\n",
        "      <td>  8</td>\n",
        "      <td> J33</td>\n",
        "      <td>                        COPD</td>\n",
        "      <td> 10</td>\n",
        "      <td> J33</td>\n",
        "      <td>                        COPD</td>\n",
        "      <td>...</td>\n",
        "      <td> 0</td>\n",
        "      <td> 0</td>\n",
        "      <td> 0</td>\n",
        "      <td> 0</td>\n",
        "      <td> 0</td>\n",
        "      <td> 0</td>\n",
        "      <td> 0</td>\n",
        "      <td> 0</td>\n",
        "      <td> 0</td>\n",
        "      <td> 4</td>\n",
        "    </tr>\n",
        "    <tr>\n",
        "      <th>4</th>\n",
        "      <td>     UP</td>\n",
        "      <td> Adult</td>\n",
        "      <td> I21</td>\n",
        "      <td> Acute Myocardial Infarction</td>\n",
        "      <td> 17</td>\n",
        "      <td> I21</td>\n",
        "      <td> Acute Myocardial Infarction</td>\n",
        "      <td> 23</td>\n",
        "      <td> I21</td>\n",
        "      <td> Acute Myocardial Infarction</td>\n",
        "      <td>...</td>\n",
        "      <td> 0</td>\n",
        "      <td> 0</td>\n",
        "      <td> 0</td>\n",
        "      <td> 0</td>\n",
        "      <td> 0</td>\n",
        "      <td> 0</td>\n",
        "      <td> 0</td>\n",
        "      <td> 0</td>\n",
        "      <td> 0</td>\n",
        "      <td> 5</td>\n",
        "    </tr>\n",
        "  </tbody>\n",
        "</table>\n",
        "<p>5 rows \u00d7 946 columns</p>\n",
        "</div>"
       ],
       "metadata": {},
       "output_type": "pyout",
       "prompt_number": 6,
       "text": [
        "     site module gs_code34                    gs_text34  va34 gs_code46  \\\n",
        "0  Mexico  Adult       K71                    Cirrhosis     6       K71   \n",
        "1      AP  Adult       G40                     Epilepsy    12       G40   \n",
        "2      AP  Adult       J12                    Pneumonia    26       J12   \n",
        "3  Mexico  Adult       J33                         COPD     8       J33   \n",
        "4      UP  Adult       I21  Acute Myocardial Infarction    17       I21   \n",
        "\n",
        "                     gs_text46  va46 gs_code55                    gs_text55  \\\n",
        "0                    Cirrhosis     8       K71                    Cirrhosis   \n",
        "1                     Epilepsy    16       G40                     Epilepsy   \n",
        "2                    Pneumonia    37       J12                    Pneumonia   \n",
        "3                         COPD    10       J33                         COPD   \n",
        "4  Acute Myocardial Infarction    23       I21  Acute Myocardial Infarction   \n",
        "\n",
        "              ...               word_woman word_womb word_worri word_wors  \\\n",
        "0             ...                        0         0          0         0   \n",
        "1             ...                        0         0          0         0   \n",
        "2             ...                        0         0          0         0   \n",
        "3             ...                        0         0          0         0   \n",
        "4             ...                        0         0          0         0   \n",
        "\n",
        "  word_worsen word_worst word_wound word_xray word_yellow newid  \n",
        "0           0          0          0         0           0     1  \n",
        "1           0          0          0         0           0     2  \n",
        "2           0          0          0         0           0     3  \n",
        "3           0          0          0         0           0     4  \n",
        "4           0          0          0         0           0     5  \n",
        "\n",
        "[5 rows x 946 columns]"
       ]
      }
     ],
     "prompt_number": 6
    },
    {
     "cell_type": "code",
     "collapsed": false,
     "input": [
      "##Read cookbook\n",
      "url2 = 'http://ghdx.healthdata.org/sites/default/files/'\\\n",
      "      'record-attached-files/IHME_PHMRC_VA_DATA_CODEBOOK_Y2013M09D11_0.xlsx'\n",
      "cb = pd.read_excel(url2)\n",
      "cb.head(5)"
     ],
     "language": "python",
     "metadata": {},
     "outputs": [
      {
       "html": [
        "<div style=\"max-height:1000px;max-width:1500px;overflow:auto;\">\n",
        "<table border=\"1\" class=\"dataframe\">\n",
        "  <thead>\n",
        "    <tr style=\"text-align: right;\">\n",
        "      <th></th>\n",
        "      <th>variable</th>\n",
        "      <th>question</th>\n",
        "      <th>module</th>\n",
        "      <th>health_care_experience</th>\n",
        "      <th>coding</th>\n",
        "    </tr>\n",
        "  </thead>\n",
        "  <tbody>\n",
        "    <tr>\n",
        "      <th>0</th>\n",
        "      <td>         site</td>\n",
        "      <td>                                Site</td>\n",
        "      <td> General</td>\n",
        "      <td> 0</td>\n",
        "      <td> NaN</td>\n",
        "    </tr>\n",
        "    <tr>\n",
        "      <th>1</th>\n",
        "      <td>        newid</td>\n",
        "      <td>                            Study ID</td>\n",
        "      <td> General</td>\n",
        "      <td> 0</td>\n",
        "      <td> NaN</td>\n",
        "    </tr>\n",
        "    <tr>\n",
        "      <th>2</th>\n",
        "      <td> gs_diagnosis</td>\n",
        "      <td>        Gold Standard Diagnosis Code</td>\n",
        "      <td> General</td>\n",
        "      <td> 0</td>\n",
        "      <td> NaN</td>\n",
        "    </tr>\n",
        "    <tr>\n",
        "      <th>3</th>\n",
        "      <td> gs_comorbid1</td>\n",
        "      <td> Gold Standard Comorbid Conditions 1</td>\n",
        "      <td> General</td>\n",
        "      <td> 0</td>\n",
        "      <td> NaN</td>\n",
        "    </tr>\n",
        "    <tr>\n",
        "      <th>4</th>\n",
        "      <td> gs_comorbid2</td>\n",
        "      <td> Gold Standard Comorbid Conditions 2</td>\n",
        "      <td> General</td>\n",
        "      <td> 0</td>\n",
        "      <td> NaN</td>\n",
        "    </tr>\n",
        "  </tbody>\n",
        "</table>\n",
        "</div>"
       ],
       "metadata": {},
       "output_type": "pyout",
       "prompt_number": 7,
       "text": [
        "       variable                             question   module  \\\n",
        "0          site                                 Site  General   \n",
        "1         newid                             Study ID  General   \n",
        "2  gs_diagnosis         Gold Standard Diagnosis Code  General   \n",
        "3  gs_comorbid1  Gold Standard Comorbid Conditions 1  General   \n",
        "4  gs_comorbid2  Gold Standard Comorbid Conditions 2  General   \n",
        "\n",
        "   health_care_experience coding  \n",
        "0                       0    NaN  \n",
        "1                       0    NaN  \n",
        "2                       0    NaN  \n",
        "3                       0    NaN  \n",
        "4                       0    NaN  "
       ]
      }
     ],
     "prompt_number": 7
    },
    {
     "cell_type": "code",
     "collapsed": false,
     "input": [
      "##Find column \"Did __ have a fever?\""
     ],
     "language": "python",
     "metadata": {},
     "outputs": [],
     "prompt_number": 7
    },
    {
     "cell_type": "code",
     "collapsed": false,
     "input": [
      "cb.question.str"
     ],
     "language": "python",
     "metadata": {},
     "outputs": [
      {
       "metadata": {},
       "output_type": "pyout",
       "prompt_number": 8,
       "text": [
        "<pandas.core.strings.StringMethods at 0x7f2ccf565a50>"
       ]
      }
     ],
     "prompt_number": 8
    },
    {
     "cell_type": "code",
     "collapsed": false,
     "input": [
      "q=cb[cb.question==\"Did [name] have a fever?\"]"
     ],
     "language": "python",
     "metadata": {},
     "outputs": [],
     "prompt_number": 11
    },
    {
     "cell_type": "code",
     "collapsed": false,
     "input": [
      "q"
     ],
     "language": "python",
     "metadata": {},
     "outputs": [
      {
       "html": [
        "<div style=\"max-height:1000px;max-width:1500px;overflow:auto;\">\n",
        "<table border=\"1\" class=\"dataframe\">\n",
        "  <thead>\n",
        "    <tr style=\"text-align: right;\">\n",
        "      <th></th>\n",
        "      <th>variable</th>\n",
        "      <th>question</th>\n",
        "      <th>module</th>\n",
        "      <th>health_care_experience</th>\n",
        "      <th>coding</th>\n",
        "    </tr>\n",
        "  </thead>\n",
        "  <tbody>\n",
        "    <tr>\n",
        "      <th>79</th>\n",
        "      <td> a2_02</td>\n",
        "      <td> Did [name] have a fever?</td>\n",
        "      <td> Adult</td>\n",
        "      <td> 0</td>\n",
        "      <td> 0 \"No\" 1 \"Yes\" 8 \"Refused to Answer\" 9 \"Don't ...</td>\n",
        "    </tr>\n",
        "  </tbody>\n",
        "</table>\n",
        "</div>"
       ],
       "metadata": {},
       "output_type": "pyout",
       "prompt_number": 12,
       "text": [
        "   variable                  question module  health_care_experience  \\\n",
        "79    a2_02  Did [name] have a fever?  Adult                       0   \n",
        "\n",
        "                                               coding  \n",
        "79  0 \"No\" 1 \"Yes\" 8 \"Refused to Answer\" 9 \"Don't ...  "
       ]
      }
     ],
     "prompt_number": 12
    },
    {
     "cell_type": "code",
     "collapsed": false,
     "input": [
      "var=str(q.iloc[0,0])\n",
      "var"
     ],
     "language": "python",
     "metadata": {},
     "outputs": [
      {
       "metadata": {},
       "output_type": "pyout",
       "prompt_number": 20,
       "text": [
        "'a2_02'"
       ]
      }
     ],
     "prompt_number": 20
    },
    {
     "cell_type": "code",
     "collapsed": false,
     "input": [
      "# Find the cause with the highest endorsement rate for the symptom \"fever\" among Adult deaths"
     ],
     "language": "python",
     "metadata": {},
     "outputs": [],
     "prompt_number": 21
    },
    {
     "cell_type": "code",
     "collapsed": false,
     "input": [
      "df['fever'] = (df[var] == 'Yes')*1"
     ],
     "language": "python",
     "metadata": {},
     "outputs": [],
     "prompt_number": 27
    },
    {
     "cell_type": "code",
     "collapsed": false,
     "input": [
      "dfa = df[df.module == \"Adult\"]\n",
      "###This can be ignored, since the data ara all adult...\n",
      "df.module.value_counts()"
     ],
     "language": "python",
     "metadata": {},
     "outputs": [],
     "prompt_number": 29
    },
    {
     "cell_type": "code",
     "collapsed": false,
     "input": [
      "ed=(dfa.groupby('gs_text34').fever.mean()).order()\n",
      "ed.nlargest(2)\n"
     ],
     "language": "python",
     "metadata": {},
     "outputs": [
      {
       "metadata": {},
       "output_type": "pyout",
       "prompt_number": 32,
       "text": [
        "gs_text34\n",
        "Malaria      0.860000\n",
        "AIDS         0.794821\n",
        "Name: fever, dtype: float64"
       ]
      }
     ],
     "prompt_number": 32
    },
    {
     "cell_type": "code",
     "collapsed": false,
     "input": [
      "#Display the cause-specific endorsement rates visually\n",
      "(dfa.groupby('gs_text34').fever.mean() * 100).order().plot(kind='barh', figsize=(12,12))\n",
      "plt.xlabel('Endorsement Rate (%)')\n"
     ],
     "language": "python",
     "metadata": {},
     "outputs": [
      {
       "metadata": {},
       "output_type": "pyout",
       "prompt_number": 56,
       "text": [
        "<matplotlib.text.Text at 0x7f2cd67a6dd0>"
       ]
      },
      {
       "metadata": {},
       "output_type": "display_data",
       "png": "[encoded data removed]",
       "text": [
        "<matplotlib.figure.Figure at 0x7f2cd65ec850>"
       ]
      }
     ],
     "prompt_number": 56
    },
    {
     "cell_type": "code",
     "collapsed": false,
     "input": [
      "#Find the question that asks if the deceased had AIDS\n",
      "#The question is 'Did Decedent Have AIDS?'\n",
      "q2=cb[cb.question==\"Did Decedent Have AIDS?\"]\n",
      "var2=str(q2.iloc[0,0])\n",
      "var2"
     ],
     "language": "python",
     "metadata": {},
     "outputs": [
      {
       "metadata": {},
       "output_type": "pyout",
       "prompt_number": 39,
       "text": [
        "'a1_01_14'"
       ]
      }
     ],
     "prompt_number": 39
    },
    {
     "cell_type": "code",
     "collapsed": false,
     "input": [
      "df['AIDS'] = (df[var2] == 'Yes')*1"
     ],
     "language": "python",
     "metadata": {},
     "outputs": [],
     "prompt_number": 51
    },
    {
     "cell_type": "code",
     "collapsed": false,
     "input": [
      "###2x2 table showing people died with AIDS and not.\n",
      "df['AIDS'].value_counts()"
     ],
     "language": "python",
     "metadata": {},
     "outputs": [
      {
       "metadata": {},
       "output_type": "pyout",
       "prompt_number": 54,
       "text": [
        "0    7398\n",
        "1     443\n",
        "dtype: int64"
       ]
      }
     ],
     "prompt_number": 54
    },
    {
     "cell_type": "code",
     "collapsed": false,
     "input": [
      "#Compare this 2x2 table across study sites\n",
      "###Using groupby \n",
      "df.groupby('site').AIDS.value_counts()"
     ],
     "language": "python",
     "metadata": {},
     "outputs": [
      {
       "metadata": {},
       "output_type": "pyout",
       "prompt_number": 57,
       "text": [
        "site     \n",
        "AP      0    1479\n",
        "        1      75\n",
        "Bohol   0    1259\n",
        "Dar     0    1502\n",
        "        1     224\n",
        "Mexico  0    1489\n",
        "        1      97\n",
        "Pemba   0     294\n",
        "        1       3\n",
        "UP      0    1375\n",
        "        1      44\n",
        "dtype: int64"
       ]
      }
     ],
     "prompt_number": 57
    },
    {
     "cell_type": "code",
     "collapsed": false,
     "input": [
      "#Now do a series of 2x2 tables comparing the percent \n",
      "#of deaths truely due to AIDS for which \"Had AIDS\" question was endorsed"
     ],
     "language": "python",
     "metadata": {},
     "outputs": []
    }
   ],
   "metadata": {}
  }
 ]
}