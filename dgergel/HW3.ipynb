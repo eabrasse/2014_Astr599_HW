{
 "metadata": {
  "name": "",
  "signature": "sha256:02acd624baa2599c3752048f1a31bd34d6fbd0df49e70657c1d8d8ca0b975f45"
 },
 "nbformat": 3,
 "nbformat_minor": 0,
 "worksheets": [
  {
   "cells": [
    {
     "cell_type": "code",
     "collapsed": false,
     "input": [
      "# !pip install astroML\n",
      "# !pip install astroML_addons"
     ],
     "language": "python",
     "metadata": {},
     "outputs": [],
     "prompt_number": 8
    },
    {
     "cell_type": "code",
     "collapsed": false,
     "input": [
      "%matplotlib inline\n",
      "import astroML.datasets\n",
      "import numpy as np\n",
      "import matplotlib.pyplot as plt\n",
      "lcs = astroML.datasets.fetch_LINEAR_sample()\n",
      "print lcs"
     ],
     "language": "python",
     "metadata": {},
     "outputs": [
      {
       "output_type": "stream",
       "stream": "stdout",
       "text": [
        "Downloading http://www.astro.washington.edu/users/ivezic/linear/allDataFinal/allLINEARfinal_targets.dat\n",
        "[=                                      ]  25.0kb / 1001.2kb   \r"
       ]
      },
      {
       "output_type": "stream",
       "stream": "stdout",
       "text": [
        "[==                                     ]  50.1kb / 1001.2kb   \r"
       ]
      },
      {
       "output_type": "stream",
       "stream": "stdout",
       "text": [
        "[===                                    ]  75.1kb / 1001.2kb   \r"
       ]
      },
      {
       "output_type": "stream",
       "stream": "stdout",
       "text": [
        "[====                                   ]  100.1kb / 1001.2kb   \r"
       ]
      },
      {
       "output_type": "stream",
       "stream": "stdout",
       "text": [
        "[=====                                  ]  125.2kb / 1001.2kb   \r"
       ]
      },
      {
       "output_type": "stream",
       "stream": "stdout",
       "text": [
        "[======                                 ]  150.2kb / 1001.2kb   \r"
       ]
      },
      {
       "output_type": "stream",
       "stream": "stdout",
       "text": [
        "[=======                                ]  175.2kb / 1001.2kb   \r"
       ]
      },
      {
       "output_type": "stream",
       "stream": "stdout",
       "text": [
        "[========                               ]  200.2kb / 1001.2kb   \r"
       ]
      },
      {
       "output_type": "stream",
       "stream": "stdout",
       "text": [
        "[=========                              ]  225.3kb / 1001.2kb   \r"
       ]
      },
      {
       "output_type": "stream",
       "stream": "stdout",
       "text": [
        "[==========                             ]  250.3kb / 1001.2kb   \r"
       ]
      },
      {
       "output_type": "stream",
       "stream": "stdout",
       "text": [
        "[===========                            ]  275.3kb / 1001.2kb   \r"
       ]
      },
      {
       "output_type": "stream",
       "stream": "stdout",
       "text": [
        "[============                           ]  300.4kb / 1001.2kb   \r"
       ]
      },
      {
       "output_type": "stream",
       "stream": "stdout",
       "text": [
        "[=============                          ]  325.4kb / 1001.2kb   \r"
       ]
      },
      {
       "output_type": "stream",
       "stream": "stdout",
       "text": [
        "[==============                         ]  350.4kb / 1001.2kb   \r"
       ]
      },
      {
       "output_type": "stream",
       "stream": "stdout",
       "text": [
        "[===============                        ]  375.5kb / 1001.2kb   \r"
       ]
      },
      {
       "output_type": "stream",
       "stream": "stdout",
       "text": [
        "[================                       ]  400.5kb / 1001.2kb   \r"
       ]
      },
      {
       "output_type": "stream",
       "stream": "stdout",
       "text": [
        "[=================                      ]  425.5kb / 1001.2kb   \r"
       ]
      },
      {
       "output_type": "stream",
       "stream": "stdout",
       "text": [
        "[==================                     ]  450.5kb / 1001.2kb   \r"
       ]
      },
      {
       "output_type": "stream",
       "stream": "stdout",
       "text": [
        "[===================                    ]  475.6kb / 1001.2kb   \r"
       ]
      },
      {
       "output_type": "stream",
       "stream": "stdout",
       "text": [
        "[====================                   ]  500.6kb / 1001.2kb   \r"
       ]
      },
      {
       "output_type": "stream",
       "stream": "stdout",
       "text": [
        "[=====================                  ]  525.6kb / 1001.2kb   \r"
       ]
      },
      {
       "output_type": "stream",
       "stream": "stdout",
       "text": [
        "[======================                 ]  550.7kb / 1001.2kb   \r"
       ]
      },
      {
       "output_type": "stream",
       "stream": "stdout",
       "text": [
        "[=======================                ]  575.7kb / 1001.2kb   \r"
       ]
      },
      {
       "output_type": "stream",
       "stream": "stdout",
       "text": [
        "[========================               ]  600.7kb / 1001.2kb   \r"
       ]
      },
      {
       "output_type": "stream",
       "stream": "stdout",
       "text": [
        "[=========================              ]  625.8kb / 1001.2kb   \r"
       ]
      },
      {
       "output_type": "stream",
       "stream": "stdout",
       "text": [
        "[==========================             ]  650.8kb / 1001.2kb   \r"
       ]
      },
      {
       "output_type": "stream",
       "stream": "stdout",
       "text": [
        "[===========================            ]  675.8kb / 1001.2kb   \r"
       ]
      },
      {
       "output_type": "stream",
       "stream": "stdout",
       "text": [
        "[============================           ]  700.8kb / 1001.2kb   \r"
       ]
      },
      {
       "output_type": "stream",
       "stream": "stdout",
       "text": [
        "[=============================          ]  725.9kb / 1001.2kb   \r"
       ]
      },
      {
       "output_type": "stream",
       "stream": "stdout",
       "text": [
        "[==============================         ]  750.9kb / 1001.2kb   \r"
       ]
      },
      {
       "output_type": "stream",
       "stream": "stdout",
       "text": [
        "[===============================        ]  775.9kb / 1001.2kb   \r"
       ]
      },
      {
       "output_type": "stream",
       "stream": "stdout",
       "text": [
        "[================================       ]  801.0kb / 1001.2kb   \r"
       ]
      },
      {
       "output_type": "stream",
       "stream": "stdout",
       "text": [
        "[=================================      ]  826.0kb / 1001.2kb   \r"
       ]
      },
      {
       "output_type": "stream",
       "stream": "stdout",
       "text": [
        "[==================================     ]  851.0kb / 1001.2kb   \r"
       ]
      },
      {
       "output_type": "stream",
       "stream": "stdout",
       "text": [
        "[===================================    ]  876.1kb / 1001.2kb   \r"
       ]
      },
      {
       "output_type": "stream",
       "stream": "stdout",
       "text": [
        "[====================================   ]  901.1kb / 1001.2kb   \r"
       ]
      },
      {
       "output_type": "stream",
       "stream": "stdout",
       "text": [
        "[=====================================  ]  926.1kb / 1001.2kb   \r"
       ]
      },
      {
       "output_type": "stream",
       "stream": "stdout",
       "text": [
        "[====================================== ]  951.2kb / 1001.2kb   \r"
       ]
      },
      {
       "output_type": "stream",
       "stream": "stdout",
       "text": [
        "[=======================================]  976.2kb / 1001.2kb   \r"
       ]
      },
      {
       "output_type": "stream",
       "stream": "stdout",
       "text": [
        "[========================================]  1001.2kb / 1001.2kb   \r"
       ]
      },
      {
       "output_type": "stream",
       "stream": "stdout",
       "text": [
        "[=========================================]  1001.2kb / 1001.2kb   \r"
       ]
      },
      {
       "output_type": "stream",
       "stream": "stdout",
       "text": [
        "\n",
        "Downloading http://www.astro.washington.edu/users/ivezic/linear/allDataFinal/allLINEARfinal_dat.tar.gz"
       ]
      },
      {
       "output_type": "stream",
       "stream": "stdout",
       "text": [
        "\n",
        "[=                                      ]  410.9kb / 16.05Mb   \r"
       ]
      },
      {
       "output_type": "stream",
       "stream": "stdout",
       "text": [
        "[==                                     ]  821.9kb / 16.05Mb   \r"
       ]
      },
      {
       "output_type": "stream",
       "stream": "stdout",
       "text": [
        "[===                                    ]  1.20Mb / 16.05Mb   \r"
       ]
      },
      {
       "output_type": "stream",
       "stream": "stdout",
       "text": [
        "[====                                   ]  1.61Mb / 16.05Mb   \r"
       ]
      },
      {
       "output_type": "stream",
       "stream": "stdout",
       "text": [
        "[=====                                  ]  2.01Mb / 16.05Mb   \r"
       ]
      },
      {
       "output_type": "stream",
       "stream": "stdout",
       "text": [
        "[======                                 ]  2.41Mb / 16.05Mb   \r"
       ]
      },
      {
       "output_type": "stream",
       "stream": "stdout",
       "text": [
        "[=======                                ]  2.81Mb / 16.05Mb   \r"
       ]
      },
      {
       "output_type": "stream",
       "stream": "stdout",
       "text": [
        "[========                               ]  3.21Mb / 16.05Mb   \r"
       ]
      },
      {
       "output_type": "stream",
       "stream": "stdout",
       "text": [
        "[=========                              ]  3.61Mb / 16.05Mb   \r"
       ]
      },
      {
       "output_type": "stream",
       "stream": "stdout",
       "text": [
        "[==========                             ]  4.01Mb / 16.05Mb   \r"
       ]
      },
      {
       "output_type": "stream",
       "stream": "stdout",
       "text": [
        "[===========                            ]  4.41Mb / 16.05Mb   \r"
       ]
      },
      {
       "output_type": "stream",
       "stream": "stdout",
       "text": [
        "[============                           ]  4.82Mb / 16.05Mb   \r"
       ]
      },
      {
       "output_type": "stream",
       "stream": "stdout",
       "text": [
        "[=============                          ]  5.22Mb / 16.05Mb   \r"
       ]
      },
      {
       "output_type": "stream",
       "stream": "stdout",
       "text": [
        "[==============                         ]  5.62Mb / 16.05Mb   \r"
       ]
      },
      {
       "output_type": "stream",
       "stream": "stdout",
       "text": [
        "[===============                        ]  6.02Mb / 16.05Mb   \r"
       ]
      },
      {
       "output_type": "stream",
       "stream": "stdout",
       "text": [
        "[================                       ]  6.42Mb / 16.05Mb   \r"
       ]
      },
      {
       "output_type": "stream",
       "stream": "stdout",
       "text": [
        "[=================                      ]  6.82Mb / 16.05Mb   \r"
       ]
      },
      {
       "output_type": "stream",
       "stream": "stdout",
       "text": [
        "[==================                     ]  7.22Mb / 16.05Mb   \r"
       ]
      },
      {
       "output_type": "stream",
       "stream": "stdout",
       "text": [
        "[===================                    ]  7.62Mb / 16.05Mb   \r"
       ]
      },
      {
       "output_type": "stream",
       "stream": "stdout",
       "text": [
        "[====================                   ]  8.03Mb / 16.05Mb   \r"
       ]
      },
      {
       "output_type": "stream",
       "stream": "stdout",
       "text": [
        "[=====================                  ]  8.43Mb / 16.05Mb   \r"
       ]
      },
      {
       "output_type": "stream",
       "stream": "stdout",
       "text": [
        "[======================                 ]  8.83Mb / 16.05Mb   \r"
       ]
      },
      {
       "output_type": "stream",
       "stream": "stdout",
       "text": [
        "[=======================                ]  9.23Mb / 16.05Mb   \r"
       ]
      },
      {
       "output_type": "stream",
       "stream": "stdout",
       "text": [
        "[========================               ]  9.63Mb / 16.05Mb   \r"
       ]
      },
      {
       "output_type": "stream",
       "stream": "stdout",
       "text": [
        "[=========================              ]  10.03Mb / 16.05Mb   \r"
       ]
      },
      {
       "output_type": "stream",
       "stream": "stdout",
       "text": [
        "[==========================             ]  10.43Mb / 16.05Mb   \r"
       ]
      },
      {
       "output_type": "stream",
       "stream": "stdout",
       "text": [
        "[===========================            ]  10.84Mb / 16.05Mb   \r"
       ]
      },
      {
       "output_type": "stream",
       "stream": "stdout",
       "text": [
        "[============================           ]  11.24Mb / 16.05Mb   \r"
       ]
      },
      {
       "output_type": "stream",
       "stream": "stdout",
       "text": [
        "[=============================          ]  11.64Mb / 16.05Mb   \r"
       ]
      },
      {
       "output_type": "stream",
       "stream": "stdout",
       "text": [
        "[==============================         ]  12.04Mb / 16.05Mb   \r"
       ]
      },
      {
       "output_type": "stream",
       "stream": "stdout",
       "text": [
        "[===============================        ]  12.44Mb / 16.05Mb   \r"
       ]
      },
      {
       "output_type": "stream",
       "stream": "stdout",
       "text": [
        "[================================       ]  12.84Mb / 16.05Mb   \r"
       ]
      },
      {
       "output_type": "stream",
       "stream": "stdout",
       "text": [
        "[=================================      ]  13.24Mb / 16.05Mb   \r"
       ]
      },
      {
       "output_type": "stream",
       "stream": "stdout",
       "text": [
        "[==================================     ]  13.64Mb / 16.05Mb   \r"
       ]
      },
      {
       "output_type": "stream",
       "stream": "stdout",
       "text": [
        "[===================================    ]  14.05Mb / 16.05Mb   \r"
       ]
      },
      {
       "output_type": "stream",
       "stream": "stdout",
       "text": [
        "[====================================   ]  14.45Mb / 16.05Mb   \r"
       ]
      },
      {
       "output_type": "stream",
       "stream": "stdout",
       "text": [
        "[=====================================  ]  14.85Mb / 16.05Mb   \r"
       ]
      },
      {
       "output_type": "stream",
       "stream": "stdout",
       "text": [
        "[====================================== ]  15.25Mb / 16.05Mb   \r"
       ]
      },
      {
       "output_type": "stream",
       "stream": "stdout",
       "text": [
        "[=======================================]  15.65Mb / 16.05Mb   \r"
       ]
      },
      {
       "output_type": "stream",
       "stream": "stdout",
       "text": [
        "[========================================]  16.05Mb / 16.05Mb   \r"
       ]
      },
      {
       "output_type": "stream",
       "stream": "stdout",
       "text": [
        "[=========================================]  16.05Mb / 16.05Mb   \r"
       ]
      },
      {
       "output_type": "stream",
       "stream": "stdout",
       "text": [
        "\n",
        "<astroML.datasets.LINEAR_sample.LINEARdata object at 0x10739da10>"
       ]
      },
      {
       "output_type": "stream",
       "stream": "stdout",
       "text": [
        "\n"
       ]
      }
     ],
     "prompt_number": 3
    },
    {
     "cell_type": "code",
     "collapsed": false,
     "input": [
      "time, flux, dflux = lcs[10003298].T\n",
      "## plot raw lightcurve\n",
      "plt.errorbar(time,flux,yerr=dflux,fmt='ro')\n",
      "plt.gca().invert_yaxis()\n",
      "plt.xlabel('mean julian day')\n",
      "plt.ylabel('mag')\n",
      "plt.show()"
     ],
     "language": "python",
     "metadata": {},
     "outputs": [
      {
       "metadata": {},
       "output_type": "display_data",
       "png": "[encoded data removed]",
       "text": [
        "<matplotlib.figure.Figure at 0x10739d910>"
       ]
      }
     ],
     "prompt_number": 7
    },
    {
     "cell_type": "code",
     "collapsed": false,
     "input": [
      "## periodogram is basically a normalized inverse X^2, so max of it is a best-fit Fourier series\n",
      "from astroML.time_series import lomb_scargle\n",
      "periods = np.logspace(-1,0,10000,base=10)\n",
      "periodogram = lomb_scargle(time,flux,dflux,omega=2 * np.pi / periods, generalized=True)\n",
      "plt.plot(periods,periodogram)\n",
      "plt.semilogx()\n",
      "plt.xlabel('period (days)')\n",
      "plt.ylabel('power')\n",
      "plt.show()"
     ],
     "language": "python",
     "metadata": {},
     "outputs": [
      {
       "metadata": {},
       "output_type": "display_data",
       "png": "[encoded data removed]",
       "text": [
        "<matplotlib.figure.Figure at 0x102743b90>"
       ]
      }
     ],
     "prompt_number": 9
    },
    {
     "cell_type": "code",
     "collapsed": false,
     "input": [
      "## find peak using argmax\n",
      "idx = np.argmax(periodogram)\n",
      "print periods[idx], periodogram[idx]\n",
      "## fold the lightcurve at this \"best period\"\n",
      "period = periods[idx]\n",
      "phase = time / period - time // period\n",
      "print (min(phase), max(phase))\n",
      "plt.errorbar(phase,flux,yerr=dflux,fmt='ro')\n",
      "plt.gca().invert_yaxis()\n",
      "plt.xlabel('phase')\n",
      "plt.ylabel('mag')\n",
      "plt.show()"
     ],
     "language": "python",
     "metadata": {},
     "outputs": [
      {
       "output_type": "stream",
       "stream": "stdout",
       "text": [
        "0.141551700655 0.563005547447\n",
        "(0.015862399246543646, 0.99456532107433304)\n"
       ]
      },
      {
       "metadata": {},
       "output_type": "display_data",
       "png": "[encoded data removed]",
       "text": [
        "<matplotlib.figure.Figure at 0x107aeb6d0>"
       ]
      }
     ],
     "prompt_number": 13
    },
    {
     "cell_type": "code",
     "collapsed": false,
     "input": [
      "class Fourier(object):\n",
      "    def __init__(self, phase, flux, dflux, nterms):\n",
      "        self.phase = phase\n",
      "        self.flux = flux\n",
      "        self.dflux = dflux\n",
      "        self.nterms = nterms\n",
      "        assert(self.nterms > 0)\n",
      "        \n",
      "    def evaluate(self, phase, terms):\n",
      "        assert(len(terms) == 2 * self.nterms - 1)\n",
      "        model = terms[0] * np.ones(len(phase))\n",
      "        for i in range(self.nterms-1):\n",
      "            model += terms[2*i + 1] * np.cos(2 * np.pi * (i + 1) * phase + terms[2*i + 2])\n",
      "        return model\n",
      "    def chi2(self,args):\n",
      "        model = self.evaluate(self.phase,args)\n",
      "        chi = (model-self.flux) / self.dflux\n",
      "        return np.sum(chi**2)"
     ],
     "language": "python",
     "metadata": {},
     "outputs": [],
     "prompt_number": 14
    },
    {
     "cell_type": "code",
     "collapsed": false,
     "input": [
      "fourier = Fourier(phase,flux,dflux,1)\n",
      "mphase = np.arange(0,1,0.01)\n",
      "model = fourier.evaluate(mphase, [10])\n",
      "plt.plot(mphase,model, 'k-')\n",
      "plt.gca().invert_yaxis()\n",
      "plt.xlabel('phase')\n",
      "plt.ylabel('model mag')\n",
      "plt.show()"
     ],
     "language": "python",
     "metadata": {},
     "outputs": [
      {
       "metadata": {},
       "output_type": "display_data",
       "png": "[encoded data removed]",
       "text": [
        "<matplotlib.figure.Figure at 0x107a22f90>"
       ]
      }
     ],
     "prompt_number": 15
    },
    {
     "cell_type": "code",
     "collapsed": false,
     "input": [
      "## now with actual values\n",
      "fourier = Fourier(phase,flux,dflux,2)\n",
      "mphase = np.arange(0,1,0.01)\n",
      "model = fourier.evaluate(mphase, [10,0.1,0.0])\n",
      "plt.plot(mphase,model, 'k-')\n",
      "plt.gca().invert_yaxis()\n",
      "plt.xlabel('phase')\n",
      "plt.ylabel('model mag')\n",
      "plt.show()"
     ],
     "language": "python",
     "metadata": {},
     "outputs": [
      {
       "metadata": {},
       "output_type": "display_data",
       "png": "[encoded data removed]",
       "text": [
        "<matplotlib.figure.Figure at 0x107bd3d50>"
       ]
      }
     ],
     "prompt_number": 16
    },
    {
     "cell_type": "code",
     "collapsed": false,
     "input": [
      "## if we change the phase\n",
      "fourier = Fourier(phase,flux,dflux,2)\n",
      "mphase = np.arange(0,1,0.01)\n",
      "model = fourier.evaluate(mphase, [10,0.1,np.pi])\n",
      "plt.plot(mphase,model, 'k-')\n",
      "plt.gca().invert_yaxis()\n",
      "plt.xlabel('phase')\n",
      "plt.ylabel('model mag')\n",
      "plt.show()"
     ],
     "language": "python",
     "metadata": {},
     "outputs": [
      {
       "metadata": {},
       "output_type": "display_data",
       "png": "[encoded data removed]",
       "text": [
        "<matplotlib.figure.Figure at 0x107e15050>"
       ]
      }
     ],
     "prompt_number": 17
    },
    {
     "cell_type": "code",
     "collapsed": false,
     "input": [
      "fourier = Fourier(phase,flux,dflux,2)\n",
      "guess = [] # this needs to be the number of parameters you want to fit for, here mean brightness, amplitude, and minimum\n",
      "guess.append(np.mean(fourier.flux))\n",
      "guess.append(np.std(fourier.flux))\n",
      "## initialize phase with phase of minimum flux\n",
      "print(np.argmax(fourier.flux))\n",
      "print(fourier.flux[np.argmax(fourier.flux)])\n",
      "print(fourier.phase[np.argmax(fourier.flux)])\n",
      "guess.append(2*np.pi * (1 - fourier.phase[np.argmax(fourier.flux)]))\n",
      "## now we have initial guess\n",
      "print(guess)\n",
      "from scipy import optimize\n",
      "optimize.fmin(fourier.chi2, x0=[guess], disp=0, full_output=1)\n",
      "## capture output and look at best fit params\n",
      "result = optimize.fmin(fourier.chi2,x0=[guess],disp=0,full_output=1)\n",
      "best_fit = result[0]\n",
      "print(best_fit)\n",
      "plt.errorbar(fourier.phase,fourier.flux,yerr=fourier.dflux,fmt='ro')\n",
      "plt.plot(mphase,fourier.evaluate(mphase,guess),'b--',label='initial guess')\n",
      "plt.plot(mphase,fourier.evaluate(mphase, best_fit), 'g-', label='best fit')\n",
      "plt.gca().invert_yaxis()\n",
      "plt.xlabel('phase')\n",
      "plt.ylabel('mag')\n",
      "plt.legend(loc='lower right')\n",
      "plt.show()"
     ],
     "language": "python",
     "metadata": {},
     "outputs": [
      {
       "output_type": "stream",
       "stream": "stdout",
       "text": [
        "163\n",
        "16.36\n",
        "0.406630839978\n",
        "[15.920224489795933, 0.15944934136419134, 3.728248387984483]\n",
        "[ 15.89262507   0.15301544   3.50653894]\n"
       ]
      },
      {
       "metadata": {},
       "output_type": "display_data",
       "png": "[encoded data removed]",
       "text": [
        "<matplotlib.figure.Figure at 0x107b0ae50>"
       ]
      }
     ],
     "prompt_number": 27
    },
    {
     "cell_type": "code",
     "collapsed": false,
     "input": [
      "## goodness of fit?\n",
      "chi2_1 = result[1]\n",
      "chi2_2 = fourier.chi2(best_fit)\n",
      "print chi2_1, chi2_2, chi2_1 / (len(flux) - len(best_fit) -1)"
     ],
     "language": "python",
     "metadata": {},
     "outputs": [
      {
       "output_type": "stream",
       "stream": "stdout",
       "text": [
        "1043.25731095 1043.25731095 5.43363182786\n"
       ]
      }
     ],
     "prompt_number": 28
    },
    {
     "cell_type": "code",
     "collapsed": false,
     "input": [
      "## this is a decent fit, so skip to next step\n",
      "class Fourier2(Fourier):\n",
      "    def __init__(self,phase,flux,dflux,nterms):\n",
      "        Fourier.__init__(self,phase,flux,dflux,nterms)\n",
      "        \n",
      "    def makeGuess(self):\n",
      "        guess = []\n",
      "        guess.append(np.mean(self.flux))\n",
      "        if self.nterms > 1:\n",
      "            guess.append(np.std(self.flux))\n",
      "            guess.append(2 * np.pi * (1 - self.phase[np.argsort(self.flux)[-1]]))\n",
      "            for i in range(2,self.nterms):\n",
      "                guess.append(0.0)\n",
      "                guess.append(2 * np.pi * (1 - self.phase[np.argsort(self.flux)[-1]]))\n",
      "        return guess"
     ],
     "language": "python",
     "metadata": {},
     "outputs": [],
     "prompt_number": 29
    },
    {
     "cell_type": "code",
     "collapsed": false,
     "input": [
      "nterms = np.arange(1,10)\n",
      "chi2 = []\n",
      "for nterm in nterms:\n",
      "    fourier = Fourier2(phase,flux,dflux,nterm)\n",
      "    guess = fourier.makeGuess()\n",
      "    print(guess)\n",
      "    chi2.append(optimize.fmin_bfgs(fourier.chi2, x0=[guess],disp=0, full_output=1)[1])\n",
      "chi2 = np.array(chi2)\n",
      "plt.plot(nterms,chi2)\n",
      "plt.xlabel('n terms')\n",
      "plt.ylabel('chi2')\n",
      "plt.show()"
     ],
     "language": "python",
     "metadata": {},
     "outputs": [
      {
       "output_type": "stream",
       "stream": "stdout",
       "text": [
        "[15.920224489795933]\n",
        "[15.920224489795933, 0.15944934136419134, 3.728248387984483]\n",
        "[15.920224489795933, 0.15944934136419134, 3.728248387984483, 0.0, 3.728248387984483]\n",
        "[15.920224489795933, 0.15944934136419134, 3.728248387984483, 0.0, 3.728248387984483, 0.0, 3.728248387984483]"
       ]
      },
      {
       "output_type": "stream",
       "stream": "stdout",
       "text": [
        "\n",
        "[15.920224489795933, 0.15944934136419134, 3.728248387984483, 0.0, 3.728248387984483, 0.0, 3.728248387984483, 0.0, 3.728248387984483]"
       ]
      },
      {
       "output_type": "stream",
       "stream": "stdout",
       "text": [
        "\n",
        "[15.920224489795933, 0.15944934136419134, 3.728248387984483, 0.0, 3.728248387984483, 0.0, 3.728248387984483, 0.0, 3.728248387984483, 0.0, 3.728248387984483]"
       ]
      },
      {
       "output_type": "stream",
       "stream": "stdout",
       "text": [
        "\n",
        "[15.920224489795933, 0.15944934136419134, 3.728248387984483, 0.0, 3.728248387984483, 0.0, 3.728248387984483, 0.0, 3.728248387984483, 0.0, 3.728248387984483, 0.0, 3.728248387984483]"
       ]
      },
      {
       "output_type": "stream",
       "stream": "stdout",
       "text": [
        "\n",
        "[15.920224489795933, 0.15944934136419134, 3.728248387984483, 0.0, 3.728248387984483, 0.0, 3.728248387984483, 0.0, 3.728248387984483, 0.0, 3.728248387984483, 0.0, 3.728248387984483, 0.0, 3.728248387984483]"
       ]
      },
      {
       "output_type": "stream",
       "stream": "stdout",
       "text": [
        "\n",
        "[15.920224489795933, 0.15944934136419134, 3.728248387984483, 0.0, 3.728248387984483, 0.0, 3.728248387984483, 0.0, 3.728248387984483, 0.0, 3.728248387984483, 0.0, 3.728248387984483, 0.0, 3.728248387984483, 0.0, 3.728248387984483]"
       ]
      },
      {
       "output_type": "stream",
       "stream": "stdout",
       "text": [
        "\n"
       ]
      },
      {
       "metadata": {},
       "output_type": "display_data",
       "png": "[encoded data removed]",
       "text": [
        "<matplotlib.figure.Figure at 0x108472b50>"
       ]
      }
     ],
     "prompt_number": 30
    },
    {
     "cell_type": "code",
     "collapsed": false,
     "input": [
      "## delta chi 2\n",
      "delta_chi2 = chi2[:-1] - chi2[1:]\n",
      "plt.plot(nterms[1:],delta_chi2)\n",
      "plt.xlabel('n terms')\n",
      "plt.ylabel('delta chi2')\n",
      "plt.show()"
     ],
     "language": "python",
     "metadata": {},
     "outputs": [
      {
       "metadata": {},
       "output_type": "display_data",
       "png": "[encoded data removed]",
       "text": [
        "<matplotlib.figure.Figure at 0x100434f50>"
       ]
      }
     ],
     "prompt_number": 31
    },
    {
     "cell_type": "code",
     "collapsed": false,
     "input": [
      "## examine penalties imposed by bic/aic\n",
      "nterms = np.arange(1,10)\n",
      "chi2 = []\n",
      "BICpenalty = []\n",
      "AICpenalty = []\n",
      "for nterm in nterms:\n",
      "    fourier = Fourier2(phase,flux,dflux,nterm)\n",
      "    guess = fourier.makeGuess()\n",
      "    BICpenalty.append(len(guess) * np.log(len(fourier.phase)))\n",
      "    AICpenalty.append(len(guess) * 2.0)\n",
      "    chi2.append(optimize.fmin_bfgs(fourier.chi2,x0=[guess],disp=0,full_output=1)[1])\n",
      "chi2 = np.array(chi2)\n",
      "BICpenalty = np.array(BICpenalty)\n",
      "AICpenalty = np.array(AICpenalty)\n",
      "print chi2\n",
      "print BICpenalty\n",
      "print AICpenalty\n",
      "plt.plot(nterms,chi2,label='chi2')\n",
      "plt.plot(nterms,chi2 + BICpenalty,label='bic')\n",
      "plt.plot(nterms,chi2 + AICpenalty,label='aic')\n",
      "plt.xlabel('n terms')\n",
      "plt.ylabel('chi2')\n",
      "plt.semilogy()\n",
      "plt.legend()\n",
      "plt.show()"
     ],
     "language": "python",
     "metadata": {},
     "outputs": [
      {
       "output_type": "stream",
       "stream": "stdout",
       "text": [
        "[ 2387.34679452  1043.2573055    996.42907676   976.23299761   970.00406471\n",
        "   968.47028709   961.49624334   953.72410823   946.94263824]\n",
        "[  5.27811466  15.83434398  26.3905733   36.94680261  47.50303193\n",
        "  58.05926125  68.61549057  79.17171989  89.72794921]\n",
        "[  2.   6.  10.  14.  18.  22.  26.  30.  34.]\n"
       ]
      },
      {
       "metadata": {},
       "output_type": "display_data",
       "png": "[encoded data removed]",
       "text": [
        "<matplotlib.figure.Figure at 0x107aeb0d0>"
       ]
      }
     ],
     "prompt_number": 33
    },
    {
     "cell_type": "code",
     "collapsed": false,
     "input": [
      "## which of fits have min bic/aic?\n",
      "print np.argmin(chi2+BICpenalty), np.argmin(chi2+AICpenalty)"
     ],
     "language": "python",
     "metadata": {},
     "outputs": [
      {
       "output_type": "stream",
       "stream": "stdout",
       "text": [
        "3 8\n"
       ]
      }
     ],
     "prompt_number": 34
    },
    {
     "cell_type": "code",
     "collapsed": false,
     "input": [
      "## and what order model do they suggest?\n",
      "print nterms[3],nterms[8]"
     ],
     "language": "python",
     "metadata": {},
     "outputs": [
      {
       "output_type": "stream",
       "stream": "stdout",
       "text": [
        "4 9\n"
       ]
      }
     ],
     "prompt_number": 35
    },
    {
     "cell_type": "code",
     "collapsed": false,
     "input": [
      "print ('so delta chi suggests an order of %1.f, BIC suggests an order of %1.f, and AIC suggests an order of %1.f' \n",
      "       %(2,nterms[3],nterms[8]))"
     ],
     "language": "python",
     "metadata": {},
     "outputs": [
      {
       "output_type": "stream",
       "stream": "stdout",
       "text": [
        "so delta chi suggests an order of 2, BIC suggests an order of 4, and AIC suggests an order of 9\n"
       ]
      }
     ],
     "prompt_number": 38
    },
    {
     "cell_type": "code",
     "collapsed": false,
     "input": [],
     "language": "python",
     "metadata": {},
     "outputs": []
    }
   ],
   "metadata": {}
  }
 ]
}