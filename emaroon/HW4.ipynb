{
 "metadata": {
  "name": "",
  "signature": "sha256:3a6fee625309f7d0cb1233a203330c08acd674b5fd13c119a110d4b805dba4a4"
 },
 "nbformat": 3,
 "nbformat_minor": 0,
 "worksheets": [
  {
   "cells": [
    {
     "cell_type": "heading",
     "level": 1,
     "metadata": {},
     "source": [
      "Homework 4"
     ]
    },
    {
     "cell_type": "markdown",
     "metadata": {},
     "source": [
      "Load in the codebook from class"
     ]
    },
    {
     "cell_type": "code",
     "collapsed": false,
     "input": [
      "import pandas as pd\n",
      "url = 'http://ghdx.healthdata.org/sites/default/files/'\\\n",
      "      'record-attached-files/IHME_PHMRC_VA_DATA_CODEBOOK_Y2013M09D11_0.xlsx'\n",
      "cb = pd.read_excel(url)"
     ],
     "language": "python",
     "metadata": {},
     "outputs": [],
     "prompt_number": 2
    },
    {
     "cell_type": "markdown",
     "metadata": {},
     "source": [
      "Find the column that refers to \"Did __ have a fever?\""
     ]
    },
    {
     "cell_type": "code",
     "collapsed": false,
     "input": [],
     "language": "python",
     "metadata": {},
     "outputs": [],
     "prompt_number": 2
    },
    {
     "cell_type": "code",
     "collapsed": false,
     "input": [
      "#cba=pd.notnull(cb.question.str == \"fever\")\n",
      "#cbf=cb[cb[\"question\"]==\"fever\"]\n",
      "\n",
      "cbf=cb[cb.question.str.contains(\"have a fever?\")]\n",
      "print(cbf.variable)\n",
      "print(cbf.question[79])\n",
      "print(cbf.question[1107])\n",
      "var = cbf.variable[79]\n",
      "print(var)"
     ],
     "language": "python",
     "metadata": {},
     "outputs": [
      {
       "output_type": "stream",
       "stream": "stdout",
       "text": [
        "79      a2_02\n",
        "1107    c4_01\n",
        "Name: variable, dtype: object\n",
        "Did [name] have a fever?\n",
        "During the illness that led to death, did [name] have a fever?\n",
        "a2_02\n"
       ]
      }
     ],
     "prompt_number": 3
    },
    {
     "cell_type": "markdown",
     "metadata": {},
     "source": [
      "There are two questions that ask about fever, looks like we want a2_02, the 79th question.\n",
      "Next we need to find the cause with the highest endorsement rate for fever.  First we'll load in the datafile."
     ]
    },
    {
     "cell_type": "code",
     "collapsed": false,
     "input": [
      "url = 'http://ghdx.healthdata.org/sites/default/files/'\\\n",
      "      'record-attached-files/IHME_PHMRC_VA_DATA_ADULT_Y2013M09D11_0.csv'\n",
      "df = pd.read_csv(url, low_memory=False)"
     ],
     "language": "python",
     "metadata": {},
     "outputs": [],
     "prompt_number": 4
    },
    {
     "cell_type": "markdown",
     "metadata": {},
     "source": [
      "Now we'll find the cause that has the highest endorsement rate for fever"
     ]
    },
    {
     "cell_type": "code",
     "collapsed": false,
     "input": [
      "df['fever'] = (df[var] == 'Yes')"
     ],
     "language": "python",
     "metadata": {},
     "outputs": [],
     "prompt_number": 5
    },
    {
     "cell_type": "code",
     "collapsed": false,
     "input": [
      "df.groupby('gs_text34')['fever'].sum()"
     ],
     "language": "python",
     "metadata": {},
     "outputs": [
      {
       "metadata": {},
       "output_type": "pyout",
       "prompt_number": 6,
       "text": [
        "gs_text34\n",
        "AIDS                               399\n",
        "Acute Myocardial Infarction        116\n",
        "Asthma                              21\n",
        "Bite of Venomous Animal              4\n",
        "Breast Cancer                      108\n",
        "COPD                                84\n",
        "Cervical Cancer                     64\n",
        "Cirrhosis                          171\n",
        "Colorectal Cancer                   47\n",
        "Diabetes                           223\n",
        "Diarrhea/Dysentery                 126\n",
        "Drowning                             3\n",
        "Epilepsy                            31\n",
        "Esophageal Cancer                   17\n",
        "Falls                               53\n",
        "Fires                               28\n",
        "Homicide                            34\n",
        "Leukemia/Lymphomas                 108\n",
        "Lung Cancer                         49\n",
        "Malaria                             86\n",
        "Maternal                           141\n",
        "Other Cardiovascular Diseases      185\n",
        "Other Infectious Diseases          195\n",
        "Other Injuries                       9\n",
        "Other Non-communicable Diseases    333\n",
        "Pneumonia                          378\n",
        "Poisonings                          19\n",
        "Prostate Cancer                     19\n",
        "Renal Failure                      240\n",
        "Road Traffic                        54\n",
        "Stomach Cancer                      26\n",
        "Stroke                             282\n",
        "Suicide                             13\n",
        "TB                                 195\n",
        "Name: fever, dtype: float64"
       ]
      }
     ],
     "prompt_number": 6
    },
    {
     "cell_type": "markdown",
     "metadata": {},
     "source": [
      "The cause with the largest endorsement rate for fever is AIDS."
     ]
    },
    {
     "cell_type": "code",
     "collapsed": false,
     "input": [
      "maxx=df.groupby('gs_text34')['fever'].sum().max()\n",
      "tot=df['gs_text34'].count()\n",
      "fevermaxendrate=maxx/tot\n",
      "maxfevercause= df.groupby('gs_text34')['fever'].sum() == df.groupby('gs_text34')['fever'].sum().max()\n",
      "print(tot)\n",
      "print(fevermaxendrate)"
     ],
     "language": "python",
     "metadata": {},
     "outputs": [
      {
       "output_type": "stream",
       "stream": "stdout",
       "text": [
        "7841\n",
        "0.0508863665349\n"
       ]
      }
     ],
     "prompt_number": 15
    },
    {
     "cell_type": "markdown",
     "metadata": {},
     "source": [
      "Plot the endorsement rate of fever for all causes"
     ]
    },
    {
     "cell_type": "code",
     "collapsed": false,
     "input": [
      "import matplotlib as plt\n",
      "%matplotlib inline\n",
      "\n",
      "thatplot=df.groupby('gs_text34')['fever'].sum().order().plot(kind='barh', figsize=(12,8))\n",
      "thatplot.set_xlabel('Endorsement Rate')"
     ],
     "language": "python",
     "metadata": {},
     "outputs": [
      {
       "metadata": {},
       "output_type": "pyout",
       "prompt_number": 8,
       "text": [
        "<matplotlib.text.Text at 0x56e7250>"
       ]
      },
      {
       "metadata": {},
       "output_type": "display_data",
       "png": "[encoded data removed]",
       "text": [
        "<matplotlib.figure.Figure at 0x5870e90>"
       ]
      }
     ],
     "prompt_number": 8
    },
    {
     "cell_type": "markdown",
     "metadata": {},
     "source": [
      "Find if the deceased had AIDS"
     ]
    },
    {
     "cell_type": "code",
     "collapsed": false,
     "input": [
      "cbf=cb[cb.question.str.contains(\"AIDS\")]\n",
      "print(cbf.variable)\n",
      "print(cbf.question[76])\n",
      "print(cbf.question[1215])"
     ],
     "language": "python",
     "metadata": {},
     "outputs": [
      {
       "output_type": "stream",
       "stream": "stdout",
       "text": [
        "76      a1_01_14\n",
        "1215       c5_19\n",
        "Name: variable, dtype: object\n",
        "Did Decedent Have AIDS?\n",
        "Has the deceased's (biological) mother ever been told she had AIDS by a health worker?\n"
       ]
      }
     ],
     "prompt_number": 9
    },
    {
     "cell_type": "markdown",
     "metadata": {},
     "source": [
      "Looks like we want question 76, not 1215"
     ]
    },
    {
     "cell_type": "code",
     "collapsed": false,
     "input": [
      "vara=cb.variable[76]\n",
      "df['has_aids'] = (df[vara] == 'Yes')\n",
      "df['died_of_aids']=df['gs_text34']=='AIDS'"
     ],
     "language": "python",
     "metadata": {},
     "outputs": [],
     "prompt_number": 10
    },
    {
     "cell_type": "markdown",
     "metadata": {},
     "source": [
      "Create a 2x2 table that compares how many of the people who died had AIDS or not against if they died from AIDS or not"
     ]
    },
    {
     "cell_type": "code",
     "collapsed": false,
     "input": [
      "pd.crosstab(df['has_aids'],df['died_of_aids'])"
     ],
     "language": "python",
     "metadata": {},
     "outputs": [
      {
       "html": [
        "<div style=\"max-height:1000px;max-width:1500px;overflow:auto;\">\n",
        "<table border=\"1\" class=\"dataframe\">\n",
        "  <thead>\n",
        "    <tr style=\"text-align: right;\">\n",
        "      <th>died_of_aids</th>\n",
        "      <th>False</th>\n",
        "      <th>True</th>\n",
        "    </tr>\n",
        "    <tr>\n",
        "      <th>has_aids</th>\n",
        "      <th></th>\n",
        "      <th></th>\n",
        "    </tr>\n",
        "  </thead>\n",
        "  <tbody>\n",
        "    <tr>\n",
        "      <th>False</th>\n",
        "      <td> 7204</td>\n",
        "      <td> 194</td>\n",
        "    </tr>\n",
        "    <tr>\n",
        "      <th>True </th>\n",
        "      <td>  135</td>\n",
        "      <td> 308</td>\n",
        "    </tr>\n",
        "  </tbody>\n",
        "</table>\n",
        "</div>"
       ],
       "metadata": {},
       "output_type": "pyout",
       "prompt_number": 11,
       "text": [
        "died_of_aids  False  True \n",
        "has_aids                  \n",
        "False          7204    194\n",
        "True            135    308"
       ]
      }
     ],
     "prompt_number": 11
    },
    {
     "cell_type": "markdown",
     "metadata": {},
     "source": [
      "Now do this for each of the sites. Note: For some reason, the tables wouldn't print nicely for me in this loop"
     ]
    },
    {
     "cell_type": "code",
     "collapsed": false,
     "input": [
      "for g in df.groupby('site'):\n",
      "    print('site ', g[0])\n",
      "    print pd.crosstab(g[1]['has_aids'],g[1]['died_of_aids'])\n",
      "    print(' ')\n",
      "    "
     ],
     "language": "python",
     "metadata": {},
     "outputs": [
      {
       "output_type": "stream",
       "stream": "stdout",
       "text": [
        "('site ', 'AP')\n",
        "died_of_aids  False  True \n",
        "has_aids                  \n",
        "False          1404     75\n",
        "True             14     61\n",
        " \n",
        "('site ', 'Bohol')\n",
        "died_of_aids  False\n",
        "has_aids           \n",
        "False          1259\n",
        " \n",
        "('site ', 'Dar')\n",
        "died_of_aids  False  True \n",
        "has_aids                  \n",
        "False          1414     88\n",
        "True            109    115\n",
        " \n",
        "('site ', 'Mexico')\n",
        "died_of_aids  False  True \n",
        "has_aids                  \n",
        "False          1460     29\n",
        "True              6     91"
       ]
      },
      {
       "output_type": "stream",
       "stream": "stdout",
       "text": [
        "\n",
        " \n",
        "('site ', 'Pemba')\n",
        "died_of_aids  False\n",
        "has_aids           \n",
        "False           294\n",
        "True              3\n",
        " \n",
        "('site ', 'UP')\n",
        "died_of_aids  False  True \n",
        "has_aids                  \n",
        "False          1373      2\n",
        "True              3     41\n",
        " \n"
       ]
      }
     ],
     "prompt_number": 12
    },
    {
     "cell_type": "markdown",
     "metadata": {},
     "source": [
      "Now compare deaths do this in percentages to show the comparison of regions where people died of AIDS who did not endorse having AIDS.  Note: these numbers do not look quite right.  Having difficulty find a good way to do this."
     ]
    },
    {
     "cell_type": "code",
     "collapsed": false,
     "input": [
      "\n",
      "df['has_aids'] = (df[vara] == 'Yes')\n",
      "df['not_has_aids'] = (df[vara] != 'Yes')\n",
      "df['not_died_of_aids']=df['gs_text34']!='AIDS'\n",
      "for g in df.groupby('site'):\n",
      "    print('site ', g[1]['gs_text34'].count())\n",
      "    print(g[0])\n",
      "    #g[1]['freq1']=g[1]['has_aids']/g[1]['gs_text34'].count()\n",
      "    #g[1]['freq2']=g[1]['died_of_aids']/g[1]['gs_text34'].count()\n",
      "    #print(g[1]['has_aids'].sum()/g[1]['gs_text34'].count())\n",
      "    \n",
      "    hasaidstrue=float((g[1]['has_aids']==True).sum())/g[1]['gs_text34'].count()\n",
      "    hasaidsfalse=float((g[1]['not_has_aids']==True).sum())/g[1]['gs_text34'].count()\n",
      "    \n",
      "    diedhadaidstrue=float((g[1]['died_of_aids']==True).sum())/g[1]['gs_text34'].count()\n",
      "    diedaidsfalse=1-(float((g[1]['not_died_of_aids']==True).sum()))/g[1]['gs_text34'].count()\n",
      "    #print(g[1]['gs_text34'].count())\n",
      "    newdf=pd.DataFrame([[hasaidsfalse,hasaidstrue],[diedaidsfalse,diedhadaidstrue]],columns=['Not has AIDS','Has AIDS'],index=['Died of not AIDS','Died of AIDS'])\n",
      "    #print pd.crosstab(g[1]['has_aids'],g[1]['died_of_aids'])\n",
      "    print(newdf)\n",
      "    print(' ')"
     ],
     "language": "python",
     "metadata": {},
     "outputs": [
      {
       "output_type": "stream",
       "stream": "stdout",
       "text": [
        "('site ', 1554)\n",
        "AP\n",
        "died_of_aids  False  True \n",
        "has_aids                  \n",
        "False          1404     75\n",
        "True             14     61\n",
        "                  Not has AIDS  Has AIDS\n",
        "Died of not AIDS      0.951737  0.048263\n",
        "Died of AIDS          0.087516  0.087516\n",
        " \n",
        "('site ', 1259)\n",
        "Bohol\n",
        "died_of_aids  False\n",
        "has_aids           \n",
        "False          1259\n",
        "                  Not has AIDS  Has AIDS\n",
        "Died of not AIDS             1         0\n",
        "Died of AIDS                 0         0\n",
        " \n",
        "('site ', 1726)\n",
        "Dar\n",
        "died_of_aids  False  True \n",
        "has_aids                  \n",
        "False          1414     88\n",
        "True            109    115"
       ]
      },
      {
       "output_type": "stream",
       "stream": "stdout",
       "text": [
        "\n",
        "                  Not has AIDS  Has AIDS\n",
        "Died of not AIDS      0.870220  0.129780\n",
        "Died of AIDS          0.117613  0.117613\n",
        " \n",
        "('site ', 1586)\n",
        "Mexico\n",
        "died_of_aids  False  True \n",
        "has_aids                  \n",
        "False          1460     29\n",
        "True              6     91\n",
        "                  Not has AIDS  Has AIDS\n",
        "Died of not AIDS      0.938840  0.061160\n",
        "Died of AIDS          0.075662  0.075662\n",
        " \n",
        "('site ', 297)\n",
        "Pemba\n",
        "died_of_aids  False\n",
        "has_aids           \n",
        "False           294\n",
        "True              3"
       ]
      },
      {
       "output_type": "stream",
       "stream": "stdout",
       "text": [
        "\n",
        "                  Not has AIDS  Has AIDS\n",
        "Died of not AIDS      0.989899  0.010101\n",
        "Died of AIDS          0.000000  0.000000\n",
        " \n",
        "('site ', 1419)\n",
        "UP\n",
        "died_of_aids  False  True \n",
        "has_aids                  \n",
        "False          1373      2\n",
        "True              3     41\n",
        "                  Not has AIDS  Has AIDS\n",
        "Died of not AIDS      0.968992  0.031008\n",
        "Died of AIDS          0.030303  0.030303\n",
        " \n"
       ]
      }
     ],
     "prompt_number": 143
    },
    {
     "cell_type": "markdown",
     "metadata": {},
     "source": []
    },
    {
     "cell_type": "code",
     "collapsed": false,
     "input": [],
     "language": "python",
     "metadata": {},
     "outputs": []
    }
   ],
   "metadata": {}
  }
 ]
}