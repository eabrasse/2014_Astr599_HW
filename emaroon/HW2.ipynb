{
 "metadata": {
  "name": "",
  "signature": "sha256:decd5bc11687f76733944fb65f302f635e9ddbed8353ea336a587da0f16b416b"
 },
 "nbformat": 3,
 "nbformat_minor": 0,
 "worksheets": [
  {
   "cells": [
    {
     "cell_type": "heading",
     "level": 1,
     "metadata": {},
     "source": [
      "Homework 2"
     ]
    },
    {
     "cell_type": "markdown",
     "metadata": {},
     "source": [
      "2.1. Create a function func for f(x) = sin(x)"
     ]
    },
    {
     "cell_type": "code",
     "collapsed": false,
     "input": [
      "import numpy as np\n",
      "import matplotlib.pyplot as plt\n",
      "from __future__ import print_function\n",
      "from IPython.html.widgets import interact, interactive, fixed\n",
      "from IPython.html import widgets\n"
     ],
     "language": "python",
     "metadata": {},
     "outputs": [],
     "prompt_number": 1
    },
    {
     "cell_type": "code",
     "collapsed": false,
     "input": [
      "def sinefunc(x):\n",
      "    return np.sin(x)"
     ],
     "language": "python",
     "metadata": {},
     "outputs": [],
     "prompt_number": 2
    },
    {
     "cell_type": "markdown",
     "metadata": {},
     "source": [
      "2.2. Add parent Integrator method\n",
      "\n",
      "2.3. Add integrate function which approximates integral with a sum of weights and points and returns the sum as output"
     ]
    },
    {
     "cell_type": "code",
     "collapsed": false,
     "input": [
      "class Integrator(object):\n",
      "    def __init__(self, a, b, n):\n",
      "        self.a, self.b, self.n = a, b, n\n",
      "        self.points, self.weights = self.method()\n",
      "        \n",
      "        \n",
      "    def method(self):\n",
      "        raise NotImplementedError('no rule in class %s' %self.__class__.__name__)\n",
      "        \n",
      "        \n",
      "    def integrate(self,func):\n",
      "        #self.points = np.linspace(self.a,self.b,self.n)\n",
      "        #self.weights = func(self.points)\n",
      "        inta = np.sum(self.weights*func(self.points))\n",
      "        return inta\n"
     ],
     "language": "python",
     "metadata": {},
     "outputs": [],
     "prompt_number": 3
    },
    {
     "cell_type": "markdown",
     "metadata": {},
     "source": [
      "2.4 Add trapezoidal child class that uses the trapezoidal method for integration where a function for method(self) is defined."
     ]
    },
    {
     "cell_type": "code",
     "collapsed": false,
     "input": [
      "class Trapezoidal(Integrator):\n",
      "    def __init__(self, *args):\n",
      "        super(Trapezoidal, self).__init__(*args)\n",
      "    \n",
      "    def method(self):\n",
      "        self.points = np.linspace(self.a,self.b,self.n)\n",
      "        ww = 2.*np.ones(np.size(self.points))\n",
      "        ww[0] = 1.\n",
      "        ww[-1] = 1.\n",
      "        self.weights = (self.b-self.a)/(2.*(self.n-1))*ww\n",
      "        #print(self.points)\n",
      "        #print(self.weights)\n",
      "        return self.points, self.weights\n",
      "    \n"
     ],
     "language": "python",
     "metadata": {},
     "outputs": [],
     "prompt_number": 4
    },
    {
     "cell_type": "markdown",
     "metadata": {},
     "source": [
      "2.5 Create another child class, this time one that uses the midpoint method of integration"
     ]
    },
    {
     "cell_type": "code",
     "collapsed": false,
     "input": [
      "class Midpoint(Integrator):\n",
      "    def __init__(self, *args):\n",
      "        super(Midpoint, self).__init__(*args)\n",
      "    \n",
      "    def method(self):\n",
      "        temp = np.linspace(self.a,self.b,self.n)\n",
      "        self.points = temp[0:-1]+(self.b-self.a)/(2.*(self.n-1))\n",
      "        self.weights = (self.b-self.a)/(self.n-1.)\n",
      "        #print temp, self.points, self.weights\n",
      "        return self.points, self.weights"
     ],
     "language": "python",
     "metadata": {},
     "outputs": [],
     "prompt_number": 5
    },
    {
     "cell_type": "markdown",
     "metadata": {},
     "source": [
      "2.6 Create a separate function that plots the integral of sin(x) from 0 to x and show that it equals 1-cos(x).  Use the interact command to explore what happens as n changes"
     ]
    },
    {
     "cell_type": "code",
     "collapsed": false,
     "input": [
      "%matplotlib inline"
     ],
     "language": "python",
     "metadata": {},
     "outputs": [],
     "prompt_number": 6
    },
    {
     "cell_type": "code",
     "collapsed": false,
     "input": [],
     "language": "python",
     "metadata": {},
     "outputs": [],
     "prompt_number": 46
    },
    {
     "cell_type": "code",
     "collapsed": false,
     "input": [
      "def plotcompare(x,n):\n",
      "    allx = np.arange(0,x,0.01)\n",
      "    #print(allx)\n",
      "    trapx=[]\n",
      "    midx=[]\n",
      "    interact\n",
      "    for xx in allx:\n",
      "        intTrap = Trapezoidal(0,xx,n)\n",
      "        intMid = Midpoint(0,xx,n)\n",
      "        trapx.append(intTrap.integrate(sinefunc))\n",
      "        midx.append(intMid.integrate(sinefunc))\n",
      "    \n",
      "    plt.plot(allx,trapx,color=[0.9,0.1,0.1])\n",
      "    plt.plot(allx,midx,color=[0.1,0.9,0.1])\n",
      "    plt.plot(allx,1-np.cos(allx),color=[0.1,0.1,0.9])\n",
      "    plt.xlabel('x')\n",
      "    plt.ylabel('$\\int_0^x sin(x)dx$ or $1-\\cos(x)$' )\n",
      "    lg=plt.legend(['Trapezoidal','Midpoint','$1-\\cos(x)$'],loc=2)\n",
      "    lg.draw_frame(False)"
     ],
     "language": "python",
     "metadata": {},
     "outputs": [],
     "prompt_number": 22
    },
    {
     "cell_type": "code",
     "collapsed": false,
     "input": [
      "interact(plotcompare,x=10,n=10)"
     ],
     "language": "python",
     "metadata": {},
     "outputs": [
      {
       "metadata": {},
       "output_type": "display_data",
       "png": "[encoded data removed]",
       "text": [
        "<matplotlib.figure.Figure at 0x50bf050>"
       ]
      }
     ],
     "prompt_number": 23
    },
    {
     "cell_type": "code",
     "collapsed": false,
     "input": [],
     "language": "python",
     "metadata": {},
     "outputs": []
    }
   ],
   "metadata": {}
  }
 ]
}