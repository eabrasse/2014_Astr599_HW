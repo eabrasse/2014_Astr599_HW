{
 "metadata": {
  "name": "",
  "signature": "sha256:5fbce18a2f95c580f25fb26c9b920594869868126c53eb94642f7fd6a1effcdd"
 },
 "nbformat": 3,
 "nbformat_minor": 0,
 "worksheets": [
  {
   "cells": [
    {
     "cell_type": "markdown",
     "metadata": {},
     "source": [
      "#David Fleming HW2\n",
      "#1) \n",
      "Create func, define relevant libraries"
     ]
    },
    {
     "cell_type": "code",
     "collapsed": false,
     "input": [
      "%matplotlib inline\n",
      "import numpy as np\n",
      "import matplotlib.pyplot as plt\n",
      "\n",
      "def func(x):\n",
      "    return np.sin(x)"
     ],
     "language": "python",
     "metadata": {},
     "outputs": [],
     "prompt_number": 45
    },
    {
     "cell_type": "markdown",
     "metadata": {},
     "source": [
      "#2,3\n",
      "Integrator class template + my added functions\n",
      "\n",
      "Note: For implementation purposes, I assume that the grid is uniformly spaced (made from np.linspace)"
     ]
    },
    {
     "cell_type": "code",
     "collapsed": false,
     "input": [
      "class Integrator(object):\n",
      "    def __init__(self, a, b, n):\n",
      "        self.a, self.b, self.n = a, b, n\n",
      "        self.points, self.weights = self.method()\n",
      "    \n",
      "    #sum of weight*f(x) from [0,n-1]\n",
      "    def integrate(self,func):\n",
      "        f = func(self.points)\n",
      "        result = self.weights[:-1] * f[:-1]\n",
      "        return np.sum(result)\n",
      "    \n",
      "    def method(self):\n",
      "        raise NotImplementedError('no rule in class %s' %self.__class__.__name__)"
     ],
     "language": "python",
     "metadata": {},
     "outputs": [],
     "prompt_number": 56
    },
    {
     "cell_type": "markdown",
     "metadata": {},
     "source": [
      "#4\n",
      "Create trapezoidal child class and method(self) implimentation.\n",
      "\n",
      "Method(self) creates an array of points x and and an array of weights w based on the trapezoidal rule formula:\n",
      "\n",
      "((b-a)/(2N))*(f(x1) + 2f(x2) + ... + 2f(xN) + f(xN+1)) via https://en.wikipedia.org/wiki/Trapezoidal_rule."
     ]
    },
    {
     "cell_type": "code",
     "collapsed": false,
     "input": [
      "# Define a child class that has Integrator as parent class\n",
      "class Trapezoidal(Integrator):\n",
      "    \n",
      "    # Initialize child class function \n",
      "    def __init__(self, a, b, n):\n",
      "        super(Trapezoidal, self).__init__(a, b, n)\n",
      "        \n",
      "    #Method returns proper x, weight arrays for Trapezoidal Method    \n",
      "    def method(self):\n",
      "        x = np.linspace(self.a,self.b,self.n)\n",
      "        weights = np.zeros(self.n)\n",
      "        weights.fill(2) \n",
      "        weights[0] = 1;\n",
      "        weights[-1] = 1;\n",
      "        weights = weights*((self.b-self.a)/(2.0*self.n))\n",
      "        return x, weights"
     ],
     "language": "python",
     "metadata": {},
     "outputs": [],
     "prompt_number": 67
    },
    {
     "cell_type": "markdown",
     "metadata": {},
     "source": [
      "#Test: Integrate f(x) = sin(x) from 0 to 3.14159 (should be ~2)"
     ]
    },
    {
     "cell_type": "code",
     "collapsed": false,
     "input": [
      "trap = Trapezoidal(0,3.14149,200)"
     ],
     "language": "python",
     "metadata": {},
     "outputs": [],
     "prompt_number": 70
    },
    {
     "cell_type": "code",
     "collapsed": false,
     "input": [
      "print(trap.integrate(func))"
     ],
     "language": "python",
     "metadata": {},
     "outputs": [
      {
       "output_type": "stream",
       "stream": "stdout",
       "text": [
        "1.98995786107\n"
       ]
      }
     ],
     "prompt_number": 71
    },
    {
     "cell_type": "markdown",
     "metadata": {},
     "source": [
      "#6\n",
      "\n",
      "Create a Midpoint class that inherits from Integrator and behaves like Trapezoidal, but with another numerical scheme."
     ]
    },
    {
     "cell_type": "code",
     "collapsed": false,
     "input": [
      "# Define a child class that has Integrator as parent class\n",
      "class Midpoint(Integrator):\n",
      "    \n",
      "    # Initialize child class function \n",
      "    def __init__(self, a, b, n):\n",
      "        super(Midpoint, self).__init__(a, b, n)\n",
      "        \n",
      "    #Method returns proper x, weight arrays for Midpoint Method   \n",
      "    def method(self):\n",
      "        #set x to be of (x(i) + x(i+1))/2\n",
      "        x = np.linspace(self.a,self.b,self.n)\n",
      "        xArr = np.zeros(self.n-1)\n",
      "        xArr[:] = ((x[0:-1] + x[1:])/2.0)\n",
      "        np.append(xArr,self.b)\n",
      "        weights = np.zeros(self.n)\n",
      "        weights.fill(1) \n",
      "        weights = weights*((self.b-self.a)/(self.n))\n",
      "        return x, weights"
     ],
     "language": "python",
     "metadata": {},
     "outputs": [],
     "prompt_number": 99
    },
    {
     "cell_type": "code",
     "collapsed": false,
     "input": [
      "mid = Midpoint(0,3.14159,200)"
     ],
     "language": "python",
     "metadata": {},
     "outputs": [],
     "prompt_number": 100
    },
    {
     "cell_type": "markdown",
     "metadata": {},
     "source": [
      "#Test: Integrate f(x) = sin(x) from 0 to 3.14159 (should again be ~2)"
     ]
    },
    {
     "cell_type": "code",
     "collapsed": false,
     "input": [
      "print mid.integrate(func)"
     ],
     "language": "python",
     "metadata": {},
     "outputs": [
      {
       "output_type": "stream",
       "stream": "stdout",
       "text": [
        "1.98995864905\n"
       ]
      }
     ],
     "prompt_number": 101
    },
    {
     "cell_type": "markdown",
     "metadata": {},
     "source": [
      "#6 Function that plots  the integral of f(x) = sin(x) using Trapezoidal Rule for various values of x"
     ]
    },
    {
     "cell_type": "code",
     "collapsed": false,
     "input": [
      "#Function takes in precision of integration in steps, n\n",
      "def plotfunc(n,func):\n",
      "    inputX = np.linspace(0,5*np.pi,n)\n",
      "    y = np.zeros(n)\n",
      "    #loop that does the work\n",
      "    for i in range(0,len(inputX)):\n",
      "        trap = Trapezoidal(0,inputX[i],n)\n",
      "        y[i] = trap.integrate(func)\n",
      "    plt.plot(inputX,y)\n",
      "    plt.xlabel(\"Integral b limit.\")\n",
      "    plt.ylabel(\"Value of integral of sin(x) from 0 to x\")"
     ],
     "language": "python",
     "metadata": {},
     "outputs": [],
     "prompt_number": 109
    },
    {
     "cell_type": "markdown",
     "metadata": {},
     "source": [
      "#Plot integration function, 1-cos(x) to validate results."
     ]
    },
    {
     "cell_type": "code",
     "collapsed": false,
     "input": [
      "plotfunc(100,func)\n",
      "xArr = np.linspace(0,5*np.pi,100)\n",
      "yArr = 1-np.cos(xArr)\n",
      "plt.plot(xArr,yArr,'r--')"
     ],
     "language": "python",
     "metadata": {},
     "outputs": [
      {
       "metadata": {},
       "output_type": "pyout",
       "prompt_number": 111,
       "text": [
        "[<matplotlib.lines.Line2D at 0x106663310>]"
       ]
      },
      {
       "metadata": {},
       "output_type": "display_data",
       "png": "[encoded data removed]",
       "text": [
        "<matplotlib.figure.Figure at 0x1063d8290>"
       ]
      }
     ],
     "prompt_number": 111
    },
    {
     "cell_type": "markdown",
     "metadata": {},
     "source": []
    }
   ],
   "metadata": {}
  }
 ]
}