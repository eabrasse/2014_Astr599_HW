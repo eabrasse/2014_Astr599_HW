{
 "metadata": {
  "name": "",
  "signature": "sha256:098ac9c2bf472c3af84b14915a79695ca37aebf74c38effb81726c8ab9a25cec"
 },
 "nbformat": 3,
 "nbformat_minor": 0,
 "worksheets": [
  {
   "cells": [
    {
     "cell_type": "code",
     "collapsed": false,
     "input": [
      "import numpy as np\n",
      "\n",
      "def func(x):\n",
      "    return np.sin(x)"
     ],
     "language": "python",
     "metadata": {},
     "outputs": [],
     "prompt_number": 19
    },
    {
     "cell_type": "code",
     "collapsed": false,
     "input": [
      "#testing func\n",
      "func(0.5*np.pi)"
     ],
     "language": "python",
     "metadata": {},
     "outputs": [
      {
       "metadata": {},
       "output_type": "pyout",
       "prompt_number": 8,
       "text": [
        "1.0"
       ]
      }
     ],
     "prompt_number": 8
    },
    {
     "cell_type": "code",
     "collapsed": false,
     "input": [
      "class Integrator(object):\n",
      "    def __init__(self, a, b, n):\n",
      "        self.a, self.b, self.n = a, b, n\n",
      "        self.points, self.weights = self.method()\n",
      "        \n",
      "    def integrate(self,func):\n",
      "        return np.sum(func(self.points)*self.weights)\n",
      "        \n",
      "    def method(self):\n",
      "        raise NotImplementedError('no rule in class %s' %self.__class__.__name__)"
     ],
     "language": "python",
     "metadata": {},
     "outputs": [],
     "prompt_number": 24
    },
    {
     "cell_type": "code",
     "collapsed": false,
     "input": [
      "class Trapezoidal(Integrator):\n",
      "    \n",
      "    # Initialize child class function \n",
      "    def __init__(self, *args):\n",
      "        super(Trapezoidal, self).__init__(*args)\n",
      "        \n",
      "    def method(self):\n",
      "        x = np.linspace(self.a, self.b, self.n)\n",
      "        array = 2*np.ones(self.n)\n",
      "        array[0] = 1\n",
      "        array[self.n-1] = 1 \n",
      "        w = ((self.b - self.a)/(2*self.n))*array\n",
      "        return (x,w)\n",
      "       "
     ],
     "language": "python",
     "metadata": {},
     "outputs": [],
     "prompt_number": 25
    },
    {
     "cell_type": "code",
     "collapsed": false,
     "input": [
      "class Midpoint(Integrator):\n",
      "    \n",
      "    # Initialize child class function \n",
      "    def __init__(self, *args):\n",
      "        super(Midpoint, self).__init__(*args)\n",
      "        \n",
      "    def method(self):\n",
      "        array = np.linspace(self.a, self.b, self.n)\n",
      "        x = (self.b-self.a)/(2*self.n)+array[0:(self.n-2)]\n",
      "        w = ((self.b - self.a)/self.n)\n",
      "        return (x,w)"
     ],
     "language": "python",
     "metadata": {},
     "outputs": [],
     "prompt_number": 26
    },
    {
     "cell_type": "code",
     "collapsed": false,
     "input": [
      "%matplotlib inline\n",
      "import matplotlib.pyplot as plt\n",
      "\n",
      "def func2(j, k, i):\n",
      "    testpoints = np.linspace(j, k, i)\n",
      "    a = 0\n",
      "    output = []\n",
      "    \n",
      "    for point in testpoints:\n",
      "        temp = Trapezoidal(a, point, 25)\n",
      "        output.append(temp.integrate(func))\n",
      "    \n",
      "    plt.plot(testpoints, output)"
     ],
     "language": "python",
     "metadata": {},
     "outputs": [],
     "prompt_number": 39
    },
    {
     "cell_type": "code",
     "collapsed": false,
     "input": [
      "func2(np.pi, 4*np.pi, 50)"
     ],
     "language": "python",
     "metadata": {},
     "outputs": [
      {
       "metadata": {},
       "output_type": "display_data",
       "png": "[encoded data removed]",
       "text": [
        "<matplotlib.figure.Figure at 0x7f18013b7bd0>"
       ]
      }
     ],
     "prompt_number": 40
    }
   ],
   "metadata": {}
  }
 ]
}