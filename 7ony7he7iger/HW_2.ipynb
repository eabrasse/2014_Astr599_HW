{
 "metadata": {
  "name": "",
  "signature": "sha256:8729122d02948c538a581fb89c5ff7ba65a2a4bc2db2bf5c04156afc87d2da51"
 },
 "nbformat": 3,
 "nbformat_minor": 0,
 "worksheets": [
  {
   "cells": [
    {
     "cell_type": "heading",
     "level": 3,
     "metadata": {},
     "source": [
      "ASTR 599: Homework 2_AN INTEGRATOR PARENT"
     ]
    },
    {
     "cell_type": "markdown",
     "metadata": {},
     "source": [
      "Import some packages from the library and the magic function for the future use."
     ]
    },
    {
     "cell_type": "code",
     "collapsed": false,
     "input": [
      "import numpy as np\n",
      "import matplotlib.pyplot as plt\n",
      "%matplotlib inline"
     ],
     "language": "python",
     "metadata": {},
     "outputs": [],
     "prompt_number": 11
    },
    {
     "cell_type": "markdown",
     "metadata": {},
     "source": [
      "Create a function **func** for the function $f(x) = sin(x)$."
     ]
    },
    {
     "cell_type": "code",
     "collapsed": false,
     "input": [
      "def func(x):\n",
      "    return np.sin(x)"
     ],
     "language": "python",
     "metadata": {},
     "outputs": [],
     "prompt_number": 12
    },
    {
     "cell_type": "markdown",
     "metadata": {},
     "source": [
      "Bring the template of the parent class intergrator."
     ]
    },
    {
     "cell_type": "markdown",
     "metadata": {},
     "source": [
      "And add an additional function called **integrate(self, func)** inside the class integrator following the instructions of the question. The integral is calculated as:\n",
      "\n",
      "$$\n",
      "\\int_a^b f(x) dx = \\sum_{i=0}^{n-1} w_i f(x_i)\n",
      "$$"
     ]
    },
    {
     "cell_type": "code",
     "collapsed": false,
     "input": [
      "class Integrator:\n",
      "    def __init__(self, a, b, n):\n",
      "        self.a, self.b, self.n = a, b, n\n",
      "        self.points, self.weights = self.method()\n",
      "        \n",
      "    def method(self):\n",
      "        raise NotImplementedError('no rule in class %s' %self.__class__.__name__)\n",
      "        \n",
      "    def integrate(self, func):\n",
      "        return np.sum(np.array(self.weights) * [func(x) for x in self.points])"
     ],
     "language": "python",
     "metadata": {},
     "outputs": [],
     "prompt_number": 13
    },
    {
     "cell_type": "markdown",
     "metadata": {},
     "source": [
      "Create a child class of Integrator called **Trapezoidal**."
     ]
    },
    {
     "cell_type": "code",
     "collapsed": false,
     "input": [
      "class Trapezoidal(Integrator):\n",
      "    def __init(self, *args):\n",
      "        super.__init__(*args)\n",
      "    def method(self):\n",
      "        x = np.linspace(self.a, self.b, num = self.n)\n",
      "        w = np.empty(self.n)\n",
      "        w.fill((self.b - self.a) / (self.n - 1))\n",
      "        return x, w"
     ],
     "language": "python",
     "metadata": {},
     "outputs": [],
     "prompt_number": 18
    },
    {
     "cell_type": "markdown",
     "metadata": {},
     "source": [
      "Create a child class of Integrator called **Midpoint**."
     ]
    },
    {
     "cell_type": "code",
     "collapsed": false,
     "input": [
      "class Midpoint(Integrator):\n",
      "    def __init(self, *args):\n",
      "        super.__init__(*args)\n",
      "    def method(self):\n",
      "        step = (self.b - self.a) / (self.n - 1)\n",
      "        x = np.linspace(self.a + 0.5 * step, self.b + 0.5 * step, num = self.n)\n",
      "        w = np.empty(self.n)\n",
      "        w.fill((self.b - self.a) / (self.n - 1))\n",
      "        return x, w"
     ],
     "language": "python",
     "metadata": {},
     "outputs": [],
     "prompt_number": 19
    },
    {
     "cell_type": "markdown",
     "metadata": {},
     "source": [
      "Create a separate function of x that plots $\\int_0^x sin(x) dx = 1 - cos(x), $ using any of the two methods you developed."
     ]
    },
    {
     "cell_type": "code",
     "collapsed": false,
     "input": [
      "def plot(x):\n",
      "    trp = Trapezoidal(0, x, 10)\n",
      "    mpt = Midpoint(0, x, 10)\n",
      "    x_trp, w_trp = trp.method()\n",
      "    x_mpt, w_mpt = mpt.method()\n",
      "    \n",
      "    plt.plot(x_trp, func(x_trp), color = 'g', label = 'Trapezoidal')\n",
      "    plt.plot(x_mpt, func(x_mpt), color = 'r', label = 'Midpoint')\n",
      "    plt.title('n = 10')\n",
      "    plt.xlabel('x')\n",
      "    plt.ylabel('y')\n",
      "    plt.legend(); "
     ],
     "language": "python",
     "metadata": {},
     "outputs": [],
     "prompt_number": 45
    },
    {
     "cell_type": "code",
     "collapsed": false,
     "input": [
      "plot(np.pi * 2)"
     ],
     "language": "python",
     "metadata": {},
     "outputs": [
      {
       "metadata": {},
       "output_type": "display_data",
       "png": "[encoded data removed]",
       "text": [
        "<matplotlib.figure.Figure at 0xaca2be0>"
       ]
      }
     ],
     "prompt_number": 46
    }
   ],
   "metadata": {}
  }
 ]
}