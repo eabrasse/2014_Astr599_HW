{
 "metadata": {
  "name": "",
  "signature": "sha256:149612562a1d2875b6b066a64f4e3d301815e1d63790374eda9ce75c2a1aecf6"
 },
 "nbformat": 3,
 "nbformat_minor": 0,
 "worksheets": [
  {
   "cells": [
    {
     "cell_type": "heading",
     "level": 3,
     "metadata": {},
     "source": [
      "Homework_4_PandasIntro"
     ]
    },
    {
     "cell_type": "markdown",
     "metadata": {},
     "source": [
      "Hyungmin \"Tony\" Rho"
     ]
    },
    {
     "cell_type": "code",
     "collapsed": false,
     "input": [
      "# load required packages to work\n",
      "import pandas as pd, numpy as np, matplotlib.pyplot as plt\n",
      "%matplotlib inline"
     ],
     "language": "python",
     "metadata": {},
     "outputs": [],
     "prompt_number": 1
    },
    {
     "cell_type": "code",
     "collapsed": false,
     "input": [
      "# load the dataframe\n",
      "url = 'http://ghdx.healthdata.org/sites/default/files/'\\\n",
      "      'record-attached-files/IHME_PHMRC_VA_DATA_ADULT_Y2013M09D11_0.csv'"
     ],
     "language": "python",
     "metadata": {},
     "outputs": [],
     "prompt_number": 2
    },
    {
     "cell_type": "code",
     "collapsed": false,
     "input": [
      "df = pd.read_csv(url)"
     ],
     "language": "python",
     "metadata": {},
     "outputs": [
      {
       "output_type": "stream",
       "stream": "stderr",
       "text": [
        "C:\\Anaconda\\lib\\site-packages\\pandas\\io\\parsers.py:1139: DtypeWarning: Columns (18,29,38,41,60,96) have mixed types. Specify dtype option on import or set low_memory=False.\n",
        "  data = self._reader.read(nrows)\n"
       ]
      }
     ],
     "prompt_number": 3
    },
    {
     "cell_type": "code",
     "collapsed": false,
     "input": [
      "df = pd.read_csv(url, low_memory=False)"
     ],
     "language": "python",
     "metadata": {},
     "outputs": [],
     "prompt_number": 4
    },
    {
     "cell_type": "code",
     "collapsed": false,
     "input": [
      "# also load codebook (excel doc)\n",
      "url = 'http://ghdx.healthdata.org/sites/default/files/'\\\n",
      "      'record-attached-files/IHME_PHMRC_VA_DATA_CODEBOOK_Y2013M09D11_0.xlsx'"
     ],
     "language": "python",
     "metadata": {},
     "outputs": [],
     "prompt_number": 5
    },
    {
     "cell_type": "code",
     "collapsed": false,
     "input": [
      "cb = pd.read_excel(url)"
     ],
     "language": "python",
     "metadata": {},
     "outputs": [],
     "prompt_number": 6
    },
    {
     "cell_type": "code",
     "collapsed": false,
     "input": [
      "# check out the dataframe\n",
      "df.head()"
     ],
     "language": "python",
     "metadata": {},
     "outputs": [
      {
       "html": [
        "<div style=\"max-height:1000px;max-width:1500px;overflow:auto;\">\n",
        "<table border=\"1\" class=\"dataframe\">\n",
        "  <thead>\n",
        "    <tr style=\"text-align: right;\">\n",
        "      <th></th>\n",
        "      <th>site</th>\n",
        "      <th>module</th>\n",
        "      <th>gs_code34</th>\n",
        "      <th>gs_text34</th>\n",
        "      <th>va34</th>\n",
        "      <th>gs_code46</th>\n",
        "      <th>gs_text46</th>\n",
        "      <th>va46</th>\n",
        "      <th>gs_code55</th>\n",
        "      <th>gs_text55</th>\n",
        "      <th>...</th>\n",
        "      <th>word_woman</th>\n",
        "      <th>word_womb</th>\n",
        "      <th>word_worri</th>\n",
        "      <th>word_wors</th>\n",
        "      <th>word_worsen</th>\n",
        "      <th>word_worst</th>\n",
        "      <th>word_wound</th>\n",
        "      <th>word_xray</th>\n",
        "      <th>word_yellow</th>\n",
        "      <th>newid</th>\n",
        "    </tr>\n",
        "  </thead>\n",
        "  <tbody>\n",
        "    <tr>\n",
        "      <th>0</th>\n",
        "      <td> Mexico</td>\n",
        "      <td> Adult</td>\n",
        "      <td> K71</td>\n",
        "      <td>                   Cirrhosis</td>\n",
        "      <td>  6</td>\n",
        "      <td> K71</td>\n",
        "      <td>                   Cirrhosis</td>\n",
        "      <td>  8</td>\n",
        "      <td> K71</td>\n",
        "      <td>                   Cirrhosis</td>\n",
        "      <td>...</td>\n",
        "      <td> 0</td>\n",
        "      <td> 0</td>\n",
        "      <td> 0</td>\n",
        "      <td> 0</td>\n",
        "      <td> 0</td>\n",
        "      <td> 0</td>\n",
        "      <td> 0</td>\n",
        "      <td> 0</td>\n",
        "      <td> 0</td>\n",
        "      <td> 1</td>\n",
        "    </tr>\n",
        "    <tr>\n",
        "      <th>1</th>\n",
        "      <td>     AP</td>\n",
        "      <td> Adult</td>\n",
        "      <td> G40</td>\n",
        "      <td>                    Epilepsy</td>\n",
        "      <td> 12</td>\n",
        "      <td> G40</td>\n",
        "      <td>                    Epilepsy</td>\n",
        "      <td> 16</td>\n",
        "      <td> G40</td>\n",
        "      <td>                    Epilepsy</td>\n",
        "      <td>...</td>\n",
        "      <td> 0</td>\n",
        "      <td> 0</td>\n",
        "      <td> 0</td>\n",
        "      <td> 0</td>\n",
        "      <td> 0</td>\n",
        "      <td> 0</td>\n",
        "      <td> 0</td>\n",
        "      <td> 0</td>\n",
        "      <td> 0</td>\n",
        "      <td> 2</td>\n",
        "    </tr>\n",
        "    <tr>\n",
        "      <th>2</th>\n",
        "      <td>     AP</td>\n",
        "      <td> Adult</td>\n",
        "      <td> J12</td>\n",
        "      <td>                   Pneumonia</td>\n",
        "      <td> 26</td>\n",
        "      <td> J12</td>\n",
        "      <td>                   Pneumonia</td>\n",
        "      <td> 37</td>\n",
        "      <td> J12</td>\n",
        "      <td>                   Pneumonia</td>\n",
        "      <td>...</td>\n",
        "      <td> 0</td>\n",
        "      <td> 0</td>\n",
        "      <td> 0</td>\n",
        "      <td> 0</td>\n",
        "      <td> 0</td>\n",
        "      <td> 0</td>\n",
        "      <td> 0</td>\n",
        "      <td> 0</td>\n",
        "      <td> 0</td>\n",
        "      <td> 3</td>\n",
        "    </tr>\n",
        "    <tr>\n",
        "      <th>3</th>\n",
        "      <td> Mexico</td>\n",
        "      <td> Adult</td>\n",
        "      <td> J33</td>\n",
        "      <td>                        COPD</td>\n",
        "      <td>  8</td>\n",
        "      <td> J33</td>\n",
        "      <td>                        COPD</td>\n",
        "      <td> 10</td>\n",
        "      <td> J33</td>\n",
        "      <td>                        COPD</td>\n",
        "      <td>...</td>\n",
        "      <td> 0</td>\n",
        "      <td> 0</td>\n",
        "      <td> 0</td>\n",
        "      <td> 0</td>\n",
        "      <td> 0</td>\n",
        "      <td> 0</td>\n",
        "      <td> 0</td>\n",
        "      <td> 0</td>\n",
        "      <td> 0</td>\n",
        "      <td> 4</td>\n",
        "    </tr>\n",
        "    <tr>\n",
        "      <th>4</th>\n",
        "      <td>     UP</td>\n",
        "      <td> Adult</td>\n",
        "      <td> I21</td>\n",
        "      <td> Acute Myocardial Infarction</td>\n",
        "      <td> 17</td>\n",
        "      <td> I21</td>\n",
        "      <td> Acute Myocardial Infarction</td>\n",
        "      <td> 23</td>\n",
        "      <td> I21</td>\n",
        "      <td> Acute Myocardial Infarction</td>\n",
        "      <td>...</td>\n",
        "      <td> 0</td>\n",
        "      <td> 0</td>\n",
        "      <td> 0</td>\n",
        "      <td> 0</td>\n",
        "      <td> 0</td>\n",
        "      <td> 0</td>\n",
        "      <td> 0</td>\n",
        "      <td> 0</td>\n",
        "      <td> 0</td>\n",
        "      <td> 5</td>\n",
        "    </tr>\n",
        "  </tbody>\n",
        "</table>\n",
        "<p>5 rows \u00d7 946 columns</p>\n",
        "</div>"
       ],
       "metadata": {},
       "output_type": "pyout",
       "prompt_number": 9,
       "text": [
        "     site module gs_code34                    gs_text34  va34 gs_code46  \\\n",
        "0  Mexico  Adult       K71                    Cirrhosis     6       K71   \n",
        "1      AP  Adult       G40                     Epilepsy    12       G40   \n",
        "2      AP  Adult       J12                    Pneumonia    26       J12   \n",
        "3  Mexico  Adult       J33                         COPD     8       J33   \n",
        "4      UP  Adult       I21  Acute Myocardial Infarction    17       I21   \n",
        "\n",
        "                     gs_text46  va46 gs_code55                    gs_text55  \\\n",
        "0                    Cirrhosis     8       K71                    Cirrhosis   \n",
        "1                     Epilepsy    16       G40                     Epilepsy   \n",
        "2                    Pneumonia    37       J12                    Pneumonia   \n",
        "3                         COPD    10       J33                         COPD   \n",
        "4  Acute Myocardial Infarction    23       I21  Acute Myocardial Infarction   \n",
        "\n",
        "              ...               word_woman word_womb word_worri word_wors  \\\n",
        "0             ...                        0         0          0         0   \n",
        "1             ...                        0         0          0         0   \n",
        "2             ...                        0         0          0         0   \n",
        "3             ...                        0         0          0         0   \n",
        "4             ...                        0         0          0         0   \n",
        "\n",
        "  word_worsen word_worst word_wound word_xray word_yellow newid  \n",
        "0           0          0          0         0           0     1  \n",
        "1           0          0          0         0           0     2  \n",
        "2           0          0          0         0           0     3  \n",
        "3           0          0          0         0           0     4  \n",
        "4           0          0          0         0           0     5  \n",
        "\n",
        "[5 rows x 946 columns]"
       ]
      }
     ],
     "prompt_number": 9
    },
    {
     "cell_type": "code",
     "collapsed": false,
     "input": [
      "# and the codebook\n",
      "cb.head()"
     ],
     "language": "python",
     "metadata": {},
     "outputs": [
      {
       "html": [
        "<div style=\"max-height:1000px;max-width:1500px;overflow:auto;\">\n",
        "<table border=\"1\" class=\"dataframe\">\n",
        "  <thead>\n",
        "    <tr style=\"text-align: right;\">\n",
        "      <th></th>\n",
        "      <th>variable</th>\n",
        "      <th>question</th>\n",
        "      <th>module</th>\n",
        "      <th>health_care_experience</th>\n",
        "      <th>coding</th>\n",
        "    </tr>\n",
        "  </thead>\n",
        "  <tbody>\n",
        "    <tr>\n",
        "      <th>0</th>\n",
        "      <td>         site</td>\n",
        "      <td>                                Site</td>\n",
        "      <td> General</td>\n",
        "      <td> 0</td>\n",
        "      <td> NaN</td>\n",
        "    </tr>\n",
        "    <tr>\n",
        "      <th>1</th>\n",
        "      <td>        newid</td>\n",
        "      <td>                            Study ID</td>\n",
        "      <td> General</td>\n",
        "      <td> 0</td>\n",
        "      <td> NaN</td>\n",
        "    </tr>\n",
        "    <tr>\n",
        "      <th>2</th>\n",
        "      <td> gs_diagnosis</td>\n",
        "      <td>        Gold Standard Diagnosis Code</td>\n",
        "      <td> General</td>\n",
        "      <td> 0</td>\n",
        "      <td> NaN</td>\n",
        "    </tr>\n",
        "    <tr>\n",
        "      <th>3</th>\n",
        "      <td> gs_comorbid1</td>\n",
        "      <td> Gold Standard Comorbid Conditions 1</td>\n",
        "      <td> General</td>\n",
        "      <td> 0</td>\n",
        "      <td> NaN</td>\n",
        "    </tr>\n",
        "    <tr>\n",
        "      <th>4</th>\n",
        "      <td> gs_comorbid2</td>\n",
        "      <td> Gold Standard Comorbid Conditions 2</td>\n",
        "      <td> General</td>\n",
        "      <td> 0</td>\n",
        "      <td> NaN</td>\n",
        "    </tr>\n",
        "  </tbody>\n",
        "</table>\n",
        "</div>"
       ],
       "metadata": {},
       "output_type": "pyout",
       "prompt_number": 10,
       "text": [
        "       variable                             question   module  \\\n",
        "0          site                                 Site  General   \n",
        "1         newid                             Study ID  General   \n",
        "2  gs_diagnosis         Gold Standard Diagnosis Code  General   \n",
        "3  gs_comorbid1  Gold Standard Comorbid Conditions 1  General   \n",
        "4  gs_comorbid2  Gold Standard Comorbid Conditions 2  General   \n",
        "\n",
        "   health_care_experience coding  \n",
        "0                       0    NaN  \n",
        "1                       0    NaN  \n",
        "2                       0    NaN  \n",
        "3                       0    NaN  \n",
        "4                       0    NaN  "
       ]
      }
     ],
     "prompt_number": 10
    },
    {
     "cell_type": "markdown",
     "metadata": {},
     "source": [
      "# Use the codebook to find the column which corresponds to the question \"Did ____ have a fever?\" "
     ]
    },
    {
     "cell_type": "code",
     "collapsed": false,
     "input": [
      "# use hint... str.contains...found two candidates\n",
      "cb.question.str.contains('Did' and 'have a fever?', na=False).value_counts()"
     ],
     "language": "python",
     "metadata": {},
     "outputs": [
      {
       "metadata": {},
       "output_type": "pyout",
       "prompt_number": 11,
       "text": [
        "False    1647\n",
        "True        2\n",
        "dtype: int64"
       ]
      }
     ],
     "prompt_number": 11
    },
    {
     "cell_type": "code",
     "collapsed": false,
     "input": [
      "cb.loc[cb.question.str.contains('Did' and 'have a fever?', na=False) == True]"
     ],
     "language": "python",
     "metadata": {},
     "outputs": [
      {
       "html": [
        "<div style=\"max-height:1000px;max-width:1500px;overflow:auto;\">\n",
        "<table border=\"1\" class=\"dataframe\">\n",
        "  <thead>\n",
        "    <tr style=\"text-align: right;\">\n",
        "      <th></th>\n",
        "      <th>variable</th>\n",
        "      <th>question</th>\n",
        "      <th>module</th>\n",
        "      <th>health_care_experience</th>\n",
        "      <th>coding</th>\n",
        "    </tr>\n",
        "  </thead>\n",
        "  <tbody>\n",
        "    <tr>\n",
        "      <th>79  </th>\n",
        "      <td> a2_02</td>\n",
        "      <td>                          Did [name] have a fever?</td>\n",
        "      <td> Adult</td>\n",
        "      <td> 0</td>\n",
        "      <td> 0 \"No\" 1 \"Yes\" 8 \"Refused to Answer\" 9 \"Don't ...</td>\n",
        "    </tr>\n",
        "    <tr>\n",
        "      <th>1107</th>\n",
        "      <td> c4_01</td>\n",
        "      <td> During the illness that led to death, did [nam...</td>\n",
        "      <td> Child</td>\n",
        "      <td> 0</td>\n",
        "      <td> 0 \"No\" 1 \"Yes\" 8 \"Refused to Answer\" 9 \"Don't ...</td>\n",
        "    </tr>\n",
        "  </tbody>\n",
        "</table>\n",
        "</div>"
       ],
       "metadata": {},
       "output_type": "pyout",
       "prompt_number": 12,
       "text": [
        "     variable                                           question module  \\\n",
        "79      a2_02                           Did [name] have a fever?  Adult   \n",
        "1107    c4_01  During the illness that led to death, did [nam...  Child   \n",
        "\n",
        "      health_care_experience  \\\n",
        "79                         0   \n",
        "1107                       0   \n",
        "\n",
        "                                                 coding  \n",
        "79    0 \"No\" 1 \"Yes\" 8 \"Refused to Answer\" 9 \"Don't ...  \n",
        "1107  0 \"No\" 1 \"Yes\" 8 \"Refused to Answer\" 9 \"Don't ...  "
       ]
      }
     ],
     "prompt_number": 12
    },
    {
     "cell_type": "code",
     "collapsed": false,
     "input": [
      "cb.loc[79]"
     ],
     "language": "python",
     "metadata": {},
     "outputs": [
      {
       "metadata": {},
       "output_type": "pyout",
       "prompt_number": 13,
       "text": [
        "variable                                                              a2_02\n",
        "question                                           Did [name] have a fever?\n",
        "module                                                                Adult\n",
        "health_care_experience                                                    0\n",
        "coding                    0 \"No\" 1 \"Yes\" 8 \"Refused to Answer\" 9 \"Don't ...\n",
        "Name: 79, dtype: object"
       ]
      }
     ],
     "prompt_number": 13
    },
    {
     "cell_type": "code",
     "collapsed": false,
     "input": [
      "# assign the variable name for further process\n",
      "var = 'a2_02'"
     ],
     "language": "python",
     "metadata": {},
     "outputs": [],
     "prompt_number": 14
    },
    {
     "cell_type": "code",
     "collapsed": false,
     "input": [
      "# check out the series\n",
      "df.a2_02"
     ],
     "language": "python",
     "metadata": {},
     "outputs": [
      {
       "metadata": {},
       "output_type": "pyout",
       "prompt_number": 15,
       "text": [
        "0     Yes\n",
        "1     Yes\n",
        "2     Yes\n",
        "3      No\n",
        "4      No\n",
        "5      No\n",
        "6      No\n",
        "7     Yes\n",
        "8      No\n",
        "9      No\n",
        "10    Yes\n",
        "11     No\n",
        "12     No\n",
        "13    Yes\n",
        "14     No\n",
        "...\n",
        "7826     No\n",
        "7827    Yes\n",
        "7828    Yes\n",
        "7829     No\n",
        "7830     No\n",
        "7831    Yes\n",
        "7832    Yes\n",
        "7833    Yes\n",
        "7834     No\n",
        "7835     No\n",
        "7836    Yes\n",
        "7837     No\n",
        "7838     No\n",
        "7839     No\n",
        "7840     No\n",
        "Name: a2_02, Length: 7841, dtype: object"
       ]
      }
     ],
     "prompt_number": 15
    },
    {
     "cell_type": "markdown",
     "metadata": {},
     "source": [
      "The \"endorsement rate\" for a sign or symptom of disease is the fraction of verbal autopsy interviews where the respondent answered \"Yes\" to the question about that sign/symptom."
     ]
    },
    {
     "cell_type": "markdown",
     "metadata": {},
     "source": [
      "# Find the cause with the highest endorsement rate for the symptom \"fever\" among Adult deaths"
     ]
    },
    {
     "cell_type": "code",
     "collapsed": false,
     "input": [
      "# make another series has 'fever' as the symptom\n",
      "df['fever'] = df[var] == 'Yes'"
     ],
     "language": "python",
     "metadata": {},
     "outputs": [],
     "prompt_number": 16
    },
    {
     "cell_type": "code",
     "collapsed": false,
     "input": [
      "df['fever']"
     ],
     "language": "python",
     "metadata": {},
     "outputs": [
      {
       "metadata": {},
       "output_type": "pyout",
       "prompt_number": 17,
       "text": [
        "0      True\n",
        "1      True\n",
        "2      True\n",
        "3     False\n",
        "4     False\n",
        "5     False\n",
        "6     False\n",
        "7      True\n",
        "8     False\n",
        "9     False\n",
        "10     True\n",
        "11    False\n",
        "12    False\n",
        "13     True\n",
        "14    False\n",
        "...\n",
        "7826    False\n",
        "7827     True\n",
        "7828     True\n",
        "7829    False\n",
        "7830    False\n",
        "7831     True\n",
        "7832     True\n",
        "7833     True\n",
        "7834    False\n",
        "7835    False\n",
        "7836     True\n",
        "7837    False\n",
        "7838    False\n",
        "7839    False\n",
        "7840    False\n",
        "Name: fever, Length: 7841, dtype: bool"
       ]
      }
     ],
     "prompt_number": 17
    },
    {
     "cell_type": "code",
     "collapsed": false,
     "input": [
      "# use groupby like we did in class\n",
      "df.groupby('gs_text34').fever.mean().order(ascending=False)"
     ],
     "language": "python",
     "metadata": {},
     "outputs": [
      {
       "metadata": {},
       "output_type": "pyout",
       "prompt_number": 19,
       "text": [
        "gs_text34\n",
        "Malaria                            0.860000\n",
        "AIDS                               0.794821\n",
        "Other Infectious Diseases          0.741445\n",
        "TB                                 0.706522\n",
        "Pneumonia                          0.700000\n",
        "Leukemia/Lymphomas                 0.692308\n",
        "Epilepsy                           0.645833\n",
        "Renal Failure                      0.576923\n",
        "Other Non-communicable Diseases    0.555927\n",
        "Breast Cancer                      0.553846\n",
        "Diarrhea/Dysentery                 0.552632\n",
        "Cirrhosis                          0.546326\n",
        "Diabetes                           0.538647\n",
        "COPD                               0.491228\n",
        "Colorectal Cancer                  0.474747\n",
        "Lung Cancer                        0.462264\n",
        "Stroke                             0.447619\n",
        "Asthma                             0.446809\n",
        "Other Cardiovascular Diseases      0.444712\n",
        "Esophageal Cancer                  0.425000\n",
        "Stomach Cancer                     0.419355\n",
        "Cervical Cancer                    0.412903\n",
        "Prostate Cancer                    0.395833\n",
        "Falls                              0.306358\n",
        "Maternal                           0.301282\n",
        "Acute Myocardial Infarction        0.290000\n",
        "Road Traffic                       0.267327\n",
        "Fires                              0.229508\n",
        "Poisonings                         0.220930\n",
        "Homicide                           0.203593\n",
        "Suicide                            0.104839\n",
        "Other Injuries                     0.087379\n",
        "Bite of Venomous Animal            0.060606\n",
        "Drowning                           0.028302\n",
        "Name: fever, dtype: float64"
       ]
      }
     ],
     "prompt_number": 19
    },
    {
     "cell_type": "markdown",
     "metadata": {},
     "source": [
      "# Display the cause-specific endorsement rates visually"
     ]
    },
    {
     "cell_type": "code",
     "collapsed": false,
     "input": [
      "# do some plotting like we did in class\n",
      "df.groupby('gs_text34').fever.mean().order().plot(kind='barh', figsize=(12,12))\n",
      "plt.xlabel('Endorsement Rate (%)');"
     ],
     "language": "python",
     "metadata": {},
     "outputs": [
      {
       "metadata": {},
       "output_type": "display_data",
       "png": "[encoded data removed]",
       "text": [
        "<matplotlib.figure.Figure at 0x11a6edd8>"
       ]
      }
     ],
     "prompt_number": 21
    },
    {
     "cell_type": "markdown",
     "metadata": {},
     "source": [
      "# Find the question that asks if the deceased had AIDS"
     ]
    },
    {
     "cell_type": "code",
     "collapsed": false,
     "input": [
      "# again... found two candidates\n",
      "cb.question.str.contains('AIDS', na=False).value_counts()"
     ],
     "language": "python",
     "metadata": {},
     "outputs": [
      {
       "metadata": {},
       "output_type": "pyout",
       "prompt_number": 22,
       "text": [
        "False    1647\n",
        "True        2\n",
        "dtype: int64"
       ]
      }
     ],
     "prompt_number": 22
    },
    {
     "cell_type": "code",
     "collapsed": false,
     "input": [
      "cb.loc[cb.question.str.contains('AIDS', na=False)]"
     ],
     "language": "python",
     "metadata": {},
     "outputs": [
      {
       "html": [
        "<div style=\"max-height:1000px;max-width:1500px;overflow:auto;\">\n",
        "<table border=\"1\" class=\"dataframe\">\n",
        "  <thead>\n",
        "    <tr style=\"text-align: right;\">\n",
        "      <th></th>\n",
        "      <th>variable</th>\n",
        "      <th>question</th>\n",
        "      <th>module</th>\n",
        "      <th>health_care_experience</th>\n",
        "      <th>coding</th>\n",
        "    </tr>\n",
        "  </thead>\n",
        "  <tbody>\n",
        "    <tr>\n",
        "      <th>76  </th>\n",
        "      <td> a1_01_14</td>\n",
        "      <td>                           Did Decedent Have AIDS?</td>\n",
        "      <td> Adult</td>\n",
        "      <td> 1</td>\n",
        "      <td> 0 \"No\" 1 \"Yes\" 8 \"Refused to Answer\" 9 \"Don't ...</td>\n",
        "    </tr>\n",
        "    <tr>\n",
        "      <th>1215</th>\n",
        "      <td>    c5_19</td>\n",
        "      <td> Has the deceased's (biological) mother ever be...</td>\n",
        "      <td> Child</td>\n",
        "      <td> 0</td>\n",
        "      <td> 0 \"No\" 1 \"Yes\" 8 \"Refused to Answer\" 9 \"Don't ...</td>\n",
        "    </tr>\n",
        "  </tbody>\n",
        "</table>\n",
        "</div>"
       ],
       "metadata": {},
       "output_type": "pyout",
       "prompt_number": 23,
       "text": [
        "      variable                                           question module  \\\n",
        "76    a1_01_14                            Did Decedent Have AIDS?  Adult   \n",
        "1215     c5_19  Has the deceased's (biological) mother ever be...  Child   \n",
        "\n",
        "      health_care_experience  \\\n",
        "76                         1   \n",
        "1215                       0   \n",
        "\n",
        "                                                 coding  \n",
        "76    0 \"No\" 1 \"Yes\" 8 \"Refused to Answer\" 9 \"Don't ...  \n",
        "1215  0 \"No\" 1 \"Yes\" 8 \"Refused to Answer\" 9 \"Don't ...  "
       ]
      }
     ],
     "prompt_number": 23
    },
    {
     "cell_type": "code",
     "collapsed": false,
     "input": [
      "# assign the variable name\n",
      "var = 'a1_01_14'"
     ],
     "language": "python",
     "metadata": {},
     "outputs": [],
     "prompt_number": 24
    },
    {
     "cell_type": "code",
     "collapsed": false,
     "input": [
      "df.a1_01_14"
     ],
     "language": "python",
     "metadata": {},
     "outputs": [
      {
       "metadata": {},
       "output_type": "pyout",
       "prompt_number": 27,
       "text": [
        "0     No\n",
        "1     No\n",
        "2     No\n",
        "3     No\n",
        "4     No\n",
        "5     No\n",
        "6     No\n",
        "7     No\n",
        "8     No\n",
        "9     No\n",
        "10    No\n",
        "11    No\n",
        "12    No\n",
        "13    No\n",
        "14    No\n",
        "...\n",
        "7826     No\n",
        "7827     No\n",
        "7828     No\n",
        "7829     No\n",
        "7830     No\n",
        "7831     No\n",
        "7832     No\n",
        "7833    Yes\n",
        "7834     No\n",
        "7835     No\n",
        "7836     No\n",
        "7837     No\n",
        "7838     No\n",
        "7839     No\n",
        "7840     No\n",
        "Name: a1_01_14, Length: 7841, dtype: object"
       ]
      }
     ],
     "prompt_number": 27
    },
    {
     "cell_type": "markdown",
     "metadata": {},
     "source": [
      "# Make a 2x2 table showing the number of adult deceased with and without this question endorsed for decedents with underlying cause AIDS and not AIDS"
     ]
    },
    {
     "cell_type": "code",
     "collapsed": false,
     "input": [
      "# make two series corresponding 'w/ and w/o question': 'endorsed', 'aids as a underlying cause and not': 'aids'\n",
      "df['endorsed'] = df[var] == 'Yes'\n",
      "df['aids'] = df['gs_text34'] == 'AIDS'"
     ],
     "language": "python",
     "metadata": {},
     "outputs": [],
     "prompt_number": 28
    },
    {
     "cell_type": "code",
     "collapsed": false,
     "input": [
      "df['endorsed']"
     ],
     "language": "python",
     "metadata": {},
     "outputs": [
      {
       "metadata": {},
       "output_type": "pyout",
       "prompt_number": 29,
       "text": [
        "0     False\n",
        "1     False\n",
        "2     False\n",
        "3     False\n",
        "4     False\n",
        "5     False\n",
        "6     False\n",
        "7     False\n",
        "8     False\n",
        "9     False\n",
        "10    False\n",
        "11    False\n",
        "12    False\n",
        "13    False\n",
        "14    False\n",
        "...\n",
        "7826    False\n",
        "7827    False\n",
        "7828    False\n",
        "7829    False\n",
        "7830    False\n",
        "7831    False\n",
        "7832    False\n",
        "7833     True\n",
        "7834    False\n",
        "7835    False\n",
        "7836    False\n",
        "7837    False\n",
        "7838    False\n",
        "7839    False\n",
        "7840    False\n",
        "Name: endorsed, Length: 7841, dtype: bool"
       ]
      }
     ],
     "prompt_number": 29
    },
    {
     "cell_type": "code",
     "collapsed": false,
     "input": [
      "df['aids']"
     ],
     "language": "python",
     "metadata": {},
     "outputs": [
      {
       "metadata": {},
       "output_type": "pyout",
       "prompt_number": 30,
       "text": [
        "0     False\n",
        "1     False\n",
        "2     False\n",
        "3     False\n",
        "4     False\n",
        "5     False\n",
        "6     False\n",
        "7      True\n",
        "8     False\n",
        "9     False\n",
        "10    False\n",
        "11    False\n",
        "12    False\n",
        "13    False\n",
        "14    False\n",
        "...\n",
        "7826    False\n",
        "7827    False\n",
        "7828    False\n",
        "7829    False\n",
        "7830    False\n",
        "7831    False\n",
        "7832    False\n",
        "7833     True\n",
        "7834    False\n",
        "7835    False\n",
        "7836    False\n",
        "7837    False\n",
        "7838    False\n",
        "7839    False\n",
        "7840    False\n",
        "Name: aids, Length: 7841, dtype: bool"
       ]
      }
     ],
     "prompt_number": 30
    },
    {
     "cell_type": "code",
     "collapsed": false,
     "input": [
      "# make a 2X2 table\n",
      "df.groupby(['endorsed','aids']).size().unstack()"
     ],
     "language": "python",
     "metadata": {},
     "outputs": [
      {
       "html": [
        "<div style=\"max-height:1000px;max-width:1500px;overflow:auto;\">\n",
        "<table border=\"1\" class=\"dataframe\">\n",
        "  <thead>\n",
        "    <tr style=\"text-align: right;\">\n",
        "      <th>aids</th>\n",
        "      <th>False</th>\n",
        "      <th>True</th>\n",
        "    </tr>\n",
        "    <tr>\n",
        "      <th>endorsed</th>\n",
        "      <th></th>\n",
        "      <th></th>\n",
        "    </tr>\n",
        "  </thead>\n",
        "  <tbody>\n",
        "    <tr>\n",
        "      <th>False</th>\n",
        "      <td> 7204</td>\n",
        "      <td> 194</td>\n",
        "    </tr>\n",
        "    <tr>\n",
        "      <th>True </th>\n",
        "      <td>  135</td>\n",
        "      <td> 308</td>\n",
        "    </tr>\n",
        "  </tbody>\n",
        "</table>\n",
        "</div>"
       ],
       "metadata": {},
       "output_type": "pyout",
       "prompt_number": 31,
       "text": [
        "aids      False  True \n",
        "endorsed              \n",
        "False      7204    194\n",
        "True        135    308"
       ]
      }
     ],
     "prompt_number": 31
    },
    {
     "cell_type": "markdown",
     "metadata": {},
     "source": [
      "# Compare this 2x2 table across study sites"
     ]
    },
    {
     "cell_type": "code",
     "collapsed": false,
     "input": [
      "# this is the way I used... the simplest way?\n",
      "df1 = df.groupby(['site','endorsed','aids']).size().unstack()\n",
      "df1"
     ],
     "language": "python",
     "metadata": {},
     "outputs": [
      {
       "html": [
        "<div style=\"max-height:1000px;max-width:1500px;overflow:auto;\">\n",
        "<table border=\"1\" class=\"dataframe\">\n",
        "  <thead>\n",
        "    <tr style=\"text-align: right;\">\n",
        "      <th></th>\n",
        "      <th>aids</th>\n",
        "      <th>False</th>\n",
        "      <th>True</th>\n",
        "    </tr>\n",
        "    <tr>\n",
        "      <th>site</th>\n",
        "      <th>endorsed</th>\n",
        "      <th></th>\n",
        "      <th></th>\n",
        "    </tr>\n",
        "  </thead>\n",
        "  <tbody>\n",
        "    <tr>\n",
        "      <th rowspan=\"2\" valign=\"top\">AP</th>\n",
        "      <th>False</th>\n",
        "      <td> 1404</td>\n",
        "      <td>  75</td>\n",
        "    </tr>\n",
        "    <tr>\n",
        "      <th>True </th>\n",
        "      <td>   14</td>\n",
        "      <td>  61</td>\n",
        "    </tr>\n",
        "    <tr>\n",
        "      <th>Bohol</th>\n",
        "      <th>False</th>\n",
        "      <td> 1259</td>\n",
        "      <td> NaN</td>\n",
        "    </tr>\n",
        "    <tr>\n",
        "      <th rowspan=\"2\" valign=\"top\">Dar</th>\n",
        "      <th>False</th>\n",
        "      <td> 1414</td>\n",
        "      <td>  88</td>\n",
        "    </tr>\n",
        "    <tr>\n",
        "      <th>True </th>\n",
        "      <td>  109</td>\n",
        "      <td> 115</td>\n",
        "    </tr>\n",
        "    <tr>\n",
        "      <th rowspan=\"2\" valign=\"top\">Mexico</th>\n",
        "      <th>False</th>\n",
        "      <td> 1460</td>\n",
        "      <td>  29</td>\n",
        "    </tr>\n",
        "    <tr>\n",
        "      <th>True </th>\n",
        "      <td>    6</td>\n",
        "      <td>  91</td>\n",
        "    </tr>\n",
        "    <tr>\n",
        "      <th rowspan=\"2\" valign=\"top\">Pemba</th>\n",
        "      <th>False</th>\n",
        "      <td>  294</td>\n",
        "      <td> NaN</td>\n",
        "    </tr>\n",
        "    <tr>\n",
        "      <th>True </th>\n",
        "      <td>    3</td>\n",
        "      <td> NaN</td>\n",
        "    </tr>\n",
        "    <tr>\n",
        "      <th rowspan=\"2\" valign=\"top\">UP</th>\n",
        "      <th>False</th>\n",
        "      <td> 1373</td>\n",
        "      <td>   2</td>\n",
        "    </tr>\n",
        "    <tr>\n",
        "      <th>True </th>\n",
        "      <td>    3</td>\n",
        "      <td>  41</td>\n",
        "    </tr>\n",
        "  </tbody>\n",
        "</table>\n",
        "</div>"
       ],
       "metadata": {},
       "output_type": "pyout",
       "prompt_number": 42,
       "text": [
        "aids             False  True \n",
        "site   endorsed              \n",
        "AP     False      1404     75\n",
        "       True         14     61\n",
        "Bohol  False      1259    NaN\n",
        "Dar    False      1414     88\n",
        "       True        109    115\n",
        "Mexico False      1460     29\n",
        "       True          6     91\n",
        "Pemba  False       294    NaN\n",
        "       True          3    NaN\n",
        "UP     False      1373      2\n",
        "       True          3     41"
       ]
      }
     ],
     "prompt_number": 42
    },
    {
     "cell_type": "markdown",
     "metadata": {},
     "source": [
      "#Now do a series of 2x2 tables comparing the percent of deaths truely due to AIDS for which \"Had AIDS\" question was endorsed"
     ]
    },
    {
     "cell_type": "code",
     "collapsed": false,
     "input": [
      "# make a 2X2 table which \"Had AIDS\" question was endorsed\n",
      "df2 = df1.filter(like='True', axis = 0)\n",
      "df2"
     ],
     "language": "python",
     "metadata": {},
     "outputs": [
      {
       "html": [
        "<div style=\"max-height:1000px;max-width:1500px;overflow:auto;\">\n",
        "<table border=\"1\" class=\"dataframe\">\n",
        "  <thead>\n",
        "    <tr style=\"text-align: right;\">\n",
        "      <th></th>\n",
        "      <th>aids</th>\n",
        "      <th>False</th>\n",
        "      <th>True</th>\n",
        "    </tr>\n",
        "    <tr>\n",
        "      <th>site</th>\n",
        "      <th>endorsed</th>\n",
        "      <th></th>\n",
        "      <th></th>\n",
        "    </tr>\n",
        "  </thead>\n",
        "  <tbody>\n",
        "    <tr>\n",
        "      <th>AP</th>\n",
        "      <th>True</th>\n",
        "      <td>  14</td>\n",
        "      <td>  61</td>\n",
        "    </tr>\n",
        "    <tr>\n",
        "      <th>Dar</th>\n",
        "      <th>True</th>\n",
        "      <td> 109</td>\n",
        "      <td> 115</td>\n",
        "    </tr>\n",
        "    <tr>\n",
        "      <th>Mexico</th>\n",
        "      <th>True</th>\n",
        "      <td>   6</td>\n",
        "      <td>  91</td>\n",
        "    </tr>\n",
        "    <tr>\n",
        "      <th>Pemba</th>\n",
        "      <th>True</th>\n",
        "      <td>   3</td>\n",
        "      <td> NaN</td>\n",
        "    </tr>\n",
        "    <tr>\n",
        "      <th>UP</th>\n",
        "      <th>True</th>\n",
        "      <td>   3</td>\n",
        "      <td>  41</td>\n",
        "    </tr>\n",
        "  </tbody>\n",
        "</table>\n",
        "</div>"
       ],
       "metadata": {},
       "output_type": "pyout",
       "prompt_number": 50,
       "text": [
        "aids             False  True \n",
        "site   endorsed              \n",
        "AP     True         14     61\n",
        "Dar    True        109    115\n",
        "Mexico True          6     91\n",
        "Pemba  True          3    NaN\n",
        "UP     True          3     41"
       ]
      }
     ],
     "prompt_number": 50
    },
    {
     "cell_type": "code",
     "collapsed": false,
     "input": [
      "# make a simple function to calculate the percent\n",
      "percent = lambda x: x / x.sum() * 100\n",
      "df2.apply(percent, axis=1)"
     ],
     "language": "python",
     "metadata": {},
     "outputs": [
      {
       "html": [
        "<div style=\"max-height:1000px;max-width:1500px;overflow:auto;\">\n",
        "<table border=\"1\" class=\"dataframe\">\n",
        "  <thead>\n",
        "    <tr style=\"text-align: right;\">\n",
        "      <th></th>\n",
        "      <th>aids</th>\n",
        "      <th>False</th>\n",
        "      <th>True</th>\n",
        "    </tr>\n",
        "    <tr>\n",
        "      <th>site</th>\n",
        "      <th>endorsed</th>\n",
        "      <th></th>\n",
        "      <th></th>\n",
        "    </tr>\n",
        "  </thead>\n",
        "  <tbody>\n",
        "    <tr>\n",
        "      <th>AP</th>\n",
        "      <th>True</th>\n",
        "      <td>  18.666667</td>\n",
        "      <td> 81.333333</td>\n",
        "    </tr>\n",
        "    <tr>\n",
        "      <th>Dar</th>\n",
        "      <th>True</th>\n",
        "      <td>  48.660714</td>\n",
        "      <td> 51.339286</td>\n",
        "    </tr>\n",
        "    <tr>\n",
        "      <th>Mexico</th>\n",
        "      <th>True</th>\n",
        "      <td>   6.185567</td>\n",
        "      <td> 93.814433</td>\n",
        "    </tr>\n",
        "    <tr>\n",
        "      <th>Pemba</th>\n",
        "      <th>True</th>\n",
        "      <td> 100.000000</td>\n",
        "      <td>       NaN</td>\n",
        "    </tr>\n",
        "    <tr>\n",
        "      <th>UP</th>\n",
        "      <th>True</th>\n",
        "      <td>   6.818182</td>\n",
        "      <td> 93.181818</td>\n",
        "    </tr>\n",
        "  </tbody>\n",
        "</table>\n",
        "</div>"
       ],
       "metadata": {},
       "output_type": "pyout",
       "prompt_number": 51,
       "text": [
        "aids                  False      True \n",
        "site   endorsed                       \n",
        "AP     True       18.666667  81.333333\n",
        "Dar    True       48.660714  51.339286\n",
        "Mexico True        6.185567  93.814433\n",
        "Pemba  True      100.000000        NaN\n",
        "UP     True        6.818182  93.181818"
       ]
      }
     ],
     "prompt_number": 51
    },
    {
     "cell_type": "markdown",
     "metadata": {},
     "source": [
      "In Dar site, approximately a half of the decedents who showed a fever was misdiagnosed as AIDS patients, whereas the decedents in the other sites showed pretty similar statistics around 1 to 9 ratio. Pemba was exceptional."
     ]
    }
   ],
   "metadata": {}
  }
 ]
}