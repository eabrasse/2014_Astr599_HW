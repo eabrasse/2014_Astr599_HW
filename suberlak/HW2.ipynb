{
 "metadata": {
  "name": "",
  "signature": "sha256:e501fd5c1c791153d74191646cedf14f87f6995aa8634c483a41e6e8c7bec20c"
 },
 "nbformat": 3,
 "nbformat_minor": 0,
 "worksheets": [
  {
   "cells": [
    {
     "cell_type": "heading",
     "level": 2,
     "metadata": {},
     "source": [
      "Homework 2 , based on lesson 13 : Object-oriented programming \n",
      "    "
     ]
    },
    {
     "cell_type": "heading",
     "level": 2,
     "metadata": {},
     "source": [
      "1"
     ]
    },
    {
     "cell_type": "markdown",
     "metadata": {},
     "source": [
      "1 \"Create a function <b> func </b> for the function $f(x) = \\sin{x}$.\"\n",
      "\n"
     ]
    },
    {
     "cell_type": "code",
     "collapsed": false,
     "input": [
      "import numpy as np\n",
      "\n",
      "def func(x):\n",
      "    return np.sin(x)"
     ],
     "language": "python",
     "metadata": {},
     "outputs": [],
     "prompt_number": 34
    },
    {
     "cell_type": "heading",
     "level": 2,
     "metadata": {},
     "source": [
      "2, 3 "
     ]
    },
    {
     "cell_type": "markdown",
     "metadata": {},
     "source": [
      "2 \"A template of the parent class integrator is provided. This class will have all the common functionality to integrate a function <b> f </b> in the interval <b>[a,b]</b>. However, the method of integration is not yet provided nor the integration function. Read carefully the template, note the method of integration is not defined:\"\n",
      "\n",
      "3 \"Add an additional function called <b> integrate(self,func) </b> inside the class Integrator, which calculates the integral from the weigths $w_i$: <b>self.weights</b> at different points x_i: <b>self.points</b>. Note this should be arrays. The integral is calculated as\"\n",
      "\n",
      "$$\n",
      "\\int_a^b f(x) dx = \\sum_{i=0}^{n-1} w_i f(x_i)\n",
      "$$"
     ]
    },
    {
     "cell_type": "code",
     "collapsed": false,
     "input": [
      "class Integrator(object):\n",
      "    def __init__(self, a, b, n):\n",
      "        self.a, self.b, self.n = a, b, n\n",
      "        self.points, self.weights = self.method()\n",
      "        \n",
      "    def method(self):\n",
      "        raise NotImplementedError('no rule in class %s' %self.__class__.__name__)\n",
      "    \n",
      "    def integrate(self,func):\n",
      "        return np.sum(func(self.points)*self.weights)"
     ],
     "language": "python",
     "metadata": {},
     "outputs": [],
     "prompt_number": 35
    },
    {
     "cell_type": "heading",
     "level": 2,
     "metadata": {},
     "source": [
      "4 "
     ]
    },
    {
     "cell_type": "markdown",
     "metadata": {},
     "source": [
      "4 \"Create a child class of Integrator called <b> Trapezoidal</b>, where you define a function called <b>method(self)</b>.\n",
      "This function should return two arrays: <b> x </b> and <b> w </b> corresponding to the points and their current weights.This should be the values correponding to the trapezoidal rule for integration. If you are not familiar with it, you can look for it online\""
     ]
    },
    {
     "cell_type": "code",
     "collapsed": false,
     "input": [
      "# A child class that has Integrator as its parent class \n",
      "# Trapezoidal integration from https://en.wikipedia.org/wiki/Trapezoidal_rule\n",
      "\n",
      "class Trapezoidal(Integrator):\n",
      "    \n",
      "    # initialize child function\n",
      "    def _init_(self,a,b,n):\n",
      "        super(Integrator,self)._init_(a,b,n)\n",
      "    \n",
      "    # return the positions for integration and weights \n",
      "    def method(self):\n",
      "        h=(self.b-self.a)*1.0/self.n\n",
      "        x=np.linspace(self.a,(self.b-h),self.n)\n",
      "        w=np.ones(self.n)*h\n",
      "        return x,w"
     ],
     "language": "python",
     "metadata": {},
     "outputs": [],
     "prompt_number": 36
    },
    {
     "cell_type": "markdown",
     "metadata": {},
     "source": [
      "Integrate $\\sin{x}$  from 0 to $\\pi$  to verify that the integration method works : \n",
      "$$    \n",
      "\\int _0 ^{\\pi} sin(x) dx = 2  \n",
      "$$"
     ]
    },
    {
     "cell_type": "code",
     "collapsed": false,
     "input": [
      "integral = Trapezoidal(0.0,np.pi,1000)\n",
      "print(integral.integrate(func))"
     ],
     "language": "python",
     "metadata": {},
     "outputs": [
      {
       "output_type": "stream",
       "stream": "stdout",
       "text": [
        "1.99999835507\n"
       ]
      }
     ],
     "prompt_number": 37
    },
    {
     "cell_type": "heading",
     "level": 2,
     "metadata": {},
     "source": [
      "5"
     ]
    },
    {
     "cell_type": "markdown",
     "metadata": {},
     "source": [
      "5 \"Create a child class of Integrator called <b> Midpoint</b>. It should do the same as <b> Trapezoidal</b> but employing the midpoint method for numerical integration.\""
     ]
    },
    {
     "cell_type": "code",
     "collapsed": false,
     "input": [
      "# A child class also using Integrator class as its parent : \n",
      "# Midpoint integration from http://en.wikipedia.org/wiki/Midpoint_method \n",
      "\n",
      "class Midpoint(Integrator):\n",
      "    \n",
      "    # initialize child  function\n",
      "    def __init__(self, a, b, n):\n",
      "        super(Midpoint, self).__init__(a, b, n)\n",
      "        \n",
      "    # return the integration positions and weights    \n",
      "    def method(self):\n",
      "        a, b, n = self.a, self.b, self.n\n",
      "        x = np.linspace(a,b,n)\n",
      "        w = np.ones(x.size) * (b - a) / n\n",
      "        return x, w\n",
      " "
     ],
     "language": "python",
     "metadata": {},
     "outputs": [],
     "prompt_number": 38
    },
    {
     "cell_type": "markdown",
     "metadata": {},
     "source": [
      "Integrate $\\sin{x}$ again from $0$ to $\\pi$ to see that it works (should get something close to 2, depending on the number of steps chosen  $2$):"
     ]
    },
    {
     "cell_type": "code",
     "collapsed": false,
     "input": [
      "integral = Midpoint(0.0,np.pi,1000)\n",
      "print(integral.integrate(func))"
     ],
     "language": "python",
     "metadata": {},
     "outputs": [
      {
       "output_type": "stream",
       "stream": "stdout",
       "text": [
        "1.99799835342\n"
       ]
      }
     ],
     "prompt_number": 39
    },
    {
     "cell_type": "heading",
     "level": 2,
     "metadata": {},
     "source": [
      "6"
     ]
    },
    {
     "cell_type": "markdown",
     "metadata": {},
     "source": [
      "6 \"Create a separate function of x that plots\n",
      "$\n",
      "\\int_0^x sin(x) dx = 1 - cos(x),\n",
      "$\n",
      "using any of the two methods you developed.\""
     ]
    },
    {
     "cell_type": "markdown",
     "metadata": {},
     "source": [
      "I also make a function to plot the result of my Trapezoidal numerical integration, to see how it works as compared to the analytical expression"
     ]
    },
    {
     "cell_type": "code",
     "collapsed": false,
     "input": [
      "%matplotlib inline\n",
      "import matplotlib.pyplot as plt\n",
      "\n",
      "def plotting(n,func,limit):\n",
      "    points = np.linspace(0,limit*np.pi,n)\n",
      "    y = np.zeros(n)\n",
      "    for i in range(0,len(points)):\n",
      "        trapez = Trapezoidal(0,points[i],n)\n",
      "        y[i] = trapez.integrate(func)\n",
      "    plt.plot(points,y, 'r' ,label='Numerical')\n",
      "    plt.xlabel(\"Upper limit of integration : x\")\n",
      "    plt.ylabel(\"Integral of sin(x) from 0 to x\")\n",
      "    \n",
      "def compare(n,limit):\n",
      "    x =  np.linspace(0,limit*np.pi,n)\n",
      "    y = 1-np.cos(x)\n",
      "    plt.plot(x,y,'b--', label='Analytical')\n",
      "    plt.legend()"
     ],
     "language": "python",
     "metadata": {},
     "outputs": [],
     "prompt_number": 124
    },
    {
     "cell_type": "code",
     "collapsed": false,
     "input": [
      "plotting(100,func,6)\n",
      "compare(100,6)"
     ],
     "language": "python",
     "metadata": {},
     "outputs": [
      {
       "metadata": {},
       "output_type": "display_data",
       "png": "[encoded data removed]",
       "text": [
        "<matplotlib.figure.Figure at 0x10507f690>"
       ]
      }
     ],
     "prompt_number": 127
    },
    {
     "cell_type": "markdown",
     "metadata": {},
     "source": [
      "So for 100 points the numerical integration is already working well enough that I can't see the difference. I can also plot the difference:\n",
      "\n"
     ]
    },
    {
     "cell_type": "code",
     "collapsed": false,
     "input": [
      "def difference(n,func,limit):\n",
      "    points = np.linspace(0,limit*np.pi,n)\n",
      "    y_num = np.zeros(n)\n",
      "    for i in range(0,len(points)):\n",
      "        trapez = Trapezoidal(0,points[i],n)\n",
      "        y_num[i] = trapez.integrate(func)\n",
      "    \n",
      "    y_an = 1.0-np.cos(points)\n",
      "    diff = y_an - y_num\n",
      "    plt.plot(points,diff, label='Difference')\n",
      "    plt.xlabel(\"Function argument : x\")\n",
      "    plt.ylabel(\"Difference between the analytical \\n and numerical integral at x \")\n",
      "    # plt.legend()\n",
      "    "
     ],
     "language": "python",
     "metadata": {},
     "outputs": [],
     "prompt_number": 130
    },
    {
     "cell_type": "code",
     "collapsed": false,
     "input": [
      "difference(100,func,6)"
     ],
     "language": "python",
     "metadata": {},
     "outputs": [
      {
       "metadata": {},
       "output_type": "display_data",
       "png": "[encoded data removed]",
       "text": [
        "<matplotlib.figure.Figure at 0x1088483d0>"
       ]
      }
     ],
     "prompt_number": 131
    },
    {
     "cell_type": "code",
     "collapsed": false,
     "input": [],
     "language": "python",
     "metadata": {},
     "outputs": []
    }
   ],
   "metadata": {}
  }
 ]
}