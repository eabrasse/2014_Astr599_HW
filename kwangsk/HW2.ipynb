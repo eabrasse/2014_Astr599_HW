{
 "metadata": {
  "name": "",
  "signature": "sha256:541d12d73f2e9e7b9d20aca918a47f868b872a06ccaea24d9d1cf984b4ee5bc8"
 },
 "nbformat": 3,
 "nbformat_minor": 0,
 "worksheets": [
  {
   "cells": [
    {
     "cell_type": "code",
     "collapsed": false,
     "input": [
      "#HW 2\n",
      "#Kwang Seob Kim\n",
      "#Amath 500"
     ],
     "language": "python",
     "metadata": {},
     "outputs": []
    },
    {
     "cell_type": "code",
     "collapsed": false,
     "input": [
      "import numpy as np"
     ],
     "language": "python",
     "metadata": {},
     "outputs": [],
     "prompt_number": 17
    },
    {
     "cell_type": "code",
     "collapsed": false,
     "input": [
      "#Q1"
     ],
     "language": "python",
     "metadata": {},
     "outputs": []
    },
    {
     "cell_type": "code",
     "collapsed": false,
     "input": [
      "def func(a):\n",
      "    return np.sin(a)"
     ],
     "language": "python",
     "metadata": {},
     "outputs": [],
     "prompt_number": 18
    },
    {
     "cell_type": "code",
     "collapsed": false,
     "input": [
      "# checking if Q1 works\n",
      "func(np.pi/2)"
     ],
     "language": "python",
     "metadata": {},
     "outputs": [
      {
       "metadata": {},
       "output_type": "pyout",
       "prompt_number": 52,
       "text": [
        "1.0"
       ]
      }
     ],
     "prompt_number": 52
    },
    {
     "cell_type": "code",
     "collapsed": false,
     "input": [
      "#Q2 and Q3"
     ],
     "language": "python",
     "metadata": {},
     "outputs": []
    },
    {
     "cell_type": "code",
     "collapsed": false,
     "input": [
      "class Integrator(object):\n",
      "    def __init__(self, a, b, n):\n",
      "        self.a, self.b, self.n = a, b, n\n",
      "        self.points, self.weights = self.method()\n",
      "        \n",
      "    def method(self):\n",
      "        raise NotImplementedError('no rule in class %s' %self.__class__.__name__)\n",
      "        \n",
      "    def integrate(self,func):\n",
      "        return np.sum(self.weights*func(self.points))"
     ],
     "language": "python",
     "metadata": {},
     "outputs": [],
     "prompt_number": 20
    },
    {
     "cell_type": "code",
     "collapsed": false,
     "input": [
      "#Q4"
     ],
     "language": "python",
     "metadata": {},
     "outputs": [],
     "prompt_number": 53
    },
    {
     "cell_type": "code",
     "collapsed": false,
     "input": [
      "class Trapezoidal(Integrator):\n",
      "    def __init__(self, *args):\n",
      "        super(Trapezoidal,self).__init__(*args)\n",
      "        \n",
      "    def method(self):\n",
      "        x = np.zeros(self.n)\n",
      "        w = np.zeros(self.n)\n",
      "        for i in range(self.n):\n",
      "            x[i]=(((self.b-self.a)*1.0/self.n)*i + ((self.b-self.a)*1.0/self.n)*(i+1))/2 +self.a  #10-0 / 5 =  1, 3, 5, 7, 9 \n",
      "            w[i]=((self.b-self.a)*1.0/self.n) \n",
      "        return x, w"
     ],
     "language": "python",
     "metadata": {},
     "outputs": [],
     "prompt_number": 43
    },
    {
     "cell_type": "code",
     "collapsed": false,
     "input": [
      "#Q5"
     ],
     "language": "python",
     "metadata": {},
     "outputs": [],
     "prompt_number": 54
    },
    {
     "cell_type": "code",
     "collapsed": false,
     "input": [
      "class Midpoint(Integrator):\n",
      "    def __init__(self, *args):\n",
      "        super(Midpoint,self).__init__(*args)\n",
      "        \n",
      "    def method(self):\n",
      "        x = np.zeros(self.n)\n",
      "        w = np.zeros(self.n)\n",
      "        for i in range(self.n):\n",
      "            x[i]=((self.b-self.a)*1.0/self.n)/2 +((self.b-self.a)*1.0/self.n)*i + self.a  \n",
      "            w[i]=((self.b-self.a)*1.0/self.n)\n",
      "        return x, w"
     ],
     "language": "python",
     "metadata": {},
     "outputs": [],
     "prompt_number": 44
    },
    {
     "cell_type": "code",
     "collapsed": false,
     "input": [
      "#Q6"
     ],
     "language": "python",
     "metadata": {},
     "outputs": [],
     "prompt_number": 55
    },
    {
     "cell_type": "code",
     "collapsed": false,
     "input": [
      "%matplotlib inline\n",
      "import matplotlib.pyplot as plt\n",
      "\n",
      "#checking if those functions work:\n",
      "\n",
      "A=Midpoint(0,10,100).integrate(func)\n",
      "print A\n",
      "C=Trapezoidal(0,10,100).integrate(func)\n",
      "print C\n",
      "B=Midpoint(0,20*np.pi,1000).integrate(func)\n",
      "print B\n",
      "D=Trapezoidal(0,20*np.pi,1000).integrate(func)\n",
      "print D\n",
      "\n",
      "# checks out with 1-cos(x)..so these work."
     ],
     "language": "python",
     "metadata": {},
     "outputs": [
      {
       "output_type": "stream",
       "stream": "stdout",
       "text": [
        "1.83983803244\n",
        "1.83983803244\n",
        "1.33226762955e-15\n",
        "1.11022302463e-15\n"
       ]
      }
     ],
     "prompt_number": 58
    },
    {
     "cell_type": "code",
     "collapsed": false,
     "input": [
      "x = np.linspace(0, 3*np.pi, 300)\n",
      "y = 1-np.cos(x)\n",
      "plt.plot(x, y);\n",
      "result = np.zeros(300)\n",
      "for i in range(300):\n",
      "    result[i]=Midpoint(0,x[i],200).integrate(func)\n",
      "    \n",
      "\n",
      "plt.plot(x, y, label=r'1-cos(x)')\n",
      "plt.plot(x, result, label=r'Integration of sin(x)')\n",
      "plt.title('Does the integration of sin(x) equal to 1-cos(x)')\n",
      "plt.xlabel('x')\n",
      "plt.ylabel('y')\n",
      "plt.grid()\n",
      "plt.legend();\n",
      "# They overlap. This shows that they are equal."
     ],
     "language": "python",
     "metadata": {},
     "outputs": [
      {
       "metadata": {},
       "output_type": "display_data",
       "png": "[encoded data removed]",
       "text": [
        "<matplotlib.figure.Figure at 0x9c8cc88>"
       ]
      }
     ],
     "prompt_number": 72
    },
    {
     "cell_type": "code",
     "collapsed": false,
     "input": [
      "# If I make the size of integration self.n small, small difference is noticeable towards the end.\n",
      "# This is due to the integration not being exact.\n",
      "\n",
      "x = np.linspace(0, 3*np.pi, 300)\n",
      "y = 1-np.cos(x)\n",
      "plt.plot(x, y);\n",
      "result = np.zeros(300)\n",
      "for i in range(300):\n",
      "    result[i]=Midpoint(0,x[i],10).integrate(func)\n",
      "    \n",
      "\n",
      "plt.plot(x, y, label=r'1-cos(x)')\n",
      "plt.plot(x, result, label=r'Integration of sin(x)')\n",
      "plt.title('Does the integration of sin(x) equal to 1-cos(x)')\n",
      "plt.xlabel('x')\n",
      "plt.ylabel('y')\n",
      "plt.grid()\n",
      "plt.legend();\n"
     ],
     "language": "python",
     "metadata": {},
     "outputs": [
      {
       "metadata": {},
       "output_type": "display_data",
       "png": "[encoded data removed]",
       "text": [
        "<matplotlib.figure.Figure at 0xa054c50>"
       ]
      }
     ],
     "prompt_number": 74
    },
    {
     "cell_type": "code",
     "collapsed": false,
     "input": [],
     "language": "python",
     "metadata": {},
     "outputs": []
    }
   ],
   "metadata": {}
  }
 ]
}