{
 "metadata": {
  "name": "",
  "signature": "sha256:d11f89a5d0a0e6967e5d8ffa0917fb443904ad2d529a8a41e5857707be81a08f"
 },
 "nbformat": 3,
 "nbformat_minor": 0,
 "worksheets": [
  {
   "cells": [
    {
     "cell_type": "heading",
     "level": 1,
     "metadata": {},
     "source": [
      "HW8 - Kwang Seob Kim"
     ]
    },
    {
     "cell_type": "raw",
     "metadata": {},
     "source": [
      "I first ran the original (buggy) version and found that it had an error at return sum(apply_optimizer(optimizer, func, a, b) for func, a, b in param_grid). The sum couldn't work because something was not an integer, but instead a tuple. func, a, b were coming from param_grid. This variable is made in compare_optimizers where it says \"param_grid = product(FUNCTIONS, random_a, random_b). So this product might be someting off (dead end since I couldn't detect any problems here). Then, I came back to apply_optimizer function. Then I realized that this is not an integer but a tuple (exactly what the error was saying, haha). Then how a tuple of numbers can be added together? I google and found that np.array of tuple of numbers can be added together. So I did that.\n",
      "\n",
      "Then this function ran only the first algorithm and all the other ones were zero. I first thought this was a problem with iteration in for optimizer in OPTIMIZERS. After struggling for a while, I didn't find any problem there (dead-end). I went to param_grid code again, because that's where another input is coming when we print the output. Param_grid is an itertools.product. Clearly, there are multiple functions to make multiple itertools.products. I googled itertools.product and found that people use list function when they print multiple itertools.product (e.g., print list(itertools.product([0,1], repeat=3)). So then I also tried this on another cell to see what happens if I do without list. I get the same intertools.product, not a list. So I tried to put list () on Param_grid and it produced the output."
     ]
    },
    {
     "cell_type": "code",
     "collapsed": false,
     "input": [
      "from itertools import product\n",
      "\n",
      "import numpy as np\n",
      "from scipy import optimize\n",
      "\n",
      "FUNCTIONS = (np.tan,  # Dilating map\n",
      "             np.tanh, # Contracting map\n",
      "             lambda x: x**3 + 1e-4*x, # Almost null gradient at the root\n",
      "             lambda x: x+np.sin(2*x), # Non monotonous function\n",
      "             lambda x: 1.1*x+np.sin(4*x), # Fonction with several local maxima\n",
      "            )\n",
      "\n",
      "OPTIMIZERS = (optimize.brenth, optimize.brentq,\n",
      "              optimize.ridder, optimize.bisect)\n",
      "\n",
      "\n",
      "def apply_optimizer(optimizer, func, a, b):\n",
      "    \"\"\" Return the number of function calls given an root-finding optimizer, \n",
      "        a function and upper and lower bounds.\n",
      "    \"\"\"\n",
      "    return optimizer(func, a, b, full_output=True)[1].function_calls,\n",
      "\n",
      "\n",
      "def bench_optimizer(optimizer, param_grid):\n",
      "    \"\"\" Find roots for all the functions, and upper and lower bounds\n",
      "        given and return the total number of function calls.\n",
      "    \"\"\"\n",
      "    return sum(np.array(apply_optimizer(optimizer, func, a, b))\n",
      "            for func, a, b in param_grid)\n",
      "\n",
      "\n",
      "def compare_optimizers(optimizers):\n",
      "    \"\"\" Compare all the optimizers given on a grid of a few different\n",
      "        functions all admitting a signle root in zero and a upper and\n",
      "        lower bounds.\n",
      "    \"\"\"\n",
      "    #print optimizers[0]\n",
      "    random_a = -1.3 + np.random.random(size=100)\n",
      "    random_b =   .3 + np.random.random(size=100)\n",
      "    param_grid = list(product(FUNCTIONS, random_a, random_b))\n",
      "    #print param_grid \n",
      "    print(\"Benching 1D root-finder optimizers from scipy.optimize:\")\n",
      "    for optimizer in OPTIMIZERS:\n",
      "        ncalls = bench_optimizer(optimizer, param_grid)\n",
      "        print('{name}: {ncalls} total function calls'.format(\n",
      "                  name=optimizer.__name__, ncalls=ncalls))\n",
      "\n",
      "\n",
      "if __name__ == '__main__':\n",
      "    compare_optimizers(OPTIMIZERS)"
     ],
     "language": "python",
     "metadata": {},
     "outputs": [
      {
       "output_type": "stream",
       "stream": "stdout",
       "text": [
        "Benching 1D root-finder optimizers from scipy.optimize:\n",
        "brenth: [602988] total function calls"
       ]
      },
      {
       "output_type": "stream",
       "stream": "stdout",
       "text": [
        "\n",
        "brentq: [592302] total function calls"
       ]
      },
      {
       "output_type": "stream",
       "stream": "stdout",
       "text": [
        "\n",
        "ridder: [773872] total function calls"
       ]
      },
      {
       "output_type": "stream",
       "stream": "stdout",
       "text": [
        "\n",
        "bisect: [2147525] total function calls"
       ]
      },
      {
       "output_type": "stream",
       "stream": "stdout",
       "text": [
        "\n"
       ]
      }
     ],
     "prompt_number": 24
    },
    {
     "cell_type": "code",
     "collapsed": false,
     "input": [
      "import itertools\n",
      "print itertools.product([0,1], repeat=3)\n",
      "print list(itertools.product([0,1], repeat=3))"
     ],
     "language": "python",
     "metadata": {},
     "outputs": [
      {
       "output_type": "stream",
       "stream": "stdout",
       "text": [
        "<itertools.product object at 0x0000000011A22168>\n",
        "[(0, 0, 0), (0, 0, 1), (0, 1, 0), (0, 1, 1), (1, 0, 0), (1, 0, 1), (1, 1, 0), (1, 1, 1)]\n"
       ]
      }
     ],
     "prompt_number": 25
    },
    {
     "cell_type": "code",
     "collapsed": false,
     "input": [],
     "language": "python",
     "metadata": {},
     "outputs": []
    }
   ],
   "metadata": {}
  }
 ]
}