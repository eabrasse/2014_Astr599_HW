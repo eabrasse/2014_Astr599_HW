{
 "metadata": {
  "name": "",
  "signature": "sha256:ee66d718df551ff8267ca60dd83cfaf85fc7497873cb67011eaea281438ac239"
 },
 "nbformat": 3,
 "nbformat_minor": 0,
 "worksheets": [
  {
   "cells": [
    {
     "cell_type": "heading",
     "level": 1,
     "metadata": {},
     "source": [
      "ASTR599:  HW 4"
     ]
    },
    {
     "cell_type": "markdown",
     "metadata": {},
     "source": [
      "2014-10-27      Jason Webster"
     ]
    },
    {
     "cell_type": "code",
     "collapsed": false,
     "input": [
      "import pandas as pd, numpy as np\n",
      "pd.options.display.max_rows = 8\n",
      "%matplotlib inline"
     ],
     "language": "python",
     "metadata": {
      "internals": {
       "slide_helper": "subslide_end",
       "slide_type": "subslide"
      },
      "slide_helper": "slide_end",
      "slideshow": {
       "slide_type": "slide"
      },
      "trusted": true
     },
     "outputs": [],
     "prompt_number": 344
    },
    {
     "cell_type": "markdown",
     "metadata": {
      "internals": {
       "frag_helper": "fragment_end",
       "frag_number": 13,
       "slide_type": "subslide"
      },
      "slideshow": {
       "slide_type": "slide"
      }
     },
     "source": [
      "# making `DataFrames`"
     ]
    },
    {
     "cell_type": "markdown",
     "metadata": {
      "internals": {
       "frag_helper": "fragment_end",
       "frag_number": 26,
       "slide_type": "subslide"
      },
      "slideshow": {
       "slide_type": "slide"
      }
     },
     "source": [
      "From [Global Health Data Exchange](http://ghdx.healthdata.org/record/population-health-metrics-research-consortium-gold-standard-verbal-autopsy-data-2005-2011), load PHMRC VA adult data, CSV format:"
     ]
    },
    {
     "cell_type": "code",
     "collapsed": false,
     "input": [
      "url = 'http://ghdx.healthdata.org/sites/default/files/'\\\n",
      "      'record-attached-files/IHME_PHMRC_VA_DATA_ADULT_Y2013M09D11_0.csv'"
     ],
     "language": "python",
     "metadata": {
      "internals": {
       "frag_helper": "fragment_end",
       "frag_number": 26
      },
      "slideshow": {
       "slide_type": "-"
      },
      "trusted": true
     },
     "outputs": [],
     "prompt_number": 345
    },
    {
     "cell_type": "code",
     "collapsed": false,
     "input": [
      "df = pd.read_csv(url, low_memory=False)"
     ],
     "language": "python",
     "metadata": {
      "internals": {
       "frag_helper": "fragment_end",
       "frag_number": 36,
       "slide_helper": "subslide_end"
      },
      "slide_helper": "slide_end",
      "slideshow": {
       "slide_type": "fragment"
      },
      "trusted": true
     },
     "outputs": [],
     "prompt_number": 346
    },
    {
     "cell_type": "code",
     "collapsed": true,
     "input": [
      "# also load codebook (excel doc)\n",
      "url = 'http://ghdx.healthdata.org/sites/default/files/'\\\n",
      "      'record-attached-files/IHME_PHMRC_VA_DATA_CODEBOOK_Y2013M09D11_0.xlsx'\n",
      "cb = pd.read_excel(url)"
     ],
     "language": "python",
     "metadata": {
      "internals": {
       "frag_helper": "fragment_end",
       "frag_number": 38,
       "slide_type": "subslide"
      },
      "slideshow": {
       "slide_type": "slide"
      },
      "trusted": true
     },
     "outputs": [],
     "prompt_number": 347
    },
    {
     "cell_type": "markdown",
     "metadata": {
      "internals": {
       "frag_helper": "fragment_end",
       "frag_number": 95,
       "slide_type": "subslide"
      },
      "slideshow": {
       "slide_type": "slide"
      }
     },
     "source": [
      "# Exercise\n"
     ]
    },
    {
     "cell_type": "markdown",
     "metadata": {
      "internals": {
       "frag_helper": "fragment_end",
       "frag_number": 95
      },
      "slideshow": {
       "slide_type": "-"
      }
     },
     "source": [
      "# Use the codebook to find the column which corresponds to the question \"Did ____ have a fever?\" "
     ]
    },
    {
     "cell_type": "code",
     "collapsed": false,
     "input": [
      "# in here:\n",
      "cb.head()"
     ],
     "language": "python",
     "metadata": {
      "internals": {
       "frag_helper": "fragment_end",
       "frag_number": 95
      },
      "slideshow": {
       "slide_type": "-"
      },
      "trusted": true
     },
     "outputs": [
      {
       "html": [
        "<div style=\"max-height:1000px;max-width:1500px;overflow:auto;\">\n",
        "<table border=\"1\" class=\"dataframe\">\n",
        "  <thead>\n",
        "    <tr style=\"text-align: right;\">\n",
        "      <th></th>\n",
        "      <th>variable</th>\n",
        "      <th>question</th>\n",
        "      <th>module</th>\n",
        "      <th>health_care_experience</th>\n",
        "      <th>coding</th>\n",
        "    </tr>\n",
        "  </thead>\n",
        "  <tbody>\n",
        "    <tr>\n",
        "      <th>0</th>\n",
        "      <td>         site</td>\n",
        "      <td>                                Site</td>\n",
        "      <td> General</td>\n",
        "      <td> 0</td>\n",
        "      <td> NaN</td>\n",
        "    </tr>\n",
        "    <tr>\n",
        "      <th>1</th>\n",
        "      <td>        newid</td>\n",
        "      <td>                            Study ID</td>\n",
        "      <td> General</td>\n",
        "      <td> 0</td>\n",
        "      <td> NaN</td>\n",
        "    </tr>\n",
        "    <tr>\n",
        "      <th>2</th>\n",
        "      <td> gs_diagnosis</td>\n",
        "      <td>        Gold Standard Diagnosis Code</td>\n",
        "      <td> General</td>\n",
        "      <td> 0</td>\n",
        "      <td> NaN</td>\n",
        "    </tr>\n",
        "    <tr>\n",
        "      <th>3</th>\n",
        "      <td> gs_comorbid1</td>\n",
        "      <td> Gold Standard Comorbid Conditions 1</td>\n",
        "      <td> General</td>\n",
        "      <td> 0</td>\n",
        "      <td> NaN</td>\n",
        "    </tr>\n",
        "    <tr>\n",
        "      <th>4</th>\n",
        "      <td> gs_comorbid2</td>\n",
        "      <td> Gold Standard Comorbid Conditions 2</td>\n",
        "      <td> General</td>\n",
        "      <td> 0</td>\n",
        "      <td> NaN</td>\n",
        "    </tr>\n",
        "  </tbody>\n",
        "</table>\n",
        "</div>"
       ],
       "metadata": {},
       "output_type": "pyout",
       "prompt_number": 348,
       "text": [
        "       variable                             question   module  \\\n",
        "0          site                                 Site  General   \n",
        "1         newid                             Study ID  General   \n",
        "2  gs_diagnosis         Gold Standard Diagnosis Code  General   \n",
        "3  gs_comorbid1  Gold Standard Comorbid Conditions 1  General   \n",
        "4  gs_comorbid2  Gold Standard Comorbid Conditions 2  General   \n",
        "\n",
        "   health_care_experience coding  \n",
        "0                       0    NaN  \n",
        "1                       0    NaN  \n",
        "2                       0    NaN  \n",
        "3                       0    NaN  \n",
        "4                       0    NaN  "
       ]
      }
     ],
     "prompt_number": 348
    },
    {
     "cell_type": "code",
     "collapsed": false,
     "input": [
      "cb[cb.question.str.contains(\"have a fever\")]"
     ],
     "language": "python",
     "metadata": {
      "internals": {
       "frag_helper": "fragment_end",
       "frag_number": 95
      },
      "slideshow": {
       "slide_type": "-"
      },
      "trusted": true
     },
     "outputs": [
      {
       "html": [
        "<div style=\"max-height:1000px;max-width:1500px;overflow:auto;\">\n",
        "<table border=\"1\" class=\"dataframe\">\n",
        "  <thead>\n",
        "    <tr style=\"text-align: right;\">\n",
        "      <th></th>\n",
        "      <th>variable</th>\n",
        "      <th>question</th>\n",
        "      <th>module</th>\n",
        "      <th>health_care_experience</th>\n",
        "      <th>coding</th>\n",
        "    </tr>\n",
        "  </thead>\n",
        "  <tbody>\n",
        "    <tr>\n",
        "      <th>79  </th>\n",
        "      <td> a2_02</td>\n",
        "      <td>                          Did [name] have a fever?</td>\n",
        "      <td> Adult</td>\n",
        "      <td> 0</td>\n",
        "      <td> 0 \"No\" 1 \"Yes\" 8 \"Refused to Answer\" 9 \"Don't ...</td>\n",
        "    </tr>\n",
        "    <tr>\n",
        "      <th>1107</th>\n",
        "      <td> c4_01</td>\n",
        "      <td> During the illness that led to death, did [nam...</td>\n",
        "      <td> Child</td>\n",
        "      <td> 0</td>\n",
        "      <td> 0 \"No\" 1 \"Yes\" 8 \"Refused to Answer\" 9 \"Don't ...</td>\n",
        "    </tr>\n",
        "  </tbody>\n",
        "</table>\n",
        "</div>"
       ],
       "metadata": {},
       "output_type": "pyout",
       "prompt_number": 349,
       "text": [
        "     variable                                           question module  \\\n",
        "79      a2_02                           Did [name] have a fever?  Adult   \n",
        "1107    c4_01  During the illness that led to death, did [nam...  Child   \n",
        "\n",
        "      health_care_experience  \\\n",
        "79                         0   \n",
        "1107                       0   \n",
        "\n",
        "                                                 coding  \n",
        "79    0 \"No\" 1 \"Yes\" 8 \"Refused to Answer\" 9 \"Don't ...  \n",
        "1107  0 \"No\" 1 \"Yes\" 8 \"Refused to Answer\" 9 \"Don't ...  "
       ]
      }
     ],
     "prompt_number": 349
    },
    {
     "cell_type": "code",
     "collapsed": false,
     "input": [
      "var = 'a2_02'"
     ],
     "language": "python",
     "metadata": {
      "internals": {
       "frag_helper": "fragment_end",
       "frag_number": 95
      },
      "slideshow": {
       "slide_type": "-"
      },
      "trusted": true
     },
     "outputs": [],
     "prompt_number": 350
    },
    {
     "cell_type": "markdown",
     "metadata": {
      "internals": {
       "frag_helper": "fragment_end",
       "frag_number": 95
      },
      "slideshow": {
       "slide_type": "-"
      }
     },
     "source": [
      "\n",
      "The \"endorsement rate\" for a sign or symptom of disease is the fraction of verbal autopsy interviews where the respondent answered \"Yes\" to the question about that sign/symptom."
     ]
    },
    {
     "cell_type": "markdown",
     "metadata": {
      "internals": {
       "frag_helper": "fragment_end",
       "frag_number": 95
      },
      "slideshow": {
       "slide_type": "-"
      }
     },
     "source": [
      "# Find the cause with the highest endorsement rate for the symptom \"fever\" among Adult deaths"
     ]
    },
    {
     "cell_type": "code",
     "collapsed": false,
     "input": [
      "# create a new column with 0/1 values instead of Yes/No/Don't Know/Refused to Answer\n",
      "df['fever'] = df[var] == 'Yes'"
     ],
     "language": "python",
     "metadata": {
      "internals": {
       "frag_helper": "fragment_end",
       "frag_number": 95
      },
      "slideshow": {
       "slide_type": "-"
      },
      "trusted": true
     },
     "outputs": [],
     "prompt_number": 351
    },
    {
     "cell_type": "code",
     "collapsed": false,
     "input": [
      "# use groupby like we did in class\n",
      "(df.groupby('gs_text34').fever.mean()).order().tail(1)"
     ],
     "language": "python",
     "metadata": {
      "internals": {
       "frag_helper": "fragment_end",
       "frag_number": 95
      },
      "slideshow": {
       "slide_type": "-"
      },
      "trusted": true
     },
     "outputs": [
      {
       "metadata": {},
       "output_type": "pyout",
       "prompt_number": 352,
       "text": [
        "gs_text34\n",
        "Malaria      0.86\n",
        "Name: fever, dtype: float64"
       ]
      }
     ],
     "prompt_number": 352
    },
    {
     "cell_type": "markdown",
     "metadata": {
      "internals": {
       "frag_helper": "fragment_end",
       "frag_number": 95
      },
      "slideshow": {
       "slide_type": "-"
      }
     },
     "source": [
      "# Display the cause-specific endorsement rates visually"
     ]
    },
    {
     "cell_type": "code",
     "collapsed": false,
     "input": [
      "import matplotlib.pyplot as plt\n",
      "(df.groupby('gs_text34').fever.mean()*100).order().plot(kind='barh', figsize=(12,12))\n",
      "plt.xlabel('Endorsement Rate (%)');\n",
      "plt.xlim(0,100);"
     ],
     "language": "python",
     "metadata": {
      "internals": {
       "frag_helper": "fragment_end",
       "frag_number": 95
      },
      "slideshow": {
       "slide_type": "-"
      },
      "trusted": true
     },
     "outputs": [
      {
       "metadata": {},
       "output_type": "display_data",
       "png": "[encoded data removed]",
       "text": [
        "<matplotlib.figure.Figure at 0x15cf90490>"
       ]
      }
     ],
     "prompt_number": 353
    },
    {
     "cell_type": "markdown",
     "metadata": {
      "internals": {
       "frag_helper": "fragment_end",
       "frag_number": 95
      },
      "slideshow": {
       "slide_type": "-"
      }
     },
     "source": [
      "# Find the question that asks if the deceased had AIDS"
     ]
    },
    {
     "cell_type": "code",
     "collapsed": false,
     "input": [
      "cb[cb.question.str.contains(\"AIDS\")]"
     ],
     "language": "python",
     "metadata": {
      "internals": {
       "frag_helper": "fragment_end",
       "frag_number": 95
      },
      "slideshow": {
       "slide_type": "-"
      },
      "trusted": true
     },
     "outputs": [
      {
       "html": [
        "<div style=\"max-height:1000px;max-width:1500px;overflow:auto;\">\n",
        "<table border=\"1\" class=\"dataframe\">\n",
        "  <thead>\n",
        "    <tr style=\"text-align: right;\">\n",
        "      <th></th>\n",
        "      <th>variable</th>\n",
        "      <th>question</th>\n",
        "      <th>module</th>\n",
        "      <th>health_care_experience</th>\n",
        "      <th>coding</th>\n",
        "    </tr>\n",
        "  </thead>\n",
        "  <tbody>\n",
        "    <tr>\n",
        "      <th>76  </th>\n",
        "      <td> a1_01_14</td>\n",
        "      <td>                           Did Decedent Have AIDS?</td>\n",
        "      <td> Adult</td>\n",
        "      <td> 1</td>\n",
        "      <td> 0 \"No\" 1 \"Yes\" 8 \"Refused to Answer\" 9 \"Don't ...</td>\n",
        "    </tr>\n",
        "    <tr>\n",
        "      <th>1215</th>\n",
        "      <td>    c5_19</td>\n",
        "      <td> Has the deceased's (biological) mother ever be...</td>\n",
        "      <td> Child</td>\n",
        "      <td> 0</td>\n",
        "      <td> 0 \"No\" 1 \"Yes\" 8 \"Refused to Answer\" 9 \"Don't ...</td>\n",
        "    </tr>\n",
        "  </tbody>\n",
        "</table>\n",
        "</div>"
       ],
       "metadata": {},
       "output_type": "pyout",
       "prompt_number": 354,
       "text": [
        "      variable                                           question module  \\\n",
        "76    a1_01_14                            Did Decedent Have AIDS?  Adult   \n",
        "1215     c5_19  Has the deceased's (biological) mother ever be...  Child   \n",
        "\n",
        "      health_care_experience  \\\n",
        "76                         1   \n",
        "1215                       0   \n",
        "\n",
        "                                                 coding  \n",
        "76    0 \"No\" 1 \"Yes\" 8 \"Refused to Answer\" 9 \"Don't ...  \n",
        "1215  0 \"No\" 1 \"Yes\" 8 \"Refused to Answer\" 9 \"Don't ...  "
       ]
      }
     ],
     "prompt_number": 354
    },
    {
     "cell_type": "markdown",
     "metadata": {
      "internals": {
       "frag_helper": "fragment_end",
       "frag_number": 95
      },
      "slideshow": {
       "slide_type": "-"
      }
     },
     "source": [
      "# Make a 2x2 table showing the number of adult deceased with and without this question endorsed for decedents with underlying cause AIDS and not AIDS"
     ]
    },
    {
     "cell_type": "code",
     "collapsed": false,
     "input": [
      "# create a new column with 0/1 values instead of Yes/No/Don't Know/Refused to Answer\n",
      "df['reportedAIDS'] = df['a1_01_14'] == 'Yes'\n",
      "df['diedAIDS']=df['gs_text34']=='AIDS'"
     ],
     "language": "python",
     "metadata": {},
     "outputs": [],
     "prompt_number": 355
    },
    {
     "cell_type": "code",
     "collapsed": false,
     "input": [
      "ynAIDS=['notAIDS','AIDS'];\n",
      "at=pd.DataFrame({'notRepAIDS': [(~df.diedAIDS & ~df.reportedAIDS).sum(),(df.diedAIDS & ~df.reportedAIDS).sum()],\n",
      "                 'RepAIDS'   : [(~df.diedAIDS &  df.reportedAIDS).sum(),(df.diedAIDS &  df.reportedAIDS).sum()]})\n",
      "at.index=[ynAIDS[x] for x in at.index]\n",
      "at"
     ],
     "language": "python",
     "metadata": {},
     "outputs": [
      {
       "html": [
        "<div style=\"max-height:1000px;max-width:1500px;overflow:auto;\">\n",
        "<table border=\"1\" class=\"dataframe\">\n",
        "  <thead>\n",
        "    <tr style=\"text-align: right;\">\n",
        "      <th></th>\n",
        "      <th>RepAIDS</th>\n",
        "      <th>notRepAIDS</th>\n",
        "    </tr>\n",
        "  </thead>\n",
        "  <tbody>\n",
        "    <tr>\n",
        "      <th>notAIDS</th>\n",
        "      <td> 135</td>\n",
        "      <td> 7204</td>\n",
        "    </tr>\n",
        "    <tr>\n",
        "      <th>AIDS</th>\n",
        "      <td> 308</td>\n",
        "      <td>  194</td>\n",
        "    </tr>\n",
        "  </tbody>\n",
        "</table>\n",
        "</div>"
       ],
       "metadata": {},
       "output_type": "pyout",
       "prompt_number": 356,
       "text": [
        "         RepAIDS  notRepAIDS\n",
        "notAIDS      135        7204\n",
        "AIDS         308         194"
       ]
      }
     ],
     "prompt_number": 356
    },
    {
     "cell_type": "markdown",
     "metadata": {
      "internals": {
       "frag_helper": "fragment_end",
       "frag_number": 95
      },
      "slideshow": {
       "slide_type": "-"
      }
     },
     "source": [
      "# Compare this 2x2 table across study sites"
     ]
    },
    {
     "cell_type": "code",
     "collapsed": false,
     "input": [
      "for site in np.unique(df.site): \n",
      "    ds=df[df.site==site]\n",
      "    at=pd.DataFrame({'notRepAIDS': [(~ds.diedAIDS & ~ds.reportedAIDS).sum(),(ds.diedAIDS & ~ds.reportedAIDS).sum()],\n",
      "                     'RepAIDS'   : [(~ds.diedAIDS &  ds.reportedAIDS).sum(),(ds.diedAIDS &  ds.reportedAIDS).sum()]})\n",
      "    at.index=[ynAIDS[x] for x in at.index]\n",
      "    print site,'\\n',at,'\\n'"
     ],
     "language": "python",
     "metadata": {
      "internals": {
       "frag_helper": "fragment_end",
       "frag_number": 95
      },
      "slideshow": {
       "slide_type": "-"
      },
      "trusted": true
     },
     "outputs": [
      {
       "output_type": "stream",
       "stream": "stdout",
       "text": [
        "AP \n",
        "         RepAIDS  notRepAIDS\n",
        "notAIDS       14        1404\n",
        "AIDS          61          75 \n",
        "\n",
        "Bohol \n",
        "         RepAIDS  notRepAIDS\n",
        "notAIDS        0        1259\n",
        "AIDS           0           0 \n",
        "\n",
        "Dar \n",
        "         RepAIDS  notRepAIDS\n",
        "notAIDS      109        1414\n",
        "AIDS         115          88 \n",
        "\n",
        "Mexico \n",
        "         RepAIDS  notRepAIDS\n",
        "notAIDS        6        1460\n",
        "AIDS          91          29 \n",
        "\n",
        "Pemba"
       ]
      },
      {
       "output_type": "stream",
       "stream": "stdout",
       "text": [
        " \n",
        "         RepAIDS  notRepAIDS\n",
        "notAIDS        3         294\n",
        "AIDS           0           0 \n",
        "\n",
        "UP \n",
        "         RepAIDS  notRepAIDS\n",
        "notAIDS        3        1373\n",
        "AIDS          41           2 \n",
        "\n"
       ]
      }
     ],
     "prompt_number": 357
    },
    {
     "cell_type": "markdown",
     "metadata": {
      "internals": {
       "frag_helper": "fragment_end",
       "frag_number": 95
      },
      "slideshow": {
       "slide_type": "-"
      }
     },
     "source": [
      "# Now do a series of 2x2 tables comparing the percent of deaths truely due to AIDS for which \"Had AIDS\" question was endorsed"
     ]
    },
    {
     "cell_type": "code",
     "collapsed": true,
     "input": [
      "for site in np.unique(df.site):\n",
      "    ds=df[df.site==site]\n",
      "    if ds.diedAIDS.any():print 'In {}, {:4.1f}% AIDS deaths were reported to have had AIDS.'.format(site,(ds.diedAIDS & ds.reportedAIDS).sum()/float(ds.diedAIDS.sum())*100)\n",
      "    else:                print 'In {}, no one died of AIDS.'.format(site)\n",
      "print '\\n\\n Here are the tables by site, normalized by rows:\\n'        \n",
      "for site in np.unique(df.site): \n",
      "    ds=df[df.site==site]\n",
      "    at=pd.DataFrame({'notRepAIDS': [(~ds.diedAIDS & ~ds.reportedAIDS).sum()/float((~ds.diedAIDS).sum()),(ds.diedAIDS & ~ds.reportedAIDS).sum()/float((ds.diedAIDS).sum())],\n",
      "                     'RepAIDS'   : [(~ds.diedAIDS &  ds.reportedAIDS).sum()/float((~ds.diedAIDS).sum()),(ds.diedAIDS &  ds.reportedAIDS).sum()/float((ds.diedAIDS).sum())]})\n",
      "    at.index=[ynAIDS[x] for x in at.index]\n",
      "    print site,'\\n',at,'\\n'\n"
     ],
     "language": "python",
     "metadata": {
      "internals": {
       "frag_helper": "fragment_end",
       "frag_number": 95,
       "slide_helper": "subslide_end"
      },
      "slide_helper": "slide_end",
      "slideshow": {
       "slide_type": "-"
      },
      "trusted": true
     },
     "outputs": [
      {
       "output_type": "stream",
       "stream": "stdout",
       "text": [
        "In AP, 44.9% AIDS deaths were reported to have had AIDS.\n",
        "In Bohol, no one died of AIDS.\n",
        "In Dar, 56.7% AIDS deaths were reported to have had AIDS.\n",
        "In Mexico, 75.8% AIDS deaths were reported to have had AIDS.\n",
        "In Pemba, no one died of AIDS.\n",
        "In UP, 95.3% AIDS deaths were reported to have had AIDS.\n",
        "\n",
        "\n",
        " Here are the tables by site, normalized by rows:\n",
        "\n",
        "AP \n",
        "          RepAIDS  notRepAIDS\n",
        "notAIDS  0.009873    0.990127\n",
        "AIDS     0.448529    0.551471 \n",
        "\n",
        "Bohol"
       ]
      },
      {
       "output_type": "stream",
       "stream": "stdout",
       "text": [
        " \n",
        "         RepAIDS  notRepAIDS\n",
        "notAIDS        0           1\n",
        "AIDS         NaN         NaN \n",
        "\n",
        "Dar \n",
        "          RepAIDS  notRepAIDS\n",
        "notAIDS  0.071569    0.928431\n",
        "AIDS     0.566502    0.433498 \n",
        "\n",
        "Mexico \n",
        "          RepAIDS  notRepAIDS\n",
        "notAIDS  0.004093    0.995907\n",
        "AIDS     0.758333    0.241667 \n",
        "\n",
        "Pemba \n",
        "          RepAIDS  notRepAIDS\n",
        "notAIDS  0.010101    0.989899\n",
        "AIDS          NaN         NaN \n",
        "\n",
        "UP \n",
        "          RepAIDS  notRepAIDS\n",
        "notAIDS  0.002180    0.997820\n",
        "AIDS     0.953488    0.046512 \n",
        "\n"
       ]
      }
     ],
     "prompt_number": 362
    },
    {
     "cell_type": "code",
     "collapsed": false,
     "input": [],
     "language": "python",
     "metadata": {},
     "outputs": []
    }
   ],
   "metadata": {}
  }
 ]
}