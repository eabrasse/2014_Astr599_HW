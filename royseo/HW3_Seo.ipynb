{
 "metadata": {
  "name": "",
  "signature": "sha256:e8bfbfe193d66af777ea903cf845dba9666ae6399c1e63df1d8b3e98f9e57a72"
 },
 "nbformat": 3,
 "nbformat_minor": 0,
 "worksheets": [
  {
   "cells": [
    {
     "cell_type": "markdown",
     "metadata": {},
     "source": [
      "<small><i>This notebook was put together by Jake VanderPlas for UW's [Astro 599](http://www.astro.washington.edu/users/vanderplas/Astr599_2014/) course. Source and license info is on [GitHub](https://github.com/jakevdp/2014_fall_ASTR599/).</i></small>"
     ]
    },
    {
     "cell_type": "heading",
     "level": 1,
     "metadata": {},
     "source": [
      "HW3_ roy seo"
     ]
    },
    {
     "cell_type": "heading",
     "level": 2,
     "metadata": {},
     "source": [
      "Real World Example: Fourier Series Fit"
     ]
    },
    {
     "cell_type": "markdown",
     "metadata": {},
     "source": [
      "As an example, we will fit a Fourier series to a folded periodic variable star lightcurve from the LINEAR survey.\n",
      "\n",
      "The code below requires the [astroML](http://www.astroML.org) package, which you can easily install by running\n",
      "\n",
      "```\n",
      "$ pip install astroML\n",
      "```\n",
      "\n",
      "We will examine how $\\chi^2$, BIC, and AIC vary as we change the number of terms in the Fourier series.  If we do not get through this whole exercise, your homework will be to finish the notebook, and then repeat the analysis for another variable star from the data.  I would like to see as a function of the number of terms in your analysis: $\\chi^2$, $\\Delta \\chi^2$ compared to the previous model, the significance of $\\Delta \\chi^2$, AIC, and BIC.  Indicate the order of the series you would choose based on each of the above numbers (they may be different for $\\Delta \\chi^2$, AIC, and BIC)."
     ]
    },
    {
     "cell_type": "code",
     "collapsed": false,
     "input": [
      "# Uncomment and run this to install astroML\n",
      "!pip install astroML\n",
      "!pip install astroML_addons"
     ],
     "language": "python",
     "metadata": {},
     "outputs": [
      {
       "output_type": "stream",
       "stream": "stdout",
       "text": [
        "Downloading/unpacking astroML\r\n"
       ]
      },
      {
       "output_type": "stream",
       "stream": "stdout",
       "text": [
        "  Downloading astroML-0.2.tar.gz (239kB): \r",
        "  Downloading astroML-0.2.tar.gz (239kB):   1%  4.1kB\r",
        "  Downloading astroML-0.2.tar.gz (239kB):   3%  8.2kB"
       ]
      },
      {
       "output_type": "stream",
       "stream": "stdout",
       "text": [
        "\r",
        "  Downloading astroML-0.2.tar.gz (239kB):   5%  12kB \r",
        "  Downloading astroML-0.2.tar.gz (239kB):   6%  16kB\r",
        "  Downloading astroML-0.2.tar.gz (239kB):   8%  20kB\r",
        "  Downloading astroML-0.2.tar.gz (239kB):  10%  24kB\r",
        "  Downloading astroML-0.2.tar.gz (239kB):  11%  28kB"
       ]
      },
      {
       "output_type": "stream",
       "stream": "stdout",
       "text": [
        "\r",
        "  Downloading astroML-0.2.tar.gz (239kB):  13%  32kB\r",
        "  Downloading astroML-0.2.tar.gz (239kB):  15%  36kB\r",
        "  Downloading astroML-0.2.tar.gz (239kB):  17%  40kB\r",
        "  Downloading astroML-0.2.tar.gz (239kB):  18%  45kB\r",
        "  Downloading astroML-0.2.tar.gz (239kB):  20%  49kB"
       ]
      },
      {
       "output_type": "stream",
       "stream": "stdout",
       "text": [
        "\r",
        "  Downloading astroML-0.2.tar.gz (239kB):  22%  53kB\r",
        "  Downloading astroML-0.2.tar.gz (239kB):  23%  57kB\r",
        "  Downloading astroML-0.2.tar.gz (239kB):  25%  61kB\r",
        "  Downloading astroML-0.2.tar.gz (239kB):  27%  65kB\r",
        "  Downloading astroML-0.2.tar.gz (239kB):  29%  69kB"
       ]
      },
      {
       "output_type": "stream",
       "stream": "stdout",
       "text": [
        "\r",
        "  Downloading astroML-0.2.tar.gz (239kB):  30%  73kB\r",
        "  Downloading astroML-0.2.tar.gz (239kB):  32%  77kB\r",
        "  Downloading astroML-0.2.tar.gz (239kB):  34%  81kB\r",
        "  Downloading astroML-0.2.tar.gz (239kB):  35%  86kB\r",
        "  Downloading astroML-0.2.tar.gz (239kB):  37%  90kB\r",
        "  Downloading astroML-0.2.tar.gz (239kB):  39%  94kB\r",
        "  Downloading astroML-0.2.tar.gz (239kB):  41%  98kB\r",
        "  Downloading astroML-0.2.tar.gz (239kB):  42%  102kB\r",
        "  Downloading astroML-0.2.tar.gz (239kB):  44%  106kB\r",
        "  Downloading astroML-0.2.tar.gz (239kB):  46%  110kB\r",
        "  Downloading astroML-0.2.tar.gz (239kB):  47%  114kB\r",
        "  Downloading astroML-0.2.tar.gz (239kB):  49%  118kB\r",
        "  Downloading astroML-0.2.tar.gz (239kB):  51%  122kB"
       ]
      },
      {
       "output_type": "stream",
       "stream": "stdout",
       "text": [
        "\r",
        "  Downloading astroML-0.2.tar.gz (239kB):  53%  126kB\r",
        "  Downloading astroML-0.2.tar.gz (239kB):  54%  131kB\r",
        "  Downloading astroML-0.2.tar.gz (239kB):  56%  135kB\r",
        "  Downloading astroML-0.2.tar.gz (239kB):  58%  139kB\r",
        "  Downloading astroML-0.2.tar.gz (239kB):  59%  143kB\r",
        "  Downloading astroML-0.2.tar.gz (239kB):  61%  147kB\r",
        "  Downloading astroML-0.2.tar.gz (239kB):  63%  151kB\r",
        "  Downloading astroML-0.2.tar.gz (239kB):  65%  155kB\r",
        "  Downloading astroML-0.2.tar.gz (239kB):  66%  159kB\r",
        "  Downloading astroML-0.2.tar.gz (239kB):  68%  163kB\r",
        "  Downloading astroML-0.2.tar.gz (239kB):  70%  167kB\r",
        "  Downloading astroML-0.2.tar.gz (239kB):  71%  172kB\r",
        "  Downloading astroML-0.2.tar.gz (239kB):  73%  176kB\r",
        "  Downloading astroML-0.2.tar.gz (239kB):  75%  180kB\r",
        "  Downloading astroML-0.2.tar.gz (239kB):  77%  184kB\r",
        "  Downloading astroML-0.2.tar.gz (239kB):  78%  188kB\r",
        "  Downloading astroML-0.2.tar.gz (239kB):  80%  192kB\r",
        "  Downloading astroML-0.2.tar.gz (239kB):  82%  196kB"
       ]
      },
      {
       "output_type": "stream",
       "stream": "stdout",
       "text": [
        "\r",
        "  Downloading astroML-0.2.tar.gz (239kB):  83%  200kB\r",
        "  Downloading astroML-0.2.tar.gz (239kB):  85%  204kB\r",
        "  Downloading astroML-0.2.tar.gz (239kB):  87%  208kB\r",
        "  Downloading astroML-0.2.tar.gz (239kB):  89%  212kB\r",
        "  Downloading astroML-0.2.tar.gz (239kB):  90%  217kB\r",
        "  Downloading astroML-0.2.tar.gz (239kB):  92%  221kB\r",
        "  Downloading astroML-0.2.tar.gz (239kB):  94%  225kB\r",
        "  Downloading astroML-0.2.tar.gz (239kB):  95%  229kB\r",
        "  Downloading astroML-0.2.tar.gz (239kB):  97%  233kB\r",
        "  Downloading astroML-0.2.tar.gz (239kB):  99%  237kB\r",
        "  Downloading astroML-0.2.tar.gz (239kB): 100%  239kB"
       ]
      },
      {
       "output_type": "stream",
       "stream": "stdout",
       "text": [
        "\r",
        "  Downloading astroML-0.2.tar.gz (239kB):            \r",
        "  Downloading astroML-0.2.tar.gz (239kB): 239kB downloaded\r\n"
       ]
      },
      {
       "output_type": "stream",
       "stream": "stdout",
       "text": [
        "  Running setup.py (path:/private/var/folders/3r/lzbk_52s2_j2rcm975xnbb5c0000gn/T/pip_build_royseo/astroML/setup.py) egg_info for package astroML\r\n"
       ]
      },
      {
       "output_type": "stream",
       "stream": "stdout",
       "text": [
        "    \r\n"
       ]
      },
      {
       "output_type": "stream",
       "stream": "stdout",
       "text": [
        "Installing collected packages: astroML\r\n",
        "  Running setup.py install for astroML\r\n"
       ]
      },
      {
       "output_type": "stream",
       "stream": "stdout",
       "text": [
        "    \r\n"
       ]
      },
      {
       "output_type": "stream",
       "stream": "stdout",
       "text": [
        "Successfully installed astroML\r\n",
        "Cleaning up...\r\n"
       ]
      },
      {
       "output_type": "stream",
       "stream": "stdout",
       "text": [
        "Downloading/unpacking astroML-addons\r\n"
       ]
      },
      {
       "output_type": "stream",
       "stream": "stdout",
       "text": [
        "  Downloading astroML_addons-0.2.1.tar.gz (48kB): \r",
        "  Downloading astroML_addons-0.2.1.tar.gz (48kB):   8%  4.1kB\r",
        "  Downloading astroML_addons-0.2.1.tar.gz (48kB):  16%  8.2kB"
       ]
      },
      {
       "output_type": "stream",
       "stream": "stdout",
       "text": [
        "\r",
        "  Downloading astroML_addons-0.2.1.tar.gz (48kB):  25%  12kB \r",
        "  Downloading astroML_addons-0.2.1.tar.gz (48kB):  33%  16kB\r",
        "  Downloading astroML_addons-0.2.1.tar.gz (48kB):  42%  20kB\r",
        "  Downloading astroML_addons-0.2.1.tar.gz (48kB):  50%  24kB\r",
        "  Downloading astroML_addons-0.2.1.tar.gz (48kB):  59%  28kB\r",
        "  Downloading astroML_addons-0.2.1.tar.gz (48kB):  67%  32kB"
       ]
      },
      {
       "output_type": "stream",
       "stream": "stdout",
       "text": [
        "\r",
        "  Downloading astroML_addons-0.2.1.tar.gz (48kB):  76%  36kB\r",
        "  Downloading astroML_addons-0.2.1.tar.gz (48kB):  84%  40kB\r",
        "  Downloading astroML_addons-0.2.1.tar.gz (48kB):  93%  45kB\r",
        "  Downloading astroML_addons-0.2.1.tar.gz (48kB): 100%  48kB\r",
        "  Downloading astroML_addons-0.2.1.tar.gz (48kB):           \r",
        "  Downloading astroML_addons-0.2.1.tar.gz (48kB): 48kB downloaded\r\n"
       ]
      },
      {
       "output_type": "stream",
       "stream": "stdout",
       "text": [
        "  Running setup.py (path:/private/var/folders/3r/lzbk_52s2_j2rcm975xnbb5c0000gn/T/pip_build_royseo/astroML-addons/setup.py) egg_info for package astroML-addons\r\n"
       ]
      },
      {
       "output_type": "stream",
       "stream": "stdout",
       "text": [
        "    build_src\r\n",
        "    building extension \"astroML_addons.periodogram\" sources\r\n",
        "    build_src: building npy-pkg config files\r\n",
        "    \r\n"
       ]
      },
      {
       "output_type": "stream",
       "stream": "stdout",
       "text": [
        "Installing collected packages: astroML-addons\r\n",
        "  Running setup.py install for astroML-addons\r\n"
       ]
      },
      {
       "output_type": "stream",
       "stream": "stdout",
       "text": [
        "    unifing config_cc, config, build_clib, build_ext, build commands --compiler options\r\n",
        "    unifing config_fc, config, build_clib, build_ext, build commands --fcompiler options\r\n",
        "    build_src\r\n",
        "    building extension \"astroML_addons.periodogram\" sources\r\n",
        "    build_src: building npy-pkg config files\r\n"
       ]
      },
      {
       "output_type": "stream",
       "stream": "stdout",
       "text": [
        "    customize UnixCCompiler\r\n"
       ]
      },
      {
       "output_type": "stream",
       "stream": "stdout",
       "text": [
        "    customize UnixCCompiler using build_ext\r\n",
        "    building 'astroML_addons.periodogram' extension\r\n",
        "    compiling C sources\r\n",
        "    C compiler: gcc -fno-strict-aliasing -I/Users/royseo/anaconda/include -arch x86_64 -DNDEBUG -g -fwrapv -O3 -Wall -Wstrict-prototypes\r\n",
        "    \r\n",
        "    compile options: '-I/Users/royseo/anaconda/lib/python2.7/site-packages/numpy/core/include -I/Users/royseo/anaconda/lib/python2.7/site-packages/numpy/core/include -I/Users/royseo/anaconda/include/python2.7 -c'\r\n",
        "    gcc: astroML_addons/periodogram.c\r\n"
       ]
      },
      {
       "output_type": "stream",
       "stream": "stdout",
       "text": [
        "    In file included from astroML_addons/periodogram.c:253:\r\n",
        "    In file included from /Users/royseo/anaconda/lib/python2.7/site-packages/numpy/core/include/numpy/arrayobject.h:4:\r\n",
        "    In file included from /Users/royseo/anaconda/lib/python2.7/site-packages/numpy/core/include/numpy/ndarrayobject.h:17:\r\n",
        "    In file included from /Users/royseo/anaconda/lib/python2.7/site-packages/numpy/core/include/numpy/ndarraytypes.h:1804:\r\n",
        "    /Users/royseo/anaconda/lib/python2.7/site-packages/numpy/core/include/numpy/npy_1_7_deprecated_api.h:15:2: warning: \"Using deprecated NumPy API, disable it by \"          \"#defining NPY_NO_DEPRECATED_API NPY_1_7_API_VERSION\" [-W#warnings]\r\n",
        "    #warning \"Using deprecated NumPy API, disable it by \" \\\r\n",
        "     ^\r\n"
       ]
      },
      {
       "output_type": "stream",
       "stream": "stdout",
       "text": [
        "    In file included from astroML_addons/periodogram.c:253:\r\n",
        "    In file included from /Users/royseo/anaconda/lib/python2.7/site-packages/numpy/core/include/numpy/arrayobject.h:4:\r\n",
        "    In file included from /Users/royseo/anaconda/lib/python2.7/site-packages/numpy/core/include/numpy/ndarrayobject.h:26:\r\n",
        "    /Users/royseo/anaconda/lib/python2.7/site-packages/numpy/core/include/numpy/__multiarray_api.h:1629:1: warning: unused function '_import_array' [-Wunused-function]\r\n",
        "    _import_array(void)\r\n",
        "    ^\r\n",
        "    In file included from astroML_addons/periodogram.c:254:\r\n",
        "    In file included from /Users/royseo/anaconda/lib/python2.7/site-packages/numpy/core/include/numpy/ufuncobject.h:317:\r\n",
        "    /Users/royseo/anaconda/lib/python2.7/site-packages/numpy/core/include/numpy/__ufunc_api.h:241:1: warning: unused function '_import_umath' [-Wunused-function]\r\n",
        "    _import_umath(void)\r\n",
        "    ^\r\n",
        "    astroML_addons/periodogram.c:7653:33: warning: unused function '__Pyx_PyIndex_AsSsize_t' [-Wunused-function]\r\n",
        "    static CYTHON_INLINE Py_ssize_t __Pyx_PyIndex_AsSsize_t(PyObject* b) {\r\n",
        "                                    ^\r\n",
        "    astroML_addons/periodogram.c:7662:33: warning: unused function '__Pyx_PyInt_FromSize_t' [-Wunused-function]\r\n",
        "    static CYTHON_INLINE PyObject * __Pyx_PyInt_FromSize_t(size_t ival) {\r\n",
        "                                    ^\r\n",
        "    astroML_addons/periodogram.c:7676:29: warning: unused function '__Pyx_PyInt_AsSize_t' [-Wunused-function]\r\n",
        "    static CYTHON_INLINE size_t __Pyx_PyInt_AsSize_t(PyObject* x) {\r\n",
        "                                ^\r\n",
        "    astroML_addons/periodogram.c:6689:48: warning: unused function '__pyx_t_float_complex_from_parts' [-Wunused-function]\r\n",
        "        static CYTHON_INLINE __pyx_t_float_complex __pyx_t_float_complex_from_parts(float x, float y) {\r\n",
        "                                                   ^\r\n",
        "    astroML_addons/periodogram.c:6699:30: warning: unused function '__Pyx_c_eqf' [-Wunused-function]\r\n",
        "        static CYTHON_INLINE int __Pyx_c_eqf(__pyx_t_float_complex a, __pyx_t_float_complex b) {\r\n",
        "                                 ^\r\n",
        "    astroML_addons/periodogram.c:6702:48: warning: unused function '__Pyx_c_sumf' [-Wunused-function]\r\n",
        "        static CYTHON_INLINE __pyx_t_float_complex __Pyx_c_sumf(__pyx_t_float_complex a, __pyx_t_float_complex b) {\r\n",
        "                                                   ^\r\n",
        "    astroML_addons/periodogram.c:6708:48: warning: unused function '__Pyx_c_difff' [-Wunused-function]\r\n",
        "        static CYTHON_INLINE __pyx_t_float_complex __Pyx_c_difff(__pyx_t_float_complex a, __pyx_t_float_complex b) {\r\n",
        "                                                   ^\r\n",
        "    astroML_addons/periodogram.c:6720:48: warning: unused function '__Pyx_c_quotf' [-Wunused-function]\r\n",
        "        static CYTHON_INLINE __pyx_t_float_complex __Pyx_c_quotf(__pyx_t_float_complex a, __pyx_t_float_complex b) {\r\n",
        "                                                   ^\r\n",
        "    astroML_addons/periodogram.c:6727:48: warning: unused function '__Pyx_c_negf' [-Wunused-function]\r\n",
        "        static CYTHON_INLINE __pyx_t_float_complex __Pyx_c_negf(__pyx_t_float_complex a) {\r\n",
        "                                                   ^\r\n",
        "    astroML_addons/periodogram.c:6733:30: warning: unused function '__Pyx_c_is_zerof' [-Wunused-function]\r\n",
        "        static CYTHON_INLINE int __Pyx_c_is_zerof(__pyx_t_float_complex a) {\r\n",
        "                                 ^\r\n",
        "    astroML_addons/periodogram.c:6736:48: warning: unused function '__Pyx_c_conjf' [-Wunused-function]\r\n",
        "        static CYTHON_INLINE __pyx_t_float_complex __Pyx_c_conjf(__pyx_t_float_complex a) {\r\n",
        "                                                   ^\r\n",
        "    astroML_addons/periodogram.c:6750:52: warning: unused function '__Pyx_c_powf' [-Wunused-function]\r\n",
        "            static CYTHON_INLINE __pyx_t_float_complex __Pyx_c_powf(__pyx_t_float_complex a, __pyx_t_float_complex b) {\r\n",
        "                                                       ^\r\n",
        "    astroML_addons/periodogram.c:6809:49: warning: unused function '__pyx_t_double_complex_from_parts' [-Wunused-function]\r\n",
        "        static CYTHON_INLINE __pyx_t_double_complex __pyx_t_double_complex_from_parts(double x, double y) {\r\n",
        "                                                    ^\r\n",
        "    astroML_addons/periodogram.c:6819:30: warning: unused function '__Pyx_c_eq' [-Wunused-function]\r\n",
        "        static CYTHON_INLINE int __Pyx_c_eq(__pyx_t_double_complex a, __pyx_t_double_complex b) {\r\n",
        "                                 ^\r\n",
        "    astroML_addons/periodogram.c:6822:49: warning: unused function '__Pyx_c_sum' [-Wunused-function]\r\n",
        "        static CYTHON_INLINE __pyx_t_double_complex __Pyx_c_sum(__pyx_t_double_complex a, __pyx_t_double_complex b) {\r\n",
        "                                                    ^\r\n",
        "    astroML_addons/periodogram.c:6828:49: warning: unused function '__Pyx_c_diff' [-Wunused-function]\r\n",
        "        static CYTHON_INLINE __pyx_t_double_complex __Pyx_c_diff(__pyx_t_double_complex a, __pyx_t_double_complex b) {\r\n",
        "                                                    ^\r\n",
        "    astroML_addons/periodogram.c:6840:49: warning: unused function '__Pyx_c_quot' [-Wunused-function]\r\n",
        "        static CYTHON_INLINE __pyx_t_double_complex __Pyx_c_quot(__pyx_t_double_complex a, __pyx_t_double_complex b) {\r\n",
        "                                                    ^\r\n",
        "    astroML_addons/periodogram.c:6847:49: warning: unused function '__Pyx_c_neg' [-Wunused-function]\r\n",
        "        static CYTHON_INLINE __pyx_t_double_complex __Pyx_c_neg(__pyx_t_double_complex a) {\r\n",
        "                                                    ^\r\n",
        "    astroML_addons/periodogram.c:6853:30: warning: unused function '__Pyx_c_is_zero' [-Wunused-function]\r\n",
        "        static CYTHON_INLINE int __Pyx_c_is_zero(__pyx_t_double_complex a) {\r\n",
        "                                 ^\r\n",
        "    astroML_addons/periodogram.c:6856:49: warning: unused function '__Pyx_c_conj' [-Wunused-function]\r\n",
        "        static CYTHON_INLINE __pyx_t_double_complex __Pyx_c_conj(__pyx_t_double_complex a) {\r\n",
        "                                                    ^\r\n",
        "    astroML_addons/periodogram.c:6870:53: warning: unused function '__Pyx_c_pow' [-Wunused-function]\r\n",
        "            static CYTHON_INLINE __pyx_t_double_complex __Pyx_c_pow(__pyx_t_double_complex a, __pyx_t_double_complex b) {\r\n",
        "                                                        ^\r\n",
        "    astroML_addons/periodogram.c:6918:36: warning: unused function '__Pyx_PyInt_AsUnsignedChar' [-Wunused-function]\r\n",
        "    static CYTHON_INLINE unsigned char __Pyx_PyInt_AsUnsignedChar(PyObject* x) {\r\n",
        "                                       ^\r\n",
        "    astroML_addons/periodogram.c:6937:37: warning: unused function '__Pyx_PyInt_AsUnsignedShort' [-Wunused-function]\r\n",
        "    static CYTHON_INLINE unsigned short __Pyx_PyInt_AsUnsignedShort(PyObject* x) {\r\n",
        "                                        ^\r\n",
        "    astroML_addons/periodogram.c:6956:35: warning: unused function '__Pyx_PyInt_AsUnsignedInt' [-Wunused-function]\r\n",
        "    static CYTHON_INLINE unsigned int __Pyx_PyInt_AsUnsignedInt(PyObject* x) {\r\n",
        "                                      ^\r\n",
        "    astroML_addons/periodogram.c:6975:27: warning: unused function '__Pyx_PyInt_AsChar' [-Wunused-function]\r\n",
        "    static CYTHON_INLINE char __Pyx_PyInt_AsChar(PyObject* x) {\r\n",
        "                              ^\r\n",
        "    astroML_addons/periodogram.c:6994:28: warning: unused function '__Pyx_PyInt_AsShort' [-Wunused-function]\r\n",
        "    static CYTHON_INLINE short __Pyx_PyInt_AsShort(PyObject* x) {\r\n",
        "                               ^\r\n",
        "    astroML_addons/periodogram.c:7013:26: warning: unused function '__Pyx_PyInt_AsInt' [-Wunused-function]\r\n",
        "    static CYTHON_INLINE int __Pyx_PyInt_AsInt(PyObject* x) {\r\n",
        "                             ^\r\n",
        "    astroML_addons/periodogram.c:7032:34: warning: unused function '__Pyx_PyInt_AsSignedChar' [-Wunused-function]\r\n",
        "    static CYTHON_INLINE signed char __Pyx_PyInt_AsSignedChar(PyObject* x) {\r\n",
        "                                     ^\r\n",
        "    astroML_addons/periodogram.c:7051:35: warning: unused function '__Pyx_PyInt_AsSignedShort' [-Wunused-function]\r\n",
        "    static CYTHON_INLINE signed short __Pyx_PyInt_AsSignedShort(PyObject* x) {\r\n",
        "                                      ^\r\n",
        "    astroML_addons/periodogram.c:7070:33: warning: unused function '__Pyx_PyInt_AsSignedInt' [-Wunused-function]\r\n",
        "    static CYTHON_INLINE signed int __Pyx_PyInt_AsSignedInt(PyObject* x) {\r\n",
        "                                    ^\r\n"
       ]
      },
      {
       "output_type": "stream",
       "stream": "stdout",
       "text": [
        "    astroML_addons/periodogram.c:7089:26: warning: unused function '__Pyx_PyInt_AsLongDouble' [-Wunused-function]\r\n",
        "    static CYTHON_INLINE int __Pyx_PyInt_AsLongDouble(PyObject* x) {\r\n",
        "                             ^\r\n",
        "    astroML_addons/periodogram.c:7213:35: warning: function '__Pyx_PyInt_AsLongLong' is not needed and will not be emitted [-Wunneeded-internal-declaration]\r\n",
        "    static CYTHON_INLINE PY_LONG_LONG __Pyx_PyInt_AsLongLong(PyObject* x) {\r\n",
        "                                      ^\r\n",
        "    astroML_addons/periodogram.c:7283:42: warning: function '__Pyx_PyInt_AsSignedLongLong' is not needed and will not be emitted [-Wunneeded-internal-declaration]\r\n",
        "    static CYTHON_INLINE signed PY_LONG_LONG __Pyx_PyInt_AsSignedLongLong(PyObject* x) {\r\n",
        "                                             ^\r\n",
        "    astroML_addons/periodogram.c:4070:32: warning: unused function '__pyx_f_5numpy_PyArray_MultiIterNew1' [-Wunused-function]\r\n",
        "    static CYTHON_INLINE PyObject *__pyx_f_5numpy_PyArray_MultiIterNew1(PyObject *__pyx_v_a) {\r\n",
        "                                   ^\r\n",
        "    astroML_addons/periodogram.c:4113:32: warning: unused function '__pyx_f_5numpy_PyArray_MultiIterNew2' [-Wunused-function]\r\n",
        "    static CYTHON_INLINE PyObject *__pyx_f_5numpy_PyArray_MultiIterNew2(PyObject *__pyx_v_a, PyObject *__pyx_v_b) {\r\n",
        "                                   ^\r\n",
        "    astroML_addons/periodogram.c:4156:32: warning: unused function '__pyx_f_5numpy_PyArray_MultiIterNew3' [-Wunused-function]\r\n",
        "    static CYTHON_INLINE PyObject *__pyx_f_5numpy_PyArray_MultiIterNew3(PyObject *__pyx_v_a, PyObject *__pyx_v_b, PyObject *__pyx_v_c) {\r\n",
        "                                   ^\r\n",
        "    astroML_addons/periodogram.c:4199:32: warning: unused function '__pyx_f_5numpy_PyArray_MultiIterNew4' [-Wunused-function]\r\n",
        "    static CYTHON_INLINE PyObject *__pyx_f_5numpy_PyArray_MultiIterNew4(PyObject *__pyx_v_a, PyObject *__pyx_v_b, PyObject *__pyx_v_c, PyObject *__pyx_v_d) {\r\n",
        "                                   ^\r\n",
        "    astroML_addons/periodogram.c:4242:32: warning: unused function '__pyx_f_5numpy_PyArray_MultiIterNew5' [-Wunused-function]\r\n",
        "    static CYTHON_INLINE PyObject *__pyx_f_5numpy_PyArray_MultiIterNew5(PyObject *__pyx_v_a, PyObject *__pyx_v_b, PyObject *__pyx_v_c, PyObject *__pyx_v_d, PyObject *__pyx_v_e) {\r\n",
        "                                   ^\r\n",
        "    astroML_addons/periodogram.c:5020:27: warning: unused function '__pyx_f_5numpy_set_array_base' [-Wunused-function]\r\n",
        "    static CYTHON_INLINE void __pyx_f_5numpy_set_array_base(PyArrayObject *__pyx_v_arr, PyObject *__pyx_v_base) {\r\n",
        "                              ^\r\n",
        "    astroML_addons/periodogram.c:5097:32: warning: unused function '__pyx_f_5numpy_get_array_base' [-Wunused-function]\r\n",
        "    static CYTHON_INLINE PyObject *__pyx_f_5numpy_get_array_base(PyArrayObject *__pyx_v_arr) {\r\n",
        "                                   ^\r\n"
       ]
      },
      {
       "output_type": "stream",
       "stream": "stdout",
       "text": [
        "    43 warnings generated.\r\n",
        "    gcc -bundle -undefined dynamic_lookup -L/Users/royseo/anaconda/lib -arch x86_64 -arch x86_64 build/temp.macosx-10.5-x86_64-2.7/astroML_addons/periodogram.o -L/Users/royseo/anaconda/lib -lm -o build/lib.macosx-10.5-x86_64-2.7/astroML_addons/periodogram.so\r\n"
       ]
      },
      {
       "output_type": "stream",
       "stream": "stdout",
       "text": [
        "    \r\n"
       ]
      },
      {
       "output_type": "stream",
       "stream": "stdout",
       "text": [
        "    customize UnixCCompiler\r\n"
       ]
      },
      {
       "output_type": "stream",
       "stream": "stdout",
       "text": [
        "Successfully installed astroML-addons\r\n",
        "Cleaning up...\r\n"
       ]
      }
     ],
     "prompt_number": 2
    },
    {
     "cell_type": "code",
     "collapsed": false,
     "input": [
      "%matplotlib inline\n",
      "import astroML.datasets\n",
      "import numpy as np\n",
      "import matplotlib.pyplot as plt\n",
      "from scipy import optimize"
     ],
     "language": "python",
     "metadata": {},
     "outputs": [],
     "prompt_number": 57
    },
    {
     "cell_type": "code",
     "collapsed": false,
     "input": [
      "lcs = astroML.datasets.fetch_LINEAR_sample()"
     ],
     "language": "python",
     "metadata": {},
     "outputs": [],
     "prompt_number": 58
    },
    {
     "cell_type": "code",
     "collapsed": false,
     "input": [
      "print lcs"
     ],
     "language": "python",
     "metadata": {},
     "outputs": [
      {
       "output_type": "stream",
       "stream": "stdout",
       "text": [
        "<astroML.datasets.LINEAR_sample.LINEARdata object at 0x10ada22d0>\n"
       ]
      }
     ],
     "prompt_number": 60
    },
    {
     "cell_type": "code",
     "collapsed": false,
     "input": [
      "lcs.ids"
     ],
     "language": "python",
     "metadata": {},
     "outputs": [
      {
       "metadata": {},
       "output_type": "pyout",
       "prompt_number": 61,
       "text": [
        "array([10003298, 10004892, 10013411, ...,  9984569,  9987252,   999528])"
       ]
      }
     ],
     "prompt_number": 61
    },
    {
     "cell_type": "code",
     "collapsed": false,
     "input": [
      "time, flux, dflux = lcs[10003298].T"
     ],
     "language": "python",
     "metadata": {},
     "outputs": [],
     "prompt_number": 62
    },
    {
     "cell_type": "markdown",
     "metadata": {},
     "source": [
      "Plot the raw lightcurve"
     ]
    },
    {
     "cell_type": "code",
     "collapsed": false,
     "input": [
      "plt.errorbar(time, flux, yerr=dflux, fmt=\"ro\")\n",
      "plt.gca().invert_yaxis()\n",
      "plt.xlabel(\"Mean Julian Day\")\n",
      "plt.ylabel(\"Mag\")\n",
      "plt.show()"
     ],
     "language": "python",
     "metadata": {},
     "outputs": [
      {
       "metadata": {},
       "output_type": "display_data",
       "png": "[encoded data removed]",
       "text": [
        "<matplotlib.figure.Figure at 0x10a959550>"
       ]
      }
     ],
     "prompt_number": 63
    },
    {
     "cell_type": "markdown",
     "metadata": {},
     "source": [
      "In this case, we know its a periodic variable star.  The whole issue of *if* an object is periodic is the subject of a whole other lecture.  In this case, we take it as fact, and attempt to find the optimal period by using a Lomb Scargle analysis (itself the subject of another lecture entirely).\n",
      "\n",
      "The periodogram is essentially a normalized inverse $\\chi^2$, so that the maximum of the periodogram corresponds to the best-fit Fourier series."
     ]
    },
    {
     "cell_type": "code",
     "collapsed": false,
     "input": [
      "from astroML.time_series import lomb_scargle\n",
      "periods = np.logspace(-1, 0, 100000, base=10)\n",
      "periodogram = lomb_scargle(time, flux, dflux, omega=2 * np.pi / periods, generalized=True)"
     ],
     "language": "python",
     "metadata": {},
     "outputs": [],
     "prompt_number": 64
    },
    {
     "cell_type": "code",
     "collapsed": false,
     "input": [
      "plt.plot(periods, periodogram)\n",
      "plt.semilogx()\n",
      "plt.xlabel(\"Period (days)\")\n",
      "plt.ylabel(\"Power\")\n",
      "plt.show()"
     ],
     "language": "python",
     "metadata": {},
     "outputs": [
      {
       "metadata": {},
       "output_type": "display_data",
       "png": "[encoded data removed]",
       "text": [
        "<matplotlib.figure.Figure at 0x10bd19250>"
       ]
      }
     ],
     "prompt_number": 65
    },
    {
     "cell_type": "markdown",
     "metadata": {},
     "source": [
      "Find the peak of this periodogram using ``argmax``"
     ]
    },
    {
     "cell_type": "code",
     "collapsed": false,
     "input": [
      "idx = np.argmax(periodogram)\n",
      "\n",
      "print periods[idx], periodogram[idx]"
     ],
     "language": "python",
     "metadata": {},
     "outputs": [
      {
       "output_type": "stream",
       "stream": "stdout",
       "text": [
        "0.123956964546 0.8305913303\n"
       ]
      }
     ],
     "prompt_number": 66
    },
    {
     "cell_type": "markdown",
     "metadata": {},
     "source": [
      "Now \"fold\" the lightcurve at this best period.  By \"folding\" I mean find the phase at which the star is in its oscillation (phase is defined here as running from 0 to 1), for every data point.  This is the MJD / period (e.g. 81761.7165) minus the integer portion of this value MJD // period (e.g. 81761) = 0.7165."
     ]
    },
    {
     "cell_type": "code",
     "collapsed": false,
     "input": [
      "period = periods[idx]\n",
      "phase = time / period - time // period \n",
      "print min(phase), max(phase)"
     ],
     "language": "python",
     "metadata": {},
     "outputs": [
      {
       "output_type": "stream",
       "stream": "stdout",
       "text": [
        "0.00297718343791 0.994204670191\n"
       ]
      }
     ],
     "prompt_number": 67
    },
    {
     "cell_type": "code",
     "collapsed": false,
     "input": [
      "plt.errorbar(phase, flux, yerr=dflux, fmt=\"ro\")\n",
      "plt.gca().invert_yaxis()\n",
      "plt.xlabel(\"Phase\")\n",
      "plt.ylabel(\"Mag\")\n",
      "plt.show()"
     ],
     "language": "python",
     "metadata": {},
     "outputs": [
      {
       "metadata": {},
       "output_type": "display_data",
       "png": "[encoded data removed]",
       "text": [
        "<matplotlib.figure.Figure at 0x10c786710>"
       ]
      }
     ],
     "prompt_number": 68
    },
    {
     "cell_type": "markdown",
     "metadata": {},
     "source": [
      "Now we need to get serious.  We want a function we can call to return $\\chi^2$ for a model fit.  It makes a lot of sense to have this be a method on a class.  Then the class can contain the data it is fitting as member variables (e.g. self.flux).  We also want an evaluate() method that returns the lightcurve for a given set of phases, so that we can plot it.  Design a very basic class to do this.  The lightcurve model that this class will fit to the data is of the form:"
     ]
    },
    {
     "cell_type": "markdown",
     "metadata": {},
     "source": [
      "$$\n",
      "Model = A_0 + A_1 * \\cos(2 \\pi\\cdot phase + \\phi_1) + A_2 * \\cos(2 \\pi\\cdot phase + \\phi_2) + \\cdots + A_N * \\cos(2 \\pi N \\cdot phase + \\phi_N)\n",
      "$$\n",
      "\n",
      "with model parameters [ A$_0$ A$_1$ $\\phi_1$ A$_2$ $\\phi_2$ ... A$_N$ $\\phi_N$ ]\n",
      "\n",
      "Let's create a class that implements this model:"
     ]
    },
    {
     "cell_type": "code",
     "collapsed": false,
     "input": [
      "class Fourier(object):\n",
      "    def __init__(self, phase, flux, dflux, nterms):\n",
      "        self.phase = phase\n",
      "        self.flux = flux\n",
      "        self.dflux = dflux\n",
      "        self.nterms = nterms\n",
      "        assert(self.nterms > 0)\n",
      "        \n",
      "    def evaluate(self, phase, terms):\n",
      "        assert(len(terms) == 2 * self.nterms - 1)\n",
      "        model = terms[0] * np.ones(len(phase))\n",
      "        for i in range(self.nterms-1):\n",
      "            model += terms[2*i + 1] * np.cos(2 * np.pi * (i+1) * phase + terms[2*i + 2])\n",
      "        return model\n",
      "    \n",
      "    def chi2(self, args):\n",
      "        model = self.evaluate(self.phase, args)\n",
      "        chi   = (model - self.flux) / self.dflux\n",
      "        return np.sum(chi**2)"
     ],
     "language": "python",
     "metadata": {},
     "outputs": [],
     "prompt_number": 69
    },
    {
     "cell_type": "raw",
     "metadata": {},
     "source": [
      "Create a (very basic) instance of this class, and plot it up over a range of phases using its evaluate() method."
     ]
    },
    {
     "cell_type": "code",
     "collapsed": false,
     "input": [
      "fourier = Fourier(phase, flux, dflux, 1)\n",
      "mphase = np.arange(0, 1, 0.01)\n",
      "model = fourier.evaluate(mphase, [10])"
     ],
     "language": "python",
     "metadata": {},
     "outputs": [],
     "prompt_number": 70
    },
    {
     "cell_type": "code",
     "collapsed": false,
     "input": [
      "plt.plot(mphase, model, \"k-\")\n",
      "plt.gca().invert_yaxis()\n",
      "plt.xlabel(\"Phase\")\n",
      "plt.ylabel(\"Model mag\")\n",
      "plt.show()"
     ],
     "language": "python",
     "metadata": {},
     "outputs": [
      {
       "metadata": {},
       "output_type": "display_data",
       "png": "[encoded data removed]",
       "text": [
        "<matplotlib.figure.Figure at 0x1094c3350>"
       ]
      }
     ],
     "prompt_number": 71
    },
    {
     "cell_type": "markdown",
     "metadata": {},
     "source": [
      "Now for a more interesting model, with some actual values:"
     ]
    },
    {
     "cell_type": "code",
     "collapsed": false,
     "input": [
      "fourier = Fourier(phase, flux, dflux, 2)\n",
      "mphase = np.arange(0, 1, 0.01)\n",
      "model = fourier.evaluate(mphase, [10, 0.1, 0.0])"
     ],
     "language": "python",
     "metadata": {},
     "outputs": [],
     "prompt_number": 72
    },
    {
     "cell_type": "code",
     "collapsed": false,
     "input": [
      "plt.plot(mphase, model, \"k-\")\n",
      "plt.gca().invert_yaxis()\n",
      "plt.xlabel(\"Phase\")\n",
      "plt.ylabel(\"Model mag\")\n",
      "plt.show()"
     ],
     "language": "python",
     "metadata": {},
     "outputs": [
      {
       "metadata": {},
       "output_type": "display_data",
       "png": "[encoded data removed]",
       "text": [
        "<matplotlib.figure.Figure at 0x10aa68dd0>"
       ]
      }
     ],
     "prompt_number": 73
    },
    {
     "cell_type": "markdown",
     "metadata": {},
     "source": [
      "Let's check what this looks like if we change the phase:"
     ]
    },
    {
     "cell_type": "code",
     "collapsed": false,
     "input": [
      "fourier = Fourier(phase, flux, dflux, 2)\n",
      "mphase = np.arange(0, 1, 0.01)\n",
      "model = fourier.evaluate(mphase, [10, 0.1, np.pi])\n",
      "\n",
      "plt.plot(mphase, model, \"k-\")\n",
      "plt.gca().invert_yaxis()\n",
      "plt.xlabel(\"Phase\")\n",
      "plt.ylabel(\"Model mag\")\n",
      "plt.show()"
     ],
     "language": "python",
     "metadata": {},
     "outputs": [
      {
       "metadata": {},
       "output_type": "display_data",
       "png": "[encoded data removed]",
       "text": [
        "<matplotlib.figure.Figure at 0x10bd70f90>"
       ]
      }
     ],
     "prompt_number": 74
    },
    {
     "cell_type": "markdown",
     "metadata": {},
     "source": [
      "Since we have a complicated model, let's use ``optimize.fmin``, as we did above.\n",
      "We'll fit a 2 term model to the data (1 constant term, and 1 term with an amplitude and phase offset)"
     ]
    },
    {
     "cell_type": "code",
     "collapsed": false,
     "input": [
      "fourier = Fourier(phase, flux, dflux, 2)\n",
      "guess   = [] # this needs to be the number of paramters you want to fit for, here the mean brightness, the amplitude, and minimum\n",
      "guess.append(np.mean(fourier.flux))\n",
      "guess.append(np.std(fourier.flux))"
     ],
     "language": "python",
     "metadata": {},
     "outputs": [],
     "prompt_number": 75
    },
    {
     "cell_type": "markdown",
     "metadata": {},
     "source": [
      "We'll initialize the phase with the phase of the minimum flux"
     ]
    },
    {
     "cell_type": "code",
     "collapsed": false,
     "input": [
      "print(np.argmax(fourier.flux))"
     ],
     "language": "python",
     "metadata": {},
     "outputs": [
      {
       "output_type": "stream",
       "stream": "stdout",
       "text": [
        "163\n"
       ]
      }
     ],
     "prompt_number": 76
    },
    {
     "cell_type": "code",
     "collapsed": false,
     "input": [
      "print(fourier.flux[np.argmax(fourier.flux)])"
     ],
     "language": "python",
     "metadata": {},
     "outputs": [
      {
       "output_type": "stream",
       "stream": "stdout",
       "text": [
        "16.36\n"
       ]
      }
     ],
     "prompt_number": 77
    },
    {
     "cell_type": "code",
     "collapsed": false,
     "input": [
      "print(fourier.phase[np.argmax(fourier.flux)])"
     ],
     "language": "python",
     "metadata": {},
     "outputs": [
      {
       "output_type": "stream",
       "stream": "stdout",
       "text": [
        "0.253658789094\n"
       ]
      }
     ],
     "prompt_number": 78
    },
    {
     "cell_type": "code",
     "collapsed": false,
     "input": [
      "guess.append(2 * np.pi * (1 - fourier.phase[np.argmax(fourier.flux)]))"
     ],
     "language": "python",
     "metadata": {},
     "outputs": [],
     "prompt_number": 79
    },
    {
     "cell_type": "markdown",
     "metadata": {},
     "source": [
      "Finally, we have our initial guess:"
     ]
    },
    {
     "cell_type": "code",
     "collapsed": false,
     "input": [
      "print(guess)"
     ],
     "language": "python",
     "metadata": {},
     "outputs": [
      {
       "output_type": "stream",
       "stream": "stdout",
       "text": [
        "[15.920224489795919, 0.15944934136419137, 4.6894001305096742]\n"
       ]
      }
     ],
     "prompt_number": 80
    },
    {
     "cell_type": "markdown",
     "metadata": {},
     "source": [
      "Make it so!"
     ]
    },
    {
     "cell_type": "code",
     "collapsed": false,
     "input": [
      "optimize.fmin(fourier.chi2, x0=[guess], disp=0, full_output=1)"
     ],
     "language": "python",
     "metadata": {},
     "outputs": [
      {
       "metadata": {},
       "output_type": "pyout",
       "prompt_number": 81,
       "text": [
        "(array([ 15.90876567,   0.1966944 ,   4.48752937]),\n",
        " 404.43725138246054,\n",
        " 58,\n",
        " 104,\n",
        " 0)"
       ]
      }
     ],
     "prompt_number": 81
    },
    {
     "cell_type": "markdown",
     "metadata": {},
     "source": [
      "Capture the output and look at the \"best fit\" parameters.  I.e. those that minimized the return value of fourier.chi2."
     ]
    },
    {
     "cell_type": "code",
     "collapsed": false,
     "input": [
      "result = optimize.fmin(fourier.chi2, x0=[guess], disp=0, full_output=1)\n",
      "best_fit = result[0]\n",
      "print(best_fit)"
     ],
     "language": "python",
     "metadata": {},
     "outputs": [
      {
       "output_type": "stream",
       "stream": "stdout",
       "text": [
        "[ 15.90876567   0.1966944    4.48752937]\n"
       ]
      }
     ],
     "prompt_number": 84
    },
    {
     "cell_type": "markdown",
     "metadata": {},
     "source": [
      "Plot the model up, compared to the data and the initial guess"
     ]
    },
    {
     "cell_type": "code",
     "collapsed": false,
     "input": [
      "plt.errorbar(fourier.phase, fourier.flux, yerr=fourier.dflux, fmt=\"ro\")\n",
      "plt.plot(mphase, fourier.evaluate(mphase, guess), \"b--\", label=\"Initial guess\")\n",
      "plt.plot(mphase, fourier.evaluate(mphase, best_fit), \"g-\", label=\"Best fit\")\n",
      "plt.gca().invert_yaxis()\n",
      "plt.xlabel(\"Phase\")\n",
      "plt.ylabel(\"Mag\")\n",
      "plt.legend()\n",
      "plt.show()"
     ],
     "language": "python",
     "metadata": {},
     "outputs": [
      {
       "metadata": {},
       "output_type": "display_data",
       "png": "[encoded data removed]",
       "text": [
        "<matplotlib.figure.Figure at 0x109611c50>"
       ]
      }
     ],
     "prompt_number": 85
    },
    {
     "cell_type": "markdown",
     "metadata": {},
     "source": [
      "Looks \"eh\".  What is the goodness of fit of the model?  The reduced chi2 (i.e. chi2 per degree of freedom) gives an absolute \"goodness of fit\" to your model: you expect this to be a value near 1.0:"
     ]
    },
    {
     "cell_type": "markdown",
     "metadata": {},
     "source": [
      "$$\n",
      "\\chi^2_\\nu = \\frac{\\chi2}{Npts - Nterms - 1}\n",
      "$$"
     ]
    },
    {
     "cell_type": "code",
     "collapsed": false,
     "input": [
      "chi2_1 = result[1]\n",
      "chi2_2 = fourier.chi2(best_fit)\n",
      "print chi2_1, chi2_2, chi2_1 / (len(flux) - len(best_fit) - 1)"
     ],
     "language": "python",
     "metadata": {},
     "outputs": [
      {
       "output_type": "stream",
       "stream": "stdout",
       "text": [
        "404.437251382 404.437251382 2.10644401762\n"
       ]
      }
     ],
     "prompt_number": 86
    },
    {
     "cell_type": "raw",
     "metadata": {},
     "source": [
      "This is where we start to go down the rabbit hole.  Start to add more terms..."
     ]
    },
    {
     "cell_type": "code",
     "collapsed": false,
     "input": [
      "fourier2 = Fourier(phase, flux, dflux, 3)\n",
      "guess2   = [] # this needs to be the number of paramters you want to fit for, now 2*3-1 = 5\n",
      "guess2.append(np.mean(fourier2.flux))\n",
      "guess2.append(np.std(fourier2.flux))\n",
      "guess2.append(2 * np.pi * (1 - fourier2.phase[np.argsort(fourier2.flux)[-1]]))\n",
      "guess2.append(0.0)\n",
      "guess2.append(2 * np.pi * (1 - fourier2.phase[np.argsort(fourier2.flux)[-1]]))\n",
      "result2 = optimize.fmin_bfgs(fourier2.chi2, x0=[guess2], disp=0, full_output=1)\n",
      "best_fit2 = result2[0]\n",
      "print best_fit2"
     ],
     "language": "python",
     "metadata": {},
     "outputs": [
      {
       "output_type": "stream",
       "stream": "stdout",
       "text": [
        "[ 15.91517862   0.20763276   4.48151003  -0.04835926   5.87789496]\n"
       ]
      }
     ],
     "prompt_number": 87
    },
    {
     "cell_type": "code",
     "collapsed": false,
     "input": [
      "plt.errorbar(fourier2.phase, fourier2.flux, yerr=fourier2.dflux, fmt=\"ro\")\n",
      "plt.plot(mphase, fourier2.evaluate(mphase, guess2), \"b--\", label=\"Initial guess\")\n",
      "plt.plot(mphase, fourier2.evaluate(mphase, best_fit2), \"g-\", label=\"Best fit\")\n",
      "plt.gca().invert_yaxis()\n",
      "plt.xlabel(\"Phase\")\n",
      "plt.ylabel(\"Mag\")\n",
      "plt.show()"
     ],
     "language": "python",
     "metadata": {},
     "outputs": [
      {
       "metadata": {},
       "output_type": "display_data",
       "png": "[encoded data removed]",
       "text": [
        "<matplotlib.figure.Figure at 0x108300050>"
       ]
      }
     ],
     "prompt_number": 49
    },
    {
     "cell_type": "markdown",
     "metadata": {},
     "source": [
      "More cowbell!"
     ]
    },
    {
     "cell_type": "code",
     "collapsed": false,
     "input": [
      "fourier5 = Fourier(phase, flux, dflux, 5)\n",
      "guess5   = [] # this needs to be the number of paramters you want to fit for, now 9\n",
      "guess5.append(np.mean(fourier5.flux))\n",
      "guess5.append(np.std(fourier5.flux))\n",
      "guess5.append(2 * np.pi * (1 - fourier5.phase[np.argsort(fourier5.flux)[-1]]))\n",
      "for i in range(2, 5):\n",
      "    guess5.append(0.0)\n",
      "    guess5.append(2 * np.pi * (1 - fourier5.phase[np.argsort(fourier5.flux)[-1]]))\n",
      "result5 = optimize.fmin_bfgs(fourier5.chi2, x0=[guess5], disp=0, full_output=1)\n",
      "best_fit5 = result5[0]\n",
      "print best_fit5"
     ],
     "language": "python",
     "metadata": {},
     "outputs": [
      {
       "output_type": "stream",
       "stream": "stdout",
       "text": [
        "[  1.59170781e+01   2.12022564e-01   4.48635456e+00  -5.30088749e-02\n",
        "   5.87598208e+00  -2.51354458e-02   3.98000464e+00   5.32042629e-03\n",
        "   4.94746587e+00]\n"
       ]
      }
     ],
     "prompt_number": 88
    },
    {
     "cell_type": "code",
     "collapsed": false,
     "input": [
      "plt.errorbar(fourier5.phase, fourier5.flux, yerr=fourier5.dflux, fmt=\"ro\")\n",
      "plt.plot(mphase, fourier5.evaluate(mphase, guess5), \"b--\", label=\"Initial guess\")\n",
      "plt.plot(mphase, fourier5.evaluate(mphase, best_fit5), \"g-\", label=\"Best fit\")\n",
      "plt.gca().invert_yaxis()\n",
      "plt.xlabel(\"Phase\")\n",
      "plt.ylabel(\"Mag\")\n",
      "plt.show()"
     ],
     "language": "python",
     "metadata": {},
     "outputs": [
      {
       "metadata": {},
       "output_type": "display_data",
       "png": "[encoded data removed]",
       "text": [
        "<matplotlib.figure.Figure at 0x1094558d0>"
       ]
      }
     ],
     "prompt_number": 89
    },
    {
     "cell_type": "markdown",
     "metadata": {},
     "source": [
      "Am getting tired of initializing \"guess\" all the time.  We can make a method on the class that does this for us!  Lets inherit from the main Fourier class, so that we only have to implement that method.  Part of the point of this is to demonstrate class inheritance."
     ]
    },
    {
     "cell_type": "code",
     "collapsed": false,
     "input": [
      "class Fourier2(Fourier):\n",
      "    def __init__(self, phase, flux, dflux, nterms):\n",
      "        Fourier.__init__(self, phase, flux, dflux, nterms)\n",
      "                \n",
      "    def makeGuess(self):\n",
      "        guess = []\n",
      "        guess.append(np.mean(self.flux))\n",
      "        if self.nterms > 1:\n",
      "            guess.append(np.std(self.flux))\n",
      "            guess.append(2 * np.pi * (1 - self.phase[np.argsort(self.flux)[-1]]))\n",
      "            for i in range(2, self.nterms):\n",
      "                guess.append(0.0)\n",
      "                guess.append(2 * np.pi * (1 - self.phase[np.argsort(self.flux)[-1]]))\n",
      "        return guess"
     ],
     "language": "python",
     "metadata": {},
     "outputs": [],
     "prompt_number": 90
    },
    {
     "cell_type": "markdown",
     "metadata": {},
     "source": [
      "Now that everything is pipelined, lets run this for a range of models, and plot how chi2 improves as you increase the model parameters.  Note that it will *always* decrease as you add terms!!!!  Up to a limit: the end point of this process is when you have 1 parameter for every data point, in which case your chi2 should be 0.0."
     ]
    },
    {
     "cell_type": "code",
     "collapsed": false,
     "input": [
      "nterms = np.arange(1, 10)\n",
      "chi2   = []\n",
      "for nterm in nterms:\n",
      "    fourier = Fourier2(phase, flux, dflux, nterm)\n",
      "    guess = fourier.makeGuess()\n",
      "    print(guess)\n",
      "    chi2.append(optimize.fmin_bfgs(fourier.chi2, x0=[guess], disp=0, full_output=1)[1])\n",
      "chi2 = np.array(chi2)\n",
      "plt.plot(nterms, chi2)\n",
      "plt.xlabel(\"N Terms\")\n",
      "plt.ylabel(\"Chi2\")\n",
      "plt.show()\n",
      "    "
     ],
     "language": "python",
     "metadata": {},
     "outputs": [
      {
       "output_type": "stream",
       "stream": "stdout",
       "text": [
        "[15.920224489795919]\n",
        "[15.920224489795919, 0.15944934136419137, 4.6894001305096742]\n",
        "[15.920224489795919, 0.15944934136419137, 4.6894001305096742, 0.0, 4.6894001305096742]\n",
        "[15.920224489795919, 0.15944934136419137, 4.6894001305096742, 0.0, 4.6894001305096742, 0.0, 4.6894001305096742]"
       ]
      },
      {
       "output_type": "stream",
       "stream": "stdout",
       "text": [
        "\n",
        "[15.920224489795919, 0.15944934136419137, 4.6894001305096742, 0.0, 4.6894001305096742, 0.0, 4.6894001305096742, 0.0, 4.6894001305096742]\n",
        "[15.920224489795919, 0.15944934136419137, 4.6894001305096742, 0.0, 4.6894001305096742, 0.0, 4.6894001305096742, 0.0, 4.6894001305096742, 0.0, 4.6894001305096742]"
       ]
      },
      {
       "output_type": "stream",
       "stream": "stdout",
       "text": [
        "\n",
        "[15.920224489795919, 0.15944934136419137, 4.6894001305096742, 0.0, 4.6894001305096742, 0.0, 4.6894001305096742, 0.0, 4.6894001305096742, 0.0, 4.6894001305096742, 0.0, 4.6894001305096742]"
       ]
      },
      {
       "output_type": "stream",
       "stream": "stdout",
       "text": [
        "\n",
        "[15.920224489795919, 0.15944934136419137, 4.6894001305096742, 0.0, 4.6894001305096742, 0.0, 4.6894001305096742, 0.0, 4.6894001305096742, 0.0, 4.6894001305096742, 0.0, 4.6894001305096742, 0.0, 4.6894001305096742]"
       ]
      },
      {
       "output_type": "stream",
       "stream": "stdout",
       "text": [
        "\n",
        "[15.920224489795919, 0.15944934136419137, 4.6894001305096742, 0.0, 4.6894001305096742, 0.0, 4.6894001305096742, 0.0, 4.6894001305096742, 0.0, 4.6894001305096742, 0.0, 4.6894001305096742, 0.0, 4.6894001305096742, 0.0, 4.6894001305096742]"
       ]
      },
      {
       "output_type": "stream",
       "stream": "stdout",
       "text": [
        "\n"
       ]
      },
      {
       "metadata": {},
       "output_type": "display_data",
       "png": "[encoded data removed]",
       "text": [
        "<matplotlib.figure.Figure at 0x10c7c1810>"
       ]
      }
     ],
     "prompt_number": 91
    },
    {
     "cell_type": "markdown",
     "metadata": {},
     "source": [
      "And what is delta chi2?  Note it converges to zero, i.e. you are getting less and less improvement with the addition of every new term.  Now we have to start being careful."
     ]
    },
    {
     "cell_type": "code",
     "collapsed": false,
     "input": [
      "delta_chi2 = chi2[:-1] - chi2[1:]\n",
      "plt.plot(nterms[1:], delta_chi2)\n",
      "plt.xlabel(\"N terms\")\n",
      "plt.ylabel(\"Delta chi2\")\n",
      "plt.show()\n",
      "# You will need to figure out the significance of all these delta_chi2 as part of your homework!"
     ],
     "language": "python",
     "metadata": {},
     "outputs": [
      {
       "metadata": {},
       "output_type": "display_data",
       "png": "[encoded data removed]",
       "text": [
        "<matplotlib.figure.Figure at 0x109455e50>"
       ]
      }
     ],
     "prompt_number": 92
    },
    {
     "cell_type": "markdown",
     "metadata": {},
     "source": [
      "Lets start to look at the penalties imposed by BIC/AIC."
     ]
    },
    {
     "cell_type": "code",
     "collapsed": false,
     "input": [
      "nterms     = np.arange(1, 10)\n",
      "chi2       = []\n",
      "BICpenalty = []\n",
      "AICpenalty = []\n",
      "for nterm in nterms:\n",
      "    fourier = Fourier2(phase, flux, dflux, nterm)\n",
      "    guess   = fourier.makeGuess()\n",
      "    BICpenalty.append(len(guess) * np.log(len(fourier.phase)))\n",
      "    AICpenalty.append(len(guess) * 2.0)\n",
      "    chi2.append(optimize.fmin_bfgs(fourier.chi2, x0=[guess], disp=0, full_output=1)[1])\n",
      "chi2 = np.array(chi2)\n",
      "BICpenalty = np.array(BICpenalty)\n",
      "AICpenalty = np.array(AICpenalty)"
     ],
     "language": "python",
     "metadata": {},
     "outputs": [],
     "prompt_number": 93
    },
    {
     "cell_type": "code",
     "collapsed": false,
     "input": [
      "print chi2\n",
      "print BICpenalty\n",
      "print AICpenalty"
     ],
     "language": "python",
     "metadata": {},
     "outputs": [
      {
       "output_type": "stream",
       "stream": "stdout",
       "text": [
        "[ 2387.34679452   404.43724454   275.23784973   244.940778     243.42198198\n",
        "   242.97600967   241.50052982   239.3091793    225.35024345]\n",
        "[  5.27811466  15.83434398  26.3905733   36.94680261  47.50303193\n",
        "  58.05926125  68.61549057  79.17171989  89.72794921]\n",
        "[  2.   6.  10.  14.  18.  22.  26.  30.  34.]\n"
       ]
      }
     ],
     "prompt_number": 94
    },
    {
     "cell_type": "code",
     "collapsed": false,
     "input": [
      "plt.plot(nterms, chi2, label=\"chi2\")\n",
      "plt.plot(nterms, chi2 + BICpenalty, label=\"BIC\")\n",
      "plt.plot(nterms, chi2 + AICpenalty, label=\"AIC\")\n",
      "plt.xlabel(\"N Terms\")\n",
      "plt.ylabel(\"Chi2\")\n",
      "plt.semilogy()\n",
      "plt.legend()\n",
      "plt.show()"
     ],
     "language": "python",
     "metadata": {},
     "outputs": [
      {
       "metadata": {},
       "output_type": "display_data",
       "png": "[encoded data removed]",
       "text": [
        "<matplotlib.figure.Figure at 0x10a894690>"
       ]
      }
     ],
     "prompt_number": 95
    },
    {
     "cell_type": "markdown",
     "metadata": {},
     "source": [
      "Can kinda see that BIC/AIC are telling you to stop.  Lets make it more apparent."
     ]
    },
    {
     "cell_type": "code",
     "collapsed": false,
     "input": [
      "nterms     = np.arange(1, 30, 2)\n",
      "chi2       = []\n",
      "BICpenalty = []\n",
      "AICpenalty = []\n",
      "for nterm in nterms:\n",
      "    fourier = Fourier2(phase, flux, dflux, nterm)\n",
      "    guess   = fourier.makeGuess()\n",
      "    BICpenalty.append(len(guess) * np.log(len(fourier.phase)))\n",
      "    AICpenalty.append(len(guess) * 2.0)\n",
      "    chi2.append(optimize.fmin_bfgs(fourier.chi2, x0=[guess], disp=0, full_output=1)[1])\n",
      "chi2 = np.array(chi2)\n",
      "BICpenalty = np.array(BICpenalty)\n",
      "AICpenalty = np.array(AICpenalty)"
     ],
     "language": "python",
     "metadata": {},
     "outputs": [],
     "prompt_number": 97
    },
    {
     "cell_type": "code",
     "collapsed": false,
     "input": [
      "plt.plot(nterms, chi2, label=\"chi2\")\n",
      "plt.plot(nterms, chi2 + BICpenalty, label=\"BIC\")\n",
      "plt.plot(nterms, chi2 + AICpenalty, label=\"AIC\")\n",
      "plt.xlabel(\"N Terms\")\n",
      "plt.ylabel(\"Chi2\")\n",
      "plt.semilogy()\n",
      "plt.legend()\n",
      "plt.show()"
     ],
     "language": "python",
     "metadata": {},
     "outputs": [
      {
       "metadata": {},
       "output_type": "display_data",
       "png": "[encoded data removed]",
       "text": [
        "<matplotlib.figure.Figure at 0x10bcd0410>"
       ]
      }
     ],
     "prompt_number": 98
    },
    {
     "cell_type": "markdown",
     "metadata": {},
     "source": [
      "Which of the fits have the minimum BIC/AIC?"
     ]
    },
    {
     "cell_type": "code",
     "collapsed": false,
     "input": [
      "print np.argmin(chi2+BICpenalty), np.argmin(chi2+AICpenalty)"
     ],
     "language": "python",
     "metadata": {},
     "outputs": [
      {
       "output_type": "stream",
       "stream": "stdout",
       "text": [
        "2 6\n"
       ]
      }
     ],
     "prompt_number": 99
    },
    {
     "cell_type": "markdown",
     "metadata": {},
     "source": [
      "And what order model do they suggest?"
     ]
    },
    {
     "cell_type": "code",
     "collapsed": false,
     "input": [
      "print nterms[2], nterms[6]"
     ],
     "language": "python",
     "metadata": {},
     "outputs": [
      {
       "output_type": "stream",
       "stream": "stdout",
       "text": [
        "5 13\n"
       ]
      }
     ],
     "prompt_number": 101
    },
    {
     "cell_type": "markdown",
     "metadata": {},
     "source": [
      "Note that these will typically be different.  And this is when you say to the referee \"We examined the order of model selection using both the BIC and the AIC, and find that our conclusions are insensitive to which model is preferred.  Accordingly, we chose the most parsimonious model for our final analysis\".  Because if you do find your results depend significantly on the model order at this level, you should rethink how you're doing things (e.g. is your model's functional form correct)."
     ]
    },
    {
     "cell_type": "heading",
     "level": 2,
     "metadata": {},
     "source": [
      "Homework"
     ]
    },
    {
     "cell_type": "markdown",
     "metadata": {},
     "source": [
      "Homework: repeat the exercise with a different star of your choosing. Find the order of the model that delta chi2, AIC, and BIC would suggest.\n",
      "Turn in the homework again via github, using the filename ``HW3.ipynb``."
     ]
    },
    {
     "cell_type": "code",
     "collapsed": false,
     "input": [
      "print np.argmin(chi2)"
     ],
     "language": "python",
     "metadata": {},
     "outputs": [
      {
       "output_type": "stream",
       "stream": "stdout",
       "text": [
        "14\n"
       ]
      }
     ],
     "prompt_number": 105
    },
    {
     "cell_type": "code",
     "collapsed": false,
     "input": [
      "print nterms[14]"
     ],
     "language": "python",
     "metadata": {},
     "outputs": [
      {
       "output_type": "stream",
       "stream": "stdout",
       "text": [
        "29\n"
       ]
      }
     ],
     "prompt_number": 107
    },
    {
     "cell_type": "code",
     "collapsed": false,
     "input": [
      "print 'BIC term is 5, AIC term is 13, and delta chi2 is 29.'"
     ],
     "language": "python",
     "metadata": {},
     "outputs": [
      {
       "output_type": "stream",
       "stream": "stdout",
       "text": [
        "BIC term is 5, AIC term is 13, and delta chi2 is 29.\n"
       ]
      }
     ],
     "prompt_number": 108
    }
   ],
   "metadata": {}
  }
 ]
}