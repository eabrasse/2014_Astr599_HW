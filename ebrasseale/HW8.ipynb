{
 "metadata": {
  "name": "HW8.ipynb"
 },
 "nbformat": 3,
 "nbformat_minor": 0,
 "worksheets": [
  {
   "cells": [
    {
     "cell_type": "code",
     "collapsed": false,
     "input": [
      "\"\"\"\n",
      "A script to compare different root-finding algorithms.\n",
      "\n",
      "This version of the script is buggy and does not execute. It is your task\n",
      "to find an fix these bugs.\n",
      "\n",
      "The output of the script sould look like:\n",
      "\n",
      "    Benching 1D root-finder optimizers from scipy.optimize:\n",
      "                brenth:   604678 total function calls\n",
      "                brentq:   594454 total function calls\n",
      "                ridder:   778394 total function calls\n",
      "                bisect:  2148380 total function calls\n",
      "\"\"\"\n",
      "from itertools import product\n",
      "\n",
      "import numpy as np\n",
      "from scipy import optimize\n",
      "\n",
      "FUNCTIONS = (np.tan,  # Dilating map\n",
      "             np.tanh, # Contracting map\n",
      "             lambda x: x**3 + 1e-4*x, # Almost null gradient at the root\n",
      "             lambda x: x+np.sin(2*x), # Non monotonous function\n",
      "             lambda x: 1.1*x+np.sin(4*x), # Fonction with several local maxima\n",
      "            )\n",
      "\n",
      "OPTIMIZERS = (optimize.brenth, optimize.brentq,\n",
      "              optimize.ridder, optimize.bisect)\n",
      "\n",
      "def apply_optimizer(optimizer, func, a, b):\n",
      "    \"\"\" Return the number of function calls given an root-finding optimizer, \n",
      "        a function and upper and lower bounds.\n",
      "    \"\"\"\n",
      "    return optimizer(func, a, b, full_output=True)[1].function_calls,\n",
      "\n",
      "\n",
      "def bench_optimizer(optimizer, param_grid):\n",
      "    \"\"\" Find roots for all the functions, and upper and lower bounds\n",
      "        given and return the total number of function calls.\n",
      "    \"\"\"\n",
      "    list_sum=0;\n",
      "    for func, a, b in param_grid:\n",
      "        dlist=()\n",
      "        dlist = apply_optimizer(optimizer, func, a, b)\n",
      "        list_sum += sum(dlist)\n",
      "    return list_sum\n",
      "\n",
      "\n",
      "def compare_optimizers(OPTIMIZERS):\n",
      "    \"\"\" Compare all the optimizers given on a grid of a few different\n",
      "        functions all admitting a signle root in zero and a upper and\n",
      "        lower bounds.\n",
      "    \"\"\"\n",
      "    random_a = -1.3 + np.random.random(size=100)\n",
      "    random_b =   .3 + np.random.random(size=100)\n",
      "    \n",
      "    print(\"Benching 1D root-finder optimizers from scipy.optimize:\")\n",
      "    for optimizer in OPTIMIZERS:\n",
      "        param_grid = product(FUNCTIONS, random_a, random_b)\n",
      "        ncalls = bench_optimizer(optimizer, param_grid)\n",
      "        print('{name}: {ncalls} total function calls'.format(\n",
      "                  name=optimizer.__name__, ncalls=ncalls))\n",
      "\n",
      "\n",
      "if __name__ == '__main__':\n",
      "    compare_optimizers(OPTIMIZERS)"
     ],
     "language": "python",
     "metadata": {},
     "outputs": [
      {
       "output_type": "stream",
       "stream": "stdout",
       "text": [
        "Benching 1D root-finder optimizers from scipy.optimize:\n",
        "brenth: 604885 total function calls"
       ]
      },
      {
       "output_type": "stream",
       "stream": "stdout",
       "text": [
        "\n",
        "brentq: 594526 total function calls"
       ]
      },
      {
       "output_type": "stream",
       "stream": "stdout",
       "text": [
        "\n",
        "ridder: 773890 total function calls"
       ]
      },
      {
       "output_type": "stream",
       "stream": "stdout",
       "text": [
        "\n",
        "bisect: 2148790 total function calls"
       ]
      },
      {
       "output_type": "stream",
       "stream": "stdout",
       "text": [
        "\n"
       ]
      }
     ],
     "prompt_number": 1
    },
    {
     "cell_type": "markdown",
     "metadata": {},
     "source": [
      "Debugging Notes\n",
      "\n",
      "Notice the Runtime error: TypeError: unsupported operand type(s) for +: 'int' and 'tuple'\n",
      "The error seems to come from line 56, as it flags\n",
      "\n",
      "\n",
      "<ipython-input-1-5c834ce551a7> in compare_optimizers(optimizers)\n",
      "     54     print(\"Benching 1D root-finder optimizers from scipy.optimize:\")\n",
      "     55     for optimizer in OPTIMIZERS:\n",
      "---> 56         ncalls = bench_optimizer(optimizer, param_grid)\n",
      "     57         print('{name}: {ncalls} total function calls'.format(\n",
      "     58                   name=optimizer.__name__, ncalls=ncalls))\n",
      "\n",
      "Because optimizer is in the iterator, it must be the integer. \"param_grid\" is then the tuple, which is why they don't work.\n",
      "OK it seems that when bench_optimizer is called, it is given (optimizer, param_grid), and 'optimizer' is just the integer count. When it is used in bench_optimizer, it is used in apply_optimizer, which returns the result of \"optimizer\" as a tag for one of the functions in OPTIMIZERS. Therefore, I think it needs to be sent as such.\n",
      "\n",
      "I added a print line to make sure that OPTIMIZERS was read as a tuple.\n",
      "\n",
      "My first attempt is just to make optimizer not the index of OPTIMIZERS, but the value at that index. So I added a dummy variable i, so now I have\n",
      "\n",
      "    for i in OPTIMIZERS:\n",
      "        optimizer=OPTIMIZERS[i]\n",
      "\n",
      "and the rest of the code reads the same.\n",
      "\n",
      "Now it's giving me\n",
      "\n",
      "TypeError: tuple indices must be integers, not function\n",
      "\n",
      "So I wonder if optimizer was originally a tuple? Let me check what the type of i is.\n",
      "\n",
      "It's a function. So let me undo what I just did and check what optimizer was. It was also a function. So my first guess was wrong. The problem was happening in the sum.\n",
      "\n",
      "def bench_optimizer(optimizer, param_grid):\n",
      "    \"\"\" Find roots for all the functions, and upper and lower bounds\n",
      "        given and return the total number of function calls.\n",
      "    \"\"\"\n",
      "    return sum(apply_optimizer(optimizer, func, a, b)\n",
      "               for func, a, b in param_grid)\n",
      "\n",
      "So the sum isn't adding up correctly. Let me check the arguments.\n",
      "print(type(apply_optimizer(optimizer, func, a, b))) returns \"integer\", so this must be the problem that doesn't add well. One of the optimizers must be returning a tuple.\n",
      "\n",
      "I did some research on optimizer output and what function_calls specifies, which makes a lot of sense. I now understand why that term is returning an integer. So what's happening? What's turning into a tuple? Maybe the generator function produces a tuple.\n",
      "I output apply_optimizer to a dummy list and took the type of the list. Sure enough, it was a tuple. Can't you sum a tuple, though? Also for some reason, no errors appear when I do this, although it outputs the wrong results.\n",
      "Throwing a sum around 'list' works without error. It prints values between 7 and 10. So let me try to incorporate this a little better.\n",
      "I wrote a clunkier version that takes those 8's, 9's, and 10's and adds them to a master count which the function returns after it runs through the func, a, b in param_grid. It looks like this.\n",
      "\n",
      "    list_sum=0;\n",
      "    for func, a, b in param_grid:\n",
      "        list=apply_optimizer(optimizer, func, a, b)\n",
      "        list_sum+= sum(list);\n",
      "    return list_sum\n",
      "\n",
      "It runs without error, although it's clearly wrong. It outputs:\n",
      "\n",
      "Benching 1D root-finder optimizers from scipy.optimize:\n",
      "brenth: 601042 total function calls\n",
      "brentq: 0 total function calls\n",
      "ridder: 0 total function calls\n",
      "bisect: 0 total function calls\n",
      "\n",
      "Maybe calling my output 'list' is bad programming, since it's already a python variable. That might be making it confused. Let's call it dlist, in honor of mathematical notation of when we add a new amount. It doesn't change the output, but it makes me feel better.\n",
      "\n",
      "It shouldn't matter but I noticed that in the compare_optimizers function, the input call is \"optimizers\", not \"OPTIMIZERS\". I wonder if it makes a difference. I'll put it in all caps just in case. Did not make a difference.\n",
      "\n",
      "Judging by a couple of test cases by putting something to print inside of the loop, I can tell that it isn't even entering the loop for the last three optimizers. That's a problem. I'm wondering if it has something to do with the properties of generators like param_grid, and I struggle because it's easy to just think of the generator as a tuple and it's not at all like that. I'm thinking something happens to the generator when you try to generate it twice in a row, so I'm going to call it fresh again in the OPTIMIZERS loop in compare_optimizers.\n",
      "\n",
      "OH WOW IT WORKED! Moving the grid_param definition into the loop worked. Very interesting."
     ]
    },
    {
     "cell_type": "code",
     "collapsed": false,
     "input": [],
     "language": "python",
     "metadata": {},
     "outputs": []
    }
   ],
   "metadata": {}
  }
 ]
}