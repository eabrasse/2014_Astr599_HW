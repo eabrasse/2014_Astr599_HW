{
 "metadata": {
  "name": ""
 },
 "nbformat": 3,
 "nbformat_minor": 0,
 "worksheets": [
  {
   "cells": [
    {
     "cell_type": "markdown",
     "metadata": {},
     "source": [
      "We will examine how $\\chi^2$, BIC, and AIC vary as we change the number of terms in the Fourier series.  If we do not get through this whole exercise, your homework will be to finish the notebook, and then repeat the analysis for another variable star from the data.  I would like to see as a function of the number of terms in your analysis: $\\chi^2$, $\\Delta \\chi^2$ compared to the previous model, the significance of $\\Delta \\chi^2$, AIC, and BIC.  Indicate the order of the series you would choose based on each of the above numbers (they may be different for $\\Delta \\chi^2$, AIC, and BIC)."
     ]
    },
    {
     "cell_type": "code",
     "collapsed": false,
     "input": [
      "%matplotlib inline\n",
      "import astroML.datasets\n",
      "import numpy as np\n",
      "import matplotlib.pyplot as plt"
     ],
     "language": "python",
     "metadata": {},
     "outputs": []
    },
    {
     "cell_type": "code",
     "collapsed": false,
     "input": [
      "lcs = astroML.datasets.fetch_LINEAR_sample()"
     ],
     "language": "python",
     "metadata": {},
     "outputs": []
    },
    {
     "cell_type": "code",
     "collapsed": false,
     "input": [
      "print lcs"
     ],
     "language": "python",
     "metadata": {},
     "outputs": []
    },
    {
     "cell_type": "code",
     "collapsed": false,
     "input": [
      "time, flux, dflux = lcs[24265735].T"
     ],
     "language": "python",
     "metadata": {},
     "outputs": []
    },
    {
     "cell_type": "markdown",
     "metadata": {},
     "source": [
      "Plot the raw lightcurve"
     ]
    },
    {
     "cell_type": "code",
     "collapsed": false,
     "input": [
      "plt.errorbar(time, flux, yerr=dflux, fmt=\"ro\")\n",
      "plt.gca().invert_yaxis()\n",
      "plt.xlabel(\"Mean Julian Day\")\n",
      "plt.ylabel(\"Mag\")\n",
      "plt.show()"
     ],
     "language": "python",
     "metadata": {},
     "outputs": []
    },
    {
     "cell_type": "markdown",
     "metadata": {},
     "source": [
      "In this case, we know its a periodic variable star.  The whole issue of *if* an object is periodic is the subject of a whole other lecture.  In this case, we take it as fact, and attempt to find the optimal period by using a Lomb Scargle analysis (itself the subject of another lecture entirely).\n",
      "\n",
      "The periodogram is essentially a normalized inverse $\\chi^2$, so that the maximum of the periodogram corresponds to the best-fit Fourier series."
     ]
    },
    {
     "cell_type": "code",
     "collapsed": false,
     "input": [
      "from astroML.time_series import lomb_scargle\n",
      "periods = np.logspace(-1, 0, 10000, base=10)\n",
      "periodogram = lomb_scargle(time, flux, dflux, omega=2 * np.pi / periods, generalized=True)"
     ],
     "language": "python",
     "metadata": {},
     "outputs": []
    },
    {
     "cell_type": "code",
     "collapsed": false,
     "input": [
      "plt.plot(periods, periodogram)\n",
      "plt.semilogx()\n",
      "plt.xlabel(\"Period (days)\")\n",
      "plt.ylabel(\"Power\")\n",
      "plt.show()"
     ],
     "language": "python",
     "metadata": {},
     "outputs": []
    },
    {
     "cell_type": "markdown",
     "metadata": {},
     "source": [
      "Find the peak of this periodogram using ``argmax``"
     ]
    },
    {
     "cell_type": "code",
     "collapsed": false,
     "input": [
      "idx = np.argmax(periodogram)\n",
      "\n",
      "print periods[idx], periodogram[idx]"
     ],
     "language": "python",
     "metadata": {},
     "outputs": []
    },
    {
     "cell_type": "markdown",
     "metadata": {},
     "source": [
      "Now \"fold\" the lightcurve at this best period.  By \"folding\" I mean find the phase at which the star is in its oscillation (phase is defined here as running from 0 to 1), for every data point.  This is the MJD / period (e.g. 81761.7165) minus the integer portion of this value MJD // period (e.g. 81761) = 0.7165."
     ]
    },
    {
     "cell_type": "code",
     "collapsed": false,
     "input": [
      "period = periods[idx]\n",
      "phase = time / period - time // period \n",
      "print min(phase), max(phase)"
     ],
     "language": "python",
     "metadata": {},
     "outputs": []
    },
    {
     "cell_type": "code",
     "collapsed": false,
     "input": [
      "plt.errorbar(phase, flux, yerr=dflux, fmt=\"ro\")\n",
      "plt.gca().invert_yaxis()\n",
      "plt.xlabel(\"Phase\")\n",
      "plt.ylabel(\"Mag\")\n",
      "plt.show()"
     ],
     "language": "python",
     "metadata": {},
     "outputs": []
    },
    {
     "cell_type": "markdown",
     "metadata": {},
     "source": [
      "Now we need to get serious.  We want a function we can call to return $\\chi^2$ for a model fit.  It makes a lot of sense to have this be a method on a class.  Then the class can contain the data it is fitting as member variables (e.g. self.flux).  We also want an evaluate() method that returns the lightcurve for a given set of phases, so that we can plot it.  Design a very basic class to do this.  The lightcurve model that this class will fit to the data is of the form:"
     ]
    },
    {
     "cell_type": "markdown",
     "metadata": {},
     "source": [
      "$$\n",
      "Model = A_0 + A_1 * \\cos(2 \\pi\\cdot phase + \\phi_1) + A_2 * \\cos(2 \\pi\\cdot phase + \\phi_2) + \\cdots + A_N * \\cos(2 \\pi N \\cdot phase + \\phi_N)\n",
      "$$\n",
      "\n",
      "with model parameters [ A$_0$ A$_1$ $\\phi_1$ A$_2$ $\\phi_2$ ... A$_N$ $\\phi_N$ ]\n",
      "\n",
      "Let's create a class that implements this model:"
     ]
    },
    {
     "cell_type": "code",
     "collapsed": false,
     "input": [
      "class Fourier(object):\n",
      "    def __init__(self, phase, flux, dflux, nterms):\n",
      "        self.phase = phase\n",
      "        self.flux = flux\n",
      "        self.dflux = dflux\n",
      "        self.nterms = nterms\n",
      "        assert(self.nterms > 0)\n",
      "        \n",
      "    def evaluate(self, phase, terms):\n",
      "        assert(len(terms) == 2 * self.nterms - 1)\n",
      "        model = terms[0] * np.ones(len(phase))\n",
      "        for i in range(self.nterms-1):\n",
      "            model += terms[2*i + 1] * np.cos(2 * np.pi * (i+1) * phase + terms[2*i + 2])\n",
      "        return model\n",
      "    \n",
      "    def chi2(self, args):\n",
      "        model = self.evaluate(self.phase, args)\n",
      "        chi   = (model - self.flux) / self.dflux\n",
      "        return np.sum(chi**2)"
     ],
     "language": "python",
     "metadata": {},
     "outputs": []
    },
    {
     "cell_type": "raw",
     "metadata": {},
     "source": [
      "Create a (very basic) instance of this class, and plot it up over a range of phases using its evaluate() method."
     ]
    },
    {
     "cell_type": "code",
     "collapsed": false,
     "input": [
      "fourier = Fourier(phase, flux, dflux, 1)\n",
      "mphase = np.arange(0, 1, 0.01)\n",
      "model = fourier.evaluate(mphase, [10])"
     ],
     "language": "python",
     "metadata": {},
     "outputs": []
    },
    {
     "cell_type": "code",
     "collapsed": false,
     "input": [
      "plt.plot(mphase, model, \"k-\")\n",
      "plt.gca().invert_yaxis()\n",
      "plt.xlabel(\"Phase\")\n",
      "plt.ylabel(\"Model mag\")\n",
      "plt.show()"
     ],
     "language": "python",
     "metadata": {},
     "outputs": []
    },
    {
     "cell_type": "markdown",
     "metadata": {},
     "source": [
      "Now for a more interesting model, with some actual values:"
     ]
    },
    {
     "cell_type": "code",
     "collapsed": false,
     "input": [
      "fourier = Fourier(phase, flux, dflux, 2)\n",
      "mphase = np.arange(0, 1, 0.01)\n",
      "model = fourier.evaluate(mphase, [10, 0.1, 0.0])"
     ],
     "language": "python",
     "metadata": {},
     "outputs": []
    },
    {
     "cell_type": "code",
     "collapsed": false,
     "input": [
      "plt.plot(mphase, model, \"k-\")\n",
      "plt.gca().invert_yaxis()\n",
      "plt.xlabel(\"Phase\")\n",
      "plt.ylabel(\"Model mag\")\n",
      "plt.show()"
     ],
     "language": "python",
     "metadata": {},
     "outputs": []
    },
    {
     "cell_type": "markdown",
     "metadata": {},
     "source": [
      "Let's check what this looks like if we change the phase:"
     ]
    },
    {
     "cell_type": "code",
     "collapsed": false,
     "input": [
      "fourier = Fourier(phase, flux, dflux, 2)\n",
      "mphase = np.arange(0, 1, 0.01)\n",
      "model = fourier.evaluate(mphase, [10, 0.1, np.pi])\n",
      "\n",
      "plt.plot(mphase, model, \"k-\")\n",
      "plt.gca().invert_yaxis()\n",
      "plt.xlabel(\"Phase\")\n",
      "plt.ylabel(\"Model mag\")\n",
      "plt.show()"
     ],
     "language": "python",
     "metadata": {},
     "outputs": []
    },
    {
     "cell_type": "markdown",
     "metadata": {},
     "source": [
      "Since we have a complicated model, let's use ``optimize.fmin``, as we did above.\n",
      "We'll fit a 2 term model to the data (1 constant term, and 1 term with an amplitude and phase offset)"
     ]
    },
    {
     "cell_type": "code",
     "collapsed": false,
     "input": [
      "fourier = Fourier(phase, flux, dflux, 2)\n",
      "guess   = [] # this needs to be the number of paramters you want to fit for, here the mean brightness, the amplitude, and minimum\n",
      "guess.append(np.mean(fourier.flux))\n",
      "guess.append(np.std(fourier.flux))"
     ],
     "language": "python",
     "metadata": {},
     "outputs": []
    },
    {
     "cell_type": "markdown",
     "metadata": {},
     "source": [
      "We'll initialize the phase with the phase of the minimum flux"
     ]
    },
    {
     "cell_type": "code",
     "collapsed": false,
     "input": [
      "print(np.argmax(fourier.flux))"
     ],
     "language": "python",
     "metadata": {},
     "outputs": []
    },
    {
     "cell_type": "code",
     "collapsed": false,
     "input": [
      "print(fourier.flux[np.argmax(fourier.flux)])"
     ],
     "language": "python",
     "metadata": {},
     "outputs": []
    },
    {
     "cell_type": "code",
     "collapsed": false,
     "input": [
      "print(fourier.phase[np.argmax(fourier.flux)])"
     ],
     "language": "python",
     "metadata": {},
     "outputs": []
    },
    {
     "cell_type": "code",
     "collapsed": false,
     "input": [
      "guess.append(2 * np.pi * (1 - fourier.phase[np.argmax(fourier.flux)]))"
     ],
     "language": "python",
     "metadata": {},
     "outputs": []
    },
    {
     "cell_type": "markdown",
     "metadata": {},
     "source": [
      "Finally, we have our initial guess:"
     ]
    },
    {
     "cell_type": "code",
     "collapsed": false,
     "input": [
      "print(guess)\n",
      "#mean brightness,amplitude and minimum"
     ],
     "language": "python",
     "metadata": {},
     "outputs": []
    },
    {
     "cell_type": "markdown",
     "metadata": {},
     "source": [
      "Make it so!"
     ]
    },
    {
     "cell_type": "code",
     "collapsed": false,
     "input": [
      "optimize.fmin(fourier.chi2, x0=[guess], disp=0, full_output=1)"
     ],
     "language": "python",
     "metadata": {},
     "outputs": []
    },
    {
     "cell_type": "markdown",
     "metadata": {},
     "source": [
      "Capture the output and look at the \"best fit\" parameters.  I.e. those that minimized the return value of fourier.chi2."
     ]
    },
    {
     "cell_type": "code",
     "collapsed": false,
     "input": [
      "result = optimize.fmin(fourier.chi2, x0=[guess], disp=0, full_output=1)\n",
      "best_fit = result[0]\n",
      "print(best_fit)"
     ],
     "language": "python",
     "metadata": {},
     "outputs": []
    },
    {
     "cell_type": "markdown",
     "metadata": {},
     "source": [
      "Plot the model up, compared to the data and the initial guess"
     ]
    },
    {
     "cell_type": "code",
     "collapsed": false,
     "input": [
      "plt.errorbar(fourier.phase, fourier.flux, yerr=fourier.dflux, fmt=\"ro\")\n",
      "plt.plot(mphase, fourier.evaluate(mphase, guess), \"b--\", label=\"Initial guess\")\n",
      "plt.plot(mphase, fourier.evaluate(mphase, best_fit), \"g-\", label=\"Best fit\")\n",
      "plt.gca().invert_yaxis()\n",
      "plt.xlabel(\"Phase\")\n",
      "plt.ylabel(\"Mag\")\n",
      "plt.legend()\n",
      "plt.show()"
     ],
     "language": "python",
     "metadata": {},
     "outputs": []
    },
    {
     "cell_type": "markdown",
     "metadata": {},
     "source": [
      "Looks \"eh\".  What is the goodness of fit of the model?  The reduced chi2 (i.e. chi2 per degree of freedom) gives an absolute \"goodness of fit\" to your model: you expect this to be a value near 1.0:"
     ]
    },
    {
     "cell_type": "markdown",
     "metadata": {},
     "source": [
      "$$\n",
      "\\chi^2_\\nu = \\frac{\\chi2}{Npts - Nterms - 1}\n",
      "$$"
     ]
    },
    {
     "cell_type": "code",
     "collapsed": false,
     "input": [
      "chi2_1 = result[1]\n",
      "chi2_2 = fourier.chi2(best_fit)\n",
      "#printing CHI2 of the guess and the fit followed by the reduced chi2\n",
      "print chi2_1, chi2_2, chi2_1 / (len(flux) - len(best_fit) - 1)"
     ],
     "language": "python",
     "metadata": {},
     "outputs": []
    },
    {
     "cell_type": "raw",
     "metadata": {},
     "source": [
      "This is where we start to go down the rabbit hole.  Start to add more terms..."
     ]
    },
    {
     "cell_type": "code",
     "collapsed": false,
     "input": [
      "fourier2 = Fourier(phase, flux, dflux, 3)\n",
      "guess2   = [] # this needs to be the number of paramters you want to fit for, now 2*3-1 = 5\n",
      "guess2.append(np.mean(fourier2.flux))\n",
      "guess2.append(np.std(fourier2.flux))\n",
      "guess2.append(2 * np.pi * (1 - fourier2.phase[np.argsort(fourier2.flux)[-1]]))\n",
      "guess2.append(0.0)\n",
      "guess2.append(2 * np.pi * (1 - fourier2.phase[np.argsort(fourier2.flux)[-1]]))\n",
      "result2 = optimize.fmin_bfgs(fourier2.chi2, x0=[guess2], disp=0, full_output=1)\n",
      "best_fit2 = result2[0]\n",
      "print best_fit2"
     ],
     "language": "python",
     "metadata": {},
     "outputs": []
    },
    {
     "cell_type": "code",
     "collapsed": false,
     "input": [
      "plt.errorbar(fourier2.phase, fourier2.flux, yerr=fourier2.dflux, fmt=\"ro\")\n",
      "plt.plot(mphase, fourier2.evaluate(mphase, guess2), \"b--\", label=\"Initial guess\")\n",
      "plt.plot(mphase, fourier2.evaluate(mphase, best_fit2), \"g-\", label=\"Best fit\")\n",
      "plt.gca().invert_yaxis()\n",
      "plt.xlabel(\"Phase\")\n",
      "plt.ylabel(\"Mag\")\n",
      "plt.show()"
     ],
     "language": "python",
     "metadata": {},
     "outputs": []
    },
    {
     "cell_type": "markdown",
     "metadata": {},
     "source": [
      "More cowbell!"
     ]
    },
    {
     "cell_type": "code",
     "collapsed": false,
     "input": [
      "fourier5 = Fourier(phase, flux, dflux, 5)\n",
      "guess5   = [] # this needs to be the number of paramters you want to fit for, now 9\n",
      "guess5.append(np.mean(fourier5.flux))\n",
      "guess5.append(np.std(fourier5.flux))\n",
      "guess5.append(2 * np.pi * (1 - fourier5.phase[np.argsort(fourier5.flux)[-1]]))\n",
      "for i in range(2, 5):\n",
      "    guess5.append(0.0)\n",
      "    guess5.append(2 * np.pi * (1 - fourier5.phase[np.argsort(fourier5.flux)[-1]]))\n",
      "result5 = optimize.fmin_bfgs(fourier5.chi2, x0=[guess5], disp=0, full_output=1)\n",
      "best_fit5 = result5[0]\n",
      "print best_fit5"
     ],
     "language": "python",
     "metadata": {},
     "outputs": []
    },
    {
     "cell_type": "code",
     "collapsed": false,
     "input": [
      "plt.errorbar(fourier5.phase, fourier5.flux, yerr=fourier5.dflux, fmt=\"ro\")\n",
      "plt.plot(mphase, fourier5.evaluate(mphase, guess5), \"b--\", label=\"Initial guess\")\n",
      "plt.plot(mphase, fourier5.evaluate(mphase, best_fit5), \"g-\", label=\"Best fit\")\n",
      "plt.gca().invert_yaxis()\n",
      "plt.xlabel(\"Phase\")\n",
      "plt.ylabel(\"Mag\")\n",
      "plt.show()"
     ],
     "language": "python",
     "metadata": {},
     "outputs": []
    },
    {
     "cell_type": "markdown",
     "metadata": {},
     "source": [
      "Am getting tired of initializing \"guess\" all the time.  We can make a method on the class that does this for us!  Lets inherit from the main Fourier class, so that we only have to implement that method.  Part of the point of this is to demonstrate class inheritance."
     ]
    },
    {
     "cell_type": "code",
     "collapsed": false,
     "input": [
      "class Fourier2(Fourier):\n",
      "    def __init__(self, phase, flux, dflux, nterms):\n",
      "        Fourier.__init__(self, phase, flux, dflux, nterms)\n",
      "                \n",
      "    def makeGuess(self):\n",
      "        guess = []\n",
      "        guess.append(np.mean(self.flux))\n",
      "        if self.nterms > 1:\n",
      "            guess.append(np.std(self.flux))\n",
      "            guess.append(2 * np.pi * (1 - self.phase[np.argsort(self.flux)[-1]]))\n",
      "            for i in range(2, self.nterms):\n",
      "                guess.append(0.0)\n",
      "                guess.append(2 * np.pi * (1 - self.phase[np.argsort(self.flux)[-1]]))\n",
      "        return guess"
     ],
     "language": "python",
     "metadata": {},
     "outputs": []
    },
    {
     "cell_type": "markdown",
     "metadata": {},
     "source": [
      "Now that everything is pipelined, lets run this for a range of models, and plot how chi2 improves as you increase the model parameters.  Note that it will *always* decrease as you add terms!!!!  Up to a limit: the end point of this process is when you have 1 parameter for every data point, in which case your chi2 should be 0.0."
     ]
    },
    {
     "cell_type": "code",
     "collapsed": false,
     "input": [
      "nterms = np.arange(1, 10)\n",
      "chi2   = []\n",
      "for nterm in nterms:\n",
      "    fourier = Fourier2(phase, flux, dflux, nterm)\n",
      "    guess = fourier.makeGuess()\n",
      "    print(guess)\n",
      "    chi2.append(optimize.fmin_bfgs(fourier.chi2, x0=[guess], disp=0, full_output=1)[1])\n",
      "chi2 = np.array(chi2)\n",
      "plt.plot(nterms, chi2)\n",
      "plt.xlabel(\"N Terms\")\n",
      "plt.ylabel(\"Chi2\")\n",
      "plt.show()\n",
      "    "
     ],
     "language": "python",
     "metadata": {},
     "outputs": []
    },
    {
     "cell_type": "markdown",
     "metadata": {},
     "source": [
      "And what is delta chi2?  Note it converges to zero, i.e. you are getting less and less improvement with the addition of every new term.  Now we have to start being careful."
     ]
    },
    {
     "cell_type": "code",
     "collapsed": false,
     "input": [
      "delta_chi2 = chi2[:-1] - chi2[1:]\n",
      "plt.plot(nterms[1:], delta_chi2)\n",
      "plt.xlabel(\"N terms\")\n",
      "plt.ylabel(\"Delta chi2\")\n",
      "plt.show()\n",
      "# You will need to figure out the significance of all these delta_chi2 as part of your homework!\n"
     ],
     "language": "python",
     "metadata": {},
     "outputs": []
    },
    {
     "cell_type": "markdown",
     "metadata": {},
     "source": [
      "Lets start to look at the penalties imposed by BIC/AIC."
     ]
    },
    {
     "cell_type": "code",
     "collapsed": false,
     "input": [
      "#notes on BIC and AIC\n",
      "# The BIC and AIC introduce penalties for each fitting term used.\n",
      "#BIC: The model with the lower BIC is preferred. Assume parent distribution is exponential.\n",
      "#From wikipedia:\n",
      "#Given any two estimated models, the model with the lower value of BIC is the one to be preferred. \n",
      "#The BIC is an increasing function of \\sigma_e^2 and an increasing function of k. That is, unexplained \n",
      "#variation in the dependent variable and the number of explanatory variables increase the value of BIC.\n",
      "#Hence, lower BIC implies either fewer explanatory variables, better fit, or both. \n",
      "#\n",
      "#AIC: Given a set of candidate models for the data, the preferred model is the one with the minimum AIC value.\n",
      "#\n",
      "nterms     = np.arange(1, 10)\n",
      "chi2       = []\n",
      "BICpenalty = []\n",
      "AICpenalty = []\n",
      "for nterm in nterms:\n",
      "    fourier = Fourier2(phase, flux, dflux, nterm)\n",
      "    guess   = fourier.makeGuess()\n",
      "    BICpenalty.append(len(guess) * np.log(len(fourier.phase)))\n",
      "    AICpenalty.append(len(guess) * 2.0)\n",
      "    chi2.append(optimize.fmin_bfgs(fourier.chi2, x0=[guess], disp=0, full_output=1)[1])\n",
      "chi2 = np.array(chi2)\n",
      "BICpenalty = np.array(BICpenalty)\n",
      "AICpenalty = np.array(AICpenalty)"
     ],
     "language": "python",
     "metadata": {},
     "outputs": []
    },
    {
     "cell_type": "code",
     "collapsed": false,
     "input": [
      "print chi2\n",
      "print BICpenalty\n",
      "print AICpenalty"
     ],
     "language": "python",
     "metadata": {},
     "outputs": []
    },
    {
     "cell_type": "code",
     "collapsed": false,
     "input": [
      "plt.plot(nterms, chi2, label=\"chi2\")\n",
      "plt.plot(nterms, chi2 + BICpenalty, label=\"BIC\")\n",
      "plt.plot(nterms, chi2 + AICpenalty, label=\"AIC\")\n",
      "plt.xlabel(\"N Terms\")\n",
      "plt.ylabel(\"Chi2\")\n",
      "plt.semilogy()\n",
      "plt.legend()\n",
      "plt.show()"
     ],
     "language": "python",
     "metadata": {},
     "outputs": [],
     "prompt_number": 787
    },
    {
     "cell_type": "markdown",
     "metadata": {},
     "source": [
      "Can kinda see that BIC/AIC are telling you to stop.  Lets make it more apparent."
     ]
    },
    {
     "cell_type": "code",
     "collapsed": false,
     "input": [
      "nterms     = np.arange(1, 30, 1 )\n",
      "chi2       = []\n",
      "BICpenalty = []\n",
      "AICpenalty = []\n",
      "for nterm in nterms:\n",
      "    fourier = Fourier2(phase, flux, dflux, nterm)\n",
      "    guess   = fourier.makeGuess()\n",
      "    BICpenalty.append(len(guess) * np.log(len(fourier.phase)))\n",
      "    AICpenalty.append(len(guess) * 2.0)\n",
      "    chi2.append(optimize.fmin_bfgs(fourier.chi2, x0=[guess], disp=0, full_output=1)[1])\n",
      "chi2 = np.array(chi2)\n",
      "BICpenalty = np.array(BICpenalty)\n",
      "AICpenalty = np.array(AICpenalty)"
     ],
     "language": "python",
     "metadata": {},
     "outputs": [],
     "prompt_number": 788
    },
    {
     "cell_type": "code",
     "collapsed": false,
     "input": [
      "plt.plot(nterms, chi2, label=\"chi2\")\n",
      "plt.plot(nterms, chi2 + BICpenalty, label=\"BIC\")\n",
      "plt.plot(nterms, chi2 + AICpenalty, label=\"AIC\")\n",
      "plt.xlabel(\"N Terms\")\n",
      "plt.ylabel(\"Chi2\")\n",
      "plt.semilogy()\n",
      "plt.legend()\n",
      "plt.xlim(1,20)\n",
      "plt.show()"
     ],
     "language": "python",
     "metadata": {},
     "outputs": [
      {
       "metadata": {},
       "output_type": "display_data",
       "png": "[encoded data removed]",
       "text": [
        "<matplotlib.figure.Figure at 0x107f4e750>"
       ]
      }
     ],
     "prompt_number": 789
    },
    {
     "cell_type": "markdown",
     "metadata": {},
     "source": [
      "Which of the fits have the minimum BIC/AIC?"
     ]
    },
    {
     "cell_type": "code",
     "collapsed": false,
     "input": [
      "print np.argmin(chi2+BICpenalty), np.argmin(chi2+AICpenalty)"
     ],
     "language": "python",
     "metadata": {},
     "outputs": [
      {
       "output_type": "stream",
       "stream": "stdout",
       "text": [
        "2 3\n"
       ]
      }
     ],
     "prompt_number": 790
    },
    {
     "cell_type": "markdown",
     "metadata": {},
     "source": [
      "And what order model do they suggest?"
     ]
    },
    {
     "cell_type": "code",
     "collapsed": false,
     "input": [
      "print nterms[2], nterms[3]"
     ],
     "language": "python",
     "metadata": {},
     "outputs": [
      {
       "output_type": "stream",
       "stream": "stdout",
       "text": [
        "3 4\n"
       ]
      }
     ],
     "prompt_number": 791
    },
    {
     "cell_type": "code",
     "collapsed": false,
     "input": [
      "dchi2 = chi2[:-1]-chi2[1:]\n",
      "dBIC = dchi2 + BICpenalty[:-1]- BICpenalty[1:]\n",
      "dAIC = dchi2 + AICpenalty[:-1] - AICpenalty[1:]"
     ],
     "language": "python",
     "metadata": {},
     "outputs": [],
     "prompt_number": 792
    },
    {
     "cell_type": "code",
     "collapsed": false,
     "input": [
      "plt.plot(nterms[1:], dchi2, label='dchi2')\n",
      "plt.plot(nterms[1:], dBIC, label='dBIC)')\n",
      "plt.plot(nterms[1:], dAIC, label='dAIC)')\n",
      "plt.xlabel('N')\n",
      "plt.ylabel('dchi2')\n",
      "plt.legend()\n",
      "plt.xlim(1,20)\n",
      "plt.show()\n",
      "\n"
     ],
     "language": "python",
     "metadata": {},
     "outputs": [
      {
       "metadata": {},
       "output_type": "display_data",
       "png": "[encoded data removed]",
       "text": [
        "<matplotlib.figure.Figure at 0x1097fa5d0>"
       ]
      }
     ],
     "prompt_number": 793
    },
    {
     "cell_type": "raw",
     "metadata": {},
     "source": [
      "The BIC test shows strong evidence against any models with order greater than 3\n",
      " The AIC test term is minimized at N = 4. This makes sense because the AIC test \n",
      "does not penalize as harshly for the number of fit parameters. "
     ]
    },
    {
     "cell_type": "code",
     "collapsed": false,
     "input": [
      "from scipy.special import gammainc\n",
      "#chisquared is a special case of the gamma function\n",
      "sigchi2 = gammainc(nterms[1:]/2.0, dchi2/2.0)\n",
      "sigBIC = gammainc(nterms[1:]/2.0, dBIC/2.0)\n",
      "sigAIC = gammainc(nterms[1:]/2.0, dAIC/2.0)\n",
      "\n",
      "plt.plot(nterms[1:], sigchi2*100, label='dchi^2')\n",
      "plt.plot(nterms[1:], sigBIC*100, label='dBIC)')\n",
      "plt.plot(nterms[1:], sigAIC*100, label='dAIC)')\n",
      "plt.xlabel('N')\n",
      "plt.ylabel('Significance (%)')\n",
      "plt.xlim(2,7)\n",
      "plt.legend()\n",
      "plt.show()"
     ],
     "language": "python",
     "metadata": {},
     "outputs": [
      {
       "metadata": {},
       "output_type": "display_data",
       "png": "[encoded data removed]",
       "text": [
        "<matplotlib.figure.Figure at 0x10b4fed90>"
       ]
      }
     ],
     "prompt_number": 794
    },
    {
     "cell_type": "raw",
     "metadata": {},
     "source": [
      "The significance level drops dramatically between N = 3 and N = 4 for the AIC test. For the BIC test the best fit is the one with the lowest BIC. Delta BIC will be negative for the values after the minimum BIC which are undefined for the gamma function. The statistical significance is highest at N = 3 for dchi2."
     ]
    }
   ],
   "metadata": {}
  }
 ]
}