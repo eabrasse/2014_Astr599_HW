{
 "metadata": {
  "name": ""
 },
 "nbformat": 3,
 "nbformat_minor": 0,
 "worksheets": [
  {
   "cells": [
    {
     "cell_type": "code",
     "collapsed": false,
     "input": [],
     "language": "python",
     "metadata": {},
     "outputs": [],
     "prompt_number": 79
    },
    {
     "cell_type": "code",
     "collapsed": false,
     "input": [
      "%matplotlib inline\n",
      "import matplotlib.pyplot as plt\n",
      "import numpy as np\n",
      "\n",
      "\n",
      "def func (x) :\n",
      "    return np.sin(x)\n",
      "\n",
      "class Integrator:\n",
      "    def __init__(self, a, b, n):\n",
      "        self.a, self.b, self.n = a, b, n\n",
      "        self.points, self.weights = self.method()\n",
      "        \n",
      "    def method(self):\n",
      "        raise NotImplementedError('no rule in class %s' %self.__class__.__name__)\n",
      "        \n",
      "    def integrate(self,func) :\n",
      "        x=self.points\n",
      "        w=self.weights\n",
      "        return np.sum(w*func(x))\n",
      "\n",
      "class Trapezoid(Integrator):\n",
      "    def method(self) : \n",
      "        a=self.a\n",
      "        b=self.b\n",
      "        n=self.n\n",
      "        x=np.linspace(a,b,n,endpoint=True)\n",
      "        w=np.ones(len(x))*(b-a)/n \n",
      "        w[0]= 0.5 * (b-a)/n \n",
      "        w[-1]= 0.5 * (b-a)/n \n",
      "        return x,w\n",
      "\n",
      "\n",
      "class Midpoint(Integrator):\n",
      "    def method(self) : \n",
      "        a=self.a\n",
      "        b=self.b\n",
      "        n=self.n\n",
      "        mid=float(b-a)/n *0.5 +a #calculates first midpoint\n",
      "        x=np.linspace(mid,b,n,endpoint=True)\n",
      "        w=np.ones(len(x))*(b-a)/n\n",
      "        return x,w\n",
      "\n",
      "def integralPlot(a,bmax,n):\n",
      "        b=np.linspace(a,bmax,n,endpoint=True)\n",
      "        integral= np.ones(n,dtype=float)\n",
      "        for i in range(n):\n",
      "            traprule=Trapezoid(a,b[i],n)\n",
      "            np.put(integral,i,traprule.integrate(func))\n",
      "        plt.plot(b,integral)\n",
      "\n",
      "integralPlot(-6,10,1000)\n",
      "traprule=Trapezoid(0,1,1000)\n",
      "print \"Trapezoid Rule = \"+ str( traprule.integrate(func))\n",
      "    \n",
      "\n",
      "midrule=Midpoint(0,1,1000)\n",
      "print \"Midpoint Rule = \"+ str( midrule.integrate(func))"
     ],
     "language": "python",
     "metadata": {},
     "outputs": [
      {
       "output_type": "stream",
       "stream": "stdout",
       "text": [
        "Trapezoid Rule = 0.459237958091\n",
        "Midpoint Rule = 0.459888552531\n"
       ]
      },
      {
       "metadata": {},
       "output_type": "display_data",
       "png": "[encoded data removed]",
       "text": [
        "<matplotlib.figure.Figure at 0x105f8ff50>"
       ]
      }
     ],
     "prompt_number": 213
    },
    {
     "cell_type": "code",
     "collapsed": false,
     "input": [],
     "language": "python",
     "metadata": {},
     "outputs": []
    }
   ],
   "metadata": {}
  }
 ]
}