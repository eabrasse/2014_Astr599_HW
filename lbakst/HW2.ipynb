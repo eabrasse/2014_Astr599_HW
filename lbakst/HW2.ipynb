{
 "metadata": {
  "name": "",
  "signature": "sha256:20282c42bacce0d5f06c8f4deefe91cd1cba6fb50f5da724989b0c111e65c308"
 },
 "nbformat": 3,
 "nbformat_minor": 0,
 "worksheets": [
  {
   "cells": [
    {
     "cell_type": "heading",
     "level": 3,
     "metadata": {},
     "source": [
      "Leah Bakst\n",
      "HW2"
     ]
    },
    {
     "cell_type": "code",
     "collapsed": false,
     "input": [
      "import numpy as np"
     ],
     "language": "python",
     "metadata": {},
     "outputs": [],
     "prompt_number": 13
    },
    {
     "cell_type": "code",
     "collapsed": false,
     "input": [
      "#Q1.\n",
      "\n",
      "#sine of x\n",
      "def func(x,unit):\n",
      "    d = [\"deg\",\"degs\",\"degree\",\"degrees\"]\n",
      "    if unit in d:\n",
      "        x = np.radians(x)\n",
      "    result = np.sin(x)\n",
      "    return result"
     ],
     "language": "python",
     "metadata": {},
     "outputs": [],
     "prompt_number": 14
    },
    {
     "cell_type": "code",
     "collapsed": false,
     "input": [
      "#Q2 & 3.\n",
      "\n",
      "class Integrator(object):\n",
      "    def __init__(self, a, b, n):\n",
      "        self.a, self.b, self.n = a, b, n\n",
      "        self.points, self.weights = self.method()\n",
      "        \n",
      "    def method(self):\n",
      "        raise NotImplementedError('no rule in class %s' %self.__class__.__name__)\n",
      "    \n",
      "    def integrate(self,func):\n",
      "        new_pts = func(self.points,\"radians\")\n",
      "        return np.sum(self.weights * new_pts)\n",
      "        "
     ],
     "language": "python",
     "metadata": {},
     "outputs": [],
     "prompt_number": 15
    },
    {
     "cell_type": "code",
     "collapsed": false,
     "input": [
      "#Q4.\n",
      "\n",
      "class Trapezoidal(Integrator):\n",
      "    \n",
      "    # Initialize child class function \n",
      "    def __init__(self,a,b,n):\n",
      "        super(Trapezoidal, self).__init__(a,b,n)\n",
      "        \n",
      "    #Generate points and weights using trapezoidal rule\n",
      "    def method(self):\n",
      "        x = np.linspace(self.a,self.b,self.n) #array of points\n",
      "        wt = (self.b-self.a)/(2*self.n) #multiplier for each weight\n",
      "        #setting up array for weights\n",
      "        wts = 2*np.ones(self.n)\n",
      "        wts[0] = 1\n",
      "        wts[self.n-1] = 1\n",
      "        w = wts*wt\n",
      "        return (x, w)"
     ],
     "language": "python",
     "metadata": {},
     "outputs": [],
     "prompt_number": 16
    },
    {
     "cell_type": "code",
     "collapsed": false,
     "input": [
      "#Q5.\n",
      "\n",
      "class Midpoint(Integrator):\n",
      "    \n",
      "    #Initialize child class function\n",
      "    def __init__(self,*args):\n",
      "        super(Midpoint, self).__init__(*args)\n",
      "    \n",
      "    #Generate points and weights using midpoint rule\n",
      "    def method(self):\n",
      "        pts = np.linspace(self.a,self.b,self.n)\n",
      "        x = []\n",
      "        #take the midpoint between points\n",
      "        for i in range(0,self.n-1):\n",
      "            x.append(np.mean(pts[i:i+1]))\n",
      "        #weights = b-a/n\n",
      "        wt = (self.b-self.a)/self.n\n",
      "        wts = np.ones(self.n-1)\n",
      "        w = wts*wt\n",
      "        return (x,w)"
     ],
     "language": "python",
     "metadata": {},
     "outputs": [],
     "prompt_number": 24
    },
    {
     "cell_type": "code",
     "collapsed": false,
     "input": [
      "#import matplotlib & make figures appear inline\n",
      "%matplotlib inline\n",
      "import matplotlib.pyplot as plt"
     ],
     "language": "python",
     "metadata": {},
     "outputs": [],
     "prompt_number": 19
    },
    {
     "cell_type": "code",
     "collapsed": false,
     "input": [
      "#Q6.\n",
      "def plot_integral(a0,b0,n,method):\n",
      "    #step size = 0.1\n",
      "    pts = np.arange(a0,b0+.01,.1)\n",
      "    n0 = len(pts)\n",
      "    a = 0\n",
      "    y = []\n",
      "    method = method.lower()\n",
      "    for j in pts:\n",
      "        if method in (\"trapezoidal\", \"t\"):\n",
      "            test = Trapezoidal(a,j,n)\n",
      "        elif method in (\"midpoint\", \"m\"):\n",
      "            test = Midpoint(a,j,n)\n",
      "        else:\n",
      "            print \"Pick an integration method (Trapezoidal or Midpoint)\"\n",
      "            break\n",
      "        y.append(test.integrate(func))\n",
      "    plt.plot(pts,y,label=\"Estimation\")\n",
      "    plt.xlabel('x')\n",
      "    plt.ylabel('Integral from 0 to x of sin(x)')\n",
      "    if method in (\"trapezoidal\", \"t\"):\n",
      "        m = \"Trapezoidal\"\n",
      "    elif method in (\"midpoint\", \"m\"):\n",
      "        m = \"Midpoint\"\n",
      "    plt.title('X = %s to %s, using %s rule' % (str(a0),str(b0),m) )\n",
      "    #compare to 1-cos(x)\n",
      "    y2 = 1-np.cos(pts)\n",
      "    p2 = plt.plot(pts,y2,'.r',label=\"1-cos(x)\")\n",
      "    plt.legend(bbox_to_anchor=(1.05, 1), loc=2, borderaxespad=0.)"
     ],
     "language": "python",
     "metadata": {},
     "outputs": [],
     "prompt_number": 40
    },
    {
     "cell_type": "code",
     "collapsed": true,
     "input": [
      "plot_integral(.1,10,50,\"T\")"
     ],
     "language": "python",
     "metadata": {},
     "outputs": [
      {
       "metadata": {},
       "output_type": "display_data",
       "png": "[encoded data removed]",
       "text": [
        "<matplotlib.figure.Figure at 0x1065716d0>"
       ]
      }
     ],
     "prompt_number": 42
    },
    {
     "cell_type": "code",
     "collapsed": false,
     "input": [],
     "language": "python",
     "metadata": {},
     "outputs": []
    }
   ],
   "metadata": {}
  }
 ]
}