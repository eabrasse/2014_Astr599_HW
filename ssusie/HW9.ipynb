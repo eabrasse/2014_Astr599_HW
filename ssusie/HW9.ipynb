{
 "metadata": {
  "name": "",
  "signature": "sha256:c3348e9ac28468a12ce6581f34f3ea1ddbadb35cb24d83fbfb04a3acabd3ccb5"
 },
 "nbformat": 3,
 "nbformat_minor": 0,
 "worksheets": [
  {
   "cells": [
    {
     "cell_type": "code",
     "collapsed": false,
     "input": [
      "from IPython import parallel\n",
      "clients = parallel.Client()\n",
      "clients.block = True\n",
      "dview = clients.direct_view()\n",
      "dview.block = True\n",
      "print(dview)"
     ],
     "language": "python",
     "metadata": {},
     "outputs": [
      {
       "output_type": "stream",
       "stream": "stdout",
       "text": [
        "<DirectView all>\n"
       ]
      }
     ],
     "prompt_number": 1
    },
    {
     "cell_type": "code",
     "collapsed": false,
     "input": [
      "from astroML.datasets import fetch_sdss_specgals\n",
      "import numpy as np\n",
      "data = fetch_sdss_specgals()\n",
      "\n",
      "# put magnitudes in a matrix\n",
      "X = np.vstack([data['modelMag_%s' % f] for f in 'ugriz']).T\n",
      "y = data['z']\n",
      "\n",
      "# down-sample the data for speed\n",
      "X = X[::10]\n",
      "y = y[::10]"
     ],
     "language": "python",
     "metadata": {},
     "outputs": [],
     "prompt_number": 2
    },
    {
     "cell_type": "code",
     "collapsed": false,
     "input": [],
     "language": "python",
     "metadata": {},
     "outputs": [],
     "prompt_number": 2
    },
    {
     "cell_type": "code",
     "collapsed": false,
     "input": [
      "%%px\n",
      "from sklearn.ensemble import RandomForestRegressor\n",
      "from sklearn.cross_validation import cross_val_score, StratifiedKFold\n",
      "import numpy as np\n",
      "\n",
      "def rfreg(p):\n",
      "    # define the model with the given value of C\n",
      "    \n",
      "    n=p.shape[0]\n",
      "    score=np.zeros(n)\n",
      "    for j in range(n):\n",
      "        model = RandomForestRegressor(n_estimators=p[j][0], max_depth=p[j][1])\n",
      "\n",
      "        # compute the scores via cross-validation\n",
      "        scores = cross_val_score(model, X, y,\n",
      "                                 scoring='r2', cv=3)\n",
      "\n",
      "        # print the mean of the cross-validation scores\n",
      "        score[j] = np.mean(scores)\n",
      "\n",
      "#     print(score)\n",
      "    return score"
     ],
     "language": "python",
     "metadata": {},
     "outputs": [],
     "prompt_number": 11
    },
    {
     "cell_type": "code",
     "collapsed": false,
     "input": [],
     "language": "python",
     "metadata": {},
     "outputs": [],
     "prompt_number": 11
    },
    {
     "cell_type": "code",
     "collapsed": false,
     "input": [
      "\n",
      "def parallel_rfreg(dview, param):\n",
      "    dview.push(dict(X=X, y=y))\n",
      "\n",
      "    dview.scatter('param',param)\n",
      "    dview.execute('score=rfreg(param)')\n",
      "    sc=dview.gather('score')\n",
      "    print(sc)\n",
      "    return max(sc), param[np.argmax(sc)][:2]"
     ],
     "language": "python",
     "metadata": {},
     "outputs": [],
     "prompt_number": 12
    },
    {
     "cell_type": "code",
     "collapsed": false,
     "input": [
      "n_est=np.arange(5, 20)\n",
      "max_d=np.arange(3,7)\n",
      "# print(n_est)\n",
      "# print(max_d)\n",
      "l=(n_est.shape[0])*(max_d.shape[0])\n",
      "A, B =np.meshgrid( n_est,max_d ) #product(n_est, max_d)\n",
      "A=A.reshape((l,1))\n",
      "B=B.reshape(l,1)\n",
      "par=np.hstack((A,B))\n",
      "# print(par)\n"
     ],
     "language": "python",
     "metadata": {},
     "outputs": [],
     "prompt_number": 13
    },
    {
     "cell_type": "code",
     "collapsed": false,
     "input": [
      "parallel_rfreg(dview, par)"
     ],
     "language": "python",
     "metadata": {},
     "outputs": [
      {
       "output_type": "stream",
       "stream": "stdout",
       "text": [
        "[ 0.55749162  0.54790741  0.5496783   0.55425076  0.55049554  0.55867021\n",
        "  0.55879339  0.5566711   0.55484121  0.55531297  0.55541328  0.55678404\n",
        "  0.55298453  0.55362349  0.55360736  0.60842086  0.61097011  0.60957826\n",
        "  0.60968513  0.61258784  0.61095741  0.61190731  0.6120664   0.61328572\n",
        "  0.61138103  0.61054132  0.61340413  0.61221167  0.61274336  0.6123158\n",
        "  0.64558174  0.64470475  0.64525427  0.64731051  0.64876586  0.64747646\n",
        "  0.65046863  0.65024479  0.65175491  0.65041099  0.65125434  0.64920342\n",
        "  0.64986454  0.65103488  0.6498065   0.68307043  0.68150057  0.68426899\n",
        "  0.68527333  0.68561842  0.6844601   0.68358091  0.68497929  0.68445803\n",
        "  0.68588734  0.68537931  0.68508503  0.68633917  0.68718047  0.68676356]\n"
       ]
      },
      {
       "metadata": {},
       "output_type": "pyout",
       "prompt_number": 14,
       "text": [
        "(0.68718046838213898, array([18,  6]))"
       ]
      }
     ],
     "prompt_number": 14
    },
    {
     "cell_type": "markdown",
     "metadata": {},
     "source": [
      "The best score for fange n_est from 5 to 20, max_d from 3 to 7 is 0.68718046838213898, for n_estimate=18, max_depth=6."
     ]
    },
    {
     "cell_type": "code",
     "collapsed": false,
     "input": [],
     "language": "python",
     "metadata": {},
     "outputs": []
    }
   ],
   "metadata": {}
  }
 ]
}