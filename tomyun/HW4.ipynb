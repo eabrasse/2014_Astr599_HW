{
 "metadata": {
  "name": "",
  "signature": "sha256:20669e6c3328cca07800d32367cadcb18a71ee83442c7a2665a935cbf321150a"
 },
 "nbformat": 3,
 "nbformat_minor": 0,
 "worksheets": [
  {
   "cells": [
    {
     "cell_type": "heading",
     "level": 1,
     "metadata": {},
     "source": [
      "Homework 4"
     ]
    },
    {
     "cell_type": "markdown",
     "metadata": {},
     "source": [
      "Homework #4, by Kyungdahm Yun"
     ]
    },
    {
     "cell_type": "heading",
     "level": 2,
     "metadata": {},
     "source": [
      "Assignment: Pandas"
     ]
    },
    {
     "cell_type": "heading",
     "level": 3,
     "metadata": {},
     "source": [
      "Initialization"
     ]
    },
    {
     "cell_type": "markdown",
     "metadata": {},
     "source": [
      "Set up pandas environment."
     ]
    },
    {
     "cell_type": "code",
     "collapsed": false,
     "input": [
      "import numpy as np\n",
      "import pandas as pd"
     ],
     "language": "python",
     "metadata": {},
     "outputs": [],
     "prompt_number": 1
    },
    {
     "cell_type": "markdown",
     "metadata": {},
     "source": [
      "From [Global Health Data Exchange](http://ghdx.healthdata.org/record/population-health-metrics-research-consortium-gold-standard-verbal-autopsy-data-2005-2011), load PHMRC VA adult data."
     ]
    },
    {
     "cell_type": "code",
     "collapsed": false,
     "input": [
      "URL_ADULT = 'http://ghdx.healthdata.org/sites/default/files/record-attached-files/IHME_PHMRC_VA_DATA_ADULT_Y2013M09D11_0.csv'\n",
      "df = pd.read_csv(URL_ADULT, low_memory=False)"
     ],
     "language": "python",
     "metadata": {},
     "outputs": [],
     "prompt_number": 2
    },
    {
     "cell_type": "markdown",
     "metadata": {},
     "source": [
      "Also load codebook."
     ]
    },
    {
     "cell_type": "code",
     "collapsed": false,
     "input": [
      "URL_CB = 'http://ghdx.healthdata.org/sites/default/files/record-attached-files/IHME_PHMRC_VA_DATA_CODEBOOK_Y2013M09D11_0.xlsx'\n",
      "cb = pd.read_excel(URL_CB)"
     ],
     "language": "python",
     "metadata": {},
     "outputs": [],
     "prompt_number": 3
    },
    {
     "cell_type": "heading",
     "level": 3,
     "metadata": {},
     "source": [
      "Use the codebook to find the column which corresponds to the question \"Did ___ have a fever?\""
     ]
    },
    {
     "cell_type": "code",
     "collapsed": false,
     "input": [
      "cb.head()"
     ],
     "language": "python",
     "metadata": {},
     "outputs": [
      {
       "html": [
        "<div style=\"max-height:1000px;max-width:1500px;overflow:auto;\">\n",
        "<table border=\"1\" class=\"dataframe\">\n",
        "  <thead>\n",
        "    <tr style=\"text-align: right;\">\n",
        "      <th></th>\n",
        "      <th>variable</th>\n",
        "      <th>question</th>\n",
        "      <th>module</th>\n",
        "      <th>health_care_experience</th>\n",
        "      <th>coding</th>\n",
        "    </tr>\n",
        "  </thead>\n",
        "  <tbody>\n",
        "    <tr>\n",
        "      <th>0</th>\n",
        "      <td>         site</td>\n",
        "      <td>                                Site</td>\n",
        "      <td> General</td>\n",
        "      <td> 0</td>\n",
        "      <td> NaN</td>\n",
        "    </tr>\n",
        "    <tr>\n",
        "      <th>1</th>\n",
        "      <td>        newid</td>\n",
        "      <td>                            Study ID</td>\n",
        "      <td> General</td>\n",
        "      <td> 0</td>\n",
        "      <td> NaN</td>\n",
        "    </tr>\n",
        "    <tr>\n",
        "      <th>2</th>\n",
        "      <td> gs_diagnosis</td>\n",
        "      <td>        Gold Standard Diagnosis Code</td>\n",
        "      <td> General</td>\n",
        "      <td> 0</td>\n",
        "      <td> NaN</td>\n",
        "    </tr>\n",
        "    <tr>\n",
        "      <th>3</th>\n",
        "      <td> gs_comorbid1</td>\n",
        "      <td> Gold Standard Comorbid Conditions 1</td>\n",
        "      <td> General</td>\n",
        "      <td> 0</td>\n",
        "      <td> NaN</td>\n",
        "    </tr>\n",
        "    <tr>\n",
        "      <th>4</th>\n",
        "      <td> gs_comorbid2</td>\n",
        "      <td> Gold Standard Comorbid Conditions 2</td>\n",
        "      <td> General</td>\n",
        "      <td> 0</td>\n",
        "      <td> NaN</td>\n",
        "    </tr>\n",
        "  </tbody>\n",
        "</table>\n",
        "</div>"
       ],
       "metadata": {},
       "output_type": "pyout",
       "prompt_number": 4,
       "text": [
        "       variable                             question   module  \\\n",
        "0          site                                 Site  General   \n",
        "1         newid                             Study ID  General   \n",
        "2  gs_diagnosis         Gold Standard Diagnosis Code  General   \n",
        "3  gs_comorbid1  Gold Standard Comorbid Conditions 1  General   \n",
        "4  gs_comorbid2  Gold Standard Comorbid Conditions 2  General   \n",
        "\n",
        "   health_care_experience coding  \n",
        "0                       0    NaN  \n",
        "1                       0    NaN  \n",
        "2                       0    NaN  \n",
        "3                       0    NaN  \n",
        "4                       0    NaN  "
       ]
      }
     ],
     "prompt_number": 4
    },
    {
     "cell_type": "code",
     "collapsed": false,
     "input": [
      "cb[cb.question.str.contains('fever', case=False)]"
     ],
     "language": "python",
     "metadata": {},
     "outputs": [
      {
       "html": [
        "<div style=\"max-height:1000px;max-width:1500px;overflow:auto;\">\n",
        "<table border=\"1\" class=\"dataframe\">\n",
        "  <thead>\n",
        "    <tr style=\"text-align: right;\">\n",
        "      <th></th>\n",
        "      <th>variable</th>\n",
        "      <th>question</th>\n",
        "      <th>module</th>\n",
        "      <th>health_care_experience</th>\n",
        "      <th>coding</th>\n",
        "    </tr>\n",
        "  </thead>\n",
        "  <tbody>\n",
        "    <tr>\n",
        "      <th>79  </th>\n",
        "      <td>      a2_02</td>\n",
        "      <td>                          Did [name] have a fever?</td>\n",
        "      <td>   Adult</td>\n",
        "      <td> 0</td>\n",
        "      <td> 0 \"No\" 1 \"Yes\" 8 \"Refused to Answer\" 9 \"Don't ...</td>\n",
        "    </tr>\n",
        "    <tr>\n",
        "      <th>80  </th>\n",
        "      <td>     a2_03a</td>\n",
        "      <td> How many days did the fever last? [specify units]</td>\n",
        "      <td>   Adult</td>\n",
        "      <td> 0</td>\n",
        "      <td> 1 \"Years\" 2 \"Months\" 3 \"Weeks\" 4 \"Days\" 5 \"Hou...</td>\n",
        "    </tr>\n",
        "    <tr>\n",
        "      <th>81  </th>\n",
        "      <td>     a2_03b</td>\n",
        "      <td>                 How many days did the fever last?</td>\n",
        "      <td>   Adult</td>\n",
        "      <td> 0</td>\n",
        "      <td>                                               NaN</td>\n",
        "    </tr>\n",
        "    <tr>\n",
        "      <th>82  </th>\n",
        "      <td>      a2_04</td>\n",
        "      <td>                         How severe was the fever?</td>\n",
        "      <td>   Adult</td>\n",
        "      <td> 0</td>\n",
        "      <td> 1 \"Mild\" 2 \"Moderate\" 3 \"Severe\" 8 \"Refused to...</td>\n",
        "    </tr>\n",
        "    <tr>\n",
        "      <th>83  </th>\n",
        "      <td>      a2_05</td>\n",
        "      <td>                    What was the pattern of fever?</td>\n",
        "      <td>   Adult</td>\n",
        "      <td> 0</td>\n",
        "      <td> 1 \"Continuous\" 2 \"On and Off\" 3 \"Only at Night...</td>\n",
        "    </tr>\n",
        "    <tr>\n",
        "      <th>84  </th>\n",
        "      <td>      a2_06</td>\n",
        "      <td>          Did [name] have sweating with the fever?</td>\n",
        "      <td>   Adult</td>\n",
        "      <td> 0</td>\n",
        "      <td> 0 \"No\" 1 \"Yes\" 8 \"Refused to Answer\" 9 \"Don't ...</td>\n",
        "    </tr>\n",
        "    <tr>\n",
        "      <th>437 </th>\n",
        "      <td> word_fever</td>\n",
        "      <td> The open narratives contained the word or stem...</td>\n",
        "      <td>   Adult</td>\n",
        "      <td> 1</td>\n",
        "      <td>                                               NaN</td>\n",
        "    </tr>\n",
        "    <tr>\n",
        "      <th>1015</th>\n",
        "      <td>    c2_01_9</td>\n",
        "      <td>                 Complications: Fever during labor</td>\n",
        "      <td>   Child</td>\n",
        "      <td> 0</td>\n",
        "      <td> 0 \"No\" 1 \"Yes\" 8 \"Refused to Answer\" 9 \"Don't ...</td>\n",
        "    </tr>\n",
        "    <tr>\n",
        "      <th>1078</th>\n",
        "      <td>      c3_26</td>\n",
        "      <td> During the illness that led to death, did the ...</td>\n",
        "      <td>   Child</td>\n",
        "      <td> 0</td>\n",
        "      <td> 0 \"No\" 1 \"Yes\" 8 \"Refused to Answer\" 9 \"Don't ...</td>\n",
        "    </tr>\n",
        "    <tr>\n",
        "      <th>1079</th>\n",
        "      <td>     c3_27a</td>\n",
        "      <td>  At what age did the fever start? [specify units]</td>\n",
        "      <td>   Child</td>\n",
        "      <td> 0</td>\n",
        "      <td> 1 \"Years\" 2 \"Months\" 3 \"Weeks\" 4 \"Days\" 5 \"Hou...</td>\n",
        "    </tr>\n",
        "    <tr>\n",
        "      <th>1080</th>\n",
        "      <td>     c3_27b</td>\n",
        "      <td>                  At what age did the fever start?</td>\n",
        "      <td>   Child</td>\n",
        "      <td> 0</td>\n",
        "      <td>                                               NaN</td>\n",
        "    </tr>\n",
        "    <tr>\n",
        "      <th>1081</th>\n",
        "      <td>     c3_28a</td>\n",
        "      <td> How many days did the fever last? [specify units]</td>\n",
        "      <td>   Child</td>\n",
        "      <td> 0</td>\n",
        "      <td> 1 \"Years\" 2 \"Months\" 3 \"Weeks\" 4 \"Days\" 5 \"Hou...</td>\n",
        "    </tr>\n",
        "    <tr>\n",
        "      <th>1082</th>\n",
        "      <td>     c3_28b</td>\n",
        "      <td>                 How many days did the fever last?</td>\n",
        "      <td>   Child</td>\n",
        "      <td> 0</td>\n",
        "      <td>                                               NaN</td>\n",
        "    </tr>\n",
        "    <tr>\n",
        "      <th>1107</th>\n",
        "      <td>      c4_01</td>\n",
        "      <td> During the illness that led to death, did [nam...</td>\n",
        "      <td>   Child</td>\n",
        "      <td> 0</td>\n",
        "      <td> 0 \"No\" 1 \"Yes\" 8 \"Refused to Answer\" 9 \"Don't ...</td>\n",
        "    </tr>\n",
        "    <tr>\n",
        "      <th>1108</th>\n",
        "      <td>     c4_02a</td>\n",
        "      <td> How many days did the fever last? [specify units]</td>\n",
        "      <td>   Child</td>\n",
        "      <td> 0</td>\n",
        "      <td> 1 \"Years\" 2 \"Months\" 3 \"Weeks\" 4 \"Days\" 5 \"Hou...</td>\n",
        "    </tr>\n",
        "    <tr>\n",
        "      <th>1109</th>\n",
        "      <td>     c4_02b</td>\n",
        "      <td>                 How many days did the fever last?</td>\n",
        "      <td>   Child</td>\n",
        "      <td> 0</td>\n",
        "      <td>                                               NaN</td>\n",
        "    </tr>\n",
        "    <tr>\n",
        "      <th>1110</th>\n",
        "      <td>      c4_03</td>\n",
        "      <td>               Did the fever continue until death?</td>\n",
        "      <td>   Child</td>\n",
        "      <td> 0</td>\n",
        "      <td> 0 \"No\" 1 \"Yes\" 8 \"Refused to Answer\" 9 \"Don't ...</td>\n",
        "    </tr>\n",
        "    <tr>\n",
        "      <th>1111</th>\n",
        "      <td>      c4_04</td>\n",
        "      <td>                         How severe was the fever?</td>\n",
        "      <td>   Child</td>\n",
        "      <td> 0</td>\n",
        "      <td> 1 \"Mild\" 2 \"Moderate\" 3 \"Severe\" 8 \"Refused to...</td>\n",
        "    </tr>\n",
        "    <tr>\n",
        "      <th>1112</th>\n",
        "      <td>      c4_05</td>\n",
        "      <td>                    What was the pattern of fever?</td>\n",
        "      <td>   Child</td>\n",
        "      <td> 0</td>\n",
        "      <td> 1 \"Continuous\" 2 \"On and Off\" 3 \"Only at Night...</td>\n",
        "    </tr>\n",
        "    <tr>\n",
        "      <th>1423</th>\n",
        "      <td> word_fever</td>\n",
        "      <td> The open narratives contained the word or stem...</td>\n",
        "      <td>   Child</td>\n",
        "      <td> 1</td>\n",
        "      <td>                                               NaN</td>\n",
        "    </tr>\n",
        "    <tr>\n",
        "      <th>1526</th>\n",
        "      <td> word_fever</td>\n",
        "      <td> The open narratives contained the word or stem...</td>\n",
        "      <td> Neonate</td>\n",
        "      <td> 1</td>\n",
        "      <td>                                               NaN</td>\n",
        "    </tr>\n",
        "  </tbody>\n",
        "</table>\n",
        "</div>"
       ],
       "metadata": {},
       "output_type": "pyout",
       "prompt_number": 5,
       "text": [
        "        variable                                           question   module  \\\n",
        "79         a2_02                           Did [name] have a fever?    Adult   \n",
        "80        a2_03a  How many days did the fever last? [specify units]    Adult   \n",
        "81        a2_03b                  How many days did the fever last?    Adult   \n",
        "82         a2_04                          How severe was the fever?    Adult   \n",
        "83         a2_05                     What was the pattern of fever?    Adult   \n",
        "84         a2_06           Did [name] have sweating with the fever?    Adult   \n",
        "437   word_fever  The open narratives contained the word or stem...    Adult   \n",
        "1015     c2_01_9                  Complications: Fever during labor    Child   \n",
        "1078       c3_26  During the illness that led to death, did the ...    Child   \n",
        "1079      c3_27a   At what age did the fever start? [specify units]    Child   \n",
        "1080      c3_27b                   At what age did the fever start?    Child   \n",
        "1081      c3_28a  How many days did the fever last? [specify units]    Child   \n",
        "1082      c3_28b                  How many days did the fever last?    Child   \n",
        "1107       c4_01  During the illness that led to death, did [nam...    Child   \n",
        "1108      c4_02a  How many days did the fever last? [specify units]    Child   \n",
        "1109      c4_02b                  How many days did the fever last?    Child   \n",
        "1110       c4_03                Did the fever continue until death?    Child   \n",
        "1111       c4_04                          How severe was the fever?    Child   \n",
        "1112       c4_05                     What was the pattern of fever?    Child   \n",
        "1423  word_fever  The open narratives contained the word or stem...    Child   \n",
        "1526  word_fever  The open narratives contained the word or stem...  Neonate   \n",
        "\n",
        "      health_care_experience  \\\n",
        "79                         0   \n",
        "80                         0   \n",
        "81                         0   \n",
        "82                         0   \n",
        "83                         0   \n",
        "84                         0   \n",
        "437                        1   \n",
        "1015                       0   \n",
        "1078                       0   \n",
        "1079                       0   \n",
        "1080                       0   \n",
        "1081                       0   \n",
        "1082                       0   \n",
        "1107                       0   \n",
        "1108                       0   \n",
        "1109                       0   \n",
        "1110                       0   \n",
        "1111                       0   \n",
        "1112                       0   \n",
        "1423                       1   \n",
        "1526                       1   \n",
        "\n",
        "                                                 coding  \n",
        "79    0 \"No\" 1 \"Yes\" 8 \"Refused to Answer\" 9 \"Don't ...  \n",
        "80    1 \"Years\" 2 \"Months\" 3 \"Weeks\" 4 \"Days\" 5 \"Hou...  \n",
        "81                                                  NaN  \n",
        "82    1 \"Mild\" 2 \"Moderate\" 3 \"Severe\" 8 \"Refused to...  \n",
        "83    1 \"Continuous\" 2 \"On and Off\" 3 \"Only at Night...  \n",
        "84    0 \"No\" 1 \"Yes\" 8 \"Refused to Answer\" 9 \"Don't ...  \n",
        "437                                                 NaN  \n",
        "1015  0 \"No\" 1 \"Yes\" 8 \"Refused to Answer\" 9 \"Don't ...  \n",
        "1078  0 \"No\" 1 \"Yes\" 8 \"Refused to Answer\" 9 \"Don't ...  \n",
        "1079  1 \"Years\" 2 \"Months\" 3 \"Weeks\" 4 \"Days\" 5 \"Hou...  \n",
        "1080                                                NaN  \n",
        "1081  1 \"Years\" 2 \"Months\" 3 \"Weeks\" 4 \"Days\" 5 \"Hou...  \n",
        "1082                                                NaN  \n",
        "1107  0 \"No\" 1 \"Yes\" 8 \"Refused to Answer\" 9 \"Don't ...  \n",
        "1108  1 \"Years\" 2 \"Months\" 3 \"Weeks\" 4 \"Days\" 5 \"Hou...  \n",
        "1109                                                NaN  \n",
        "1110  0 \"No\" 1 \"Yes\" 8 \"Refused to Answer\" 9 \"Don't ...  \n",
        "1111  1 \"Mild\" 2 \"Moderate\" 3 \"Severe\" 8 \"Refused to...  \n",
        "1112  1 \"Continuous\" 2 \"On and Off\" 3 \"Only at Night...  \n",
        "1423                                                NaN  \n",
        "1526                                                NaN  "
       ]
      }
     ],
     "prompt_number": 5
    },
    {
     "cell_type": "code",
     "collapsed": false,
     "input": [
      "cb[cb.question.str.match('Did .* have a fever?')]"
     ],
     "language": "python",
     "metadata": {},
     "outputs": [
      {
       "html": [
        "<div style=\"max-height:1000px;max-width:1500px;overflow:auto;\">\n",
        "<table border=\"1\" class=\"dataframe\">\n",
        "  <thead>\n",
        "    <tr style=\"text-align: right;\">\n",
        "      <th></th>\n",
        "      <th>variable</th>\n",
        "      <th>question</th>\n",
        "      <th>module</th>\n",
        "      <th>health_care_experience</th>\n",
        "      <th>coding</th>\n",
        "    </tr>\n",
        "  </thead>\n",
        "  <tbody>\n",
        "    <tr>\n",
        "      <th>79</th>\n",
        "      <td> a2_02</td>\n",
        "      <td> Did [name] have a fever?</td>\n",
        "      <td> Adult</td>\n",
        "      <td> 0</td>\n",
        "      <td> 0 \"No\" 1 \"Yes\" 8 \"Refused to Answer\" 9 \"Don't ...</td>\n",
        "    </tr>\n",
        "  </tbody>\n",
        "</table>\n",
        "</div>"
       ],
       "metadata": {},
       "output_type": "pyout",
       "prompt_number": 6,
       "text": [
        "   variable                  question module  health_care_experience  \\\n",
        "79    a2_02  Did [name] have a fever?  Adult                       0   \n",
        "\n",
        "                                               coding  \n",
        "79  0 \"No\" 1 \"Yes\" 8 \"Refused to Answer\" 9 \"Don't ...  "
       ]
      }
     ],
     "prompt_number": 6
    },
    {
     "cell_type": "code",
     "collapsed": false,
     "input": [
      "var = cb.loc[79, 'variable']"
     ],
     "language": "python",
     "metadata": {},
     "outputs": [],
     "prompt_number": 7
    },
    {
     "cell_type": "heading",
     "level": 4,
     "metadata": {},
     "source": [
      "Find the cause with the highest endorsement rate for the symptom \"fever\" among Adult deaths"
     ]
    },
    {
     "cell_type": "markdown",
     "metadata": {},
     "source": [
      "The \"endorsement rate\" for a sign or symptom of disease is the fraction of verbal autopsy interviews where the respondent answered \"Yes\" to the question about that sign/symptom."
     ]
    },
    {
     "cell_type": "code",
     "collapsed": false,
     "input": [
      "# create a new column with 0/1 values instead of Yes/No/Don't Know/Refused to Answer\n",
      "df['fever'] = (df[var] == 'Yes')"
     ],
     "language": "python",
     "metadata": {},
     "outputs": [],
     "prompt_number": 8
    },
    {
     "cell_type": "code",
     "collapsed": false,
     "input": [
      "dfa = df[df.module == 'Adult']"
     ],
     "language": "python",
     "metadata": {},
     "outputs": [],
     "prompt_number": 9
    },
    {
     "cell_type": "code",
     "collapsed": false,
     "input": [
      "dfa.groupby('gs_text34').fever.mean().order(ascending=False)"
     ],
     "language": "python",
     "metadata": {},
     "outputs": [
      {
       "metadata": {},
       "output_type": "pyout",
       "prompt_number": 10,
       "text": [
        "gs_text34\n",
        "Malaria                            0.860000\n",
        "AIDS                               0.794821\n",
        "Other Infectious Diseases          0.741445\n",
        "TB                                 0.706522\n",
        "Pneumonia                          0.700000\n",
        "Leukemia/Lymphomas                 0.692308\n",
        "Epilepsy                           0.645833\n",
        "Renal Failure                      0.576923\n",
        "Other Non-communicable Diseases    0.555927\n",
        "Breast Cancer                      0.553846\n",
        "Diarrhea/Dysentery                 0.552632\n",
        "Cirrhosis                          0.546326\n",
        "Diabetes                           0.538647\n",
        "COPD                               0.491228\n",
        "Colorectal Cancer                  0.474747\n",
        "Lung Cancer                        0.462264\n",
        "Stroke                             0.447619\n",
        "Asthma                             0.446809\n",
        "Other Cardiovascular Diseases      0.444712\n",
        "Esophageal Cancer                  0.425000\n",
        "Stomach Cancer                     0.419355\n",
        "Cervical Cancer                    0.412903\n",
        "Prostate Cancer                    0.395833\n",
        "Falls                              0.306358\n",
        "Maternal                           0.301282\n",
        "Acute Myocardial Infarction        0.290000\n",
        "Road Traffic                       0.267327\n",
        "Fires                              0.229508\n",
        "Poisonings                         0.220930\n",
        "Homicide                           0.203593\n",
        "Suicide                            0.104839\n",
        "Other Injuries                     0.087379\n",
        "Bite of Venomous Animal            0.060606\n",
        "Drowning                           0.028302\n",
        "Name: fever, dtype: float64"
       ]
      }
     ],
     "prompt_number": 10
    },
    {
     "cell_type": "markdown",
     "metadata": {},
     "source": [
      "**Malaria** is the cause with the highest endorsement frate for the symptom \"fever\" among Adult deaths."
     ]
    },
    {
     "cell_type": "heading",
     "level": 4,
     "metadata": {},
     "source": [
      "Display the cause-specific endorsement rates visually"
     ]
    },
    {
     "cell_type": "code",
     "collapsed": false,
     "input": [
      "import matplotlib.pyplot as plt\n",
      "%matplotlib inline"
     ],
     "language": "python",
     "metadata": {},
     "outputs": [],
     "prompt_number": 11
    },
    {
     "cell_type": "code",
     "collapsed": false,
     "input": [
      "(dfa.groupby('gs_text34').fever.mean() * 100).order().plot(kind='barh', figsize=(12, 12))\n",
      "plt.xlabel('Endorsement Rate (%)')\n",
      "plt.ylabel('Cause')"
     ],
     "language": "python",
     "metadata": {},
     "outputs": [
      {
       "metadata": {},
       "output_type": "pyout",
       "prompt_number": 12,
       "text": [
        "<matplotlib.text.Text at 0x10ea4d610>"
       ]
      },
      {
       "metadata": {},
       "output_type": "display_data",
       "png": "[encoded data removed]",
       "text": [
        "<matplotlib.figure.Figure at 0x10ea12290>"
       ]
      }
     ],
     "prompt_number": 12
    },
    {
     "cell_type": "heading",
     "level": 4,
     "metadata": {},
     "source": [
      "Find the question that asks if the deceased had AIDS"
     ]
    },
    {
     "cell_type": "code",
     "collapsed": false,
     "input": [
      "cb[cb.question.str.contains('AIDS')]"
     ],
     "language": "python",
     "metadata": {},
     "outputs": [
      {
       "html": [
        "<div style=\"max-height:1000px;max-width:1500px;overflow:auto;\">\n",
        "<table border=\"1\" class=\"dataframe\">\n",
        "  <thead>\n",
        "    <tr style=\"text-align: right;\">\n",
        "      <th></th>\n",
        "      <th>variable</th>\n",
        "      <th>question</th>\n",
        "      <th>module</th>\n",
        "      <th>health_care_experience</th>\n",
        "      <th>coding</th>\n",
        "    </tr>\n",
        "  </thead>\n",
        "  <tbody>\n",
        "    <tr>\n",
        "      <th>76  </th>\n",
        "      <td> a1_01_14</td>\n",
        "      <td>                           Did Decedent Have AIDS?</td>\n",
        "      <td> Adult</td>\n",
        "      <td> 1</td>\n",
        "      <td> 0 \"No\" 1 \"Yes\" 8 \"Refused to Answer\" 9 \"Don't ...</td>\n",
        "    </tr>\n",
        "    <tr>\n",
        "      <th>1215</th>\n",
        "      <td>    c5_19</td>\n",
        "      <td> Has the deceased's (biological) mother ever be...</td>\n",
        "      <td> Child</td>\n",
        "      <td> 0</td>\n",
        "      <td> 0 \"No\" 1 \"Yes\" 8 \"Refused to Answer\" 9 \"Don't ...</td>\n",
        "    </tr>\n",
        "  </tbody>\n",
        "</table>\n",
        "</div>"
       ],
       "metadata": {},
       "output_type": "pyout",
       "prompt_number": 13,
       "text": [
        "      variable                                           question module  \\\n",
        "76    a1_01_14                            Did Decedent Have AIDS?  Adult   \n",
        "1215     c5_19  Has the deceased's (biological) mother ever be...  Child   \n",
        "\n",
        "      health_care_experience  \\\n",
        "76                         1   \n",
        "1215                       0   \n",
        "\n",
        "                                                 coding  \n",
        "76    0 \"No\" 1 \"Yes\" 8 \"Refused to Answer\" 9 \"Don't ...  \n",
        "1215  0 \"No\" 1 \"Yes\" 8 \"Refused to Answer\" 9 \"Don't ...  "
       ]
      }
     ],
     "prompt_number": 13
    },
    {
     "cell_type": "code",
     "collapsed": false,
     "input": [
      "var_aids = cb.loc[76, 'variable']"
     ],
     "language": "python",
     "metadata": {},
     "outputs": [],
     "prompt_number": 14
    },
    {
     "cell_type": "heading",
     "level": 4,
     "metadata": {},
     "source": [
      "Make a 2x2 table showing the number of adult deceased with and without this question endorsed for decedents with underlying cause AIDS and not AIDS"
     ]
    },
    {
     "cell_type": "code",
     "collapsed": false,
     "input": [
      "dfb = df[df.module == 'Adult']\n",
      "dfb['aids_endorsed'] = (dfb[var_aids] == 'Yes')\n",
      "dfb['aids_caused'] = (dfb['gs_text34'] == 'AIDS')"
     ],
     "language": "python",
     "metadata": {},
     "outputs": [],
     "prompt_number": 15
    },
    {
     "cell_type": "markdown",
     "metadata": {},
     "source": [
      "Make a table with `groupby()`."
     ]
    },
    {
     "cell_type": "code",
     "collapsed": false,
     "input": [
      "dfb.groupby(['aids_endorsed', 'aids_caused']).size().unstack()"
     ],
     "language": "python",
     "metadata": {},
     "outputs": [
      {
       "html": [
        "<div style=\"max-height:1000px;max-width:1500px;overflow:auto;\">\n",
        "<table border=\"1\" class=\"dataframe\">\n",
        "  <thead>\n",
        "    <tr style=\"text-align: right;\">\n",
        "      <th>aids_caused</th>\n",
        "      <th>False</th>\n",
        "      <th>True</th>\n",
        "    </tr>\n",
        "    <tr>\n",
        "      <th>aids_endorsed</th>\n",
        "      <th></th>\n",
        "      <th></th>\n",
        "    </tr>\n",
        "  </thead>\n",
        "  <tbody>\n",
        "    <tr>\n",
        "      <th>False</th>\n",
        "      <td> 7204</td>\n",
        "      <td> 194</td>\n",
        "    </tr>\n",
        "    <tr>\n",
        "      <th>True </th>\n",
        "      <td>  135</td>\n",
        "      <td> 308</td>\n",
        "    </tr>\n",
        "  </tbody>\n",
        "</table>\n",
        "</div>"
       ],
       "metadata": {},
       "output_type": "pyout",
       "prompt_number": 16,
       "text": [
        "aids_caused    False  True \n",
        "aids_endorsed              \n",
        "False           7204    194\n",
        "True             135    308"
       ]
      }
     ],
     "prompt_number": 16
    },
    {
     "cell_type": "markdown",
     "metadata": {},
     "source": [
      "The same table can be created with `crosstab()`."
     ]
    },
    {
     "cell_type": "code",
     "collapsed": false,
     "input": [
      "pd.crosstab(dfb['aids_endorsed'], dfb['aids_caused'])"
     ],
     "language": "python",
     "metadata": {},
     "outputs": [
      {
       "html": [
        "<div style=\"max-height:1000px;max-width:1500px;overflow:auto;\">\n",
        "<table border=\"1\" class=\"dataframe\">\n",
        "  <thead>\n",
        "    <tr style=\"text-align: right;\">\n",
        "      <th>aids_caused</th>\n",
        "      <th>False</th>\n",
        "      <th>True</th>\n",
        "    </tr>\n",
        "    <tr>\n",
        "      <th>aids_endorsed</th>\n",
        "      <th></th>\n",
        "      <th></th>\n",
        "    </tr>\n",
        "  </thead>\n",
        "  <tbody>\n",
        "    <tr>\n",
        "      <th>False</th>\n",
        "      <td> 7204</td>\n",
        "      <td> 194</td>\n",
        "    </tr>\n",
        "    <tr>\n",
        "      <th>True </th>\n",
        "      <td>  135</td>\n",
        "      <td> 308</td>\n",
        "    </tr>\n",
        "  </tbody>\n",
        "</table>\n",
        "</div>"
       ],
       "metadata": {},
       "output_type": "pyout",
       "prompt_number": 17,
       "text": [
        "aids_caused    False  True \n",
        "aids_endorsed              \n",
        "False           7204    194\n",
        "True             135    308"
       ]
      }
     ],
     "prompt_number": 17
    },
    {
     "cell_type": "heading",
     "level": 4,
     "metadata": {},
     "source": [
      "Compare this 2x2 table across study sites"
     ]
    },
    {
     "cell_type": "code",
     "collapsed": false,
     "input": [
      "ct = pd.crosstab(dfb['site'], [dfb['aids_endorsed'], dfb['aids_caused']])\n",
      "ct"
     ],
     "language": "python",
     "metadata": {},
     "outputs": [
      {
       "html": [
        "<div style=\"max-height:1000px;max-width:1500px;overflow:auto;\">\n",
        "<table border=\"1\" class=\"dataframe\">\n",
        "  <thead>\n",
        "    <tr>\n",
        "      <th>aids_endorsed</th>\n",
        "      <th colspan=\"2\" halign=\"left\">False</th>\n",
        "      <th colspan=\"2\" halign=\"left\">True </th>\n",
        "    </tr>\n",
        "    <tr>\n",
        "      <th>aids_caused</th>\n",
        "      <th>False</th>\n",
        "      <th>True </th>\n",
        "      <th>False</th>\n",
        "      <th>True </th>\n",
        "    </tr>\n",
        "    <tr>\n",
        "      <th>site</th>\n",
        "      <th></th>\n",
        "      <th></th>\n",
        "      <th></th>\n",
        "      <th></th>\n",
        "    </tr>\n",
        "  </thead>\n",
        "  <tbody>\n",
        "    <tr>\n",
        "      <th>AP</th>\n",
        "      <td> 1404</td>\n",
        "      <td> 75</td>\n",
        "      <td>  14</td>\n",
        "      <td>  61</td>\n",
        "    </tr>\n",
        "    <tr>\n",
        "      <th>Bohol</th>\n",
        "      <td> 1259</td>\n",
        "      <td>  0</td>\n",
        "      <td>   0</td>\n",
        "      <td>   0</td>\n",
        "    </tr>\n",
        "    <tr>\n",
        "      <th>Dar</th>\n",
        "      <td> 1414</td>\n",
        "      <td> 88</td>\n",
        "      <td> 109</td>\n",
        "      <td> 115</td>\n",
        "    </tr>\n",
        "    <tr>\n",
        "      <th>Mexico</th>\n",
        "      <td> 1460</td>\n",
        "      <td> 29</td>\n",
        "      <td>   6</td>\n",
        "      <td>  91</td>\n",
        "    </tr>\n",
        "    <tr>\n",
        "      <th>Pemba</th>\n",
        "      <td>  294</td>\n",
        "      <td>  0</td>\n",
        "      <td>   3</td>\n",
        "      <td>   0</td>\n",
        "    </tr>\n",
        "    <tr>\n",
        "      <th>UP</th>\n",
        "      <td> 1373</td>\n",
        "      <td>  2</td>\n",
        "      <td>   3</td>\n",
        "      <td>  41</td>\n",
        "    </tr>\n",
        "  </tbody>\n",
        "</table>\n",
        "</div>"
       ],
       "metadata": {},
       "output_type": "pyout",
       "prompt_number": 18,
       "text": [
        "aids_endorsed False       True       \n",
        "aids_caused   False True  False True \n",
        "site                                 \n",
        "AP             1404    75    14    61\n",
        "Bohol          1259     0     0     0\n",
        "Dar            1414    88   109   115\n",
        "Mexico         1460    29     6    91\n",
        "Pemba           294     0     3     0\n",
        "UP             1373     2     3    41"
       ]
      }
     ],
     "prompt_number": 18
    },
    {
     "cell_type": "heading",
     "level": 4,
     "metadata": {},
     "source": [
      "Now do a series of 2x2 tables comparing the percent of deaths truely due to AIDS for which \"Had AIDS\" question was endorsed"
     ]
    },
    {
     "cell_type": "code",
     "collapsed": false,
     "input": [
      "pd.options.display.precision = 3\n",
      "\n",
      "percentify = lambda r: r / r.sum() * 100\n",
      "ct.apply(percentify, axis=1)"
     ],
     "language": "python",
     "metadata": {},
     "outputs": [
      {
       "html": [
        "<div style=\"max-height:1000px;max-width:1500px;overflow:auto;\">\n",
        "<table border=\"1\" class=\"dataframe\">\n",
        "  <thead>\n",
        "    <tr>\n",
        "      <th>aids_endorsed</th>\n",
        "      <th colspan=\"2\" halign=\"left\">False</th>\n",
        "      <th colspan=\"2\" halign=\"left\">True </th>\n",
        "    </tr>\n",
        "    <tr>\n",
        "      <th>aids_caused</th>\n",
        "      <th>False</th>\n",
        "      <th>True </th>\n",
        "      <th>False</th>\n",
        "      <th>True </th>\n",
        "    </tr>\n",
        "    <tr>\n",
        "      <th>site</th>\n",
        "      <th></th>\n",
        "      <th></th>\n",
        "      <th></th>\n",
        "      <th></th>\n",
        "    </tr>\n",
        "  </thead>\n",
        "  <tbody>\n",
        "    <tr>\n",
        "      <th>AP</th>\n",
        "      <td>  90.35</td>\n",
        "      <td> 4.83</td>\n",
        "      <td> 0.90</td>\n",
        "      <td> 3.93</td>\n",
        "    </tr>\n",
        "    <tr>\n",
        "      <th>Bohol</th>\n",
        "      <td> 100.00</td>\n",
        "      <td> 0.00</td>\n",
        "      <td> 0.00</td>\n",
        "      <td> 0.00</td>\n",
        "    </tr>\n",
        "    <tr>\n",
        "      <th>Dar</th>\n",
        "      <td>  81.92</td>\n",
        "      <td> 5.10</td>\n",
        "      <td> 6.32</td>\n",
        "      <td> 6.66</td>\n",
        "    </tr>\n",
        "    <tr>\n",
        "      <th>Mexico</th>\n",
        "      <td>  92.06</td>\n",
        "      <td> 1.83</td>\n",
        "      <td> 0.38</td>\n",
        "      <td> 5.74</td>\n",
        "    </tr>\n",
        "    <tr>\n",
        "      <th>Pemba</th>\n",
        "      <td>  98.99</td>\n",
        "      <td> 0.00</td>\n",
        "      <td> 1.01</td>\n",
        "      <td> 0.00</td>\n",
        "    </tr>\n",
        "    <tr>\n",
        "      <th>UP</th>\n",
        "      <td>  96.76</td>\n",
        "      <td> 0.14</td>\n",
        "      <td> 0.21</td>\n",
        "      <td> 2.89</td>\n",
        "    </tr>\n",
        "  </tbody>\n",
        "</table>\n",
        "</div>"
       ],
       "metadata": {},
       "output_type": "pyout",
       "prompt_number": 19,
       "text": [
        "aids_endorsed   False       True       \n",
        "aids_caused     False True  False True \n",
        "site                                   \n",
        "AP              90.35  4.83  0.90  3.93\n",
        "Bohol          100.00  0.00  0.00  0.00\n",
        "Dar             81.92  5.10  6.32  6.66\n",
        "Mexico          92.06  1.83  0.38  5.74\n",
        "Pemba           98.99  0.00  1.01  0.00\n",
        "UP              96.76  0.14  0.21  2.89"
       ]
      }
     ],
     "prompt_number": 19
    },
    {
     "cell_type": "markdown",
     "metadata": {},
     "source": [
      "Let's look at only endorsed cases."
     ]
    },
    {
     "cell_type": "code",
     "collapsed": false,
     "input": [
      "ct.loc[:, True]"
     ],
     "language": "python",
     "metadata": {},
     "outputs": [
      {
       "html": [
        "<div style=\"max-height:1000px;max-width:1500px;overflow:auto;\">\n",
        "<table border=\"1\" class=\"dataframe\">\n",
        "  <thead>\n",
        "    <tr style=\"text-align: right;\">\n",
        "      <th>aids_caused</th>\n",
        "      <th>False</th>\n",
        "      <th>True</th>\n",
        "    </tr>\n",
        "    <tr>\n",
        "      <th>site</th>\n",
        "      <th></th>\n",
        "      <th></th>\n",
        "    </tr>\n",
        "  </thead>\n",
        "  <tbody>\n",
        "    <tr>\n",
        "      <th>AP</th>\n",
        "      <td>  14</td>\n",
        "      <td>  61</td>\n",
        "    </tr>\n",
        "    <tr>\n",
        "      <th>Bohol</th>\n",
        "      <td>   0</td>\n",
        "      <td>   0</td>\n",
        "    </tr>\n",
        "    <tr>\n",
        "      <th>Dar</th>\n",
        "      <td> 109</td>\n",
        "      <td> 115</td>\n",
        "    </tr>\n",
        "    <tr>\n",
        "      <th>Mexico</th>\n",
        "      <td>   6</td>\n",
        "      <td>  91</td>\n",
        "    </tr>\n",
        "    <tr>\n",
        "      <th>Pemba</th>\n",
        "      <td>   3</td>\n",
        "      <td>   0</td>\n",
        "    </tr>\n",
        "    <tr>\n",
        "      <th>UP</th>\n",
        "      <td>   3</td>\n",
        "      <td>  41</td>\n",
        "    </tr>\n",
        "  </tbody>\n",
        "</table>\n",
        "</div>"
       ],
       "metadata": {},
       "output_type": "pyout",
       "prompt_number": 20,
       "text": [
        "aids_caused  False  True \n",
        "site                     \n",
        "AP              14     61\n",
        "Bohol            0      0\n",
        "Dar            109    115\n",
        "Mexico           6     91\n",
        "Pemba            3      0\n",
        "UP               3     41"
       ]
      }
     ],
     "prompt_number": 20
    },
    {
     "cell_type": "code",
     "collapsed": false,
     "input": [
      "ct.loc[:, True].apply(percentify, axis=1)"
     ],
     "language": "python",
     "metadata": {},
     "outputs": [
      {
       "html": [
        "<div style=\"max-height:1000px;max-width:1500px;overflow:auto;\">\n",
        "<table border=\"1\" class=\"dataframe\">\n",
        "  <thead>\n",
        "    <tr style=\"text-align: right;\">\n",
        "      <th>aids_caused</th>\n",
        "      <th>False</th>\n",
        "      <th>True</th>\n",
        "    </tr>\n",
        "    <tr>\n",
        "      <th>site</th>\n",
        "      <th></th>\n",
        "      <th></th>\n",
        "    </tr>\n",
        "  </thead>\n",
        "  <tbody>\n",
        "    <tr>\n",
        "      <th>AP</th>\n",
        "      <td>  18.67</td>\n",
        "      <td> 81.33</td>\n",
        "    </tr>\n",
        "    <tr>\n",
        "      <th>Bohol</th>\n",
        "      <td>    inf</td>\n",
        "      <td>   inf</td>\n",
        "    </tr>\n",
        "    <tr>\n",
        "      <th>Dar</th>\n",
        "      <td>  48.66</td>\n",
        "      <td> 51.34</td>\n",
        "    </tr>\n",
        "    <tr>\n",
        "      <th>Mexico</th>\n",
        "      <td>   6.19</td>\n",
        "      <td> 93.81</td>\n",
        "    </tr>\n",
        "    <tr>\n",
        "      <th>Pemba</th>\n",
        "      <td> 100.00</td>\n",
        "      <td>  0.00</td>\n",
        "    </tr>\n",
        "    <tr>\n",
        "      <th>UP</th>\n",
        "      <td>   6.82</td>\n",
        "      <td> 93.18</td>\n",
        "    </tr>\n",
        "  </tbody>\n",
        "</table>\n",
        "</div>"
       ],
       "metadata": {},
       "output_type": "pyout",
       "prompt_number": 21,
       "text": [
        "aids_caused   False  True \n",
        "site                      \n",
        "AP            18.67  81.33\n",
        "Bohol           inf    inf\n",
        "Dar           48.66  51.34\n",
        "Mexico         6.19  93.81\n",
        "Pemba        100.00   0.00\n",
        "UP             6.82  93.18"
       ]
      }
     ],
     "prompt_number": 21
    },
    {
     "cell_type": "markdown",
     "metadata": {},
     "source": [
      "In the most sites, endorsed cases led to deaths truely due to AIDS. Except **Pemba** whose sample size was too small (3), only **Dar** showed a significant difference than others; *almost half (48.7%)* of decedents with \"Had AIDS\" question endorsed actually died of other causes.\n",
      "\n",
      "Assuming no methodological errors during verbal autopsy, at least two hypotheses could be further investigated. One is a chance of other lethal causes that emerge faster than AIDS in this particular site. Another possibility is false reporting by people with misleading knowledge or beliefe in AIDS."
     ]
    }
   ],
   "metadata": {}
  }
 ]
}